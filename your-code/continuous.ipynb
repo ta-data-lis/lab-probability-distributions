{
 "cells": [
  {
   "cell_type": "markdown",
   "metadata": {},
   "source": [
    "# Before your start:\n",
    "\n",
    "    Read the README.md file\n",
    "    Comment as much as you can and use the resources (README.md file)\n",
    "    Happy learning!"
   ]
  },
  {
   "cell_type": "markdown",
   "metadata": {},
   "source": [
    "In this exercise, we  will generate random numbers from the continuous disributions we learned in the lesson. There are two ways to generate random numbers:\n",
    "\n",
    "1. Using the numpy library \n",
    "1. using the Scipy library \n",
    "\n",
    "Use either or both of the lbraries in this exercise."
   ]
  },
  {
   "cell_type": "markdown",
   "metadata": {},
   "source": [
    "## Uniform Distribution\n",
    "\n",
    "To generate uniform random numbers between any two given values using scipy, we can either use the following code or the code that we have\n",
    "discussed in class:"
   ]
  },
  {
   "cell_type": "code",
   "execution_count": 1,
   "metadata": {},
   "outputs": [
    {
     "name": "stdout",
     "output_type": "stream",
     "text": [
      "[2.83665049 2.26635872 2.68287169 2.91826808 2.72734431 2.45337925\n",
      " 2.9106486  2.14884579 2.28574801 2.19217782]\n"
     ]
    }
   ],
   "source": [
    "# Uniform: outcomes with equal density (continious)\n",
    "\n",
    "from scipy.stats import uniform\n",
    "x = uniform.rvs(size=10)\n",
    "a = 2\n",
    "b = 3\n",
    "randoms  = a + (b-a)*x\n",
    "print(randoms)"
   ]
  },
  {
   "cell_type": "markdown",
   "metadata": {},
   "source": [
    "**Your task:**\n",
    "\n",
    "1. Based on the code above, write a function that generates uniformly distributed random numbers. There are several requirements for your function:\n",
    "    * It should accept 3 parameters: \n",
    "        * `bottom` - the lower boundary of the generated numbers\n",
    "        * `ceiling` - the upper boundary of the generated numbers\n",
    "        * `count` - how many numbers to generate\n",
    "    * It should return an array of uniformly distributed random numbers\n",
    "\n",
    "1. Call your function with 2 sets of params below:\n",
    "    * bottom=10, ceiling=15, count=100\n",
    "    * bottom=10, ceiling=60, count=1,000\n",
    "\n",
    "1. Plot the uniform distributions generated above using histograms, where x axis is the value and y axis is the count. Let the histogram's number of bins be 10.\n",
    "\n",
    "Your output should look like below:\n",
    "\n",
    "![uniform distribution](ud.png)"
   ]
  },
  {
   "cell_type": "code",
   "execution_count": 2,
   "metadata": {},
   "outputs": [],
   "source": [
    "# your code here\n",
    "def generate_uniform(bottom,ceiling,count):\n",
    "    x = uniform.rvs(size=count)\n",
    "    a = bottom\n",
    "    b = ceiling\n",
    "    randoms  = a + (b-a)*x\n",
    "    return randoms"
   ]
  },
  {
   "cell_type": "markdown",
   "metadata": {},
   "source": [
    "How are the two distributions different?"
   ]
  },
  {
   "cell_type": "code",
   "execution_count": 3,
   "metadata": {},
   "outputs": [
    {
     "data": {
      "text/plain": [
       "(array([ 95.,  96., 114.,  99.,  94., 107.,  86., 103., 105., 101.]),\n",
       " array([10.04898179, 15.04055018, 20.03211857, 25.02368696, 30.01525536,\n",
       "        35.00682375, 39.99839214, 44.98996053, 49.98152892, 54.97309731,\n",
       "        59.96466571]),\n",
       " <BarContainer object of 10 artists>)"
      ]
     },
     "execution_count": 3,
     "metadata": {},
     "output_type": "execute_result"
    },
    {
     "data": {
      "image/png": "[encoded data removed]",
      "text/plain": [
       "<Figure size 432x288 with 2 Axes>"
      ]
     },
     "metadata": {
      "needs_background": "light"
     },
     "output_type": "display_data"
    }
   ],
   "source": [
    "# your answer here:\n",
    "import matplotlib.pyplot as plt\n",
    "first = generate_uniform(10,15,100)\n",
    "second = generate_uniform(10,60,1000)\n",
    "fig, (ax1, ax2) = plt.subplots(1, 2, sharey=True)\n",
    "ax1.hist(first, bins=10)\n",
    "ax2.hist(second, bins=10)"
   ]
  },
  {
   "cell_type": "markdown",
   "metadata": {},
   "source": [
    "## Normal Distribution\n",
    "\n",
    "1. In the same way in the Uniform Distribution challenge, write a function that generates normally distributed random numbers.\n",
    "1. Generate 1,000 normally distributed numbers with the average of 10 and standard deviation of 1\n",
    "1. Generate 1,000 normally distributed numbers with the average of 10 and standard deviation of 50\n",
    "2. Plot the distributions of the data generated.\n",
    "\n",
    "Expected output:\n",
    "\n",
    "![normal distribution](nd.png)"
   ]
  },
  {
   "cell_type": "code",
   "execution_count": 4,
   "metadata": {},
   "outputs": [
    {
     "data": {
      "text/plain": [
       "(array([ 1.,  0.,  0.,  2.,  2.,  1.,  4.,  0.,  5.,  6., 11.,  8., 10.,\n",
       "        13., 18., 38., 20., 44., 38., 44., 56., 38., 53., 56., 52., 64.,\n",
       "        48., 64., 45., 46., 39., 31., 21., 25., 26., 19., 15.,  5.,  8.,\n",
       "         5.,  5.,  4.,  1.,  5.,  1.,  1.,  1.,  0.,  0.,  1.]),\n",
       " array([-1.59606263e+02, -1.52660409e+02, -1.45714555e+02, -1.38768700e+02,\n",
       "        -1.31822846e+02, -1.24876992e+02, -1.17931138e+02, -1.10985284e+02,\n",
       "        -1.04039429e+02, -9.70935753e+01, -9.01477211e+01, -8.32018669e+01,\n",
       "        -7.62560127e+01, -6.93101585e+01, -6.23643044e+01, -5.54184502e+01,\n",
       "        -4.84725960e+01, -4.15267418e+01, -3.45808876e+01, -2.76350334e+01,\n",
       "        -2.06891792e+01, -1.37433250e+01, -6.79747083e+00,  1.48383357e-01,\n",
       "         7.09423755e+00,  1.40400917e+01,  2.09859459e+01,  2.79318001e+01,\n",
       "         3.48776543e+01,  4.18235085e+01,  4.87693627e+01,  5.57152169e+01,\n",
       "         6.26610711e+01,  6.96069253e+01,  7.65527794e+01,  8.34986336e+01,\n",
       "         9.04444878e+01,  9.73903420e+01,  1.04336196e+02,  1.11282050e+02,\n",
       "         1.18227905e+02,  1.25173759e+02,  1.32119613e+02,  1.39065467e+02,\n",
       "         1.46011321e+02,  1.52957176e+02,  1.59903030e+02,  1.66848884e+02,\n",
       "         1.73794738e+02,  1.80740592e+02,  1.87686446e+02]),\n",
       " <BarContainer object of 50 artists>)"
      ]
     },
     "execution_count": 4,
     "metadata": {},
     "output_type": "execute_result"
    },
    {
     "data": {
      "image/png": "[encoded data removed]",
      "text/plain": [
       "<Figure size 432x288 with 2 Axes>"
      ]
     },
     "metadata": {
      "needs_background": "light"
     },
     "output_type": "display_data"
    }
   ],
   "source": [
    "# Normal: values with a bell-shaped distribution (continious)\n",
    "\n",
    "##### your code here\n",
    "import matplotlib.pyplot as plt\n",
    "from scipy.stats import norm\n",
    "\n",
    "def generate_norm(mu,sigma,count):\n",
    "    normal_dist = norm(mu, sigma)\n",
    "    x = normal_dist.rvs(size=count)\n",
    "    return x\n",
    "\n",
    "first = generate_norm(10,1,1000)\n",
    "second = generate_norm(10,50,1000)\n",
    "\n",
    "fig, (ax1, ax2) = plt.subplots(1, 2, sharey=True)\n",
    "ax1.hist(first, bins = 50)\n",
    "ax2.hist(second, bins = 50)\n"
   ]
  },
  {
   "cell_type": "markdown",
   "metadata": {},
   "source": [
    "How are the two distributions different?"
   ]
  },
  {
   "cell_type": "code",
   "execution_count": 5,
   "metadata": {},
   "outputs": [],
   "source": [
    "# your answer here:\n",
    "# the second one spreads way more due to higher sigma parameter"
   ]
  },
  {
   "cell_type": "markdown",
   "metadata": {},
   "source": [
    "## Normal Distribution of Real Data\n",
    "\n",
    "In this challenge we are going to take a look the real data. We will use vehicles.csv file for this exercise"
   ]
  },
  {
   "cell_type": "markdown",
   "metadata": {},
   "source": [
    "First import vehicles.csv.\n",
    "Then plot the histograms for the following variables:\n",
    "\n",
    "1. Fuel Barrels/Year"
   ]
  },
  {
   "cell_type": "code",
   "execution_count": 6,
   "metadata": {},
   "outputs": [
    {
     "data": {
      "text/plain": [
       "<AxesSubplot:>"
      ]
     },
     "execution_count": 6,
     "metadata": {},
     "output_type": "execute_result"
    },
    {
     "data": {
      "image/png": "[encoded data removed]",
      "text/plain": [
       "<Figure size 432x288 with 1 Axes>"
      ]
     },
     "metadata": {
      "needs_background": "light"
     },
     "output_type": "display_data"
    }
   ],
   "source": [
    "# your code here\n",
    "import scipy.stats as st\n",
    "import pandas as pd\n",
    "vehicles = pd.read_csv('vehicles.csv')\n",
    "vehicles['Fuel Barrels/Year'].hist(bins=50)"
   ]
  },
  {
   "cell_type": "markdown",
   "metadata": {},
   "source": [
    "2. CO2 Emission Grams/Mile "
   ]
  },
  {
   "cell_type": "code",
   "execution_count": 7,
   "metadata": {},
   "outputs": [
    {
     "data": {
      "text/plain": [
       "<AxesSubplot:>"
      ]
     },
     "execution_count": 7,
     "metadata": {},
     "output_type": "execute_result"
    },
    {
     "data": {
      "image/png": "[encoded data removed]",
      "text/plain": [
       "<Figure size 432x288 with 1 Axes>"
      ]
     },
     "metadata": {
      "needs_background": "light"
     },
     "output_type": "display_data"
    }
   ],
   "source": [
    "# your code here\n",
    "vehicles['CO2 Emission Grams/Mile'].hist(bins=50)"
   ]
  },
  {
   "cell_type": "markdown",
   "metadata": {},
   "source": [
    "3. Combined MPG"
   ]
  },
  {
   "cell_type": "code",
   "execution_count": 8,
   "metadata": {},
   "outputs": [
    {
     "data": {
      "text/plain": [
       "<AxesSubplot:>"
      ]
     },
     "execution_count": 8,
     "metadata": {},
     "output_type": "execute_result"
    },
    {
     "data": {
      "image/png": "[encoded data removed]",
      "text/plain": [
       "<Figure size 432x288 with 1 Axes>"
      ]
     },
     "metadata": {
      "needs_background": "light"
     },
     "output_type": "display_data"
    }
   ],
   "source": [
    "# your code here\n",
    "vehicles['Combined MPG'].hist(bins=50)"
   ]
  },
  {
   "cell_type": "markdown",
   "metadata": {},
   "source": [
    "Which one(s) of the variables are nearly normally distributed? How do you know?"
   ]
  },
  {
   "cell_type": "code",
   "execution_count": 9,
   "metadata": {},
   "outputs": [],
   "source": [
    "# Check for normal distribution\n",
    "# print('Skewness (should be 0):',st.skew(vehicles['Fuel Barrels/Year']))\n",
    "# print('Delta Q3 - Q1 (should be 1)')\n",
    "# print('Share of observation between mean +- sigma (should be 0.68)')\n",
    "# print normal distribution with mean and std\n",
    "# proper procedure: Shapiro-Wilk test (check Francesco's presentation next week)"
   ]
  },
  {
   "cell_type": "code",
   "execution_count": 10,
   "metadata": {},
   "outputs": [],
   "source": [
    "# you answer here:\n",
    "# combined MPG, Fuel Barrels/Year and CO2 Emission Grams/Mile more right skewed\n",
    "# but could be also all three follow a normal distribution?"
   ]
  },
  {
   "cell_type": "markdown",
   "metadata": {},
   "source": [
    "## Exponential Distribution"
   ]
  },
  {
   "cell_type": "markdown",
   "metadata": {},
   "source": [
    "1. Using `numpy.random.exponential`, create a function that returns a list of numbers exponentially distributed with the mean of 10. \n",
    "\n",
    "1. Use the function to generate two number sequences with a mean of 1 and 100 and a size of 1000.\n",
    "\n",
    "1. Plot the distributions as histograms with the number of bins as 100.\n",
    "\n",
    "Your output should look like below:\n",
    "\n",
    "![exponential distribution](ed.png)"
   ]
  },
  {
   "cell_type": "code",
   "execution_count": 11,
   "metadata": {},
   "outputs": [
    {
     "data": {
      "text/plain": [
       "(array([74., 71., 44., 49., 53., 52., 42., 46., 45., 38., 36., 29., 32.,\n",
       "        23., 30., 22., 21., 16., 17., 21., 13., 12.,  7., 11., 15.,  8.,\n",
       "        17.,  8., 14.,  9., 11.,  3.,  7.,  2.,  6.,  3.,  4.,  4.,  7.,\n",
       "         9.,  3.,  6.,  5.,  7.,  6.,  3.,  1.,  5.,  8.,  2.,  3.,  1.,\n",
       "         0.,  0.,  2.,  0.,  1.,  1.,  3.,  0.,  1.,  0.,  1.,  1.,  0.,\n",
       "         0.,  0.,  0.,  2.,  0.,  0.,  0.,  0.,  2.,  1.,  0.,  0.,  0.,\n",
       "         0.,  0.,  0.,  0.,  1.,  0.,  0.,  1.,  0.,  0.,  0.,  0.,  0.,\n",
       "         1.,  0.,  0.,  0.,  0.,  0.,  0.,  0.,  1.]),\n",
       " array([2.09630198e-02, 7.40100284e+00, 1.47810427e+01, 2.21610825e+01,\n",
       "        2.95411223e+01, 3.69211621e+01, 4.43012020e+01, 5.16812418e+01,\n",
       "        5.90612816e+01, 6.64413214e+01, 7.38213613e+01, 8.12014011e+01,\n",
       "        8.85814409e+01, 9.59614807e+01, 1.03341521e+02, 1.10721560e+02,\n",
       "        1.18101600e+02, 1.25481640e+02, 1.32861680e+02, 1.40241720e+02,\n",
       "        1.47621760e+02, 1.55001799e+02, 1.62381839e+02, 1.69761879e+02,\n",
       "        1.77141919e+02, 1.84521959e+02, 1.91901998e+02, 1.99282038e+02,\n",
       "        2.06662078e+02, 2.14042118e+02, 2.21422158e+02, 2.28802198e+02,\n",
       "        2.36182237e+02, 2.43562277e+02, 2.50942317e+02, 2.58322357e+02,\n",
       "        2.65702397e+02, 2.73082437e+02, 2.80462476e+02, 2.87842516e+02,\n",
       "        2.95222556e+02, 3.02602596e+02, 3.09982636e+02, 3.17362675e+02,\n",
       "        3.24742715e+02, 3.32122755e+02, 3.39502795e+02, 3.46882835e+02,\n",
       "        3.54262875e+02, 3.61642914e+02, 3.69022954e+02, 3.76402994e+02,\n",
       "        3.83783034e+02, 3.91163074e+02, 3.98543114e+02, 4.05923153e+02,\n",
       "        4.13303193e+02, 4.20683233e+02, 4.28063273e+02, 4.35443313e+02,\n",
       "        4.42823352e+02, 4.50203392e+02, 4.57583432e+02, 4.64963472e+02,\n",
       "        4.72343512e+02, 4.79723552e+02, 4.87103591e+02, 4.94483631e+02,\n",
       "        5.01863671e+02, 5.09243711e+02, 5.16623751e+02, 5.24003791e+02,\n",
       "        5.31383830e+02, 5.38763870e+02, 5.46143910e+02, 5.53523950e+02,\n",
       "        5.60903990e+02, 5.68284029e+02, 5.75664069e+02, 5.83044109e+02,\n",
       "        5.90424149e+02, 5.97804189e+02, 6.05184229e+02, 6.12564268e+02,\n",
       "        6.19944308e+02, 6.27324348e+02, 6.34704388e+02, 6.42084428e+02,\n",
       "        6.49464468e+02, 6.56844507e+02, 6.64224547e+02, 6.71604587e+02,\n",
       "        6.78984627e+02, 6.86364667e+02, 6.93744706e+02, 7.01124746e+02,\n",
       "        7.08504786e+02, 7.15884826e+02, 7.23264866e+02, 7.30644906e+02,\n",
       "        7.38024945e+02]),\n",
       " <BarContainer object of 100 artists>)"
      ]
     },
     "execution_count": 11,
     "metadata": {},
     "output_type": "execute_result"
    },
    {
     "data": {
      "image/png": "[encoded data removed]",
      "text/plain": [
       "<Figure size 432x288 with 2 Axes>"
      ]
     },
     "metadata": {
      "needs_background": "light"
     },
     "output_type": "display_data"
    }
   ],
   "source": [
    "# Exponential: time between events; time until event\n",
    "\n",
    "# your code here\n",
    "import numpy as np\n",
    "def generate_exp(mu,count):\n",
    "    return np.random.exponential(mu,count)\n",
    "\n",
    "first = generate_exp(1,1000)\n",
    "second = generate_exp(100,1000)\n",
    "\n",
    "fig, (ax1, ax2) = plt.subplots(1, 2, sharey=True)\n",
    "ax1.hist(first, bins = 100)\n",
    "ax2.hist(second, bins = 100)"
   ]
  },
  {
   "cell_type": "markdown",
   "metadata": {},
   "source": [
    "How are the two distributions different?"
   ]
  },
  {
   "cell_type": "code",
   "execution_count": 12,
   "metadata": {},
   "outputs": [],
   "source": [
    "# your answer here:\n",
    "# numbers of second are higher due to higher mu of 100 vs. 1"
   ]
  },
  {
   "cell_type": "markdown",
   "metadata": {},
   "source": [
    "## Exponential Distribution of Real Data\n",
    "\n",
    "Suppose that the amount of time one spends in a bank is exponentially distributed with mean as 10 minutes (i.e. λ = 1/10). What is the probability that a customer will spend less than fifteen minutes in the bank? \n",
    "\n",
    "Write a code in python to solve this problem"
   ]
  },
  {
   "cell_type": "code",
   "execution_count": 13,
   "metadata": {},
   "outputs": [
    {
     "name": "stdout",
     "output_type": "stream",
     "text": [
      "0.7768698398515702\n"
     ]
    }
   ],
   "source": [
    "# your answer here\n",
    "# Hint: This is same as saying P(x<15)\n",
    "from scipy.stats import expon\n",
    "exp_distribution = expon(scale = 10) # scipy excpects lambda inversed\n",
    "print(exp_distribution.cdf(15))\n",
    "# exponential distribiton are right tailed, so much of the probability is to the left of the lambda"
   ]
  },
  {
   "cell_type": "markdown",
   "metadata": {},
   "source": [
    "What is the probability that the customer will spend more than 15 minutes"
   ]
  },
  {
   "cell_type": "code",
   "execution_count": 14,
   "metadata": {},
   "outputs": [
    {
     "name": "stdout",
     "output_type": "stream",
     "text": [
      "0.2231301601484298\n",
      "0.22313016014842982\n"
     ]
    }
   ],
   "source": [
    "# your answer here\n",
    "print(1-exp_distribution.cdf(15))\n",
    "# that's 1 minus the probability the customer spends 15 or less minutes in the bank\n",
    "# alternative surviving function:\n",
    "print(exp_distribution.sf(15))"
   ]
  }
 ],
 "metadata": {
  "kernelspec": {
   "display_name": "Python 3",
   "language": "python",
   "name": "python3"
  },
  "language_info": {
   "codemirror_mode": {
    "name": "ipython",
    "version": 3
   },
   "file_extension": ".py",
   "mimetype": "text/x-python",
   "name": "python",
   "nbconvert_exporter": "python",
   "pygments_lexer": "ipython3",
   "version": "3.8.5"
  }
 },
 "nbformat": 4,
 "nbformat_minor": 2
}
