{
 "cells": [
  {
   "cell_type": "markdown",
   "metadata": {},
   "source": [
    "# Before your start:\n",
    "\n",
    "    Read the README.md file\n",
    "    Comment as much as you can and use the resources (README.md file)\n",
    "    Happy learning!"
   ]
  },
  {
   "cell_type": "markdown",
   "metadata": {},
   "source": [
    "In this exercise, we  will generate random numbers from the continuous disributions we learned in the lesson. There are two ways to generate random numbers:\n",
    "\n",
    "1. Using the numpy library \n",
    "1. using the Scipy library \n",
    "\n",
    "Use either or both of the lbraries in this exercise."
   ]
  },
  {
   "cell_type": "markdown",
   "metadata": {},
   "source": [
    "## Uniform Distribution\n",
    "\n",
    "To generate uniform random numbers between any two given values using scipy, we can either use the following code or the code that we have\n",
    "discussed in class:"
   ]
  },
  {
   "cell_type": "code",
   "execution_count": 71,
   "metadata": {},
   "outputs": [],
   "source": [
    "from scipy import stats\n",
    "import matplotlib.pyplot as plt\n",
    "import pandas as pd\n",
    "import numpy as np\n",
    "import math"
   ]
  },
  {
   "cell_type": "code",
   "execution_count": 21,
   "metadata": {},
   "outputs": [
    {
     "name": "stdout",
     "output_type": "stream",
     "text": [
      "[2.74342099 2.1848875  2.61377502 2.18641842 2.81905017 2.11887435\n",
      " 2.85290635 2.53561343 2.92895125 2.95019744]\n"
     ]
    }
   ],
   "source": [
    "x = stats.uniform.rvs(size=10)\n",
    "a = 2\n",
    "b = 3\n",
    "randoms  = a + (b-a)*x\n",
    "print(randoms)"
   ]
  },
  {
   "cell_type": "markdown",
   "metadata": {},
   "source": [
    "**Your task:**\n",
    "\n",
    "1. Based on the code above, write a function that generates uniformly distributed random numbers. There are several requirements for your function:\n",
    "    * It should accept 3 parameters: \n",
    "        * `bottom` - the lower boundary of the generated numbers\n",
    "        * `ceiling` - the upper boundary of the generated numbers\n",
    "        * `count` - how many numbers to generate\n",
    "    * It should return an array of uniformly distributed random numbers\n",
    "\n",
    "1. Call your function with 2 sets of params below:\n",
    "    * bottom=10, ceiling=15, count=100\n",
    "    * bottom=10, ceiling=60, count=1,000\n",
    "\n",
    "1. Plot the uniform distributions generated above using histograms, where x axis is the value and y axis is the count. Let the histogram's number of bins be 10.\n",
    "\n",
    "Your output should look like below:\n",
    "\n",
    "![uniform distribution](ud.png)"
   ]
  },
  {
   "cell_type": "code",
   "execution_count": 22,
   "metadata": {},
   "outputs": [
    {
     "data": {
      "text/plain": [
       "(array([101.,  97., 111., 103.,  84.,  98.,  97.,  92., 111., 106.]),\n",
       " array([10.0026133 , 15.00178888, 20.00096447, 25.00014005, 29.99931564,\n",
       "        34.99849122, 39.9976668 , 44.99684239, 49.99601797, 54.99519356,\n",
       "        59.99436914]),\n",
       " <a list of 10 Patch objects>)"
      ]
     },
     "execution_count": 22,
     "metadata": {},
     "output_type": "execute_result"
    },
    {
     "data": {
      "image/png": "[encoded data removed]",
      "text/plain": [
       "<Figure size 432x288 with 2 Axes>"
      ]
     },
     "metadata": {
      "needs_background": "light"
     },
     "output_type": "display_data"
    }
   ],
   "source": [
    "def generate_uniform(bottom, ceiling, count):\n",
    "    x = stats.uniform.rvs(size=count)\n",
    "    a = bottom\n",
    "    b = ceiling\n",
    "    randoms = a + (b-a)*x\n",
    "    return randoms\n",
    "\n",
    "u1 = generate_uniform(bottom=10, ceiling=15, count=100)\n",
    "u2= generate_uniform(bottom=10, ceiling=60, count=1000)\n",
    "\n",
    "fig, (ax1, ax2) = plt.subplots(1, 2, sharey=True)\n",
    "ax1.hist(u1)\n",
    "ax2.hist(u2)"
   ]
  },
  {
   "cell_type": "markdown",
   "metadata": {},
   "source": [
    "How are the two distributions different?"
   ]
  },
  {
   "cell_type": "markdown",
   "metadata": {},
   "source": [
    "*the distributions are both uniform but they differ in their range of values*"
   ]
  },
  {
   "cell_type": "markdown",
   "metadata": {},
   "source": [
    "## Normal Distribution\n",
    "\n",
    "1. In the same way in the Uniform Distribution challenge, write a function that generates normally distributed random numbers.\n",
    "1. Generate 1,000 normally distributed numbers with the average of 10 and standard deviation of 1\n",
    "1. Generate 1,000 normally distributed numbers with the average of 10 and standard deviation of 50\n",
    "2. Plot the distributions of the data generated.\n",
    "\n",
    "Expected output:\n",
    "\n",
    "![normal distribution](nd.png)"
   ]
  },
  {
   "cell_type": "code",
   "execution_count": 28,
   "metadata": {},
   "outputs": [
    {
     "data": {
      "text/plain": [
       "(array([ 2.,  1.,  0.,  0.,  1.,  3.,  0.,  4.,  5.,  2.,  4., 13., 10.,\n",
       "        18., 15., 14., 25., 29., 34., 35., 28., 34., 42., 45., 44., 48.,\n",
       "        52., 48., 46., 55., 50., 45., 41., 39., 29., 30., 12., 20., 13.,\n",
       "        12., 12.,  9.,  8.,  5.,  3.,  3.,  2.,  5.,  3.,  2.]),\n",
       " array([-152.86923429, -146.7364876 , -140.60374091, -134.47099423,\n",
       "        -128.33824754, -122.20550085, -116.07275416, -109.94000747,\n",
       "        -103.80726078,  -97.67451409,  -91.54176741,  -85.40902072,\n",
       "         -79.27627403,  -73.14352734,  -67.01078065,  -60.87803396,\n",
       "         -54.74528728,  -48.61254059,  -42.4797939 ,  -36.34704721,\n",
       "         -30.21430052,  -24.08155383,  -17.94880715,  -11.81606046,\n",
       "          -5.68331377,    0.44943292,    6.58217961,   12.7149263 ,\n",
       "          18.84767299,   24.98041967,   31.11316636,   37.24591305,\n",
       "          43.37865974,   49.51140643,   55.64415312,   61.7768998 ,\n",
       "          67.90964649,   74.04239318,   80.17513987,   86.30788656,\n",
       "          92.44063325,   98.57337993,  104.70612662,  110.83887331,\n",
       "         116.97162   ,  123.10436669,  129.23711338,  135.36986007,\n",
       "         141.50260675,  147.63535344,  153.76810013]),\n",
       " <a list of 50 Patch objects>)"
      ]
     },
     "execution_count": 28,
     "metadata": {},
     "output_type": "execute_result"
    },
    {
     "data": {
      "image/png": "[encoded data removed]",
      "text/plain": [
       "<Figure size 432x288 with 2 Axes>"
      ]
     },
     "metadata": {
      "needs_background": "light"
     },
     "output_type": "display_data"
    }
   ],
   "source": [
    "def generate_normal(mean, std):\n",
    "    normal = stats.norm(mean, std) \n",
    "    return normal.rvs(size=1000)\n",
    "\n",
    "n1 = generate_normal(10, 1)\n",
    "n2 = generate_normal(10, 50)\n",
    "\n",
    "\n",
    "# plotting\n",
    "fig, (ax1, ax2) = plt.subplots(1, 2, sharey = True)\n",
    "ax1.hist(n1, bins=50)\n",
    "ax2.hist(n2, bins=50)\n",
    "\n"
   ]
  },
  {
   "cell_type": "markdown",
   "metadata": {},
   "source": [
    "How are the two distributions different?"
   ]
  },
  {
   "cell_type": "markdown",
   "metadata": {},
   "source": [
    "*I think that both normal distributions differ in their range of values and how wide the bell is*\n",
    "*the first one is narrowes and taller, the second one is fatter and shorter, like me*"
   ]
  },
  {
   "cell_type": "markdown",
   "metadata": {},
   "source": [
    "## Normal Distribution of Real Data\n",
    "\n",
    "In this challenge we are going to take a look the real data. We will use vehicles.csv file for this exercise"
   ]
  },
  {
   "cell_type": "markdown",
   "metadata": {},
   "source": [
    "First import vehicles.csv.\n",
    "Then plot the histograms for the following variables:\n",
    "\n",
    "1. Fuel Barrels/Year"
   ]
  },
  {
   "cell_type": "code",
   "execution_count": 31,
   "metadata": {},
   "outputs": [],
   "source": [
    "vehicles = pd.read_csv('C:/Users/Zaca/Documents/Datasets/vehicles.csv')"
   ]
  },
  {
   "cell_type": "markdown",
   "metadata": {},
   "source": [
    "2. CO2 Emission Grams/Mile "
   ]
  },
  {
   "cell_type": "code",
   "execution_count": 34,
   "metadata": {},
   "outputs": [
    {
     "data": {
      "text/plain": [
       "(array([9.000e+00, 2.100e+01, 2.800e+01, 2.130e+02, 5.950e+02, 2.410e+03,\n",
       "        4.016e+03, 7.043e+03, 6.377e+03, 5.770e+03, 2.459e+03, 2.422e+03,\n",
       "        1.980e+03, 1.262e+03, 7.120e+02, 4.430e+02, 3.000e+00, 1.270e+02,\n",
       "        0.000e+00, 3.600e+01, 0.000e+00, 2.100e+01, 0.000e+00, 0.000e+00,\n",
       "        5.000e+00]),\n",
       " array([  37.        ,   86.30285714,  135.60571429,  184.90857143,\n",
       "         234.21142857,  283.51428571,  332.81714286,  382.12      ,\n",
       "         431.42285714,  480.72571429,  530.02857143,  579.33142857,\n",
       "         628.63428571,  677.93714286,  727.24      ,  776.54285714,\n",
       "         825.84571429,  875.14857143,  924.45142857,  973.75428571,\n",
       "        1023.05714286, 1072.36      , 1121.66285714, 1170.96571429,\n",
       "        1220.26857143, 1269.57142857]),\n",
       " <a list of 25 Patch objects>)"
      ]
     },
     "execution_count": 34,
     "metadata": {},
     "output_type": "execute_result"
    },
    {
     "data": {
      "image/png": "[encoded data removed]",
      "text/plain": [
       "<Figure size 432x288 with 1 Axes>"
      ]
     },
     "metadata": {
      "needs_background": "light"
     },
     "output_type": "display_data"
    }
   ],
   "source": [
    "plt.hist(vehicles['CO2 Emission Grams/Mile'], bins= 25)"
   ]
  },
  {
   "cell_type": "markdown",
   "metadata": {},
   "source": [
    "3. Combined MPG"
   ]
  },
  {
   "cell_type": "code",
   "execution_count": 35,
   "metadata": {},
   "outputs": [
    {
     "data": {
      "text/plain": [
       "(array([2.600e+01, 1.710e+02, 1.182e+03, 3.202e+03, 4.556e+03, 5.979e+03,\n",
       "        6.375e+03, 5.405e+03, 3.340e+03, 2.345e+03, 1.331e+03, 8.240e+02,\n",
       "        4.300e+02, 3.380e+02, 1.290e+02, 8.400e+01, 8.800e+01, 7.500e+01,\n",
       "        1.200e+01, 1.600e+01, 1.800e+01, 1.500e+01, 5.000e+00, 4.000e+00,\n",
       "        2.000e+00]),\n",
       " array([ 7.  ,  8.96, 10.92, 12.88, 14.84, 16.8 , 18.76, 20.72, 22.68,\n",
       "        24.64, 26.6 , 28.56, 30.52, 32.48, 34.44, 36.4 , 38.36, 40.32,\n",
       "        42.28, 44.24, 46.2 , 48.16, 50.12, 52.08, 54.04, 56.  ]),\n",
       " <a list of 25 Patch objects>)"
      ]
     },
     "execution_count": 35,
     "metadata": {},
     "output_type": "execute_result"
    },
    {
     "data": {
      "image/png": "[encoded data removed]",
      "text/plain": [
       "<Figure size 432x288 with 1 Axes>"
      ]
     },
     "metadata": {
      "needs_background": "light"
     },
     "output_type": "display_data"
    }
   ],
   "source": [
    "plt.hist(vehicles['Combined MPG'], bins= 25)"
   ]
  },
  {
   "cell_type": "markdown",
   "metadata": {},
   "source": [
    "Which one(s) of the variables are nearly normally distributed? How do you know?"
   ]
  },
  {
   "cell_type": "markdown",
   "metadata": {},
   "source": [
    "*I can't know for sure until we perfom a test for normality, but Combined MPG has more of a gaussian shape than CO2 emissions*"
   ]
  },
  {
   "cell_type": "markdown",
   "metadata": {},
   "source": [
    "## Exponential Distribution"
   ]
  },
  {
   "cell_type": "markdown",
   "metadata": {},
   "source": [
    "1. Using `numpy.random.exponential`, create a function that returns a list of numbers exponentially distributed with the mean of 10. \n",
    "\n",
    "1. Use the function to generate two number sequences with a mean of 1 and 100 and a size of 1000.\n",
    "\n",
    "1. Plot the distributions as histograms with the number of bins as 100.\n",
    "\n",
    "Your output should look like below:\n",
    "\n",
    "![exponential distribution](ed.png)"
   ]
  },
  {
   "cell_type": "code",
   "execution_count": 41,
   "metadata": {},
   "outputs": [
    {
     "data": {
      "text/plain": [
       "(array([69., 52., 41., 62., 61., 47., 41., 38., 41., 37., 35., 22., 27.,\n",
       "        27., 28., 22., 22., 25., 17., 15., 16., 17., 16., 13., 13., 19.,\n",
       "         7.,  8., 14.,  7., 10.,  6.,  8.,  4.,  9.,  8.,  8.,  2.,  4.,\n",
       "         6.,  6.,  4.,  2.,  6.,  4.,  4.,  0.,  3.,  3.,  3.,  1.,  1.,\n",
       "         3.,  4.,  1.,  1.,  0.,  1.,  1.,  1.,  2.,  2.,  3.,  2.,  2.,\n",
       "         3.,  3.,  2.,  1.,  0.,  0.,  0.,  0.,  0.,  0.,  1.,  0.,  2.,\n",
       "         0.,  1.,  0.,  0.,  0.,  0.,  1.,  0.,  0.,  0.,  0.,  0.,  0.,\n",
       "         1.,  0.,  0.,  0.,  0.,  0.,  0.,  0.,  1.]),\n",
       " array([4.30712001e-02, 6.69617072e+00, 1.33492702e+01, 2.00023698e+01,\n",
       "        2.66554693e+01, 3.33085688e+01, 3.99616683e+01, 4.66147678e+01,\n",
       "        5.32678674e+01, 5.99209669e+01, 6.65740664e+01, 7.32271659e+01,\n",
       "        7.98802654e+01, 8.65333650e+01, 9.31864645e+01, 9.98395640e+01,\n",
       "        1.06492664e+02, 1.13145763e+02, 1.19798863e+02, 1.26451962e+02,\n",
       "        1.33105062e+02, 1.39758161e+02, 1.46411261e+02, 1.53064360e+02,\n",
       "        1.59717460e+02, 1.66370559e+02, 1.73023659e+02, 1.79676758e+02,\n",
       "        1.86329858e+02, 1.92982957e+02, 1.99636057e+02, 2.06289156e+02,\n",
       "        2.12942256e+02, 2.19595355e+02, 2.26248455e+02, 2.32901554e+02,\n",
       "        2.39554654e+02, 2.46207753e+02, 2.52860853e+02, 2.59513952e+02,\n",
       "        2.66167052e+02, 2.72820152e+02, 2.79473251e+02, 2.86126351e+02,\n",
       "        2.92779450e+02, 2.99432550e+02, 3.06085649e+02, 3.12738749e+02,\n",
       "        3.19391848e+02, 3.26044948e+02, 3.32698047e+02, 3.39351147e+02,\n",
       "        3.46004246e+02, 3.52657346e+02, 3.59310445e+02, 3.65963545e+02,\n",
       "        3.72616644e+02, 3.79269744e+02, 3.85922843e+02, 3.92575943e+02,\n",
       "        3.99229042e+02, 4.05882142e+02, 4.12535241e+02, 4.19188341e+02,\n",
       "        4.25841440e+02, 4.32494540e+02, 4.39147640e+02, 4.45800739e+02,\n",
       "        4.52453839e+02, 4.59106938e+02, 4.65760038e+02, 4.72413137e+02,\n",
       "        4.79066237e+02, 4.85719336e+02, 4.92372436e+02, 4.99025535e+02,\n",
       "        5.05678635e+02, 5.12331734e+02, 5.18984834e+02, 5.25637933e+02,\n",
       "        5.32291033e+02, 5.38944132e+02, 5.45597232e+02, 5.52250331e+02,\n",
       "        5.58903431e+02, 5.65556530e+02, 5.72209630e+02, 5.78862729e+02,\n",
       "        5.85515829e+02, 5.92168928e+02, 5.98822028e+02, 6.05475128e+02,\n",
       "        6.12128227e+02, 6.18781327e+02, 6.25434426e+02, 6.32087526e+02,\n",
       "        6.38740625e+02, 6.45393725e+02, 6.52046824e+02, 6.58699924e+02,\n",
       "        6.65353023e+02]),\n",
       " <a list of 100 Patch objects>)"
      ]
     },
     "execution_count": 41,
     "metadata": {},
     "output_type": "execute_result"
    },
    {
     "data": {
      "image/png": "[encoded data removed]",
      "text/plain": [
       "<Figure size 432x288 with 2 Axes>"
      ]
     },
     "metadata": {
      "needs_background": "light"
     },
     "output_type": "display_data"
    }
   ],
   "source": [
    "def generate_exp(mean):\n",
    "    return np.random.exponential(mean, 1000)\n",
    "\n",
    "e1 = generate_exp(1)\n",
    "e2 = generate_exp(100)\n",
    "fig, (ax1, ax2) = plt.subplots(1, 2, sharey = True)\n",
    "ax1.hist(e1, bins=100)\n",
    "ax2.hist(e2, bins=100)"
   ]
  },
  {
   "cell_type": "markdown",
   "metadata": {},
   "source": [
    "How are the two distributions different?"
   ]
  },
  {
   "cell_type": "code",
   "execution_count": 40,
   "metadata": {},
   "outputs": [
    {
     "data": {
      "text/plain": [
       "(array([69., 61., 57., 38., 49., 46., 49., 43., 39., 34., 29., 21., 33.,\n",
       "        31., 29., 26., 28., 17., 22., 20., 16., 18., 18., 15., 14., 10.,\n",
       "         7.,  8.,  9.,  8.,  6., 11.,  5.,  9.,  7.,  7.,  5.,  8.,  2.,\n",
       "         4.,  2.,  3.,  3.,  5.,  7.,  2.,  5.,  4.,  5.,  1.,  3.,  0.,\n",
       "         3.,  2.,  1.,  3.,  1.,  2.,  1.,  1.,  0.,  2.,  2.,  1.,  0.,\n",
       "         0.,  2.,  0.,  2.,  0.,  2.,  0.,  0.,  0.,  0.,  0.,  1.,  0.,\n",
       "         0.,  0.,  1.,  0.,  0.,  0.,  0.,  1.,  0.,  0.,  0.,  0.,  1.,\n",
       "         0.,  1.,  0.,  1.,  0.,  0.,  0.,  0.,  1.]),\n",
       " array([1.79257522e-01, 6.71486063e+00, 1.32504637e+01, 1.97860669e+01,\n",
       "        2.63216700e+01, 3.28572731e+01, 3.93928762e+01, 4.59284793e+01,\n",
       "        5.24640824e+01, 5.89996855e+01, 6.55352886e+01, 7.20708917e+01,\n",
       "        7.86064948e+01, 8.51420980e+01, 9.16777011e+01, 9.82133042e+01,\n",
       "        1.04748907e+02, 1.11284510e+02, 1.17820114e+02, 1.24355717e+02,\n",
       "        1.30891320e+02, 1.37426923e+02, 1.43962526e+02, 1.50498129e+02,\n",
       "        1.57033732e+02, 1.63569335e+02, 1.70104938e+02, 1.76640541e+02,\n",
       "        1.83176145e+02, 1.89711748e+02, 1.96247351e+02, 2.02782954e+02,\n",
       "        2.09318557e+02, 2.15854160e+02, 2.22389763e+02, 2.28925366e+02,\n",
       "        2.35460969e+02, 2.41996573e+02, 2.48532176e+02, 2.55067779e+02,\n",
       "        2.61603382e+02, 2.68138985e+02, 2.74674588e+02, 2.81210191e+02,\n",
       "        2.87745794e+02, 2.94281397e+02, 3.00817001e+02, 3.07352604e+02,\n",
       "        3.13888207e+02, 3.20423810e+02, 3.26959413e+02, 3.33495016e+02,\n",
       "        3.40030619e+02, 3.46566222e+02, 3.53101825e+02, 3.59637429e+02,\n",
       "        3.66173032e+02, 3.72708635e+02, 3.79244238e+02, 3.85779841e+02,\n",
       "        3.92315444e+02, 3.98851047e+02, 4.05386650e+02, 4.11922253e+02,\n",
       "        4.18457857e+02, 4.24993460e+02, 4.31529063e+02, 4.38064666e+02,\n",
       "        4.44600269e+02, 4.51135872e+02, 4.57671475e+02, 4.64207078e+02,\n",
       "        4.70742681e+02, 4.77278285e+02, 4.83813888e+02, 4.90349491e+02,\n",
       "        4.96885094e+02, 5.03420697e+02, 5.09956300e+02, 5.16491903e+02,\n",
       "        5.23027506e+02, 5.29563109e+02, 5.36098713e+02, 5.42634316e+02,\n",
       "        5.49169919e+02, 5.55705522e+02, 5.62241125e+02, 5.68776728e+02,\n",
       "        5.75312331e+02, 5.81847934e+02, 5.88383537e+02, 5.94919141e+02,\n",
       "        6.01454744e+02, 6.07990347e+02, 6.14525950e+02, 6.21061553e+02,\n",
       "        6.27597156e+02, 6.34132759e+02, 6.40668362e+02, 6.47203965e+02,\n",
       "        6.53739569e+02]),\n",
       " <a list of 100 Patch objects>)"
      ]
     },
     "execution_count": 40,
     "metadata": {},
     "output_type": "execute_result"
    },
    {
     "data": {
      "image/png": "[encoded data removed]",
      "text/plain": [
       "<Figure size 432x288 with 2 Axes>"
      ]
     },
     "metadata": {
      "needs_background": "light"
     },
     "output_type": "display_data"
    }
   ],
   "source": []
  },
  {
   "cell_type": "markdown",
   "metadata": {},
   "source": [
    "## Exponential Distribution of Real Data\n",
    "\n",
    "Suppose that the amount of time one spends in a bank is exponentially distributed with mean as 10 minutes (i.e. λ = 1/10). What is the probability that a customer will spend less than fifteen minutes in the bank? \n",
    "\n",
    "Write a code in python to solve this problem"
   ]
  },
  {
   "cell_type": "code",
   "execution_count": 77,
   "metadata": {},
   "outputs": [
    {
     "name": "stdout",
     "output_type": "stream",
     "text": [
      "0.7768698398515702\n"
     ]
    }
   ],
   "source": [
    "# I was trying first to use the model? by just feeding it the parameter but I don't quite understand how it works.\n",
    "lamb = 1/10\n",
    "exp = stats.expon(scale=10)\n",
    "print(exp.cdf(15))  "
   ]
  },
  {
   "cell_type": "markdown",
   "metadata": {},
   "source": [
    "What is the probability that the customer will spend more than 15 minutes"
   ]
  },
  {
   "cell_type": "code",
   "execution_count": 78,
   "metadata": {},
   "outputs": [
    {
     "data": {
      "text/plain": [
       "0.2231301601484298"
      ]
     },
     "execution_count": 78,
     "metadata": {},
     "output_type": "execute_result"
    }
   ],
   "source": [
    "1 - exp.cdf(15)"
   ]
  },
  {
   "cell_type": "code",
   "execution_count": 79,
   "metadata": {},
   "outputs": [
    {
     "data": {
      "text/plain": [
       "[<matplotlib.lines.Line2D at 0x27c3b352d88>]"
      ]
     },
     "execution_count": 79,
     "metadata": {},
     "output_type": "execute_result"
    },
    {
     "data": {
      "image/png": "[encoded data removed]",
      "text/plain": [
       "<Figure size 432x288 with 1 Axes>"
      ]
     },
     "metadata": {
      "needs_background": "light"
     },
     "output_type": "display_data"
    }
   ],
   "source": [
    "x = np.linspace(exp.ppf(0.01), exp.ppf(0.99), 100)\n",
    "y = exp.pdf(x)\n",
    "plt.plot(x, y)"
   ]
  }
 ],
 "metadata": {
  "kernelspec": {
   "display_name": "Python 3",
   "language": "python",
   "name": "python3"
  },
  "language_info": {
   "codemirror_mode": {
    "name": "ipython",
    "version": 3
   },
   "file_extension": ".py",
   "mimetype": "text/x-python",
   "name": "python",
   "nbconvert_exporter": "python",
   "pygments_lexer": "ipython3",
   "version": "3.7.4"
  }
 },
 "nbformat": 4,
 "nbformat_minor": 2
}
