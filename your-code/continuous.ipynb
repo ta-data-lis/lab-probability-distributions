{
 "cells": [
  {
   "cell_type": "markdown",
   "metadata": {},
   "source": [
    "# Before your start:\n",
    "\n",
    "    Read the README.md file\n",
    "    Comment as much as you can and use the resources (README.md file)\n",
    "    Happy learning!"
   ]
  },
  {
   "cell_type": "markdown",
   "metadata": {},
   "source": [
    "In this exercise, we  will generate random numbers from the continuous disributions we learned in the lesson. There are two ways to generate random numbers:\n",
    "\n",
    "1. Using the numpy library \n",
    "1. using the Scipy library \n",
    "\n",
    "Use either or both of the lbraries in this exercise."
   ]
  },
  {
   "cell_type": "markdown",
   "metadata": {},
   "source": [
    "## Uniform Distribution\n",
    "\n",
    "To generate uniform random numbers between any two given values using scipy, we can either use the following code or the code that we have\n",
    "discussed in class:"
   ]
  },
  {
   "cell_type": "code",
   "execution_count": 1,
   "metadata": {},
   "outputs": [
    {
     "name": "stdout",
     "output_type": "stream",
     "text": [
      "[2.2912052  2.94071397 2.45222915 2.41413382 2.9433013  2.88888747\n",
      " 2.84407057 2.35398354 2.51592691 2.27328499]\n"
     ]
    }
   ],
   "source": [
    "from scipy.stats import uniform\n",
    "x = uniform.rvs(size=10)\n",
    "a = 2\n",
    "b = 3\n",
    "randoms  = a + (b-a)*x\n",
    "print(randoms)"
   ]
  },
  {
   "cell_type": "markdown",
   "metadata": {},
   "source": [
    "**Your task:**\n",
    "\n",
    "1. Based on the code above, write a function that generates uniformly distributed random numbers. There are several requirements for your function:\n",
    "    * It should accept 3 parameters: \n",
    "        * `bottom` - the lower boundary of the generated numbers\n",
    "        * `ceiling` - the upper boundary of the generated numbers\n",
    "        * `count` - how many numbers to generate\n",
    "    * It should return an array of uniformly distributed random numbers\n",
    "\n",
    "1. Call your function with 2 sets of params below:\n",
    "    * bottom=10, ceiling=15, count=100\n",
    "    * bottom=10, ceiling=60, count=1,000\n",
    "\n",
    "1. Plot the uniform distributions generated above using histograms, where x axis is the value and y axis is the count. Let the histogram's number of bins be 10.\n",
    "\n",
    "Your output should look like below:\n",
    "\n",
    "![uniform distribution](ud.png)"
   ]
  },
  {
   "cell_type": "code",
   "execution_count": 2,
   "metadata": {},
   "outputs": [],
   "source": [
    "# your code here\n",
    "def uni(bottom,ceiling,count):\n",
    "    x = uniform.rvs(size=count)\n",
    "    a = bottom\n",
    "    b = ceiling\n",
    "    randoms  = a + (b-a)*x\n",
    "    return (randoms)"
   ]
  },
  {
   "cell_type": "code",
   "execution_count": 3,
   "metadata": {},
   "outputs": [
    {
     "name": "stdout",
     "output_type": "stream",
     "text": [
      "[13.14357451 12.52327479 13.63783439 11.19637418 13.96536379 11.46215355\n",
      " 12.84760247 12.24326292 14.33934495 11.70096717 11.94443498 14.16249659\n",
      " 14.21625176 12.37994524 10.60725449 10.84296807 13.70551438 10.52329408\n",
      " 10.89367786 12.62939928 10.44112638 10.16624261 13.27412432 12.90019261\n",
      " 11.42027614 11.10793912 10.83635108 13.26964313 12.42847134 12.27203382\n",
      " 14.61503528 14.5691396  14.7214026  13.67128062 12.99037755 11.55824742\n",
      " 14.79704198 13.17192818 10.68231296 12.84252101 11.21945535 13.03012416\n",
      " 13.02869871 10.52214685 14.45333948 14.98921543 12.93175135 11.66111974\n",
      " 14.05306009 11.55904963 12.33395396 10.36526533 10.34867664 11.95745687\n",
      " 11.15821733 14.40458878 14.08935517 14.11221375 14.6781787  10.30395428\n",
      " 13.91539108 10.58655441 13.12804515 14.26305311 12.24776072 11.450482\n",
      " 12.78452253 14.019348   11.25059973 14.55812788 10.06878854 14.36500478\n",
      " 11.77710371 11.66991131 14.97197846 12.76877834 10.32842124 11.59242361\n",
      " 13.21652078 14.27543548 12.55763863 12.44663032 13.88501531 11.33588795\n",
      " 12.22672508 11.31055787 10.65018518 11.00343206 11.02930579 10.162351\n",
      " 14.19680596 11.9064581  11.57699662 14.88682147 14.96363374 10.48514287\n",
      " 13.71513708 12.17971386 12.56851651 10.96753095]\n",
      "[31.12495792 21.0200156  53.64948682 44.07337628 28.86693632 54.4450063\n",
      " 19.91154595 10.87116795 26.23683834 19.63333196 25.91457401 44.00940441\n",
      " 27.34529027 13.0432561  32.77111478 32.73093589 17.33477075 34.57819226\n",
      " 56.90051983 25.82813585 40.4797806  35.5971956  30.38099191 15.05199432\n",
      " 49.86386982 43.11283482 49.04876881 30.85347202 28.63587723 17.07969065\n",
      " 57.64061105 21.96543533 17.02531942 57.07330668 46.94744621 19.78288389\n",
      " 44.1701111  36.96779397 14.86984276 53.97233074 16.0253474  53.7301816\n",
      " 11.00903426 27.65944828 45.19191282 19.5534538  47.46848389 56.88473462\n",
      " 56.71092598 50.29889338 51.00894647 59.03761263 16.82076614 21.16739616\n",
      " 29.72455577 28.13449411 54.58798496 21.02184747 20.56942135 58.19814338\n",
      " 55.80664997 47.07274349 14.38426217 40.16011316 37.15472969 55.11844652\n",
      " 45.40641733 33.41305043 14.44581392 23.54314431 54.89851292 30.13916561\n",
      " 17.15662389 50.45849565 39.67634522 58.54923863 11.35113415 13.05440467\n",
      " 27.42608414 26.60704699 23.18725745 37.13341851 55.95958653 44.36658519\n",
      " 25.71867267 47.1480255  35.51865975 24.91118789 53.01216323 22.91232106\n",
      " 43.77889127 40.23400544 26.10190695 23.27870727 44.27761397 10.98298146\n",
      " 24.91460704 31.44798358 30.15456654 27.59376638 22.14125765 43.64312057\n",
      " 58.83842714 51.09200797 46.25339458 57.56274221 58.71138718 40.46982332\n",
      " 50.20091023 10.40845102 30.22351578 26.70754074 47.20347659 32.01741383\n",
      " 25.98065251 43.75418556 38.08758266 55.62936513 14.23246752 20.14093518\n",
      " 34.5222752  24.01688579 23.90986828 55.73422522 51.89670504 33.71701782\n",
      " 32.85829446 53.10885551 31.3313174  52.01668374 47.62093636 30.63503744\n",
      " 52.52615271 11.2870202  30.18795473 57.70402611 10.98024551 14.10761168\n",
      " 37.19754506 29.84200745 22.57594909 27.80400703 22.95409925 13.95457519\n",
      " 30.13186493 43.95680402 32.21853905 54.99550848 49.66904771 58.88495756\n",
      " 38.79770971 45.53667495 34.22230904 13.65255166 45.34726911 43.00772589\n",
      " 23.87055266 37.05139903 26.86232459 32.38656236 45.99729557 29.45993798\n",
      " 36.04420038 44.38594156 22.7055825  34.40776294 12.4510122  27.81152894\n",
      " 42.52901793 13.45985678 15.93429559 20.89428274 44.44640532 26.62432471\n",
      " 16.79426373 33.90066348 58.40967418 25.5362682  36.7210603  53.51794458\n",
      " 43.88129684 27.5410735  41.94603762 19.10528143 39.11912156 11.38395345\n",
      " 52.42201196 21.43852443 31.50276043 26.53621309 44.25006605 48.01735207\n",
      " 53.22949885 58.0519957  54.57266443 59.4038159  44.12734528 35.848096\n",
      " 43.39008819 25.19661245 22.21068797 47.10476272 18.68207287 30.02174633\n",
      " 50.72954044 45.82493085 56.44372518 48.43533227 14.43879701 19.67543912\n",
      " 21.17852709 17.42052011 56.75431327 16.15947653 13.9870997  28.42168039\n",
      " 20.54174261 12.90567621 50.45772375 43.42951226 32.17895902 18.35874435\n",
      " 57.51085718 26.08250806 28.16202279 26.24805077 17.89722631 12.9293671\n",
      " 58.67648071 10.84070583 49.27278373 48.35354053 11.25656243 57.67754213\n",
      " 38.42817591 57.7495528  41.70183504 56.83289049 48.33630928 50.37052442\n",
      " 36.49748646 32.35473328 17.16839183 16.11542494 48.18625731 50.3414795\n",
      " 25.78412445 47.87724373 59.98190411 57.91168862 29.32244646 27.33388031\n",
      " 46.94336826 10.11512534 47.12831302 14.59674224 46.56881204 13.46736425\n",
      " 20.41780944 59.3298854  20.00724176 59.17102601 52.94374892 48.45872883\n",
      " 35.26745839 40.61900307 27.74715349 27.25030549 16.50164562 40.69653234\n",
      " 45.44572201 56.59088196 37.37439329 14.45736359 58.52526947 37.99759958\n",
      " 52.3383939  21.48619142 38.8388104  59.87062335 57.6916983  14.1778379\n",
      " 57.37539812 48.29447635 31.84164184 52.26291211 10.36086169 39.96727431\n",
      " 41.6264199  54.00906957 32.33487439 55.18844067 29.75221861 52.01437241\n",
      " 39.39249245 40.9965647  54.73649108 57.6908493  37.48278163 11.95947925\n",
      " 14.561581   26.28276075 56.1282719  58.70067633 28.0906911  37.45065723\n",
      " 32.04539127 28.43902574 40.59023654 14.785364   14.09405792 14.43251558\n",
      " 43.49105605 55.60552651 37.65888247 54.13473108 23.30146623 48.25666632\n",
      " 47.59076018 51.67588089 23.06306404 37.41477693 28.67539399 19.79158984\n",
      " 30.68809004 24.97949257 40.66928042 20.16360971 39.79904142 48.85482848\n",
      " 17.08239195 53.06908087 47.38401005 52.7109667  55.49911486 28.04378375\n",
      " 17.10018334 52.47110159 15.0217221  14.46873081 17.86029413 39.30891456\n",
      " 24.20825029 28.99943719 12.60188345 58.26245518 57.45371598 23.00218325\n",
      " 54.05150074 53.24709242 38.70624987 21.77087937 38.08945132 54.10603637\n",
      " 51.25363457 28.98717291 20.69023056 22.14109792 48.07153194 47.2062031\n",
      " 35.72357699 35.80915302 39.51268342 27.28248749 50.65925588 59.57583854\n",
      " 57.35886459 59.81761341 20.32097449 58.20870861 49.06824512 52.84287087\n",
      " 24.77844729 11.51708763 27.60641801 20.0902314  45.76686736 41.7608143\n",
      " 46.58921395 55.98360249 49.48658744 18.80963706 24.2188532  44.24874568\n",
      " 35.05058288 50.49506463 39.42615503 49.31049432 51.36660624 17.76150915\n",
      " 54.52738641 46.74114502 43.60739074 14.2314506  30.3699557  19.47542649\n",
      " 40.4244199  29.30679016 50.13321526 18.7876453  21.57208306 22.44318137\n",
      " 43.54696718 32.04740328 35.05015895 43.1844856  45.96735146 31.99462619\n",
      " 28.49844526 40.68002509 20.29098034 21.40622299 52.71617246 44.24555628\n",
      " 36.07056966 57.26013555 14.84888685 25.95985749 43.91716435 59.8800189\n",
      " 29.386079   38.16548534 43.17711495 56.49959891 39.14039124 40.95234885\n",
      " 42.8170046  47.64904834 56.9086916  30.69550256 28.03999494 52.3969129\n",
      " 34.56969763 32.19752216 21.47134621 28.01526977 15.21177726 33.41839688\n",
      " 37.21604194 57.61823176 37.97245257 34.53646641 22.92815958 48.0936363\n",
      " 50.9239105  49.50731178 42.14348374 53.79226168 30.00175588 18.87007547\n",
      " 57.31604809 52.46681757 39.49122431 50.37394991 52.99659932 53.15419753\n",
      " 39.61976417 56.22756668 36.74657377 15.64752036 51.27923858 12.3512267\n",
      " 29.88004766 49.55731718 18.25414885 38.23818431 11.72620263 26.73247061\n",
      " 13.80539438 22.48730643 36.18071011 46.722039   11.24737755 15.34045744\n",
      " 16.31810852 37.02601865 10.41855605 47.1379404  19.34473882 10.2700349\n",
      " 58.88783784 26.52358406 14.20232173 30.58695853 18.44558459 26.60028246\n",
      " 17.06561739 51.00094349 11.85470462 37.05216156 25.46968619 24.34095183\n",
      " 12.08561549 17.04544123 32.54965724 11.84829948 16.58684522 47.08278884\n",
      " 31.81718464 31.17117102 30.23180217 33.21499244 16.75921413 18.9540853\n",
      " 40.74612178 40.12543407 35.93708566 25.86740603 59.46163286 44.75722132\n",
      " 26.92121265 11.83027679 13.63344255 44.06566188 45.79979457 13.80424514\n",
      " 44.74609072 54.18997446 20.62969091 51.43570163 13.99655295 46.50049093\n",
      " 44.26749088 50.33604879 21.87947809 41.51195493 15.29487509 57.13760784\n",
      " 25.19058876 37.20641832 37.40347116 52.90984293 47.38714171 10.05553283\n",
      " 52.58343999 28.38289381 44.94319843 57.09246308 13.07598042 42.55619712\n",
      " 57.50153829 25.34259779 25.67208862 37.51799208 41.70869002 11.99985232\n",
      " 33.27025812 55.87335475 12.39507476 25.64232928 46.26354338 49.63674632\n",
      " 57.72097334 32.39451099 54.74214488 50.19313263 17.44088341 23.48599447\n",
      " 36.50612319 12.55561598 54.54329493 13.05783901 57.10960331 28.46978022\n",
      " 35.39518161 41.32791219 10.85728407 43.06131677 22.0398511  16.8218343\n",
      " 54.3431481  54.12345379 55.44577497 38.32312916 40.62663093 44.79896534\n",
      " 58.39397648 50.05502338 51.70706849 45.31330178 46.43539637 10.63662518\n",
      " 31.56191908 23.49436394 59.19733057 15.01408157 26.55876886 44.60680797\n",
      " 48.65728505 38.97687844 28.73859184 18.26949993 54.92036452 46.65108232\n",
      " 20.8922586  18.18853117 46.40399474 40.84750466 47.22667268 20.56578971\n",
      " 44.09443837 30.86254902 51.21678232 12.14495362 25.32699106 17.35731209\n",
      " 26.18014112 48.11935147 22.05581557 36.47273488 50.21968861 41.01529879\n",
      " 24.12863227 29.93332413 15.88028474 33.48396074 10.27180684 44.67112234\n",
      " 35.10710489 49.06377501 37.74159898 16.48731458 51.81590221 58.62259474\n",
      " 52.35055095 59.35777678 35.69685045 40.07844613 41.36185686 14.08900066\n",
      " 20.3342561  16.55056442 34.60597848 10.8445656  50.18328404 22.03554517\n",
      " 49.80732034 33.91389726 55.94714423 13.16923337 43.79713633 49.27511792\n",
      " 57.22927609 59.12108428 56.9928401  56.27693701 44.51485109 58.22053382\n",
      " 14.97960468 13.208982   41.39475773 21.42830996 21.75266066 24.49259636\n",
      " 51.52259933 25.93197467 18.11626415 50.23620236 59.20470486 17.6514506\n",
      " 46.19482633 54.87329916 45.99743233 33.92659066 22.74808677 30.57614682\n",
      " 45.84830392 46.26302028 50.1576794  44.92236939 31.02745209 59.18037217\n",
      " 43.15809851 40.42835514 17.21168263 44.46375792 17.60317419 26.07790393\n",
      " 11.1401327  46.83824837 23.93508127 37.23573934 18.45005064 49.77417583\n",
      " 31.43439145 31.93341037 36.81633943 39.43746541 29.19643846 40.96748971\n",
      " 22.68275609 12.54035276 18.9927495  44.41994815 31.02314819 22.6056713\n",
      " 28.38449476 44.12284871 34.84732334 10.44672871 38.91387284 54.40847174\n",
      " 18.3234116  55.81301386 24.23990796 30.34439862 11.26767415 34.12652465\n",
      " 23.91726256 51.26534871 46.69460667 57.74159315 39.67789042 36.08815013\n",
      " 50.46860476 20.21232229 49.70584367 35.20892708 10.01805203 44.38738366\n",
      " 23.60098429 10.84070097 40.41214668 27.22810846 23.49444621 59.61921554\n",
      " 23.54558809 39.301895   19.62453017 30.96539704 41.09505745 56.9167952\n",
      " 53.81071176 44.95870768 38.99243777 26.01102063 20.18809757 30.53080398\n",
      " 27.55825722 36.6442465  11.22538403 48.26025664 39.05598611 41.53180383\n",
      " 26.80205188 54.94938548 38.28798695 38.84620394 22.53014767 22.86109361\n",
      " 13.80692078 13.43837247 24.6028412  38.4931657  50.00328274 31.63920653\n",
      " 56.96408013 26.65444974 18.57374924 16.89838905 33.53072046 59.05145058\n",
      " 37.44860501 17.33006976 46.48605494 39.90556604 28.94374447 33.45773007\n",
      " 13.74179491 21.74103757 28.55386683 52.22157157 42.96186736 30.05462352\n",
      " 57.35674196 56.43346609 42.56058093 44.57838232 29.42879689 45.15212477\n",
      " 57.54630218 53.11702387 41.8689967  59.18506606 11.64504855 19.26325278\n",
      " 38.51432182 49.73392703 25.59449125 44.85323152 15.07666012 18.96346199\n",
      " 51.07485843 17.69876298 20.1113255  38.76835501 11.72594598 25.06924178\n",
      " 15.45394074 43.76035317 55.57345464 27.05836144 41.22314806 35.0183622\n",
      " 17.16235917 13.65732651 36.01626287 12.74405614 50.63376737 49.58501381\n",
      " 54.31160727 14.18034101 39.51274163 16.65752327 44.72680835 13.44689972\n",
      " 46.61303099 19.5160075  26.25750801 43.92705357 12.63924288 18.5517784\n",
      " 56.48786418 28.80582781 43.11560504 16.05765632 27.27369389 26.2226999\n",
      " 20.64011644 38.16238628 33.41385299 43.3445143  22.33998004 40.27129461\n",
      " 31.9178764  34.56467214 35.63597862 39.63847965 38.46259855 51.81659766\n",
      " 16.14636991 14.17790731 54.32594487 43.21302104 31.03073988 58.61100246\n",
      " 37.199025   32.04365182 16.43896527 34.65750576 36.60940127 20.90679799\n",
      " 44.45115787 11.07414263 27.06345506 36.98295624 19.08444222 33.37248163\n",
      " 18.9657949  33.83218632 14.15482925 43.68973361 47.729883   48.23748471\n",
      " 51.03405104 22.30955102 20.7176273  59.5478226  43.80161741 16.15730803\n",
      " 50.30626762 57.65643481 19.71625212 20.70132689 18.95923466 11.90774544\n",
      " 51.40707992 36.68422101 59.8311132  49.20200605 53.20123412 41.44657575\n",
      " 57.22332077 44.13079973 17.11542506 37.0804016  31.87830506 33.57452715\n",
      " 18.85068225 34.10666105 28.07824188 37.83329183 41.19934923 43.05989365\n",
      " 36.49979122 40.94763351 42.40461943 30.33291015 44.78370026 14.21745001\n",
      " 48.45617933 46.02957177 15.6796329  14.24190247 16.92921318 51.87522182\n",
      " 16.02289349 55.60055464 16.00463155 43.99080682 52.31351833 42.3386074\n",
      " 33.49525476 54.4141455  14.08874319 38.8325935  32.8714227  45.20544803\n",
      " 29.91981446 45.74241152 54.85549529 21.50798307 14.2337869  18.28019151\n",
      " 29.09922702 44.88561242 56.36428233 30.12652247 23.61227585 18.47829594\n",
      " 33.32622956 11.83374427 48.27397302 12.98694901 38.16624152 14.46350501\n",
      " 14.65812477 50.0996083  36.74546323 46.60860141 39.94057488 41.24175876\n",
      " 13.72061114 58.49317438 25.86435218 23.93367529 32.10011715 56.34373131\n",
      " 55.28896284 33.02919351 43.16015817 46.70065012 57.91702458 30.72631966\n",
      " 15.43503712 36.01606283 34.63284155 51.81349461 12.27118817 32.62648262\n",
      " 55.33837583 59.91187895 22.81297471 27.97757054 23.11380826 59.73894889\n",
      " 15.04358011 25.72853738 21.947217   28.18926947 40.84303499 32.38255926\n",
      " 42.64707289 39.86243299 48.18800292 40.56556836 44.29495423 18.25321437\n",
      " 28.75802562 46.08148422 13.62859084 11.78213921 41.86450861 20.27390067\n",
      " 21.18080549 37.78840695 16.94999653 35.6377529  54.55867055 12.40810362\n",
      " 58.96212717 56.18468183 27.53443577 47.61804412 19.38194688 15.53010824\n",
      " 55.10484211 29.31778852 13.11511778 52.09904911]\n"
     ]
    }
   ],
   "source": [
    "#bottom=10, ceiling=15, count=100\n",
    "print(uni(10, 15,100))\n",
    "#bottom=10, ceiling=60, count=1,000\n",
    "print(uni(10, 60,1000))"
   ]
  },
  {
   "cell_type": "code",
   "execution_count": 6,
   "metadata": {},
   "outputs": [
    {
     "data": {
      "image/png": "[encoded data removed]",
      "text/plain": [
       "<Figure size 504x360 with 2 Axes>"
      ]
     },
     "metadata": {
      "needs_background": "light"
     },
     "output_type": "display_data"
    }
   ],
   "source": [
    "import matplotlib.pyplot as plt\n",
    "\n",
    "fig, ax = plt.subplots(nrows=1, ncols=2, figsize=(7,5), sharey=True)\n",
    "ax[0].hist(uni(10,15,100))\n",
    "ax[0].set_xlim([10,15])\n",
    "ax[0].set_ylim([0,120])\n",
    "\n",
    "ax[1].hist(uni(10,60,1000))\n",
    "ax[1].set_xlim([10,60])\n",
    "plt.show()"
   ]
  },
  {
   "cell_type": "markdown",
   "metadata": {},
   "source": [
    "How are the two distributions different?"
   ]
  },
  {
   "cell_type": "code",
   "execution_count": null,
   "metadata": {},
   "outputs": [],
   "source": [
    "# your answer here:\n",
    "#the second graph have more numbers and bigger ones"
   ]
  },
  {
   "cell_type": "markdown",
   "metadata": {},
   "source": [
    "## Normal Distribution\n",
    "\n",
    "1. In the same way in the Uniform Distribution challenge, write a function that generates normally distributed random numbers.\n",
    "1. Generate 1,000 normally distributed numbers with the average of 10 and standard deviation of 1\n",
    "1. Generate 1,000 normally distributed numbers with the average of 10 and standard deviation of 50\n",
    "2. Plot the distributions of the data generated.\n",
    "\n",
    "Expected output:\n",
    "\n",
    "![normal distribution](nd.png)"
   ]
  },
  {
   "cell_type": "code",
   "execution_count": 11,
   "metadata": {},
   "outputs": [],
   "source": [
    "# your code here\n",
    "import numpy as np\n",
    "def norm(av,stdev):\n",
    "    x = np.random.randn(1000)\n",
    "    a = av\n",
    "    b = stdev\n",
    "    randoms  = a + b*x\n",
    "    return (randoms)"
   ]
  },
  {
   "cell_type": "code",
   "execution_count": 26,
   "metadata": {
    "scrolled": false
   },
   "outputs": [],
   "source": [
    "#Generate 1,000 normally distributed numbers with the average of 10 and standard deviation of 1\n",
    "#print(norm(10,1))\n",
    "#Generate 1,000 normally distributed numbers with the average of 10 and standard deviation of 50\n",
    "#print(norm(10,50))"
   ]
  },
  {
   "cell_type": "code",
   "execution_count": 17,
   "metadata": {},
   "outputs": [
    {
     "data": {
      "image/png": "[encoded data removed]",
      "text/plain": [
       "<Figure size 504x360 with 2 Axes>"
      ]
     },
     "metadata": {
      "needs_background": "light"
     },
     "output_type": "display_data"
    }
   ],
   "source": [
    "fig, ax = plt.subplots(nrows=1, ncols=2, figsize=(7,5), sharey=True)\n",
    "ax[0].hist(norm(10,1))\n",
    "ax[0].set_xlim([1,15])\n",
    "ax[0].set_ylim([0,100])\n",
    "\n",
    "ax[1].hist(norm(10,50))\n",
    "ax[1].set_xlim([-200,200])\n",
    "plt.show()"
   ]
  },
  {
   "cell_type": "markdown",
   "metadata": {},
   "source": [
    "How are the two distributions different?"
   ]
  },
  {
   "cell_type": "code",
   "execution_count": null,
   "metadata": {},
   "outputs": [],
   "source": [
    "# your answer here:\n",
    "#the second one has more values"
   ]
  },
  {
   "cell_type": "markdown",
   "metadata": {},
   "source": [
    "## Normal Distribution of Real Data\n",
    "\n",
    "In this challenge we are going to take a look the real data. We will use vehicles.csv file for this exercise"
   ]
  },
  {
   "cell_type": "code",
   "execution_count": 20,
   "metadata": {},
   "outputs": [
    {
     "data": {
      "text/html": [
       "<div>\n",
       "<style scoped>\n",
       "    .dataframe tbody tr th:only-of-type {\n",
       "        vertical-align: middle;\n",
       "    }\n",
       "\n",
       "    .dataframe tbody tr th {\n",
       "        vertical-align: top;\n",
       "    }\n",
       "\n",
       "    .dataframe thead th {\n",
       "        text-align: right;\n",
       "    }\n",
       "</style>\n",
       "<table border=\"1\" class=\"dataframe\">\n",
       "  <thead>\n",
       "    <tr style=\"text-align: right;\">\n",
       "      <th></th>\n",
       "      <th>Make</th>\n",
       "      <th>Model</th>\n",
       "      <th>Year</th>\n",
       "      <th>Engine Displacement</th>\n",
       "      <th>Cylinders</th>\n",
       "      <th>Transmission</th>\n",
       "      <th>Drivetrain</th>\n",
       "      <th>Vehicle Class</th>\n",
       "      <th>Fuel Type</th>\n",
       "      <th>Fuel Barrels/Year</th>\n",
       "      <th>City MPG</th>\n",
       "      <th>Highway MPG</th>\n",
       "      <th>Combined MPG</th>\n",
       "      <th>CO2 Emission Grams/Mile</th>\n",
       "      <th>Fuel Cost/Year</th>\n",
       "    </tr>\n",
       "  </thead>\n",
       "  <tbody>\n",
       "    <tr>\n",
       "      <th>0</th>\n",
       "      <td>AM General</td>\n",
       "      <td>DJ Po Vehicle 2WD</td>\n",
       "      <td>1984</td>\n",
       "      <td>2.5</td>\n",
       "      <td>4.0</td>\n",
       "      <td>Automatic 3-spd</td>\n",
       "      <td>2-Wheel Drive</td>\n",
       "      <td>Special Purpose Vehicle 2WD</td>\n",
       "      <td>Regular</td>\n",
       "      <td>19.388824</td>\n",
       "      <td>18</td>\n",
       "      <td>17</td>\n",
       "      <td>17</td>\n",
       "      <td>522.764706</td>\n",
       "      <td>1950</td>\n",
       "    </tr>\n",
       "    <tr>\n",
       "      <th>1</th>\n",
       "      <td>AM General</td>\n",
       "      <td>FJ8c Post Office</td>\n",
       "      <td>1984</td>\n",
       "      <td>4.2</td>\n",
       "      <td>6.0</td>\n",
       "      <td>Automatic 3-spd</td>\n",
       "      <td>2-Wheel Drive</td>\n",
       "      <td>Special Purpose Vehicle 2WD</td>\n",
       "      <td>Regular</td>\n",
       "      <td>25.354615</td>\n",
       "      <td>13</td>\n",
       "      <td>13</td>\n",
       "      <td>13</td>\n",
       "      <td>683.615385</td>\n",
       "      <td>2550</td>\n",
       "    </tr>\n",
       "    <tr>\n",
       "      <th>2</th>\n",
       "      <td>AM General</td>\n",
       "      <td>Post Office DJ5 2WD</td>\n",
       "      <td>1985</td>\n",
       "      <td>2.5</td>\n",
       "      <td>4.0</td>\n",
       "      <td>Automatic 3-spd</td>\n",
       "      <td>Rear-Wheel Drive</td>\n",
       "      <td>Special Purpose Vehicle 2WD</td>\n",
       "      <td>Regular</td>\n",
       "      <td>20.600625</td>\n",
       "      <td>16</td>\n",
       "      <td>17</td>\n",
       "      <td>16</td>\n",
       "      <td>555.437500</td>\n",
       "      <td>2100</td>\n",
       "    </tr>\n",
       "    <tr>\n",
       "      <th>3</th>\n",
       "      <td>AM General</td>\n",
       "      <td>Post Office DJ8 2WD</td>\n",
       "      <td>1985</td>\n",
       "      <td>4.2</td>\n",
       "      <td>6.0</td>\n",
       "      <td>Automatic 3-spd</td>\n",
       "      <td>Rear-Wheel Drive</td>\n",
       "      <td>Special Purpose Vehicle 2WD</td>\n",
       "      <td>Regular</td>\n",
       "      <td>25.354615</td>\n",
       "      <td>13</td>\n",
       "      <td>13</td>\n",
       "      <td>13</td>\n",
       "      <td>683.615385</td>\n",
       "      <td>2550</td>\n",
       "    </tr>\n",
       "    <tr>\n",
       "      <th>4</th>\n",
       "      <td>ASC Incorporated</td>\n",
       "      <td>GNX</td>\n",
       "      <td>1987</td>\n",
       "      <td>3.8</td>\n",
       "      <td>6.0</td>\n",
       "      <td>Automatic 4-spd</td>\n",
       "      <td>Rear-Wheel Drive</td>\n",
       "      <td>Midsize Cars</td>\n",
       "      <td>Premium</td>\n",
       "      <td>20.600625</td>\n",
       "      <td>14</td>\n",
       "      <td>21</td>\n",
       "      <td>16</td>\n",
       "      <td>555.437500</td>\n",
       "      <td>2550</td>\n",
       "    </tr>\n",
       "  </tbody>\n",
       "</table>\n",
       "</div>"
      ],
      "text/plain": [
       "               Make                Model  Year  Engine Displacement  \\\n",
       "0        AM General    DJ Po Vehicle 2WD  1984                  2.5   \n",
       "1        AM General     FJ8c Post Office  1984                  4.2   \n",
       "2        AM General  Post Office DJ5 2WD  1985                  2.5   \n",
       "3        AM General  Post Office DJ8 2WD  1985                  4.2   \n",
       "4  ASC Incorporated                  GNX  1987                  3.8   \n",
       "\n",
       "   Cylinders     Transmission        Drivetrain                Vehicle Class  \\\n",
       "0        4.0  Automatic 3-spd     2-Wheel Drive  Special Purpose Vehicle 2WD   \n",
       "1        6.0  Automatic 3-spd     2-Wheel Drive  Special Purpose Vehicle 2WD   \n",
       "2        4.0  Automatic 3-spd  Rear-Wheel Drive  Special Purpose Vehicle 2WD   \n",
       "3        6.0  Automatic 3-spd  Rear-Wheel Drive  Special Purpose Vehicle 2WD   \n",
       "4        6.0  Automatic 4-spd  Rear-Wheel Drive                 Midsize Cars   \n",
       "\n",
       "  Fuel Type  Fuel Barrels/Year  City MPG  Highway MPG  Combined MPG  \\\n",
       "0   Regular          19.388824        18           17            17   \n",
       "1   Regular          25.354615        13           13            13   \n",
       "2   Regular          20.600625        16           17            16   \n",
       "3   Regular          25.354615        13           13            13   \n",
       "4   Premium          20.600625        14           21            16   \n",
       "\n",
       "   CO2 Emission Grams/Mile  Fuel Cost/Year  \n",
       "0               522.764706            1950  \n",
       "1               683.615385            2550  \n",
       "2               555.437500            2100  \n",
       "3               683.615385            2550  \n",
       "4               555.437500            2550  "
      ]
     },
     "execution_count": 20,
     "metadata": {},
     "output_type": "execute_result"
    }
   ],
   "source": [
    "import pandas as pd\n",
    "vehicles=pd.read_csv(\"vehicles.csv\")\n",
    "vehicles.head()"
   ]
  },
  {
   "cell_type": "markdown",
   "metadata": {},
   "source": [
    "First import vehicles.csv.\n",
    "Then plot the histograms for the following variables:\n",
    "\n",
    "1. Fuel Barrels/Year"
   ]
  },
  {
   "cell_type": "code",
   "execution_count": 22,
   "metadata": {},
   "outputs": [
    {
     "data": {
      "text/plain": [
       "(array([8.1000e+01, 3.7400e+02, 6.7650e+03, 1.7039e+04, 8.9660e+03,\n",
       "        2.0960e+03, 5.6900e+02, 3.6000e+01, 2.1000e+01, 5.0000e+00]),\n",
       " array([ 0.06      ,  4.76271429,  9.46542857, 14.16814286, 18.87085714,\n",
       "        23.57357143, 28.27628571, 32.979     , 37.68171429, 42.38442857,\n",
       "        47.08714286]),\n",
       " <BarContainer object of 10 artists>)"
      ]
     },
     "execution_count": 22,
     "metadata": {},
     "output_type": "execute_result"
    },
    {
     "data": {
      "image/png": "[encoded data removed]",
      "text/plain": [
       "<Figure size 432x288 with 1 Axes>"
      ]
     },
     "metadata": {
      "needs_background": "light"
     },
     "output_type": "display_data"
    }
   ],
   "source": [
    "# your code here\n",
    "plt.hist(vehicles['Fuel Barrels/Year'])"
   ]
  },
  {
   "cell_type": "markdown",
   "metadata": {},
   "source": [
    "2. CO2 Emission Grams/Mile "
   ]
  },
  {
   "cell_type": "code",
   "execution_count": 23,
   "metadata": {},
   "outputs": [
    {
     "data": {
      "text/plain": [
       "(array([3.4000e+01, 8.3200e+02, 1.0205e+04, 1.5411e+04, 6.8250e+03,\n",
       "        2.0100e+03, 5.7300e+02, 3.6000e+01, 2.1000e+01, 5.0000e+00]),\n",
       " array([  37.        ,  160.25714286,  283.51428571,  406.77142857,\n",
       "         530.02857143,  653.28571429,  776.54285714,  899.8       ,\n",
       "        1023.05714286, 1146.31428571, 1269.57142857]),\n",
       " <BarContainer object of 10 artists>)"
      ]
     },
     "execution_count": 23,
     "metadata": {},
     "output_type": "execute_result"
    },
    {
     "data": {
      "image/png": "[encoded data removed]",
      "text/plain": [
       "<Figure size 432x288 with 1 Axes>"
      ]
     },
     "metadata": {
      "needs_background": "light"
     },
     "output_type": "display_data"
    }
   ],
   "source": [
    "# your code here\n",
    "plt.hist(vehicles['CO2 Emission Grams/Mile'])"
   ]
  },
  {
   "cell_type": "markdown",
   "metadata": {},
   "source": [
    "3. Combined MPG"
   ]
  },
  {
   "cell_type": "code",
   "execution_count": 24,
   "metadata": {},
   "outputs": [
    {
     "data": {
      "text/plain": [
       "(array([6.3800e+02, 8.4990e+03, 1.5512e+04, 7.9320e+03, 2.4160e+03,\n",
       "        6.3600e+02, 2.1000e+02, 6.5000e+01, 3.3000e+01, 1.1000e+01]),\n",
       " array([ 7. , 11.9, 16.8, 21.7, 26.6, 31.5, 36.4, 41.3, 46.2, 51.1, 56. ]),\n",
       " <BarContainer object of 10 artists>)"
      ]
     },
     "execution_count": 24,
     "metadata": {},
     "output_type": "execute_result"
    },
    {
     "data": {
      "image/png": "[encoded data removed]",
      "text/plain": [
       "<Figure size 432x288 with 1 Axes>"
      ]
     },
     "metadata": {
      "needs_background": "light"
     },
     "output_type": "display_data"
    }
   ],
   "source": [
    "# your code here\n",
    "plt.hist(vehicles['Combined MPG'])"
   ]
  },
  {
   "cell_type": "markdown",
   "metadata": {},
   "source": [
    "Which one(s) of the variables are nearly normally distributed? How do you know?"
   ]
  },
  {
   "cell_type": "code",
   "execution_count": null,
   "metadata": {},
   "outputs": [],
   "source": [
    "# you answer here:\n",
    "#Combined MPG"
   ]
  },
  {
   "cell_type": "markdown",
   "metadata": {},
   "source": [
    "## Exponential Distribution"
   ]
  },
  {
   "cell_type": "markdown",
   "metadata": {},
   "source": [
    "1. Using `numpy.random.exponential`, create a function that returns a list of numbers exponentially distributed with the mean of 10. \n",
    "\n",
    "1. Use the function to generate two number sequences with a mean of 1 and 100 and a size of 1000.\n",
    "\n",
    "1. Plot the distributions as histograms with the number of bins as 100.\n",
    "\n",
    "Your output should look like below:\n",
    "\n",
    "![exponential distribution](ed.png)"
   ]
  },
  {
   "cell_type": "code",
   "execution_count": 25,
   "metadata": {},
   "outputs": [],
   "source": [
    "# your code here\n",
    "def exp(avg, n):\n",
    "    return np.random.exponential(scale=avg,size=n)"
   ]
  },
  {
   "cell_type": "code",
   "execution_count": 27,
   "metadata": {},
   "outputs": [
    {
     "name": "stdout",
     "output_type": "stream",
     "text": [
      "[1.19532628e+00 1.22278742e+00 1.20562005e+00 1.02698320e+00\n",
      " 7.52875436e-01 2.72848450e-01 3.16342346e-01 2.92162744e-01\n",
      " 3.18328941e-01 2.12462970e+00 3.29323644e-01 5.38537990e-01\n",
      " 3.81443698e-01 1.86585674e+00 5.24074511e-01 1.57602822e+00\n",
      " 3.50787994e-01 1.17809408e-01 1.46901729e+00 2.22687140e+00\n",
      " 9.56507953e-01 3.49425943e-01 8.99202520e-01 5.60064631e-01\n",
      " 5.69802828e-03 3.97458186e-01 2.92612381e+00 5.12970899e+00\n",
      " 1.55058045e+00 6.86742635e-01 1.94695557e-01 3.87846758e-01\n",
      " 2.36255211e-01 6.83382033e-01 9.30919097e-01 6.92409714e-01\n",
      " 3.18063278e+00 9.83698503e-01 4.83217215e-01 9.45603084e-03\n",
      " 1.56367923e-01 1.29676709e+00 9.19318763e-02 1.43209646e+00\n",
      " 2.67515278e-01 2.58313406e+00 1.32536756e+00 2.26658544e+00\n",
      " 2.74633892e-01 4.05554457e+00 1.56744462e-01 1.64131738e+00\n",
      " 6.02695674e-01 1.39022771e-01 7.20604963e-02 1.02746050e-01\n",
      " 1.08736064e+00 2.13317079e+00 5.49771045e-02 1.47190325e+00\n",
      " 1.77176827e+00 5.74633589e+00 2.29038018e-03 3.96790685e-01\n",
      " 5.98142214e-01 3.74516741e-01 1.03140389e+00 4.36643696e-01\n",
      " 3.06324794e+00 1.46144197e+00 1.03044173e+00 8.48290120e-01\n",
      " 1.67212600e-01 8.00987001e+00 2.24413329e+00 6.16258487e-01\n",
      " 8.56928022e-01 7.40879429e-01 9.38758355e-01 5.99355651e-01\n",
      " 2.11710719e-01 1.15220119e-01 4.68077970e-01 4.12042929e+00\n",
      " 2.45300431e+00 3.95140670e-01 7.01738328e+00 5.82958865e-01\n",
      " 3.85199651e-01 1.09863162e+00 5.31486477e-01 6.89939994e-01\n",
      " 1.36706784e+00 1.37111384e+00 2.20388354e+00 8.10014212e-01\n",
      " 3.09785227e+00 1.11307143e+00 7.24084734e-01 1.11142384e-01]\n"
     ]
    }
   ],
   "source": [
    "print(exp(1,100))"
   ]
  },
  {
   "cell_type": "markdown",
   "metadata": {},
   "source": [
    "How are the two distributions different?"
   ]
  },
  {
   "cell_type": "code",
   "execution_count": 32,
   "metadata": {},
   "outputs": [
    {
     "data": {
      "image/png": "[encoded data removed]",
      "text/plain": [
       "<Figure size 504x360 with 2 Axes>"
      ]
     },
     "metadata": {
      "needs_background": "light"
     },
     "output_type": "display_data"
    }
   ],
   "source": [
    "# your answer here:\n",
    "fig, ax = plt.subplots(nrows=1, ncols=2, figsize=(7,5), sharey=True)\n",
    "ax[0].hist(exp(100,1000), bins=100)\n",
    "ax[1].hist(exp(1,1000), bins=100)\n",
    "plt.show()"
   ]
  },
  {
   "cell_type": "markdown",
   "metadata": {},
   "source": [
    "## Exponential Distribution of Real Data\n",
    "\n",
    "Suppose that the amount of time one spends in a bank is exponentially distributed with mean as 10 minutes (i.e. λ = 1/10). What is the probability that a customer will spend less than fifteen minutes in the bank? \n",
    "\n",
    "Write a code in python to solve this problem"
   ]
  },
  {
   "cell_type": "code",
   "execution_count": 36,
   "metadata": {},
   "outputs": [
    {
     "data": {
      "text/plain": [
       "0.7768698398515702"
      ]
     },
     "execution_count": 36,
     "metadata": {},
     "output_type": "execute_result"
    }
   ],
   "source": [
    "# your answer here\n",
    "# Hint: This is same as saying P(x<15)\n",
    "from scipy.stats import expon \n",
    "expon.cdf(15, scale=10)"
   ]
  },
  {
   "cell_type": "markdown",
   "metadata": {},
   "source": [
    "What is the probability that the customer will spend more than 15 minutes"
   ]
  },
  {
   "cell_type": "code",
   "execution_count": 38,
   "metadata": {},
   "outputs": [
    {
     "data": {
      "text/plain": [
       "0.2231301601484298"
      ]
     },
     "execution_count": 38,
     "metadata": {},
     "output_type": "execute_result"
    }
   ],
   "source": [
    "# your answer here\n",
    "1-expon.cdf(15, scale=10)"
   ]
  },
  {
   "cell_type": "code",
   "execution_count": null,
   "metadata": {},
   "outputs": [],
   "source": []
  }
 ],
 "metadata": {
  "kernelspec": {
   "display_name": "Python 3 (ipykernel)",
   "language": "python",
   "name": "python3"
  },
  "language_info": {
   "codemirror_mode": {
    "name": "ipython",
    "version": 3
   },
   "file_extension": ".py",
   "mimetype": "text/x-python",
   "name": "python",
   "nbconvert_exporter": "python",
   "pygments_lexer": "ipython3",
   "version": "3.10.2"
  }
 },
 "nbformat": 4,
 "nbformat_minor": 2
}
