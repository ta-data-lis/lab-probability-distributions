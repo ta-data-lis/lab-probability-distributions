{
 "cells": [
  {
   "cell_type": "markdown",
   "metadata": {},
   "source": [
    "# Before your start:\n",
    "\n",
    "    Read the README.md file\n",
    "    Comment as much as you can and use the resources (README.md file)\n",
    "    Happy learning!"
   ]
  },
  {
   "cell_type": "markdown",
   "metadata": {},
   "source": [
    "In this exercise, we  will generate random numbers from the continuous disributions we learned in the lesson. There are two ways to generate random numbers:\n",
    "\n",
    "1. Using the numpy library \n",
    "1. using the Scipy library \n",
    "\n",
    "Use either or both of the lbraries in this exercise."
   ]
  },
  {
   "cell_type": "markdown",
   "metadata": {},
   "source": [
    "## Uniform Distribution\n",
    "\n",
    "To generate uniform random numbers between any two given values using scipy, we can either use the following code or the code that we have\n",
    "discussed in class:"
   ]
  },
  {
   "cell_type": "code",
   "execution_count": 82,
   "metadata": {},
   "outputs": [],
   "source": [
    "from scipy import stats\n",
    "import matplotlib.pyplot as plt\n",
    "import pandas as pd\n",
    "import numpy as np\n",
    "import math"
   ]
  },
  {
   "cell_type": "code",
   "execution_count": 81,
   "metadata": {},
   "outputs": [
    {
     "name": "stdout",
     "output_type": "stream",
     "text": [
      "[2.60740867 2.83194387 2.35140603 2.44451613 2.46783971 2.1701162\n",
      " 2.90044762 2.46276761 2.71144289 2.14993777]\n"
     ]
    }
   ],
   "source": [
    "x = stats.uniform.rvs(size=10)\n",
    "a = 2\n",
    "b = 3\n",
    "randoms  = a + (b-a)*x\n",
    "print(randoms)"
   ]
  },
  {
   "cell_type": "markdown",
   "metadata": {},
   "source": [
    "**Your task:**\n",
    "\n",
    "1. Based on the code above, write a function that generates uniformly distributed random numbers. There are several requirements for your function:\n",
    "    * It should accept 3 parameters: \n",
    "        * `bottom` - the lower boundary of the generated numbers\n",
    "        * `ceiling` - the upper boundary of the generated numbers\n",
    "        * `count` - how many numbers to generate\n",
    "    * It should return an array of uniformly distributed random numbers\n",
    "\n",
    "1. Call your function with 2 sets of params below:\n",
    "    * bottom=10, ceiling=15, count=100\n",
    "    * bottom=10, ceiling=60, count=1,000\n",
    "\n",
    "1. Plot the uniform distributions generated above using histograms, where x axis is the value and y axis is the count. Let the histogram's number of bins be 10.\n",
    "\n",
    "Your output should look like below:\n",
    "\n",
    "![uniform distribution](ud.png)"
   ]
  },
  {
   "cell_type": "code",
   "execution_count": 89,
   "metadata": {},
   "outputs": [
    {
     "name": "stdout",
     "output_type": "stream",
     "text": [
      "[0.35950132 0.09934987 0.24785457 0.17601082 0.81983496 0.98012653\n",
      " 0.1158216  0.24117398 0.34460923 0.84951241 0.10762349 0.86127666\n",
      " 0.56815171 0.52211042 0.04159816 0.23040347 0.35420256 0.30193886\n",
      " 0.3687853  0.17572487 0.78787217 0.41156368 0.60978036 0.70514846\n",
      " 0.37649695 0.38748978 0.23362618 0.84663943 0.50922556 0.34858936\n",
      " 0.68984458 0.58607843 0.82564318 0.52022175 0.97161493 0.2437404\n",
      " 0.18495998 0.27466826 0.99300172 0.522967   0.29242893 0.99883152\n",
      " 0.50120277 0.07730137 0.65072782 0.37478789 0.48334963 0.18413729\n",
      " 0.09481947 0.99164259 0.01848695 0.81416947 0.656018   0.52147683\n",
      " 0.56304224 0.09074139 0.78384354 0.27272445 0.70371203 0.13059761\n",
      " 0.26605326 0.94082415 0.09637062 0.49116197 0.60713934 0.80610219\n",
      " 0.00870736 0.04208886 0.90366593 0.97025011 0.32287332 0.31725592\n",
      " 0.51864162 0.71712337 0.35668149 0.86774737 0.03929347 0.93584517\n",
      " 0.42391618 0.0450227  0.29968985 0.25412993 0.63413749 0.48176224\n",
      " 0.3042938  0.74705154 0.31800893 0.35165574 0.29064784 0.6587678\n",
      " 0.01225661 0.33136823 0.84637131 0.75626987 0.10059077 0.42494838\n",
      " 0.58539256 0.2429257  0.81791035 0.65167301]\n",
      "[8.38228245e-01 9.70712596e-01 2.25237249e-01 1.16682615e-01\n",
      " 3.57954397e-01 4.10328470e-01 1.65154041e-01 5.69352905e-02\n",
      " 9.25369177e-01 6.77304459e-01 6.10717916e-01 6.24850371e-01\n",
      " 7.25630515e-01 5.49697950e-01 9.82589773e-01 8.25307466e-01\n",
      " 3.02266834e-01 3.83152154e-01 1.33894258e-01 8.14604936e-01\n",
      " 2.08129285e-01 7.14439183e-01 9.24768452e-02 1.00188366e-01\n",
      " 5.02130064e-01 7.81303655e-01 1.71457735e-01 2.64065622e-01\n",
      " 5.83958397e-01 4.46955792e-01 9.48568772e-01 8.09657327e-01\n",
      " 3.93881789e-02 4.97764093e-01 1.90730398e-01 1.77580161e-02\n",
      " 2.58498119e-01 5.78437984e-01 7.84143554e-01 4.80260865e-01\n",
      " 8.00347928e-01 8.35022782e-01 8.36416081e-01 8.96570092e-01\n",
      " 3.17375445e-01 8.61964066e-01 3.49648989e-01 1.50962546e-01\n",
      " 9.63783185e-01 6.28577497e-01 5.87581834e-01 8.52311915e-01\n",
      " 8.89655432e-01 9.61607950e-01 3.72379872e-01 4.97851706e-01\n",
      " 5.96805230e-01 9.27550793e-01 6.59443620e-01 7.27224236e-01\n",
      " 5.42718849e-01 6.26069522e-02 4.93895748e-01 2.79329898e-01\n",
      " 3.00754530e-01 9.85818847e-02 9.05416887e-01 2.35186127e-02\n",
      " 5.94117343e-02 8.25960801e-02 4.30608127e-02 6.16405991e-01\n",
      " 3.44421156e-01 6.36960558e-01 4.58326244e-01 8.90391286e-01\n",
      " 2.93629262e-01 5.67281183e-01 4.46401903e-01 3.47106877e-01\n",
      " 9.64641512e-01 1.24381655e-01 7.34643435e-01 1.00650257e-01\n",
      " 1.30432324e-01 5.32020318e-01 2.03674798e-01 1.39013811e-01\n",
      " 7.29274522e-01 1.69892874e-01 8.53096855e-01 9.25016567e-01\n",
      " 1.54072082e-01 4.55560774e-01 7.77079388e-01 5.67225763e-01\n",
      " 1.44323854e-01 6.01204319e-01 5.75289269e-01 1.24202641e-01\n",
      " 4.80172255e-01 9.91276461e-01 1.94297174e-01 2.38484350e-02\n",
      " 9.24917768e-01 5.83041183e-01 9.21095059e-01 6.50068923e-01\n",
      " 4.13990823e-01 2.31230771e-02 4.58184254e-01 8.78005279e-01\n",
      " 9.01428805e-01 8.19281624e-01 2.66736082e-01 9.19580534e-01\n",
      " 3.98307330e-02 6.39822684e-01 9.63613415e-01 2.99021155e-01\n",
      " 8.05466290e-01 5.72545625e-01 4.69015490e-01 5.80100384e-01\n",
      " 9.61774396e-01 1.89088612e-01 7.50555630e-01 6.37888733e-01\n",
      " 3.32164223e-01 5.89549696e-01 4.97739665e-01 6.24196932e-01\n",
      " 1.98249357e-02 4.78729323e-01 4.44011700e-01 2.85001851e-01\n",
      " 6.49464545e-01 9.10567709e-03 3.11937414e-01 1.28435391e-01\n",
      " 3.13946843e-01 6.04382796e-01 6.06285411e-01 6.22067883e-01\n",
      " 2.45124661e-01 1.15215314e-02 3.09313376e-01 3.16356290e-01\n",
      " 6.01231865e-01 3.45636851e-01 1.15973546e-01 4.67231756e-01\n",
      " 3.73813638e-01 6.54236047e-01 5.35695734e-01 7.24735909e-01\n",
      " 7.38411848e-01 5.78859721e-01 3.89247010e-02 2.85042623e-02\n",
      " 1.39566021e-01 2.82624034e-01 1.15789312e-02 4.17287527e-01\n",
      " 8.82615543e-03 1.43675519e-01 5.29795535e-01 9.36143518e-01\n",
      " 6.93200929e-01 3.69103087e-01 5.46657016e-01 7.84557530e-01\n",
      " 1.03914419e-01 6.34196025e-01 3.87991760e-01 2.55202646e-01\n",
      " 2.19692821e-01 2.45808368e-01 4.97743320e-01 5.59881776e-01\n",
      " 9.79718236e-01 4.16658117e-01 3.36239158e-01 8.39780049e-01\n",
      " 6.31066844e-01 1.05476475e-01 7.71060767e-01 8.21963129e-01\n",
      " 9.72040124e-01 4.22972884e-01 7.44217767e-01 6.43915594e-01\n",
      " 6.51266238e-01 5.37422978e-01 1.87182770e-01 5.58651582e-01\n",
      " 1.74000660e-02 5.28207147e-02 2.77049300e-01 9.53393086e-01\n",
      " 5.00645317e-01 8.52109744e-01 6.91006820e-01 7.92621121e-01\n",
      " 7.04095125e-01 7.33911289e-01 7.06099363e-01 1.44360156e-01\n",
      " 2.51367539e-01 7.26121882e-01 5.91057463e-01 3.55232339e-01\n",
      " 9.46748407e-01 2.10947472e-01 4.97703345e-01 9.56353376e-01\n",
      " 2.79626163e-01 6.80302405e-01 4.11911619e-01 8.28238404e-01\n",
      " 1.94203051e-01 7.26865056e-01 4.70701338e-01 2.82865075e-01\n",
      " 1.45474165e-01 8.76156237e-01 2.01024034e-01 2.26214903e-01\n",
      " 4.26771602e-01 4.06870455e-01 3.72001131e-01 5.07915526e-01\n",
      " 5.64917995e-01 4.84166173e-01 1.97193318e-01 2.41319422e-02\n",
      " 6.27398906e-01 5.07980271e-01 5.21699856e-01 3.92332402e-01\n",
      " 3.44617833e-01 8.14176174e-01 2.33346759e-01 6.60284519e-01\n",
      " 3.52967687e-01 5.87187064e-01 4.40513585e-01 3.09505345e-01\n",
      " 3.36996142e-01 6.34639952e-01 3.85514067e-01 6.97999465e-01\n",
      " 5.20734340e-01 3.93340370e-01 1.84881416e-01 8.51088660e-01\n",
      " 1.95452605e-01 9.06815083e-01 5.91386709e-01 1.06545698e-01\n",
      " 3.77138509e-01 3.25612058e-01 1.27261496e-01 8.33245316e-01\n",
      " 4.46013481e-01 4.00365701e-01 4.18952625e-01 1.64390007e-01\n",
      " 7.58877580e-01 8.19860714e-02 4.71037220e-01 6.84765580e-01\n",
      " 3.60459238e-01 7.89926506e-01 7.07892098e-01 2.42744924e-01\n",
      " 5.43332951e-01 6.63288341e-01 8.02958322e-01 6.23565770e-01\n",
      " 8.42169759e-01 4.81929361e-01 6.71006332e-01 7.93347045e-02\n",
      " 2.45599537e-01 5.69847586e-01 3.74117968e-01 6.19868412e-01\n",
      " 6.00200883e-01 7.65020550e-01 2.96812716e-01 8.95173444e-01\n",
      " 4.10858567e-01 5.05808877e-01 5.73128793e-01 6.18083523e-01\n",
      " 4.61049160e-01 9.69648117e-01 5.90051112e-01 7.80973905e-01\n",
      " 8.26249344e-01 1.77280368e-02 1.66678131e-01 2.87393332e-01\n",
      " 8.39813551e-01 3.72106960e-01 4.41062145e-01 5.13994950e-01\n",
      " 6.76135027e-01 9.98864096e-01 8.80865584e-01 6.38269565e-01\n",
      " 7.11857172e-01 5.90208207e-01 3.48520798e-01 1.46572581e-01\n",
      " 5.44158715e-01 4.65635973e-02 2.64768297e-01 8.42004026e-01\n",
      " 7.60698722e-01 4.09341060e-01 2.05337685e-01 3.58196545e-01\n",
      " 3.62165184e-01 5.01841297e-01 8.83246764e-01 5.10028376e-01\n",
      " 2.57150747e-01 2.08133548e-01 7.19772529e-01 2.89170141e-02\n",
      " 2.32000280e-02 3.89098248e-01 9.15721602e-01 9.46248169e-01\n",
      " 2.44156038e-01 3.19031750e-01 6.45365121e-01 5.53259671e-02\n",
      " 7.19667307e-01 6.82415419e-01 7.91978992e-01 3.33760148e-02\n",
      " 5.21745961e-02 5.49516776e-01 7.21251672e-01 7.24567399e-01\n",
      " 7.29370639e-01 5.46214988e-01 4.04409127e-02 7.36936017e-01\n",
      " 4.65529436e-01 5.27825784e-01 6.91719549e-01 3.92031880e-02\n",
      " 3.49300374e-01 2.21911256e-01 3.49936232e-01 5.62293634e-01\n",
      " 8.20983413e-01 8.31105911e-01 6.86787544e-01 8.72576904e-01\n",
      " 6.82409196e-01 9.01386930e-01 8.27442885e-01 1.82596713e-01\n",
      " 7.75072718e-01 8.54810535e-01 1.83379179e-01 9.49049091e-01\n",
      " 8.76631978e-01 8.34383876e-01 5.84362486e-01 2.64538867e-01\n",
      " 1.42273574e-02 9.39684315e-01 6.70678104e-01 6.93158889e-01\n",
      " 7.57339034e-01 9.39800270e-01 9.06454712e-01 1.75071889e-01\n",
      " 8.01075314e-01 2.92342570e-01 5.60415300e-02 3.36066264e-01\n",
      " 9.05092776e-01 8.70590513e-03 1.07913246e-01 1.13171316e-02\n",
      " 4.55726114e-01 2.08149931e-01 7.69124980e-02 6.81037213e-01\n",
      " 5.03716685e-01 2.10512696e-01 1.05632228e-01 3.81469220e-01\n",
      " 2.21323028e-01 5.31803569e-01 2.30914254e-01 9.13985298e-01\n",
      " 3.91919487e-01 2.51188249e-01 7.64864395e-02 8.46323288e-01\n",
      " 8.29220752e-01 3.71045571e-01 6.45751068e-01 2.56529288e-01\n",
      " 9.50599776e-01 9.65781541e-02 6.61714225e-01 7.98772215e-01\n",
      " 6.34031579e-01 1.73828746e-01 5.27612797e-01 1.04624481e-01\n",
      " 6.23582898e-02 4.22304491e-01 7.48615281e-01 9.11975943e-01\n",
      " 8.17413047e-01 6.43552794e-01 3.28765605e-01 4.79081914e-01\n",
      " 6.73964325e-01 2.31160273e-01 8.71376275e-01 9.95207458e-01\n",
      " 4.63567804e-01 8.07201131e-01 5.31058243e-01 4.88277666e-01\n",
      " 7.86307729e-01 2.95846467e-02 1.63456731e-01 4.74746438e-01\n",
      " 5.61656490e-01 2.59880524e-01 2.94316673e-01 6.33683078e-01\n",
      " 4.85536393e-01 4.49564674e-01 2.18434997e-01 2.13382923e-01\n",
      " 8.42825027e-01 1.86654224e-01 6.11290126e-01 4.75984944e-01\n",
      " 6.21814761e-01 6.80529598e-01 7.46236692e-01 4.13155399e-01\n",
      " 1.11673743e-01 3.66895610e-01 7.52602229e-01 8.05844066e-01\n",
      " 8.53079408e-01 2.18616678e-01 1.51288675e-01 4.20088327e-01\n",
      " 7.56808258e-01 6.48751657e-01 9.98558482e-02 7.76508623e-01\n",
      " 3.50246734e-01 3.19055866e-02 1.96724283e-01 3.97142844e-01\n",
      " 5.05826439e-02 1.06814809e-01 4.98999029e-01 5.01980405e-01\n",
      " 8.83600620e-01 6.26343501e-01 4.28975942e-01 1.70178391e-01\n",
      " 8.91220349e-01 5.30730193e-01 7.48443467e-01 1.40967509e-01\n",
      " 5.63581090e-01 1.17526393e-01 3.17077563e-01 8.32340737e-01\n",
      " 6.78319777e-02 7.02997362e-01 7.64551596e-01 2.53227679e-01\n",
      " 2.06898297e-01 7.28578803e-01 6.14855387e-01 9.00547601e-01\n",
      " 9.76710117e-01 5.36506595e-01 1.58607388e-01 3.51622778e-02\n",
      " 9.39117712e-01 9.07446269e-01 6.01228511e-03 2.31054604e-02\n",
      " 6.09891013e-01 7.52192670e-01 1.59947383e-01 6.12247407e-01\n",
      " 1.55065362e-01 5.64950995e-01 4.34025922e-01 6.56888840e-01\n",
      " 4.37588071e-01 4.64427384e-01 9.44231677e-01 2.13456452e-01\n",
      " 2.36454653e-01 8.57736587e-01 5.95666234e-01 4.00299055e-01\n",
      " 4.12831926e-01 5.74761295e-01 2.29213035e-01 1.06922768e-01\n",
      " 7.35629642e-01 4.63141312e-01 3.82080816e-01 8.08096829e-01\n",
      " 1.19197820e-01 8.07645525e-01 1.93171012e-01 1.18812191e-01\n",
      " 7.23731039e-01 4.90206475e-01 7.55610056e-02 8.97623073e-01\n",
      " 3.28807388e-01 4.53133636e-01 3.85700080e-01 4.38765066e-01\n",
      " 8.55446084e-03 9.90223601e-02 2.33593432e-01 4.72379926e-01\n",
      " 7.14991198e-01 1.94061156e-01 8.00895142e-01 3.81034922e-01\n",
      " 4.49247940e-01 7.24741999e-02 6.78168204e-01 9.94110356e-01\n",
      " 9.02697104e-01 8.09410711e-01 1.28284551e-01 9.34754455e-01\n",
      " 2.18355836e-01 8.83292390e-03 6.09478931e-01 3.09971554e-01\n",
      " 8.63906070e-01 6.66323626e-02 3.78351263e-01 2.48079453e-01\n",
      " 6.30347872e-01 1.76932871e-01 2.57117878e-02 4.16098083e-01\n",
      " 1.67888561e-01 9.38328546e-01 8.93627406e-01 8.41221325e-02\n",
      " 8.55421424e-01 1.18273009e-01 5.58543335e-01 9.90752783e-01\n",
      " 1.79965199e-01 3.33616662e-01 6.69155063e-01 9.81715429e-01\n",
      " 8.42083061e-01 2.44422101e-01 2.29816512e-01 2.82233209e-01\n",
      " 5.63490615e-01 4.65935670e-01 7.61651978e-01 3.70880722e-02\n",
      " 7.57236327e-02 9.96076861e-01 5.54832221e-01 8.57400695e-02\n",
      " 7.36336631e-02 1.93592877e-03 9.72579183e-01 6.28564458e-01\n",
      " 8.76438286e-01 2.64228749e-01 1.40539232e-01 8.74506500e-01\n",
      " 7.19613567e-01 8.11983380e-01 4.55274890e-02 5.12769639e-01\n",
      " 1.15687480e-01 2.01043821e-01 7.71573978e-02 1.63076202e-01\n",
      " 1.34880112e-01 1.11023962e-02 3.00083938e-01 6.58011419e-01\n",
      " 9.24965669e-01 8.92595157e-01 2.61199905e-02 6.91401778e-02\n",
      " 5.30209940e-01 6.87406906e-02 2.37818108e-01 1.84476994e-01\n",
      " 3.38745536e-01 1.57274263e-01 4.48047886e-01 1.07595968e-01\n",
      " 7.18829445e-01 7.20089875e-01 4.22303104e-01 2.40353237e-01\n",
      " 3.50058162e-01 3.96394980e-02 9.00522989e-01 6.89199334e-01\n",
      " 8.01423463e-01 5.61739456e-01 7.30075310e-01 2.91055227e-01\n",
      " 9.38712718e-01 7.89672823e-01 1.59120879e-01 7.66256168e-03\n",
      " 6.84630872e-01 2.19175335e-01 6.70767479e-01 7.47667165e-01\n",
      " 5.00140123e-01 1.19177040e-01 3.56640378e-01 6.01061836e-01\n",
      " 7.91891135e-01 5.18106870e-01 5.65585985e-01 4.60641807e-01\n",
      " 1.69260444e-01 6.57029252e-02 7.07017283e-01 6.40024948e-01\n",
      " 5.86523774e-01 7.12885003e-01 6.79795652e-01 1.74619512e-01\n",
      " 3.84596725e-01 8.19802032e-01 5.60729493e-01 9.85578300e-01\n",
      " 7.39977593e-01 9.51898778e-01 9.37303637e-01 8.28027672e-01\n",
      " 4.53857783e-02 6.87516263e-01 3.22878802e-01 6.37262535e-01\n",
      " 9.89024442e-02 7.41651024e-01 6.04751246e-01 7.96599212e-01\n",
      " 2.31714630e-01 5.04128123e-01 5.72223788e-01 8.96749031e-01\n",
      " 4.96336788e-01 8.30299981e-01 8.34227736e-01 6.89501659e-01\n",
      " 9.00843142e-01 9.73269633e-01 1.63645826e-01 5.07792953e-01\n",
      " 6.03128040e-01 4.63505019e-01 3.97837166e-01 8.63411697e-01\n",
      " 5.72258006e-01 4.99469582e-01 5.97994436e-01 1.83739355e-02\n",
      " 6.64071871e-02 1.77709059e-02 3.39631373e-01 9.20724378e-01\n",
      " 4.14982607e-02 4.13717799e-01 8.38412417e-01 7.41597249e-01\n",
      " 7.77795744e-01 2.81172572e-01 1.21864455e-01 5.81035757e-01\n",
      " 2.29192027e-01 2.23282458e-01 2.50129690e-01 6.87762507e-01\n",
      " 7.19391679e-01 5.73325872e-01 9.77976564e-01 9.04943145e-01\n",
      " 8.39435619e-01 9.37976926e-01 8.86078579e-01 3.25708773e-02\n",
      " 9.73294744e-01 2.66573315e-02 1.09377103e-02 7.65252037e-01\n",
      " 1.70628165e-01 4.42369533e-01 9.85968993e-01 1.99615062e-01\n",
      " 3.13319297e-02 3.37257225e-01 4.83455979e-01 3.03682928e-01\n",
      " 8.56273185e-01 2.38481564e-02 5.86723556e-01 7.86354244e-03\n",
      " 8.95094043e-01 6.04299470e-01 7.13504590e-01 4.54209520e-01\n",
      " 7.53715957e-01 4.97896090e-01 1.33052105e-01 4.24531190e-01\n",
      " 8.99986291e-01 7.28123557e-01 7.46335493e-02 3.37080764e-01\n",
      " 4.62821069e-01 7.05667608e-02 4.67535976e-01 8.97581042e-01\n",
      " 1.67625893e-01 7.90774375e-03 7.51020977e-01 6.15937292e-01\n",
      " 4.76389620e-01 3.40894528e-01 1.23237985e-01 7.08513467e-02\n",
      " 3.40451623e-01 5.52967669e-01 7.04996443e-01 1.36418135e-01\n",
      " 4.21335459e-01 9.15106695e-01 8.26529576e-01 6.32980581e-01\n",
      " 2.50161867e-01 9.99659514e-01 9.83454965e-01 8.59138195e-01\n",
      " 7.40130040e-01 5.27610205e-01 2.36923076e-01 9.14399814e-01\n",
      " 1.20230895e-02 8.69021781e-01 7.46603102e-02 8.82859550e-01\n",
      " 5.46700785e-01 9.08741778e-01 2.27133211e-01 6.26326648e-01\n",
      " 7.54602850e-01 6.08996981e-01 2.05418777e-01 1.38530963e-01\n",
      " 7.91688161e-01 3.47668489e-01 5.32613693e-01 1.68261800e-01\n",
      " 4.00184749e-01 3.18328110e-01 9.85030304e-01 6.21860568e-01\n",
      " 2.15530831e-01 6.39969567e-01 6.38413607e-01 1.19707513e-01\n",
      " 6.89164856e-01 2.92672474e-01 2.78793982e-01 4.20483569e-01\n",
      " 7.80668017e-01 5.94301184e-01 9.26117717e-01 6.73132229e-01\n",
      " 3.83484886e-01 4.90715495e-01 6.83704795e-01 1.91206609e-01\n",
      " 9.29746541e-01 7.65626202e-01 8.05618114e-02 4.37901772e-01\n",
      " 8.33187774e-01 2.78348240e-01 1.93045601e-02 3.98386924e-01\n",
      " 2.17763019e-02 5.03583873e-01 7.36494293e-01 7.13775751e-01\n",
      " 2.64233673e-01 6.09863002e-02 2.43130156e-01 7.96439390e-01\n",
      " 3.71744246e-01 1.08796890e-02 5.53286457e-01 3.89172815e-01\n",
      " 1.55495142e-01 3.56783730e-01 5.05089442e-01 4.30268753e-01\n",
      " 4.96175862e-02 9.20986009e-01 8.53599688e-01 8.16298833e-01\n",
      " 5.09636365e-02 4.63673431e-01 2.61976686e-01 9.56765766e-01\n",
      " 6.02347815e-01 8.66138063e-01 2.31792545e-01 1.74132051e-01\n",
      " 4.28521017e-01 4.97878718e-03 3.02191841e-01 8.67928122e-01\n",
      " 2.95971257e-01 6.94933454e-02 5.02252487e-01 2.55542222e-01\n",
      " 9.85224900e-01 3.58032652e-01 4.36870857e-01 8.82523495e-01\n",
      " 2.66378575e-01 8.19102275e-01 6.66302010e-01 8.00127001e-01\n",
      " 9.93180279e-01 8.94892737e-01 7.62211980e-02 6.83767357e-01\n",
      " 7.54548864e-01 2.16271641e-01 7.20805798e-01 2.92328772e-01\n",
      " 7.19702265e-01 8.09446587e-01 4.28735193e-01 9.76508773e-02\n",
      " 6.83155834e-01 9.02183006e-01 3.10534973e-01 9.01745268e-01\n",
      " 1.13040206e-01 7.87781068e-01 4.01871374e-02 4.31538579e-03\n",
      " 9.05185066e-01 4.08015332e-01 6.33419088e-01 6.91462929e-01\n",
      " 7.61299545e-01 3.64591315e-01 9.30566006e-01 5.34347654e-01\n",
      " 9.46466093e-02 1.34188594e-01 7.75470197e-01 1.23884905e-01\n",
      " 7.42518707e-01 5.03330719e-01 7.48570104e-01 7.70602901e-01\n",
      " 6.56820243e-01 9.24234131e-01 2.25648583e-01 9.92035117e-01\n",
      " 2.48252986e-01 9.64374630e-01 7.61281507e-02 2.40693488e-01\n",
      " 5.99588902e-01 8.75684886e-01 3.18569173e-01 5.11540065e-01\n",
      " 3.34411656e-01 3.00476833e-01 7.81656297e-01 2.85052058e-01\n",
      " 7.56523619e-01 4.90651283e-02 1.50681976e-01 3.99112035e-01\n",
      " 1.71528898e-01 4.92117401e-01 2.77699453e-01 5.18308701e-01\n",
      " 2.29958475e-01 9.17266308e-01 8.94601976e-01 6.60470740e-01\n",
      " 5.11636173e-01 1.29373241e-01 8.60704196e-01 8.12402667e-01\n",
      " 5.39946205e-01 5.38830591e-02 2.82697187e-01 9.15438987e-01\n",
      " 1.43843718e-01 6.73819701e-01 8.15010394e-01 8.44425638e-02\n",
      " 9.28041196e-01 1.35927721e-01 9.99976518e-01 5.63507873e-01\n",
      " 4.07021087e-01 6.17650625e-01 5.24007020e-01 9.79564592e-01\n",
      " 5.18922344e-01 8.24964585e-01 6.17154962e-01 5.72677862e-01\n",
      " 4.53151083e-01 6.94501905e-01 7.89066346e-01 1.07936916e-01\n",
      " 3.35594526e-01 1.58324828e-04 3.62054970e-01 1.68552983e-01\n",
      " 4.16113575e-01 8.84024346e-01 7.90349117e-01 3.18193084e-01\n",
      " 7.40320242e-01 1.59428810e-01 9.15008123e-01 2.76250237e-02\n",
      " 2.99606258e-03 2.62547168e-01 5.41460223e-01 6.43426227e-01\n",
      " 4.48587122e-01 5.68719384e-01 5.15968200e-01 8.69422697e-01\n",
      " 5.72565794e-01 8.39080737e-01 4.18268101e-02 3.88182727e-01\n",
      " 5.17510685e-01 7.59906440e-01 6.27907871e-01 1.67938411e-01\n",
      " 2.44934325e-01 1.83074853e-02 7.51070439e-01 7.81837087e-01\n",
      " 7.47941346e-01 4.46083730e-01 5.87727276e-01 6.31972346e-02\n",
      " 8.93012742e-02 4.39154821e-01 4.95316968e-01 4.78732309e-01\n",
      " 7.68833065e-01 5.81021733e-01 9.88121123e-01 6.85354323e-01]\n"
     ]
    },
    {
     "data": {
      "text/plain": [
       "(array([115., 101.,  96.,  87.,  99., 104., 105., 100., 102.,  91.]),\n",
       " array([10.00791624, 15.00700721, 20.00609818, 25.00518914, 30.00428011,\n",
       "        35.00337108, 40.00246204, 45.00155301, 50.00064398, 54.99973494,\n",
       "        59.99882591]),\n",
       " <a list of 10 Patch objects>)"
      ]
     },
     "execution_count": 89,
     "metadata": {},
     "output_type": "execute_result"
    },
    {
     "data": {
      "image/png": "[encoded data removed]",
      "text/plain": [
       "<Figure size 432x288 with 2 Axes>"
      ]
     },
     "metadata": {
      "needs_background": "light"
     },
     "output_type": "display_data"
    }
   ],
   "source": [
    "def generate_uniform(bottom, ceiling, count):\n",
    "    x = stats.uniform.rvs(size=count)\n",
    "    print(x)\n",
    "    a = bottom\n",
    "    b = ceiling\n",
    "    randoms = a + (b-a)*x\n",
    "    return randoms\n",
    "\n",
    "u1 = generate_uniform(bottom=10, ceiling=15, count=100)\n",
    "u2= generate_uniform(bottom=10, ceiling=60, count=1000)\n",
    "\n",
    "fig, (ax1, ax2) = plt.subplots(1, 2, sharey=True)\n",
    "ax1.hist(u1)\n",
    "ax2.hist(u2)"
   ]
  },
  {
   "cell_type": "code",
   "execution_count": null,
   "metadata": {},
   "outputs": [],
   "source": [
    "def generate_uniform(bottom, ceiling, count):\n",
    "    x = stats.uniform.rvs(size=count)\n",
    "    print(x)\n",
    "    a = bottom\n",
    "    b = ceiling\n",
    "    randoms = a + (b-a)*x\n",
    "    return randoms\n",
    "\n",
    "u1 = generate_uniform(bottom=10, ceiling=15, count=100)\n",
    "u2= generate_uniform(bottom=10, ceiling=60, count=1000)\n",
    "\n",
    "fig, (ax1, ax2) = plt.subplots(1, 2, sharey=True)\n",
    "ax1.hist(u1)\n",
    "ax2.hist(u2)"
   ]
  },
  {
   "cell_type": "markdown",
   "metadata": {},
   "source": [
    "How are the two distributions different?"
   ]
  },
  {
   "cell_type": "markdown",
   "metadata": {},
   "source": [
    "*the distributions are both uniform but they differ in their range of values*"
   ]
  },
  {
   "cell_type": "markdown",
   "metadata": {},
   "source": [
    "## Normal Distribution\n",
    "\n",
    "1. In the same way in the Uniform Distribution challenge, write a function that generates normally distributed random numbers.\n",
    "1. Generate 1,000 normally distributed numbers with the average of 10 and standard deviation of 1\n",
    "1. Generate 1,000 normally distributed numbers with the average of 10 and standard deviation of 50\n",
    "2. Plot the distributions of the data generated.\n",
    "\n",
    "Expected output:\n",
    "\n",
    "![normal distribution](nd.png)"
   ]
  },
  {
   "cell_type": "code",
   "execution_count": 28,
   "metadata": {},
   "outputs": [
    {
     "data": {
      "text/plain": [
       "(array([ 2.,  1.,  0.,  0.,  1.,  3.,  0.,  4.,  5.,  2.,  4., 13., 10.,\n",
       "        18., 15., 14., 25., 29., 34., 35., 28., 34., 42., 45., 44., 48.,\n",
       "        52., 48., 46., 55., 50., 45., 41., 39., 29., 30., 12., 20., 13.,\n",
       "        12., 12.,  9.,  8.,  5.,  3.,  3.,  2.,  5.,  3.,  2.]),\n",
       " array([-152.86923429, -146.7364876 , -140.60374091, -134.47099423,\n",
       "        -128.33824754, -122.20550085, -116.07275416, -109.94000747,\n",
       "        -103.80726078,  -97.67451409,  -91.54176741,  -85.40902072,\n",
       "         -79.27627403,  -73.14352734,  -67.01078065,  -60.87803396,\n",
       "         -54.74528728,  -48.61254059,  -42.4797939 ,  -36.34704721,\n",
       "         -30.21430052,  -24.08155383,  -17.94880715,  -11.81606046,\n",
       "          -5.68331377,    0.44943292,    6.58217961,   12.7149263 ,\n",
       "          18.84767299,   24.98041967,   31.11316636,   37.24591305,\n",
       "          43.37865974,   49.51140643,   55.64415312,   61.7768998 ,\n",
       "          67.90964649,   74.04239318,   80.17513987,   86.30788656,\n",
       "          92.44063325,   98.57337993,  104.70612662,  110.83887331,\n",
       "         116.97162   ,  123.10436669,  129.23711338,  135.36986007,\n",
       "         141.50260675,  147.63535344,  153.76810013]),\n",
       " <a list of 50 Patch objects>)"
      ]
     },
     "execution_count": 28,
     "metadata": {},
     "output_type": "execute_result"
    },
    {
     "data": {
      "image/png": "[encoded data removed]",
      "text/plain": [
       "<Figure size 432x288 with 2 Axes>"
      ]
     },
     "metadata": {
      "needs_background": "light"
     },
     "output_type": "display_data"
    }
   ],
   "source": [
    "def generate_normal(mean, std):\n",
    "    normal = stats.norm(mean, std) \n",
    "    return normal.rvs(size=1000)\n",
    "\n",
    "n1 = generate_normal(10, 1)\n",
    "n2 = generate_normal(10, 50)\n",
    "\n",
    "\n",
    "# plotting\n",
    "fig, (ax1, ax2) = plt.subplots(1, 2, sharey = True)\n",
    "ax1.hist(n1, bins=50)\n",
    "ax2.hist(n2, bins=50)\n",
    "\n"
   ]
  },
  {
   "cell_type": "markdown",
   "metadata": {},
   "source": [
    "How are the two distributions different?"
   ]
  },
  {
   "cell_type": "markdown",
   "metadata": {},
   "source": [
    "*I think that both normal distributions differ in their range of values and how wide the bell is*\n",
    "*the first one is narrowes and taller, the second one is fatter and shorter, like me*"
   ]
  },
  {
   "cell_type": "markdown",
   "metadata": {},
   "source": [
    "## Normal Distribution of Real Data\n",
    "\n",
    "In this challenge we are going to take a look the real data. We will use vehicles.csv file for this exercise"
   ]
  },
  {
   "cell_type": "markdown",
   "metadata": {},
   "source": [
    "First import vehicles.csv.\n",
    "Then plot the histograms for the following variables:\n",
    "\n",
    "1. Fuel Barrels/Year"
   ]
  },
  {
   "cell_type": "code",
   "execution_count": 31,
   "metadata": {},
   "outputs": [],
   "source": [
    "vehicles = pd.read_csv('C:/Users/Zaca/Documents/Datasets/vehicles.csv')"
   ]
  },
  {
   "cell_type": "markdown",
   "metadata": {},
   "source": [
    "2. CO2 Emission Grams/Mile "
   ]
  },
  {
   "cell_type": "code",
   "execution_count": 34,
   "metadata": {},
   "outputs": [
    {
     "data": {
      "text/plain": [
       "(array([9.000e+00, 2.100e+01, 2.800e+01, 2.130e+02, 5.950e+02, 2.410e+03,\n",
       "        4.016e+03, 7.043e+03, 6.377e+03, 5.770e+03, 2.459e+03, 2.422e+03,\n",
       "        1.980e+03, 1.262e+03, 7.120e+02, 4.430e+02, 3.000e+00, 1.270e+02,\n",
       "        0.000e+00, 3.600e+01, 0.000e+00, 2.100e+01, 0.000e+00, 0.000e+00,\n",
       "        5.000e+00]),\n",
       " array([  37.        ,   86.30285714,  135.60571429,  184.90857143,\n",
       "         234.21142857,  283.51428571,  332.81714286,  382.12      ,\n",
       "         431.42285714,  480.72571429,  530.02857143,  579.33142857,\n",
       "         628.63428571,  677.93714286,  727.24      ,  776.54285714,\n",
       "         825.84571429,  875.14857143,  924.45142857,  973.75428571,\n",
       "        1023.05714286, 1072.36      , 1121.66285714, 1170.96571429,\n",
       "        1220.26857143, 1269.57142857]),\n",
       " <a list of 25 Patch objects>)"
      ]
     },
     "execution_count": 34,
     "metadata": {},
     "output_type": "execute_result"
    },
    {
     "data": {
      "image/png": "[encoded data removed]",
      "text/plain": [
       "<Figure size 432x288 with 1 Axes>"
      ]
     },
     "metadata": {
      "needs_background": "light"
     },
     "output_type": "display_data"
    }
   ],
   "source": [
    "plt.hist(vehicles['CO2 Emission Grams/Mile'], bins= 25)"
   ]
  },
  {
   "cell_type": "markdown",
   "metadata": {},
   "source": [
    "3. Combined MPG"
   ]
  },
  {
   "cell_type": "code",
   "execution_count": 35,
   "metadata": {},
   "outputs": [
    {
     "data": {
      "text/plain": [
       "(array([2.600e+01, 1.710e+02, 1.182e+03, 3.202e+03, 4.556e+03, 5.979e+03,\n",
       "        6.375e+03, 5.405e+03, 3.340e+03, 2.345e+03, 1.331e+03, 8.240e+02,\n",
       "        4.300e+02, 3.380e+02, 1.290e+02, 8.400e+01, 8.800e+01, 7.500e+01,\n",
       "        1.200e+01, 1.600e+01, 1.800e+01, 1.500e+01, 5.000e+00, 4.000e+00,\n",
       "        2.000e+00]),\n",
       " array([ 7.  ,  8.96, 10.92, 12.88, 14.84, 16.8 , 18.76, 20.72, 22.68,\n",
       "        24.64, 26.6 , 28.56, 30.52, 32.48, 34.44, 36.4 , 38.36, 40.32,\n",
       "        42.28, 44.24, 46.2 , 48.16, 50.12, 52.08, 54.04, 56.  ]),\n",
       " <a list of 25 Patch objects>)"
      ]
     },
     "execution_count": 35,
     "metadata": {},
     "output_type": "execute_result"
    },
    {
     "data": {
      "image/png": "[encoded data removed]",
      "text/plain": [
       "<Figure size 432x288 with 1 Axes>"
      ]
     },
     "metadata": {
      "needs_background": "light"
     },
     "output_type": "display_data"
    }
   ],
   "source": [
    "plt.hist(vehicles['Combined MPG'], bins= 25)"
   ]
  },
  {
   "cell_type": "markdown",
   "metadata": {},
   "source": [
    "Which one(s) of the variables are nearly normally distributed? How do you know?"
   ]
  },
  {
   "cell_type": "markdown",
   "metadata": {},
   "source": [
    "*I can't know for sure until we perfom a test for normality, but Combined MPG has more of a gaussian shape than CO2 emissions*"
   ]
  },
  {
   "cell_type": "markdown",
   "metadata": {},
   "source": [
    "## Exponential Distribution"
   ]
  },
  {
   "cell_type": "markdown",
   "metadata": {},
   "source": [
    "1. Using `numpy.random.exponential`, create a function that returns a list of numbers exponentially distributed with the mean of 10. \n",
    "\n",
    "1. Use the function to generate two number sequences with a mean of 1 and 100 and a size of 1000.\n",
    "\n",
    "1. Plot the distributions as histograms with the number of bins as 100.\n",
    "\n",
    "Your output should look like below:\n",
    "\n",
    "![exponential distribution](ed.png)"
   ]
  },
  {
   "cell_type": "code",
   "execution_count": 41,
   "metadata": {},
   "outputs": [
    {
     "data": {
      "text/plain": [
       "(array([69., 52., 41., 62., 61., 47., 41., 38., 41., 37., 35., 22., 27.,\n",
       "        27., 28., 22., 22., 25., 17., 15., 16., 17., 16., 13., 13., 19.,\n",
       "         7.,  8., 14.,  7., 10.,  6.,  8.,  4.,  9.,  8.,  8.,  2.,  4.,\n",
       "         6.,  6.,  4.,  2.,  6.,  4.,  4.,  0.,  3.,  3.,  3.,  1.,  1.,\n",
       "         3.,  4.,  1.,  1.,  0.,  1.,  1.,  1.,  2.,  2.,  3.,  2.,  2.,\n",
       "         3.,  3.,  2.,  1.,  0.,  0.,  0.,  0.,  0.,  0.,  1.,  0.,  2.,\n",
       "         0.,  1.,  0.,  0.,  0.,  0.,  1.,  0.,  0.,  0.,  0.,  0.,  0.,\n",
       "         1.,  0.,  0.,  0.,  0.,  0.,  0.,  0.,  1.]),\n",
       " array([4.30712001e-02, 6.69617072e+00, 1.33492702e+01, 2.00023698e+01,\n",
       "        2.66554693e+01, 3.33085688e+01, 3.99616683e+01, 4.66147678e+01,\n",
       "        5.32678674e+01, 5.99209669e+01, 6.65740664e+01, 7.32271659e+01,\n",
       "        7.98802654e+01, 8.65333650e+01, 9.31864645e+01, 9.98395640e+01,\n",
       "        1.06492664e+02, 1.13145763e+02, 1.19798863e+02, 1.26451962e+02,\n",
       "        1.33105062e+02, 1.39758161e+02, 1.46411261e+02, 1.53064360e+02,\n",
       "        1.59717460e+02, 1.66370559e+02, 1.73023659e+02, 1.79676758e+02,\n",
       "        1.86329858e+02, 1.92982957e+02, 1.99636057e+02, 2.06289156e+02,\n",
       "        2.12942256e+02, 2.19595355e+02, 2.26248455e+02, 2.32901554e+02,\n",
       "        2.39554654e+02, 2.46207753e+02, 2.52860853e+02, 2.59513952e+02,\n",
       "        2.66167052e+02, 2.72820152e+02, 2.79473251e+02, 2.86126351e+02,\n",
       "        2.92779450e+02, 2.99432550e+02, 3.06085649e+02, 3.12738749e+02,\n",
       "        3.19391848e+02, 3.26044948e+02, 3.32698047e+02, 3.39351147e+02,\n",
       "        3.46004246e+02, 3.52657346e+02, 3.59310445e+02, 3.65963545e+02,\n",
       "        3.72616644e+02, 3.79269744e+02, 3.85922843e+02, 3.92575943e+02,\n",
       "        3.99229042e+02, 4.05882142e+02, 4.12535241e+02, 4.19188341e+02,\n",
       "        4.25841440e+02, 4.32494540e+02, 4.39147640e+02, 4.45800739e+02,\n",
       "        4.52453839e+02, 4.59106938e+02, 4.65760038e+02, 4.72413137e+02,\n",
       "        4.79066237e+02, 4.85719336e+02, 4.92372436e+02, 4.99025535e+02,\n",
       "        5.05678635e+02, 5.12331734e+02, 5.18984834e+02, 5.25637933e+02,\n",
       "        5.32291033e+02, 5.38944132e+02, 5.45597232e+02, 5.52250331e+02,\n",
       "        5.58903431e+02, 5.65556530e+02, 5.72209630e+02, 5.78862729e+02,\n",
       "        5.85515829e+02, 5.92168928e+02, 5.98822028e+02, 6.05475128e+02,\n",
       "        6.12128227e+02, 6.18781327e+02, 6.25434426e+02, 6.32087526e+02,\n",
       "        6.38740625e+02, 6.45393725e+02, 6.52046824e+02, 6.58699924e+02,\n",
       "        6.65353023e+02]),\n",
       " <a list of 100 Patch objects>)"
      ]
     },
     "execution_count": 41,
     "metadata": {},
     "output_type": "execute_result"
    },
    {
     "data": {
      "image/png": "[encoded data removed]",
      "text/plain": [
       "<Figure size 432x288 with 2 Axes>"
      ]
     },
     "metadata": {
      "needs_background": "light"
     },
     "output_type": "display_data"
    }
   ],
   "source": [
    "def generate_exp(mean):\n",
    "    return np.random.exponential(mean, 1000)\n",
    "\n",
    "e1 = generate_exp(1)\n",
    "e2 = generate_exp(100)\n",
    "fig, (ax1, ax2) = plt.subplots(1, 2, sharey = True)\n",
    "ax1.hist(e1, bins=100)\n",
    "ax2.hist(e2, bins=100)"
   ]
  },
  {
   "cell_type": "markdown",
   "metadata": {},
   "source": [
    "How are the two distributions different?"
   ]
  },
  {
   "cell_type": "markdown",
   "metadata": {},
   "source": [
    "## Exponential Distribution of Real Data\n",
    "\n",
    "Suppose that the amount of time one spends in a bank is exponentially distributed with mean as 10 minutes (i.e. λ = 1/10). What is the probability that a customer will spend less than fifteen minutes in the bank? \n",
    "\n",
    "Write a code in python to solve this problem"
   ]
  },
  {
   "cell_type": "code",
   "execution_count": 77,
   "metadata": {},
   "outputs": [
    {
     "name": "stdout",
     "output_type": "stream",
     "text": [
      "0.7768698398515702\n"
     ]
    }
   ],
   "source": [
    "# I was trying first to use the model? by just feeding it the parameter but I don't quite understand how it works.\n",
    "lamb = 1/10\n",
    "exp = stats.expon(scale=10)\n",
    "print(exp.cdf(15))  "
   ]
  },
  {
   "cell_type": "markdown",
   "metadata": {},
   "source": [
    "What is the probability that the customer will spend more than 15 minutes"
   ]
  },
  {
   "cell_type": "code",
   "execution_count": 78,
   "metadata": {},
   "outputs": [
    {
     "data": {
      "text/plain": [
       "0.2231301601484298"
      ]
     },
     "execution_count": 78,
     "metadata": {},
     "output_type": "execute_result"
    }
   ],
   "source": [
    "1 - exp.cdf(15)"
   ]
  },
  {
   "cell_type": "code",
   "execution_count": 79,
   "metadata": {},
   "outputs": [
    {
     "data": {
      "text/plain": [
       "[<matplotlib.lines.Line2D at 0x27c3b352d88>]"
      ]
     },
     "execution_count": 79,
     "metadata": {},
     "output_type": "execute_result"
    },
    {
     "data": {
      "image/png": "[encoded data removed]",
      "text/plain": [
       "<Figure size 432x288 with 1 Axes>"
      ]
     },
     "metadata": {
      "needs_background": "light"
     },
     "output_type": "display_data"
    }
   ],
   "source": [
    "x = np.linspace(exp.ppf(0.01), exp.ppf(0.99), 100)\n",
    "y = exp.pdf(x)\n",
    "plt.plot(x, y)"
   ]
  }
 ],
 "metadata": {
  "kernelspec": {
   "display_name": "Python 3",
   "language": "python",
   "name": "python3"
  },
  "language_info": {
   "codemirror_mode": {
    "name": "ipython",
    "version": 3
   },
   "file_extension": ".py",
   "mimetype": "text/x-python",
   "name": "python",
   "nbconvert_exporter": "python",
   "pygments_lexer": "ipython3",
   "version": "3.7.4"
  }
 },
 "nbformat": 4,
 "nbformat_minor": 2
}
