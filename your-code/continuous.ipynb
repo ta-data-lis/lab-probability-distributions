{
 "cells": [
  {
   "cell_type": "markdown",
   "metadata": {},
   "source": [
    "# Before your start:\n",
    "\n",
    "    Read the README.md file\n",
    "    Comment as much as you can and use the resources (README.md file)\n",
    "    Happy learning!"
   ]
  },
  {
   "cell_type": "markdown",
   "metadata": {},
   "source": [
    "In this exercise, we  will generate random numbers from the continuous disributions we learned in the lesson. There are two ways to generate random numbers:\n",
    "\n",
    "1. Using the numpy library \n",
    "1. using the Scipy library \n",
    "\n",
    "Use either or both of the lbraries in this exercise."
   ]
  },
  {
   "cell_type": "markdown",
   "metadata": {},
   "source": [
    "## Uniform Distribution\n",
    "\n",
    "To generate uniform random numbers between any two given values using scipy, we can either use the following code or the code that we have\n",
    "discussed in class:"
   ]
  },
  {
   "cell_type": "code",
   "execution_count": 1,
   "metadata": {},
   "outputs": [
    {
     "name": "stdout",
     "output_type": "stream",
     "text": [
      "[2.99638538 2.76294226 2.31959945 2.82372008 2.9725357  2.88586229\n",
      " 2.70502158 2.97872904 2.20767787 2.95890364]\n"
     ]
    }
   ],
   "source": [
    "from scipy.stats import uniform\n",
    "x = uniform.rvs(size=10)\n",
    "a = 2\n",
    "b = 3\n",
    "randoms  = a + (b-a)*x\n",
    "print(randoms)"
   ]
  },
  {
   "cell_type": "markdown",
   "metadata": {},
   "source": [
    "**Your task:**\n",
    "\n",
    "1. Based on the code above, write a function that generates uniformly distributed random numbers. There are several requirements for your function:\n",
    "    * It should accept 3 parameters: \n",
    "        * `bottom` - the lower boundary of the generated numbers\n",
    "        * `ceiling` - the upper boundary of the generated numbers\n",
    "        * `count` - how many numbers to generate\n",
    "    * It should return an array of uniformly distributed random numbers\n",
    "\n",
    "1. Call your function with 2 sets of params below:\n",
    "    * bottom=10, ceiling=15, count=100\n",
    "    * bottom=10, ceiling=60, count=1,000\n",
    "\n",
    "1. Plot the uniform distributions generated above using histograms, where x axis is the value and y axis is the count. Let the histogram's number of bins be 10.\n",
    "\n",
    "Your output should look like below:\n",
    "\n",
    "![uniform distribution](ud.png)"
   ]
  },
  {
   "cell_type": "code",
   "execution_count": 2,
   "metadata": {},
   "outputs": [],
   "source": [
    "# your code here\n",
    "#1 defining the fucntion \n",
    "def unirand_func(lower,upper,count):\n",
    "    array = uniform.rvs(lower,upper,size=count)\n",
    "    return array"
   ]
  },
  {
   "cell_type": "code",
   "execution_count": 3,
   "metadata": {},
   "outputs": [
    {
     "data": {
      "text/plain": [
       "array([28.51131974, 67.94649259, 29.49483976, 29.66730857, 65.88667741,\n",
       "       43.05760907, 22.59359126, 26.6722083 , 15.16764534, 43.38523198,\n",
       "       14.09049786, 13.98007429, 19.35361531, 67.07467331, 38.62258356,\n",
       "       30.22457269, 64.55156492, 56.05264879, 53.57186856, 56.01548564,\n",
       "       23.95471727, 27.9444637 , 24.78902509, 20.90107202, 56.22964457,\n",
       "       62.42045349, 60.73088034, 63.87999565, 49.54891379, 28.81844984,\n",
       "       60.21837825, 66.63264625, 59.22537838, 49.17046507, 13.15105812,\n",
       "       34.7632219 , 44.36025905, 47.31595014, 34.38691574, 38.21690541,\n",
       "       11.37937049, 61.06638638, 29.32352922, 43.688137  , 52.04052006,\n",
       "       47.11482608, 27.92928315, 27.23564498, 37.46067982, 57.61308003,\n",
       "       29.87418971, 55.83638271, 10.19294298, 54.70749612, 33.83551335,\n",
       "       53.75866554, 30.76009565, 12.78587212, 40.71055876, 40.33904971,\n",
       "       41.6385452 , 24.24945295, 54.93259862, 32.56690402, 23.91601622,\n",
       "       31.08578318, 55.3076721 , 27.72767994, 39.55034767, 49.1136186 ,\n",
       "       52.41133768, 32.85739038, 61.70062204, 17.17627636, 12.09923202,\n",
       "       65.87147676, 30.76188571, 38.47676554, 50.24325889, 15.32995767,\n",
       "       29.47531327, 63.27480531, 66.80384329, 26.55984186, 59.50292223,\n",
       "       59.57172594, 59.36189988, 68.0716563 , 62.18667107, 28.49028749,\n",
       "       68.62704291, 17.92488533, 65.47615963, 49.38939455, 55.70867962,\n",
       "       24.81183631, 50.86677889, 21.98475249, 48.99396585, 44.91387021,\n",
       "       11.60642654, 47.17095874, 48.62503481, 19.17682654, 28.58204416,\n",
       "       23.80744831, 38.13089885, 26.08868858, 49.64109015, 36.60377047,\n",
       "       64.0180626 , 21.91940795, 24.85209848, 17.39230615, 48.66259583,\n",
       "       43.93725939, 47.76092602, 46.63624754, 23.95498187, 58.04539151,\n",
       "       18.41439695, 63.25018139, 47.13891596, 27.9610516 , 31.23266961,\n",
       "       28.11767769, 66.75280944, 57.2396794 , 47.14533649, 10.99103723,\n",
       "       68.37291606, 44.05412222, 40.55398578, 64.85061899, 34.35645867,\n",
       "       23.04255282, 67.96275095, 34.49217358, 38.36596107, 55.01218396,\n",
       "       17.51072373, 21.2268912 , 14.16591544, 20.53308428, 12.30305415,\n",
       "       68.70191105, 18.95727172, 38.96866637, 34.71703627, 28.45540629,\n",
       "       40.51105338, 24.29136947, 42.82852713, 38.08866082, 46.29689877,\n",
       "       35.83538335, 10.65576021, 11.18601604, 34.51702978, 63.59869934,\n",
       "       26.30230051, 58.38189325, 33.45860057, 52.72902173, 23.48368687,\n",
       "       22.48366815, 18.41053224, 13.66674137, 66.36036207, 69.22117839,\n",
       "       56.29315239, 13.22144942, 48.71788608, 34.42464723, 28.58939185,\n",
       "       65.32849506, 60.54976547, 27.00584114, 25.98574693, 26.45666328,\n",
       "       62.51001329, 16.66342926, 56.34655315, 35.96484596, 25.7698379 ,\n",
       "       63.57512585, 16.40796671, 17.66114451, 56.2119584 , 36.38072715,\n",
       "       43.23284528, 69.79129006, 15.98575324, 66.21988427, 40.82263483,\n",
       "       67.95044072, 36.26287927, 33.51447909, 14.86975836, 17.13540249,\n",
       "       49.58032661, 45.60341638, 20.56963936, 68.17139809, 42.05882055,\n",
       "       48.84550836, 60.90000394, 57.20864898, 57.10582819, 56.89952799,\n",
       "       32.49346127, 31.89271575, 34.04490875, 50.07960486, 47.39382206,\n",
       "       36.56910501, 32.4103237 , 69.52583892, 60.07863899, 64.56617912,\n",
       "       12.44930042, 23.19814168, 16.78525418, 47.73675328, 49.89894243,\n",
       "       11.75084256, 53.12330647, 58.24563364, 36.89190675, 62.88575469,\n",
       "       47.01377429, 22.38667554, 55.28884422, 26.30977161, 47.63439675,\n",
       "       33.00597424, 60.05406156, 68.92353246, 60.90917461, 45.9058357 ,\n",
       "       41.48221017, 63.53314436, 48.14833917, 25.08176297, 31.79238714,\n",
       "       33.6648668 , 37.15083877, 11.04057749, 61.44988394, 29.52267233,\n",
       "       67.65040506, 13.03759208, 24.16172667, 13.23138881, 66.40531348,\n",
       "       56.18794531, 20.22534969, 20.1604678 , 24.92319471, 62.85614001,\n",
       "       25.35130782, 31.00417977, 52.38119203, 56.92109188, 17.40799493,\n",
       "       52.86689159, 30.84218702, 48.91013927, 69.2128756 , 45.5317264 ,\n",
       "       52.09402915, 29.39305769, 10.00518192, 50.89406951, 65.51159266,\n",
       "       40.58215623, 68.70774562, 23.79288161, 29.60865516, 13.26989306,\n",
       "       31.26885612, 50.82303497, 12.5165702 , 18.81994923, 27.72277321,\n",
       "       60.50495853, 11.75696492, 44.47490978, 27.1639816 , 51.0946396 ,\n",
       "       19.79733147, 63.02389086, 27.30456259, 59.30532115, 29.59628045,\n",
       "       39.95728048, 32.23692392, 49.50686492, 61.44222053, 47.10720067,\n",
       "       40.99605707, 40.01142696, 26.83541646, 42.10872418, 34.70651688,\n",
       "       47.04189412, 56.09070475, 61.83409248, 17.46064915, 59.67007866,\n",
       "       40.18842746, 44.85296536, 17.56555359, 68.74108836, 56.02563787,\n",
       "       29.79325215, 53.87165502, 36.36742696, 62.83199151, 37.84043586,\n",
       "       24.52395202, 34.68672666, 63.56899019, 64.30015783, 53.51218982,\n",
       "       49.9004752 , 57.37918049, 32.78529349, 32.88153116, 47.81673328,\n",
       "       28.82971183, 19.8879842 , 24.86830429, 16.91295048, 21.67957954,\n",
       "       41.62445488, 59.90839449, 36.10649719, 29.38400122, 25.1242912 ,\n",
       "       13.79502418, 15.75485497, 56.00826106, 40.79759562, 61.19083405,\n",
       "       40.43698375, 18.68944831, 51.89663402, 28.12027711, 39.25632631,\n",
       "       54.00131785, 26.09590027, 24.14189631, 66.74560482, 19.1834665 ,\n",
       "       62.3462815 , 14.96895503, 53.6812514 , 54.92531518, 46.79906533,\n",
       "       52.64659661, 14.4209855 , 31.29018578, 39.4629365 , 41.49813197,\n",
       "       23.70179831, 12.94662797, 42.47535468, 43.57612083, 67.82952647,\n",
       "       64.8687989 , 18.96105085, 47.59231916, 60.85774239, 28.22167264,\n",
       "       26.30323355, 64.8125705 , 45.40251814, 49.35683062, 54.92108862,\n",
       "       41.625846  , 50.05698195, 42.81139038, 65.51038809, 43.05758126,\n",
       "       22.95175051, 66.87135644, 42.75662121, 17.95943228, 67.84488571,\n",
       "       49.66169554, 22.94985003, 33.64484315, 64.35849001, 52.07909552,\n",
       "       56.96135233, 18.66008949, 52.45416014, 52.95461021, 15.88256599,\n",
       "       58.8556821 , 55.70535193, 45.4427745 , 19.65099414, 52.55467836,\n",
       "       12.22360766, 14.17423287, 51.94763463, 38.27079067, 20.49092956,\n",
       "       54.14834422, 55.49431496, 24.96266009, 48.34891688, 13.43370018,\n",
       "       57.61618903, 43.62739723, 39.80915461, 36.79286378, 43.49499027,\n",
       "       64.00576214, 43.51015434, 14.65662733, 57.67646389, 66.19190588,\n",
       "       11.81953697, 36.60274106, 41.57144181, 43.80651874, 44.02110718,\n",
       "       14.12689101, 20.87911747, 56.95520332, 46.02027421, 18.89412877,\n",
       "       26.90643068, 69.25988685, 50.29033843, 26.49717291, 14.94873042,\n",
       "       22.42606221, 66.65203196, 45.61597722, 51.30228858, 15.78715973,\n",
       "       66.72429491, 54.16494736, 15.13004415, 54.33800197, 26.78980359,\n",
       "       60.27055432, 64.57492107, 61.16843705, 27.43573329, 61.17323083,\n",
       "       25.02846251, 28.13211673, 55.94500957, 18.489837  , 25.22707918,\n",
       "       48.23485547, 40.2981852 , 28.72589606, 49.8027593 , 27.75365653,\n",
       "       27.72886304, 29.58779118, 13.01473444, 66.81336042, 35.41291659,\n",
       "       55.4768782 , 22.47854666, 50.33261949, 44.15257895, 49.24337214,\n",
       "       61.87650851, 26.98242083, 65.41104046, 35.65213242, 41.22088431,\n",
       "       43.1028365 , 13.40547947, 13.73228479, 27.17923   , 46.80511064,\n",
       "       27.34156689, 55.21347615, 57.81274861, 26.41658031, 62.05750603,\n",
       "       30.36427848, 50.48149257, 15.97802756, 49.23989921, 12.19143511,\n",
       "       20.67213619, 22.22357113, 26.75891798, 22.1149751 , 36.91339035,\n",
       "       41.42758983, 67.1848711 , 32.94906648, 67.18404166, 46.44880262,\n",
       "       41.72665323, 15.86640289, 61.88656557, 20.41316155, 68.74828604,\n",
       "       41.84116234, 60.87564986, 35.82355851, 27.74593487, 66.11017812,\n",
       "       30.492875  , 42.47656439, 66.12431776, 56.96107802, 66.47410433,\n",
       "       38.09854074, 49.21055448, 60.98582984, 52.29193869, 65.3416232 ,\n",
       "       24.41831591, 14.24535248, 30.12407569, 50.41267654, 65.75574253,\n",
       "       17.55556232, 59.75164072, 37.0035155 , 30.46016355, 40.22589597,\n",
       "       69.68745585, 67.71090755, 67.76219025, 64.69967422, 50.52322525,\n",
       "       37.76697404, 23.34019749, 24.2534191 , 54.69006204, 65.41082865,\n",
       "       65.14515631, 20.81284783, 13.64746208, 17.98525798, 44.23784539,\n",
       "       18.20199379, 50.84343625, 32.9472293 , 55.23452487, 56.9014648 ,\n",
       "       42.98341547, 44.02657886, 57.18285206, 60.94370067, 27.73951366,\n",
       "       42.60968161, 15.61546575, 32.94513553, 67.52590944, 13.89306449,\n",
       "       23.69102266, 11.05678589, 32.28208186, 29.33865443, 66.21523572,\n",
       "       42.91135721, 24.24736122, 51.86429153, 39.39387408, 53.07802937,\n",
       "       37.52304035, 29.75752327, 36.36699617, 41.36117509, 64.29025027,\n",
       "       25.91698672, 21.62193101, 57.70208607, 31.88311435, 63.49929288,\n",
       "       57.66114929, 69.08508282, 67.4680527 , 32.20187209, 35.01578038,\n",
       "       45.96737835, 19.79851025, 23.56298567, 49.10554731, 43.02112527,\n",
       "       28.16455702, 55.37368542, 36.16346709, 69.98103   , 28.55858282,\n",
       "       57.79666577, 58.72877605, 21.09053109, 12.37241719, 11.69255328,\n",
       "       69.8205596 , 27.19438337, 51.49865323, 37.87477312, 27.331895  ,\n",
       "       36.5862855 , 56.50218503, 43.6728048 , 22.80786965, 26.19573715,\n",
       "       17.00862955, 26.59341064, 64.15167543, 28.29031157, 42.17817258,\n",
       "       54.6642822 , 23.15377066, 36.1549128 , 66.04495137, 22.3852311 ,\n",
       "       54.98741374, 66.75546167, 40.00892197, 13.86777464, 31.88018749,\n",
       "       12.35031058, 66.73963257, 31.84736552, 13.48315084, 54.150655  ,\n",
       "       25.02458116, 65.64958878, 28.1736628 , 37.00501067, 40.81360626,\n",
       "       61.35883129, 40.35746289, 18.45943953, 17.55144118, 29.27169811,\n",
       "       61.05251131, 27.35857847, 46.97264773, 24.04987193, 55.1912029 ,\n",
       "       27.33401316, 38.84918799, 19.69621318, 61.11805931, 24.34836427,\n",
       "       25.49072871, 12.98924698, 11.10972325, 67.87378438, 66.3218331 ,\n",
       "       67.0611796 , 45.67053659, 12.21585419, 64.20744279, 35.46142933,\n",
       "       22.22828331, 48.51115125, 50.78983771, 60.65444127, 56.69540451,\n",
       "       63.45433632, 26.49208136, 19.52033962, 44.91618661, 65.47706587,\n",
       "       69.8000046 , 53.62776808, 29.13412247, 10.08618888, 32.36868347,\n",
       "       36.7994067 , 11.12768713, 55.13563907, 41.18309417, 16.35929242,\n",
       "       35.24969953, 44.22469031, 49.37724558, 34.39318308, 48.57744358,\n",
       "       66.66671998, 41.39500587, 13.23782027, 41.89644846, 26.83443449,\n",
       "       42.62566019, 47.26816114, 51.96115295, 33.70486429, 38.20204837,\n",
       "       59.2503161 , 40.23710718, 63.34992722, 60.37114363, 25.13054219,\n",
       "       62.27766568, 55.52113498, 19.48826061, 38.5397828 , 26.54324062,\n",
       "       40.12018819, 54.80181726, 12.74020187, 11.48706376, 19.82994645,\n",
       "       41.43190221, 35.14582552, 56.38162689, 61.419912  , 46.64530236,\n",
       "       51.30472272, 22.8545124 , 55.04989394, 44.45692968, 22.63548399,\n",
       "       51.45921175, 18.82603042, 65.93518974, 58.19238133, 43.7956942 ,\n",
       "       44.56681956, 32.89211418, 47.95129511, 19.00099355, 11.64091548,\n",
       "       42.30631606, 11.56986238, 69.00221798, 42.98703013, 47.11600869,\n",
       "       22.93204419, 58.50758739, 38.88321175, 55.13379786, 18.5180943 ,\n",
       "       44.78568575, 24.24938489, 53.43793116, 51.6610126 , 27.77146389,\n",
       "       65.25827761, 25.18591381, 28.85868132, 49.14820877, 42.75640325,\n",
       "       49.55596527, 10.73327785, 45.88815504, 62.93088549, 52.07362886,\n",
       "       57.09242855, 46.66677196, 48.19951722, 16.94262035, 67.02502442,\n",
       "       35.16681635, 47.91754279, 66.8244441 , 39.79248106, 27.11663195,\n",
       "       37.40719783, 34.45799471, 35.00475977, 43.83298891, 13.17019835,\n",
       "       62.32654309, 69.93852188, 51.50963949, 69.38237632, 64.72386123,\n",
       "       13.93699767, 62.29622538, 11.2769987 , 19.31890597, 19.08759598,\n",
       "       22.12775483, 42.91271558, 69.79065467, 43.56042783, 16.91893969,\n",
       "       65.02456377, 23.3847045 , 16.70872566, 12.13547104, 33.93648142,\n",
       "       37.62479431, 35.66908351, 13.52128842, 15.64531359, 68.08886539,\n",
       "       52.12729928, 28.12995439, 34.77731261, 38.98863756, 37.6831389 ,\n",
       "       47.77204379, 69.41411753, 60.64538104, 48.94227262, 17.64010233,\n",
       "       50.32106413, 60.01052891, 28.38161666, 46.0636736 , 28.71499899,\n",
       "       44.14155721, 41.81556681, 17.17242691, 45.79426291, 52.30013373,\n",
       "       56.98184627, 64.85272396, 34.25680942, 46.02409246, 63.05304778,\n",
       "       53.53328869, 11.08519804, 69.16093316, 40.01439756, 27.41932345,\n",
       "       68.64633882, 44.06109797, 64.39510116, 21.01003436, 32.54102582,\n",
       "       19.3451778 , 53.36264183, 55.35612526, 41.19169601, 32.89781274,\n",
       "       21.65353373, 29.74389058, 14.934388  , 68.49132059, 15.23315666,\n",
       "       50.04979241, 31.38274816, 65.67306618, 26.30302193, 62.57508229,\n",
       "       16.47886169, 20.53633442, 69.0421641 , 24.3433407 , 51.14455719,\n",
       "       58.35870113, 34.69248579, 47.05687027, 39.67475907, 44.75140151,\n",
       "       67.90843726, 53.94972596, 33.66154391, 14.96052046, 67.92869803,\n",
       "       61.67857611, 21.14244395, 37.94452864, 20.49594388, 60.39630229,\n",
       "       40.60185081, 30.58763624, 36.5142665 , 12.37489907, 39.64179328,\n",
       "       12.43503922, 19.31421271, 11.66021032, 13.30527671, 62.73124585,\n",
       "       51.33619525, 33.34222014, 56.4076856 , 52.53733588, 61.39742828,\n",
       "       62.44178662, 62.62512105, 35.70671407, 13.22937264, 40.20866351,\n",
       "       59.79026173, 45.48862815, 67.01805643, 48.76557183, 19.05140028,\n",
       "       25.23070082, 27.10012903, 58.45238708, 55.66657199, 29.94643691,\n",
       "       59.34136802, 47.82367476, 55.63124273, 55.72063501, 65.20709946,\n",
       "       60.61741138, 28.9179532 , 48.10089426, 49.86080424, 61.5170823 ,\n",
       "       36.07018696, 51.23470382, 26.88244736, 62.32574115, 21.99186122,\n",
       "       16.52164387, 60.59520196, 43.75179925, 28.41950232, 19.33078925,\n",
       "       12.67066267, 41.88887324, 61.23801287, 69.94566391, 23.52178767,\n",
       "       40.17721867, 16.53136488, 37.68405281, 19.92930166, 40.61623984,\n",
       "       38.10025589, 19.6861273 , 56.5504757 , 57.55023326, 58.56455684,\n",
       "       27.30551551, 39.40248145, 45.93867309, 40.1747623 , 32.67208839,\n",
       "       68.40994043, 67.41492722, 17.56906157, 63.47964278, 62.75387007,\n",
       "       64.23139469, 55.96608969, 55.09351646, 41.00914427, 69.85400921,\n",
       "       18.72103763, 51.62285355, 21.73390257, 27.69231981, 30.72872608,\n",
       "       46.15888536, 19.37631361, 36.43846424, 45.4890335 , 51.81184596,\n",
       "       43.43373929, 58.36106851, 16.94203315, 18.08125736, 40.86389172,\n",
       "       10.35959657, 62.00087073, 35.42021566, 45.15682468, 34.22114932,\n",
       "       56.27135194, 47.55439897, 27.0537347 , 12.15832343, 28.48187152,\n",
       "       45.94799387, 45.26227937, 62.85718126, 21.46410475, 28.49037399,\n",
       "       66.23436535, 63.51023082, 53.81118697, 19.72788097, 22.25471622,\n",
       "       46.15238203, 36.19843348, 41.55127155, 21.59497618, 33.66892893,\n",
       "       25.50080704, 23.41034751, 47.65582088, 27.55765931, 17.34885482,\n",
       "       51.45329817, 50.00223333, 31.7904664 , 65.94516902, 40.625579  ])"
      ]
     },
     "execution_count": 3,
     "metadata": {},
     "output_type": "execute_result"
    }
   ],
   "source": [
    "# your code here\n",
    "# 2 applying the function (1st set of params)\n",
    "lower=10\n",
    "upper=15\n",
    "count=100\n",
    "\n",
    "x1=unirand_func(lower,upper,count)\n",
    "x1\n",
    "\n",
    "lower2=10\n",
    "upper2=60\n",
    "count2=1000\n",
    "x2=unirand_func(lower2,upper2,count2)\n",
    "x2\n"
   ]
  },
  {
   "cell_type": "code",
   "execution_count": 4,
   "metadata": {},
   "outputs": [
    {
     "data": {
      "image/png": "[encoded data removed]",
      "text/plain": [
       "<Figure size 432x288 with 2 Axes>"
      ]
     },
     "metadata": {
      "needs_background": "light"
     },
     "output_type": "display_data"
    }
   ],
   "source": [
    "import matplotlib.pyplot as plt\n",
    "import numpy as np\n",
    "fig, axs = plt.subplots(1, 2, sharex=False ,sharey=True, tight_layout=False)\n",
    "axs[0].hist(x1, bins=10, color = \"green\")\n",
    "axs[1].hist(x2, bins=10, color = \"red\")\n",
    "axs[1].set_xticks(np.arange(10,80,10))\n",
    "plt.show()"
   ]
  },
  {
   "cell_type": "markdown",
   "metadata": {},
   "source": [
    "How are the two distributions different?"
   ]
  },
  {
   "cell_type": "code",
   "execution_count": 5,
   "metadata": {},
   "outputs": [
    {
     "data": {
      "text/plain": [
       "KstestResult(statistic=0.775, pvalue=4.16088153995568e-58)"
      ]
     },
     "execution_count": 5,
     "metadata": {},
     "output_type": "execute_result"
    }
   ],
   "source": [
    "# your answer here:\n",
    "\n",
    "from scipy import stats\n",
    "stats.ks_2samp(x1, x2)"
   ]
  },
  {
   "cell_type": "markdown",
   "metadata": {},
   "source": [
    "## Normal Distribution\n",
    "\n",
    "1. In the same way in the Uniform Distribution challenge, write a function that generates normally distributed random numbers.\n",
    "1. Generate 1,000 normally distributed numbers with the average of 10 and standard deviation of 1\n",
    "1. Generate 1,000 normally distributed numbers with the average of 10 and standard deviation of 50\n",
    "2. Plot the distributions of the data generated.\n",
    "\n",
    "Expected output:\n",
    "\n",
    "![normal distribution](nd.png)"
   ]
  },
  {
   "cell_type": "code",
   "execution_count": 15,
   "metadata": {},
   "outputs": [
    {
     "data": {
      "image/png": "[encoded data removed]",
      "text/plain": [
       "<Figure size 432x288 with 2 Axes>"
      ]
     },
     "metadata": {
      "needs_background": "light"
     },
     "output_type": "display_data"
    }
   ],
   "source": [
    "# your code here\n",
    "from scipy.stats import norm\n",
    "def normal_array(loc,scale,size):\n",
    "    array = norm.rvs(loc,scale,size)\n",
    "    return array\n",
    "\n",
    "# 2 applying the function (1st set of params)\n",
    "loc=10\n",
    "scale=1\n",
    "size=1000\n",
    "\n",
    "x1= normal_array(loc,scale,size)\n",
    "\n",
    "loc=10\n",
    "scale=50\n",
    "size=1000\n",
    "\n",
    "x2= normal_array(loc,scale,size)\n",
    "\n",
    "fig, axs = plt.subplots(1, 2, sharex=False ,sharey=True, tight_layout=False)\n",
    "axs[0].hist(x1, bins=50, color = \"green\")\n",
    "axs[1].hist(x2, bins=50, color = \"red\")\n",
    "plt.show()"
   ]
  },
  {
   "cell_type": "markdown",
   "metadata": {},
   "source": [
    "How are the two distributions different?"
   ]
  },
  {
   "cell_type": "code",
   "execution_count": 21,
   "metadata": {},
   "outputs": [
    {
     "data": {
      "image/png": "[encoded data removed]",
      "text/plain": [
       "<Figure size 432x288 with 1 Axes>"
      ]
     },
     "metadata": {
      "needs_background": "light"
     },
     "output_type": "display_data"
    }
   ],
   "source": [
    "# your answer here:\n",
    "plt.hist(x2, bins=50, color = \"green\")\n",
    "plt.hist(x1, bins=50, color = \"red\")\n",
    "plt.show()"
   ]
  },
  {
   "cell_type": "code",
   "execution_count": 24,
   "metadata": {},
   "outputs": [
    {
     "data": {
      "text/plain": [
       "KstestResult(statistic=0.502, pvalue=6.103857836584651e-115)"
      ]
     },
     "execution_count": 24,
     "metadata": {},
     "output_type": "execute_result"
    }
   ],
   "source": [
    "stats.ks_2samp(x2, x1)\n",
    "\n",
    "#as per the grafic shows we can see that the distribution is x1 is contained in\n",
    "# x2 and is closed to the average of the first distribution"
   ]
  },
  {
   "cell_type": "markdown",
   "metadata": {},
   "source": [
    "## Normal Distribution of Real Data\n",
    "\n",
    "In this challenge we are going to take a look the real data. We will use vehicles.csv file for this exercise"
   ]
  },
  {
   "cell_type": "markdown",
   "metadata": {},
   "source": [
    "First import vehicles.csv.\n",
    "Then plot the histograms for the following variables:\n",
    "\n",
    "1. Fuel Barrels/Year"
   ]
  },
  {
   "cell_type": "code",
   "execution_count": 45,
   "metadata": {},
   "outputs": [
    {
     "data": {
      "text/html": [
       "<div>\n",
       "<style scoped>\n",
       "    .dataframe tbody tr th:only-of-type {\n",
       "        vertical-align: middle;\n",
       "    }\n",
       "\n",
       "    .dataframe tbody tr th {\n",
       "        vertical-align: top;\n",
       "    }\n",
       "\n",
       "    .dataframe thead th {\n",
       "        text-align: right;\n",
       "    }\n",
       "</style>\n",
       "<table border=\"1\" class=\"dataframe\">\n",
       "  <thead>\n",
       "    <tr style=\"text-align: right;\">\n",
       "      <th></th>\n",
       "      <th>Make</th>\n",
       "      <th>Model</th>\n",
       "      <th>Year</th>\n",
       "      <th>Engine Displacement</th>\n",
       "      <th>Cylinders</th>\n",
       "      <th>Transmission</th>\n",
       "      <th>Drivetrain</th>\n",
       "      <th>Vehicle Class</th>\n",
       "      <th>Fuel Type</th>\n",
       "      <th>Fuel Barrels/Year</th>\n",
       "      <th>City MPG</th>\n",
       "      <th>Highway MPG</th>\n",
       "      <th>Combined MPG</th>\n",
       "      <th>CO2 Emission Grams/Mile</th>\n",
       "      <th>Fuel Cost/Year</th>\n",
       "    </tr>\n",
       "  </thead>\n",
       "  <tbody>\n",
       "    <tr>\n",
       "      <th>0</th>\n",
       "      <td>AM General</td>\n",
       "      <td>DJ Po Vehicle 2WD</td>\n",
       "      <td>1984</td>\n",
       "      <td>2.5</td>\n",
       "      <td>4.0</td>\n",
       "      <td>Automatic 3-spd</td>\n",
       "      <td>2-Wheel Drive</td>\n",
       "      <td>Special Purpose Vehicle 2WD</td>\n",
       "      <td>Regular</td>\n",
       "      <td>19.388824</td>\n",
       "      <td>18</td>\n",
       "      <td>17</td>\n",
       "      <td>17</td>\n",
       "      <td>522.764706</td>\n",
       "      <td>1950</td>\n",
       "    </tr>\n",
       "    <tr>\n",
       "      <th>1</th>\n",
       "      <td>AM General</td>\n",
       "      <td>FJ8c Post Office</td>\n",
       "      <td>1984</td>\n",
       "      <td>4.2</td>\n",
       "      <td>6.0</td>\n",
       "      <td>Automatic 3-spd</td>\n",
       "      <td>2-Wheel Drive</td>\n",
       "      <td>Special Purpose Vehicle 2WD</td>\n",
       "      <td>Regular</td>\n",
       "      <td>25.354615</td>\n",
       "      <td>13</td>\n",
       "      <td>13</td>\n",
       "      <td>13</td>\n",
       "      <td>683.615385</td>\n",
       "      <td>2550</td>\n",
       "    </tr>\n",
       "    <tr>\n",
       "      <th>2</th>\n",
       "      <td>AM General</td>\n",
       "      <td>Post Office DJ5 2WD</td>\n",
       "      <td>1985</td>\n",
       "      <td>2.5</td>\n",
       "      <td>4.0</td>\n",
       "      <td>Automatic 3-spd</td>\n",
       "      <td>Rear-Wheel Drive</td>\n",
       "      <td>Special Purpose Vehicle 2WD</td>\n",
       "      <td>Regular</td>\n",
       "      <td>20.600625</td>\n",
       "      <td>16</td>\n",
       "      <td>17</td>\n",
       "      <td>16</td>\n",
       "      <td>555.437500</td>\n",
       "      <td>2100</td>\n",
       "    </tr>\n",
       "    <tr>\n",
       "      <th>3</th>\n",
       "      <td>AM General</td>\n",
       "      <td>Post Office DJ8 2WD</td>\n",
       "      <td>1985</td>\n",
       "      <td>4.2</td>\n",
       "      <td>6.0</td>\n",
       "      <td>Automatic 3-spd</td>\n",
       "      <td>Rear-Wheel Drive</td>\n",
       "      <td>Special Purpose Vehicle 2WD</td>\n",
       "      <td>Regular</td>\n",
       "      <td>25.354615</td>\n",
       "      <td>13</td>\n",
       "      <td>13</td>\n",
       "      <td>13</td>\n",
       "      <td>683.615385</td>\n",
       "      <td>2550</td>\n",
       "    </tr>\n",
       "    <tr>\n",
       "      <th>4</th>\n",
       "      <td>ASC Incorporated</td>\n",
       "      <td>GNX</td>\n",
       "      <td>1987</td>\n",
       "      <td>3.8</td>\n",
       "      <td>6.0</td>\n",
       "      <td>Automatic 4-spd</td>\n",
       "      <td>Rear-Wheel Drive</td>\n",
       "      <td>Midsize Cars</td>\n",
       "      <td>Premium</td>\n",
       "      <td>20.600625</td>\n",
       "      <td>14</td>\n",
       "      <td>21</td>\n",
       "      <td>16</td>\n",
       "      <td>555.437500</td>\n",
       "      <td>2550</td>\n",
       "    </tr>\n",
       "  </tbody>\n",
       "</table>\n",
       "</div>"
      ],
      "text/plain": [
       "               Make                Model  Year  Engine Displacement  \\\n",
       "0        AM General    DJ Po Vehicle 2WD  1984                  2.5   \n",
       "1        AM General     FJ8c Post Office  1984                  4.2   \n",
       "2        AM General  Post Office DJ5 2WD  1985                  2.5   \n",
       "3        AM General  Post Office DJ8 2WD  1985                  4.2   \n",
       "4  ASC Incorporated                  GNX  1987                  3.8   \n",
       "\n",
       "   Cylinders     Transmission        Drivetrain                Vehicle Class  \\\n",
       "0        4.0  Automatic 3-spd     2-Wheel Drive  Special Purpose Vehicle 2WD   \n",
       "1        6.0  Automatic 3-spd     2-Wheel Drive  Special Purpose Vehicle 2WD   \n",
       "2        4.0  Automatic 3-spd  Rear-Wheel Drive  Special Purpose Vehicle 2WD   \n",
       "3        6.0  Automatic 3-spd  Rear-Wheel Drive  Special Purpose Vehicle 2WD   \n",
       "4        6.0  Automatic 4-spd  Rear-Wheel Drive                 Midsize Cars   \n",
       "\n",
       "  Fuel Type  Fuel Barrels/Year  City MPG  Highway MPG  Combined MPG  \\\n",
       "0   Regular          19.388824        18           17            17   \n",
       "1   Regular          25.354615        13           13            13   \n",
       "2   Regular          20.600625        16           17            16   \n",
       "3   Regular          25.354615        13           13            13   \n",
       "4   Premium          20.600625        14           21            16   \n",
       "\n",
       "   CO2 Emission Grams/Mile  Fuel Cost/Year  \n",
       "0               522.764706            1950  \n",
       "1               683.615385            2550  \n",
       "2               555.437500            2100  \n",
       "3               683.615385            2550  \n",
       "4               555.437500            2550  "
      ]
     },
     "execution_count": 45,
     "metadata": {},
     "output_type": "execute_result"
    }
   ],
   "source": [
    "import pandas as pd \n",
    "import matplotlib.pyplot as plt\n",
    "import seaborn as sns\n",
    "vehicles_df=pd.read_csv(\"vehicles.csv\")\n",
    "vehicles_df.head()\n"
   ]
  },
  {
   "cell_type": "code",
   "execution_count": 29,
   "metadata": {},
   "outputs": [
    {
     "data": {
      "text/html": [
       "<div>\n",
       "<style scoped>\n",
       "    .dataframe tbody tr th:only-of-type {\n",
       "        vertical-align: middle;\n",
       "    }\n",
       "\n",
       "    .dataframe tbody tr th {\n",
       "        vertical-align: top;\n",
       "    }\n",
       "\n",
       "    .dataframe thead th {\n",
       "        text-align: right;\n",
       "    }\n",
       "</style>\n",
       "<table border=\"1\" class=\"dataframe\">\n",
       "  <thead>\n",
       "    <tr style=\"text-align: right;\">\n",
       "      <th></th>\n",
       "      <th>Year</th>\n",
       "      <th>Engine Displacement</th>\n",
       "      <th>Cylinders</th>\n",
       "      <th>Fuel Barrels/Year</th>\n",
       "      <th>City MPG</th>\n",
       "      <th>Highway MPG</th>\n",
       "      <th>Combined MPG</th>\n",
       "      <th>CO2 Emission Grams/Mile</th>\n",
       "      <th>Fuel Cost/Year</th>\n",
       "    </tr>\n",
       "  </thead>\n",
       "  <tbody>\n",
       "    <tr>\n",
       "      <th>count</th>\n",
       "      <td>35952.00000</td>\n",
       "      <td>35952.000000</td>\n",
       "      <td>35952.000000</td>\n",
       "      <td>35952.000000</td>\n",
       "      <td>35952.000000</td>\n",
       "      <td>35952.000000</td>\n",
       "      <td>35952.000000</td>\n",
       "      <td>35952.000000</td>\n",
       "      <td>35952.000000</td>\n",
       "    </tr>\n",
       "    <tr>\n",
       "      <th>mean</th>\n",
       "      <td>2000.71640</td>\n",
       "      <td>3.338493</td>\n",
       "      <td>5.765076</td>\n",
       "      <td>17.609056</td>\n",
       "      <td>17.646139</td>\n",
       "      <td>23.880646</td>\n",
       "      <td>19.929322</td>\n",
       "      <td>475.316339</td>\n",
       "      <td>1892.598465</td>\n",
       "    </tr>\n",
       "    <tr>\n",
       "      <th>std</th>\n",
       "      <td>10.08529</td>\n",
       "      <td>1.359395</td>\n",
       "      <td>1.755268</td>\n",
       "      <td>4.467283</td>\n",
       "      <td>4.769349</td>\n",
       "      <td>5.890876</td>\n",
       "      <td>5.112409</td>\n",
       "      <td>119.060773</td>\n",
       "      <td>506.958627</td>\n",
       "    </tr>\n",
       "    <tr>\n",
       "      <th>min</th>\n",
       "      <td>1984.00000</td>\n",
       "      <td>0.600000</td>\n",
       "      <td>2.000000</td>\n",
       "      <td>0.060000</td>\n",
       "      <td>6.000000</td>\n",
       "      <td>9.000000</td>\n",
       "      <td>7.000000</td>\n",
       "      <td>37.000000</td>\n",
       "      <td>600.000000</td>\n",
       "    </tr>\n",
       "    <tr>\n",
       "      <th>25%</th>\n",
       "      <td>1991.00000</td>\n",
       "      <td>2.200000</td>\n",
       "      <td>4.000000</td>\n",
       "      <td>14.699423</td>\n",
       "      <td>15.000000</td>\n",
       "      <td>20.000000</td>\n",
       "      <td>16.000000</td>\n",
       "      <td>395.000000</td>\n",
       "      <td>1500.000000</td>\n",
       "    </tr>\n",
       "    <tr>\n",
       "      <th>50%</th>\n",
       "      <td>2001.00000</td>\n",
       "      <td>3.000000</td>\n",
       "      <td>6.000000</td>\n",
       "      <td>17.347895</td>\n",
       "      <td>17.000000</td>\n",
       "      <td>24.000000</td>\n",
       "      <td>19.000000</td>\n",
       "      <td>467.736842</td>\n",
       "      <td>1850.000000</td>\n",
       "    </tr>\n",
       "    <tr>\n",
       "      <th>75%</th>\n",
       "      <td>2010.00000</td>\n",
       "      <td>4.300000</td>\n",
       "      <td>6.000000</td>\n",
       "      <td>20.600625</td>\n",
       "      <td>20.000000</td>\n",
       "      <td>27.000000</td>\n",
       "      <td>23.000000</td>\n",
       "      <td>555.437500</td>\n",
       "      <td>2200.000000</td>\n",
       "    </tr>\n",
       "    <tr>\n",
       "      <th>max</th>\n",
       "      <td>2017.00000</td>\n",
       "      <td>8.400000</td>\n",
       "      <td>16.000000</td>\n",
       "      <td>47.087143</td>\n",
       "      <td>58.000000</td>\n",
       "      <td>61.000000</td>\n",
       "      <td>56.000000</td>\n",
       "      <td>1269.571429</td>\n",
       "      <td>5800.000000</td>\n",
       "    </tr>\n",
       "  </tbody>\n",
       "</table>\n",
       "</div>"
      ],
      "text/plain": [
       "              Year  Engine Displacement     Cylinders  Fuel Barrels/Year  \\\n",
       "count  35952.00000         35952.000000  35952.000000       35952.000000   \n",
       "mean    2000.71640             3.338493      5.765076          17.609056   \n",
       "std       10.08529             1.359395      1.755268           4.467283   \n",
       "min     1984.00000             0.600000      2.000000           0.060000   \n",
       "25%     1991.00000             2.200000      4.000000          14.699423   \n",
       "50%     2001.00000             3.000000      6.000000          17.347895   \n",
       "75%     2010.00000             4.300000      6.000000          20.600625   \n",
       "max     2017.00000             8.400000     16.000000          47.087143   \n",
       "\n",
       "           City MPG   Highway MPG  Combined MPG  CO2 Emission Grams/Mile  \\\n",
       "count  35952.000000  35952.000000  35952.000000             35952.000000   \n",
       "mean      17.646139     23.880646     19.929322               475.316339   \n",
       "std        4.769349      5.890876      5.112409               119.060773   \n",
       "min        6.000000      9.000000      7.000000                37.000000   \n",
       "25%       15.000000     20.000000     16.000000               395.000000   \n",
       "50%       17.000000     24.000000     19.000000               467.736842   \n",
       "75%       20.000000     27.000000     23.000000               555.437500   \n",
       "max       58.000000     61.000000     56.000000              1269.571429   \n",
       "\n",
       "       Fuel Cost/Year  \n",
       "count    35952.000000  \n",
       "mean      1892.598465  \n",
       "std        506.958627  \n",
       "min        600.000000  \n",
       "25%       1500.000000  \n",
       "50%       1850.000000  \n",
       "75%       2200.000000  \n",
       "max       5800.000000  "
      ]
     },
     "execution_count": 29,
     "metadata": {},
     "output_type": "execute_result"
    }
   ],
   "source": [
    "vehicles_df.describe() # used the decribe just to assess the data and variables general stats "
   ]
  },
  {
   "cell_type": "code",
   "execution_count": 35,
   "metadata": {},
   "outputs": [
    {
     "data": {
      "image/png": "[encoded data removed]",
      "text/plain": [
       "<Figure size 432x288 with 1 Axes>"
      ]
     },
     "metadata": {
      "needs_background": "light"
     },
     "output_type": "display_data"
    }
   ],
   "source": [
    "# your code here\n",
    "plt.hist(vehicles_df[\"Fuel Barrels/Year\"], bins=20, color = \"red\")\n",
    "plt.title(\"Fuel Barrels/Year\")\n",
    "plt.xlabel('years') \n",
    "plt.ylabel('barrels')\n",
    "plt.show()"
   ]
  },
  {
   "cell_type": "markdown",
   "metadata": {},
   "source": [
    "2. CO2 Emission Grams/Mile "
   ]
  },
  {
   "cell_type": "code",
   "execution_count": 44,
   "metadata": {},
   "outputs": [
    {
     "data": {
      "image/png": "[encoded data removed]",
      "text/plain": [
       "<Figure size 432x288 with 1 Axes>"
      ]
     },
     "metadata": {
      "needs_background": "light"
     },
     "output_type": "display_data"
    }
   ],
   "source": [
    "# your code here\n",
    "plt.hist(vehicles_df[\"CO2 Emission Grams/Mile\"], bins=20, color = \"red\")\n",
    "plt.title(\"CO2 Emission Grams/Miler\")\n",
    "plt.xlabel('miles') \n",
    "plt.ylabel('CO2 emmissions')\n",
    "plt.show()\n"
   ]
  },
  {
   "cell_type": "markdown",
   "metadata": {},
   "source": [
    "3. Combined MPG"
   ]
  },
  {
   "cell_type": "code",
   "execution_count": 42,
   "metadata": {},
   "outputs": [
    {
     "data": {
      "image/png": "[encoded data removed]",
      "text/plain": [
       "<Figure size 432x288 with 1 Axes>"
      ]
     },
     "metadata": {
      "needs_background": "light"
     },
     "output_type": "display_data"
    }
   ],
   "source": [
    "# your code here\n",
    "plt.hist(vehicles_df[\"Combined MPG\"], bins=20, color = \"red\")\n",
    "plt.title(\"Combined MPG\")\n",
    "plt.xlabel('miles') \n",
    "plt.ylabel('Combined MPG')\n",
    "plt.show()"
   ]
  },
  {
   "cell_type": "markdown",
   "metadata": {},
   "source": [
    "Which one(s) of the variables are nearly normally distributed? How do you know?"
   ]
  },
  {
   "cell_type": "code",
   "execution_count": 53,
   "metadata": {},
   "outputs": [
    {
     "name": "stderr",
     "output_type": "stream",
     "text": [
      "C:\\Users\\franc\\anaconda3\\lib\\site-packages\\seaborn\\_decorators.py:36: FutureWarning: Pass the following variable as a keyword arg: x. From version 0.12, the only valid positional argument will be `data`, and passing other arguments without an explicit keyword will result in an error or misinterpretation.\n",
      "  warnings.warn(\n"
     ]
    },
    {
     "data": {
      "image/png": "[encoded data removed]",
      "text/plain": [
       "<Figure size 432x288 with 1 Axes>"
      ]
     },
     "metadata": {
      "needs_background": "light"
     },
     "output_type": "display_data"
    },
    {
     "name": "stderr",
     "output_type": "stream",
     "text": [
      "C:\\Users\\franc\\anaconda3\\lib\\site-packages\\seaborn\\_decorators.py:36: FutureWarning: Pass the following variable as a keyword arg: x. From version 0.12, the only valid positional argument will be `data`, and passing other arguments without an explicit keyword will result in an error or misinterpretation.\n",
      "  warnings.warn(\n"
     ]
    },
    {
     "data": {
      "image/png": "[encoded data removed]",
      "text/plain": [
       "<Figure size 432x288 with 1 Axes>"
      ]
     },
     "metadata": {
      "needs_background": "light"
     },
     "output_type": "display_data"
    },
    {
     "name": "stderr",
     "output_type": "stream",
     "text": [
      "C:\\Users\\franc\\anaconda3\\lib\\site-packages\\seaborn\\_decorators.py:36: FutureWarning: Pass the following variable as a keyword arg: x. From version 0.12, the only valid positional argument will be `data`, and passing other arguments without an explicit keyword will result in an error or misinterpretation.\n",
      "  warnings.warn(\n"
     ]
    },
    {
     "data": {
      "image/png": "[encoded data removed]",
      "text/plain": [
       "<Figure size 432x288 with 1 Axes>"
      ]
     },
     "metadata": {
      "needs_background": "light"
     },
     "output_type": "display_data"
    }
   ],
   "source": [
    "# you answer here:\n",
    "sns.boxplot(vehicles_df[\"Fuel Barrels/Year\"])\n",
    "plt.title(\"Fuel Barrels/Year\")\n",
    "plt.show()\n",
    "sns.boxplot(vehicles_df[\"CO2 Emission Grams/Mile\"])\n",
    "plt.title(\"CO2 Emission Grams/Mile\")\n",
    "plt.show()\n",
    "sns.boxplot(vehicles_df[\"Combined MPG\"])\n",
    "plt.title(\"Combined MPG\")\n",
    "plt.show()"
   ]
  },
  {
   "cell_type": "markdown",
   "metadata": {},
   "source": [
    "## Exponential Distribution"
   ]
  },
  {
   "cell_type": "markdown",
   "metadata": {},
   "source": [
    "1. Using `numpy.random.exponential`, create a function that returns a list of numbers exponentially distributed with the mean of 10. \n",
    "\n",
    "1. Use the function to generate two number sequences with a mean of 1 and 100 and a size of 1000.\n",
    "\n",
    "1. Plot the distributions as histograms with the number of bins as 100.\n",
    "\n",
    "Your output should look like below:\n",
    "\n",
    "![exponential distribution](ed.png)"
   ]
  },
  {
   "cell_type": "code",
   "execution_count": 59,
   "metadata": {},
   "outputs": [
    {
     "data": {
      "text/plain": [
       "array([1.39710638e+01, 5.78484441e+01, 1.13489016e+02, 4.13840384e+02,\n",
       "       8.88188293e+01, 3.47900377e+02, 7.90746019e+01, 1.02997972e+02,\n",
       "       1.23396972e+02, 3.78206129e+01, 3.95589924e+02, 3.11038395e+02,\n",
       "       1.76949859e+00, 5.60130560e+01, 5.49674442e+01, 3.15048773e+01,\n",
       "       4.99281133e+01, 1.85754178e+01, 5.99542285e+01, 1.54255050e+02,\n",
       "       7.13733168e+01, 1.02565334e+02, 1.69787821e+01, 1.64843110e+02,\n",
       "       1.10484282e+02, 2.50792394e+02, 3.92649218e+01, 1.71266811e+02,\n",
       "       2.23400142e+01, 9.08886628e+00, 1.75622147e+02, 1.56141699e+02,\n",
       "       5.40457170e+01, 1.97810026e+02, 2.90041692e+02, 8.59880414e+00,\n",
       "       1.11385874e+00, 4.61062651e+01, 1.61530998e+02, 1.04172101e+02,\n",
       "       5.01974134e+01, 1.46145788e+01, 1.21524462e+02, 3.22737772e+01,\n",
       "       9.83990200e+00, 2.23016435e+01, 1.37691706e+01, 2.37288998e+01,\n",
       "       4.59613006e+01, 1.05600101e+02, 5.78624930e+00, 3.74766303e+02,\n",
       "       5.11102129e+00, 2.25419888e+01, 2.23379823e+01, 2.10666955e+00,\n",
       "       2.57376737e+01, 1.49161518e+02, 1.06019979e+02, 6.44263204e+01,\n",
       "       2.38385922e+00, 1.23026471e+02, 4.84240758e+01, 1.37217508e+02,\n",
       "       7.25927836e+01, 5.75986263e+00, 6.19410367e+01, 2.29079082e+01,\n",
       "       6.99684083e+01, 9.10837313e+01, 1.00711118e+02, 2.29645062e+02,\n",
       "       1.42085311e+02, 8.96589402e+01, 1.98208320e+02, 2.65382245e+01,\n",
       "       1.21215420e+02, 6.82317065e+00, 1.05062717e+02, 8.96322658e+01,\n",
       "       2.62163452e+00, 3.54484748e+02, 2.23904722e+02, 3.08126548e+01,\n",
       "       2.67056812e+01, 1.17575576e+02, 1.99213990e+01, 2.00682516e+01,\n",
       "       2.96432060e+01, 1.46650608e+02, 1.14686443e+02, 3.13976863e+00,\n",
       "       1.20819161e+02, 6.81686768e+00, 2.06423387e+02, 6.77096615e+01,\n",
       "       1.74397700e+02, 5.41106786e+01, 6.32948420e+00, 3.02611489e+02,\n",
       "       3.71261572e+01, 2.42672915e+01, 2.11232784e+01, 8.82265933e+00,\n",
       "       2.58225074e+01, 2.52168534e+02, 5.04030129e+01, 1.41098155e+01,\n",
       "       5.51034081e+01, 4.95632864e+01, 1.35861521e+02, 1.65196325e+00,\n",
       "       9.21533958e+01, 6.15269412e+00, 2.94075958e+01, 4.01418095e+01,\n",
       "       1.37744676e+02, 1.58363908e+02, 3.27867826e+00, 4.87580145e+01,\n",
       "       1.69026562e+02, 1.96834629e+01, 9.00049644e+01, 7.65960776e+00,\n",
       "       3.33707045e+02, 1.10524261e+01, 3.09187888e+02, 5.09309674e+01,\n",
       "       2.65696380e+01, 3.01040612e+01, 2.09033597e+02, 1.59263831e+02,\n",
       "       2.08850920e+02, 1.99149812e+02, 8.94110119e+00, 1.23528149e+01,\n",
       "       6.11609938e+01, 2.64304074e+01, 2.18997768e+02, 2.09356636e+02,\n",
       "       1.41203426e+02, 3.81336377e+01, 1.45357584e+02, 2.26583884e+01,\n",
       "       2.69292244e+02, 5.03626747e+01, 9.53317726e+01, 6.24709949e+01,\n",
       "       1.69582642e+01, 2.01631050e+02, 4.32526988e+01, 3.61189388e+02,\n",
       "       3.90366999e+02, 1.61475728e+02, 3.19554574e+02, 1.07029371e+01,\n",
       "       1.02534690e+01, 2.67820346e+01, 8.51979226e+01, 9.86737836e+00,\n",
       "       1.01704621e+02, 8.79345739e+01, 1.27482261e+01, 5.97278893e+00,\n",
       "       2.48754025e+02, 2.10177683e+02, 6.62965437e+01, 1.22063221e+02,\n",
       "       2.15835056e+01, 1.61949215e+01, 1.15013529e+02, 4.81502838e+01,\n",
       "       9.43763357e+00, 4.50371227e+01, 1.33903964e+02, 4.18538044e+01,\n",
       "       5.74198570e+02, 6.88100470e+00, 3.22675552e+02, 2.87106227e+00,\n",
       "       4.60395772e+01, 2.17141812e+02, 1.72808362e+02, 1.77489462e+02,\n",
       "       5.88471253e+01, 2.76780096e+01, 4.65763241e+01, 5.55800524e+01,\n",
       "       7.96944592e+00, 6.51980238e+01, 8.73007660e+02, 2.93573303e+01,\n",
       "       4.51141606e+02, 5.07316028e+01, 1.89605235e+02, 2.54337338e+02,\n",
       "       4.17715539e+00, 1.45657791e+02, 1.56907156e+02, 9.62883182e+01,\n",
       "       8.74954367e+01, 7.19162288e+01, 5.19465185e+01, 1.13100990e+02,\n",
       "       1.15396796e+02, 4.82069854e+00, 1.71637561e+01, 1.44365052e+02,\n",
       "       2.07797117e-01, 6.65828599e+01, 6.51397896e+01, 5.26606786e+01,\n",
       "       6.84279492e+01, 6.41993742e+01, 9.24066672e+01, 2.55439308e+02,\n",
       "       8.18445367e+01, 2.25547886e+01, 1.49840118e+02, 1.10969837e+02,\n",
       "       1.60962907e+01, 9.34194247e+01, 1.87016235e+02, 2.60833090e+02,\n",
       "       2.70038718e+01, 1.70767507e+01, 8.13136288e+01, 4.45649614e+01,\n",
       "       9.01189371e+01, 2.59089691e+02, 1.13592223e+00, 8.29892914e+01,\n",
       "       1.14158235e+02, 2.37035845e+01, 1.05889514e+02, 3.55500510e+01,\n",
       "       7.32507589e+00, 1.31611842e+02, 8.05281932e+01, 2.14539612e+01,\n",
       "       2.60835059e+01, 3.40081451e+01, 7.42782200e+01, 5.07360391e+01,\n",
       "       6.85568491e+01, 4.36715239e+01, 2.08320448e+02, 7.38519334e+01,\n",
       "       1.60176380e+02, 4.10668197e+01, 1.12829233e+01, 2.45867858e+02,\n",
       "       4.12285745e+01, 1.41116843e+01, 1.09795886e+02, 9.53358943e+01,\n",
       "       2.21493473e+02, 9.06475807e+01, 1.25621349e+02, 2.33166319e+02,\n",
       "       2.51173093e+02, 1.97920096e+01, 7.45875795e+01, 3.66415948e+02,\n",
       "       1.81742108e+02, 2.81752868e+02, 8.53305020e+00, 1.65653851e+01,\n",
       "       1.26075254e+02, 1.12669126e+02, 1.99195940e+02, 2.34290525e+01,\n",
       "       1.00183889e+02, 2.49330625e+02, 2.99399966e+01, 9.94423333e+00,\n",
       "       1.58782410e+02, 3.40050038e+01, 2.99957818e+02, 4.19815132e+01,\n",
       "       3.92756957e+01, 1.77199638e+01, 1.03636291e+01, 4.62880730e+01,\n",
       "       2.64053772e+02, 6.90145997e+00, 1.33487461e+02, 2.90458679e+02,\n",
       "       1.69422011e+02, 2.34611205e+02, 1.32040115e+02, 8.10407689e+01,\n",
       "       1.69811089e+01, 2.04460454e+01, 1.52138880e+01, 1.01180318e+02,\n",
       "       3.74024313e+00, 1.44859569e+02, 3.64982630e+02, 1.24444725e+02,\n",
       "       8.46143095e+01, 8.57162235e+01, 7.67794575e+01, 2.01041542e+02,\n",
       "       5.38030602e+00, 1.26307082e+02, 1.37077746e+02, 3.51058499e+01,\n",
       "       3.73766837e+01, 3.99436044e+00, 3.20550560e+01, 2.74613541e+02,\n",
       "       9.36665323e+01, 1.07835164e+02, 2.10806168e+02, 2.58578839e+02,\n",
       "       1.85289881e+01, 2.86888299e+01, 5.91804301e+01, 1.35237852e+02,\n",
       "       1.47284400e+02, 1.43198714e+02, 7.69930099e+01, 6.34553169e+01,\n",
       "       2.29663587e+01, 1.07588483e+02, 2.48994537e+01, 3.35784014e+01,\n",
       "       2.68328429e+01, 2.18892213e+02, 1.52845771e+02, 4.17201371e+01,\n",
       "       1.96172414e+02, 3.77960335e+01, 5.37441703e+01, 1.75227729e+01,\n",
       "       2.34533622e+02, 3.01630397e+01, 2.72504513e+01, 1.95352153e+01,\n",
       "       1.93432817e+01, 2.57761461e+00, 6.60303857e+01, 3.62503085e+01,\n",
       "       1.39973172e+02, 7.54000439e+01, 1.39302425e+02, 2.84160231e+02,\n",
       "       2.22783055e+02, 1.92958738e+02, 1.20126335e+02, 5.05025001e+02,\n",
       "       2.10136785e+01, 5.88615202e+00, 5.02335650e+01, 8.78668459e+01,\n",
       "       9.61871688e+01, 3.35893492e+01, 1.07282016e+02, 3.89418232e+01,\n",
       "       8.31422738e+01, 2.02076287e+02, 1.46081826e+01, 1.24180645e+02,\n",
       "       1.86318980e+02, 6.30681966e+01, 1.49927620e+01, 3.17909732e+01,\n",
       "       1.69290828e+02, 1.87388871e+02, 2.90768869e+02, 5.37190751e+01,\n",
       "       2.59214648e+00, 5.37768786e+01, 1.13224357e+02, 2.51291503e+02,\n",
       "       2.55525328e+01, 1.17838534e+02, 1.65824268e+02, 1.51914224e+01,\n",
       "       1.54378822e+02, 8.91465749e+01, 8.65736886e+01, 1.12472163e+02,\n",
       "       3.07047945e+01, 7.49699531e+01, 4.06478871e+01, 2.85723630e+01,\n",
       "       3.25702541e+02, 2.11818746e+02, 1.58181508e+01, 1.38089841e+02,\n",
       "       9.32946394e+01, 6.55562019e+01, 2.05902603e+02, 1.37167437e+02,\n",
       "       1.72237838e+01, 2.56778137e+01, 2.57979671e+01, 3.84176788e+01,\n",
       "       1.69607488e+01, 1.34563536e+02, 3.01510957e+01, 2.71706854e+01,\n",
       "       6.36609323e+01, 2.78851391e+01, 3.75028854e+02, 5.76207678e+01,\n",
       "       5.56557038e+00, 1.54666259e+01, 9.76050803e+01, 1.54982554e+01,\n",
       "       1.70404015e+02, 1.44483101e+02, 7.59921056e+01, 3.89699792e+01,\n",
       "       5.23008355e+01, 4.25466058e+02, 1.58216536e+02, 1.30286493e+02,\n",
       "       1.72171231e+02, 1.27282230e+02, 1.04311902e+02, 1.81772780e+02,\n",
       "       1.49908138e+02, 1.61637904e+02, 2.61876317e+01, 1.28091148e+02,\n",
       "       1.73926554e+01, 1.64834194e+02, 7.44832220e+01, 1.29858315e+02,\n",
       "       7.34014443e+01, 6.44144243e+00, 1.94265571e+02, 4.71269290e+01,\n",
       "       8.05344672e+01, 9.49022227e+01, 1.14086301e+02, 3.18366545e+01,\n",
       "       1.87206635e+02, 1.46414064e+02, 9.75077125e+00, 4.46192915e+01,\n",
       "       2.47974089e+01, 2.08782849e+01, 3.88369674e+01, 2.41407848e+02,\n",
       "       1.58751312e+02, 5.99544435e+01, 2.01538521e+01, 3.05714787e+01,\n",
       "       5.92427194e+01, 2.57521643e+01, 5.64320933e+01, 8.29247657e+01,\n",
       "       1.29243665e+01, 1.97142466e+01, 1.91708501e+01, 1.04986688e+02,\n",
       "       1.94078022e+01, 1.04891845e+02, 1.15316267e+02, 9.13891882e+01,\n",
       "       8.62515068e+00, 3.35930633e+01, 1.79520597e+01, 3.27234537e+01,\n",
       "       1.03356392e+02, 4.71160272e+02, 1.28719957e+02, 1.24756642e+02,\n",
       "       3.75686520e+00, 1.62414556e+02, 8.56583988e+01, 1.81649937e+02,\n",
       "       1.05817291e+01, 1.20175180e+02, 2.67622788e+02, 4.00299694e-02,\n",
       "       3.91542337e+02, 2.41277116e+02, 1.12384256e+02, 4.25082294e+01,\n",
       "       2.92052740e+01, 2.36610179e+02, 1.94991707e+02, 1.10465511e+02,\n",
       "       1.14196782e+02, 1.52803190e+01, 3.94832470e+00, 3.46248238e+01,\n",
       "       7.71320734e+01, 6.53406689e+01, 1.82724726e+00, 3.19240642e+02,\n",
       "       5.53755049e+01, 1.58839583e+02, 1.08242513e+02, 5.08884958e+02,\n",
       "       3.91852813e+01, 1.01589224e+02, 6.06051360e+01, 1.12203772e+01,\n",
       "       5.12286327e+01, 4.14716853e+02, 1.36460252e+02, 8.33526726e-01,\n",
       "       7.44261097e+01, 1.53716272e+02, 1.55124138e+02, 8.86606836e+01,\n",
       "       1.63075381e+02, 1.03599717e+02, 1.34574137e+02, 2.61986927e+00,\n",
       "       2.01998254e+02, 2.60158130e+02, 1.08702287e+02, 9.15328146e+01,\n",
       "       2.20794176e+02, 6.54130862e+00, 2.26836471e+01, 7.42182533e+01,\n",
       "       1.28822476e+02, 1.97513316e+02, 3.87983471e+01, 7.05347948e-01,\n",
       "       1.73308544e+02, 3.75612631e+01, 2.62704531e+02, 1.23471347e+02,\n",
       "       1.40034630e+01, 2.51235400e+02, 1.19563416e+02, 8.66450938e+01,\n",
       "       1.78482887e+02, 2.68680648e+02, 3.35947492e+02, 1.83158762e+02,\n",
       "       2.41904751e+01, 1.48818707e+01, 8.95269312e+01, 3.46102253e+01,\n",
       "       4.27398884e+01, 4.73522971e+02, 7.11623477e+01, 1.09485721e+02,\n",
       "       1.17955680e+02, 2.74647982e+01, 1.13836028e+02, 1.43605103e+02,\n",
       "       1.70493218e+02, 2.57809023e+01, 2.00293925e+02, 8.15793096e+01,\n",
       "       1.39555842e+02, 8.37581957e+01, 2.12176720e+01, 1.84813855e+01,\n",
       "       6.27991883e+01, 2.35117114e+02, 1.79141381e+02, 3.03587212e+02,\n",
       "       1.14976650e+01, 3.61435426e+01, 1.10324695e+02, 8.26188369e+01,\n",
       "       7.19702199e+01, 3.89627683e+01, 2.78929748e+02, 2.06321744e+02,\n",
       "       1.20445542e+02, 3.19387456e+01, 1.83392615e+01, 2.03673280e+01,\n",
       "       3.16428470e+01, 1.27779153e+02, 4.75651041e+01, 9.77036991e+01,\n",
       "       4.06790148e+00, 5.29789069e+01, 2.74093817e+01, 7.96028682e+01,\n",
       "       1.64542753e+01, 1.32296396e+02, 7.29850442e+01, 2.63437720e+01,\n",
       "       3.34100431e+01, 4.15930081e+01, 4.47364767e+01, 7.93944600e+01,\n",
       "       7.02453415e+01, 1.61608455e+02, 2.01673404e+02, 5.59522915e+01,\n",
       "       7.95997440e+01, 2.86764667e+01, 8.31986412e+01, 2.55031324e+02,\n",
       "       4.48240397e+01, 1.48483349e+02, 3.68401746e+01, 8.44640326e+01,\n",
       "       1.97957038e+01, 5.55909802e+01, 5.01742380e+01, 1.39992282e+02,\n",
       "       1.58943396e+01, 2.59538676e+02, 1.74403998e+02, 1.59671116e+01,\n",
       "       1.85716382e+02, 1.34884358e+02, 1.93371605e+00, 3.62600820e+01,\n",
       "       9.86571932e+01, 3.67209680e+01, 4.55487628e+01, 6.92179616e+01,\n",
       "       2.43173839e+02, 1.68487085e+02, 1.12068349e+01, 8.00918177e+01,\n",
       "       5.30513325e+01, 1.82715099e+02, 5.66235031e+01, 2.32101342e+01,\n",
       "       1.09377533e+02, 4.00139410e+01, 1.10190694e+01, 1.34409811e+02,\n",
       "       2.54465302e+01, 6.83736581e+01, 1.29056102e+01, 1.34897097e+02,\n",
       "       1.04778115e+02, 4.81236604e+01, 9.75624848e+00, 4.75196597e+01,\n",
       "       2.81461260e+01, 3.51701893e+00, 5.41574602e+01, 1.67562256e+01,\n",
       "       4.22395719e-02, 5.56971025e+01, 1.97755587e+01, 2.56779123e+02,\n",
       "       1.37706396e+00, 1.17100804e+02, 1.68186609e+02, 1.82004274e+02,\n",
       "       2.91404545e+02, 4.73614448e+00, 5.54421730e+00, 3.31663876e+02,\n",
       "       4.47155305e+01, 8.62124165e+01, 7.79599208e+00, 4.96221059e+01,\n",
       "       4.41131018e+01, 1.09247126e+02, 1.08299629e+02, 2.00845773e+02,\n",
       "       1.02626419e+02, 9.94773923e+01, 7.30469289e+00, 3.40148953e+02,\n",
       "       3.27237229e+01, 1.14179451e+02, 1.16671227e+01, 4.54910279e+01,\n",
       "       2.10890797e+02, 2.01462079e+02, 2.28061785e+02, 8.59322130e+01,\n",
       "       1.58635837e+02, 2.69927213e+01, 4.78650624e+01, 4.99324782e+01,\n",
       "       4.56654440e+01, 1.04273730e+02, 1.78128316e+01, 3.83912520e+01,\n",
       "       8.53905901e+01, 2.63752956e+01, 2.00175379e+02, 1.70780290e+02,\n",
       "       1.20362594e+01, 3.84752329e+02, 1.24725303e+01, 8.93991898e+01,\n",
       "       1.56163731e+02, 9.86613105e+00, 7.98619829e+01, 8.77382723e+01,\n",
       "       1.04764571e+01, 4.85860521e+01, 9.37412803e+01, 3.42120005e+01,\n",
       "       6.30509429e+01, 4.73031768e+01, 3.12826465e+01, 2.87548702e+01,\n",
       "       9.88408744e+01, 2.73837235e+02, 2.11036597e+02, 2.56652412e+01,\n",
       "       1.38877495e+01, 1.65419966e+01, 2.01554790e+01, 6.57123995e+01,\n",
       "       2.10655124e+02, 7.54484949e+01, 1.07327840e+01, 5.84188528e+01,\n",
       "       7.62608780e+01, 4.22688242e+02, 2.74898245e+02, 2.20306475e+02,\n",
       "       6.94142359e+00, 4.32215526e+01, 1.96023996e+02, 3.59017663e+01,\n",
       "       3.30361726e+02, 7.00208857e+01, 2.52597755e+02, 8.15979919e+00,\n",
       "       1.38387315e+01, 7.83645651e+01, 8.72803300e+01, 1.85015578e+01,\n",
       "       5.14346040e+01, 3.61421331e+01, 2.64814217e+02, 1.16196692e+01,\n",
       "       1.29260870e+02, 4.47324141e+00, 5.70985398e+01, 2.70161910e+02,\n",
       "       8.00211983e+01, 8.45906756e+01, 3.61910450e+01, 3.25337883e+01,\n",
       "       1.19071230e+01, 1.17372232e+02, 4.12028712e+01, 4.47210137e+00,\n",
       "       4.65999246e+00, 2.95544185e+02, 1.32099698e+02, 5.54674029e+00,\n",
       "       1.08200313e+02, 4.76500198e+01, 9.30859333e+01, 3.60721775e+01,\n",
       "       1.16655059e+01, 4.03033177e+01, 2.76554725e+01, 4.21052251e+02,\n",
       "       2.41734747e+01, 7.35850599e+01, 5.96989984e+00, 9.78908575e+01,\n",
       "       2.34693255e+02, 1.32210864e+02, 2.28269710e+02, 2.10657347e+02,\n",
       "       4.04782506e+01, 5.26677844e+01, 4.48429268e+02, 1.47895420e+02,\n",
       "       2.15192589e+02, 1.05739473e+02, 6.21376541e+01, 6.27872481e+01,\n",
       "       7.14082122e+01, 7.93846752e+01, 1.09288409e+01, 1.24057859e+02,\n",
       "       6.79218676e+01, 5.51047401e+01, 2.22552071e+01, 4.61383531e+01,\n",
       "       1.74773543e+01, 1.56346664e+02, 4.02341064e+01, 1.69157313e+02,\n",
       "       2.17960007e+01, 3.13773332e+02, 9.62564011e+01, 1.29470437e+02,\n",
       "       1.43782535e+01, 2.74461695e+01, 1.00661973e+02, 3.51523747e+02,\n",
       "       3.46930689e+01, 6.05809644e+01, 5.54693146e+01, 9.97035008e+01,\n",
       "       2.49632953e+02, 1.66345859e+02, 8.66094639e+01, 5.13004052e+01,\n",
       "       6.55644210e+01, 1.66323591e+02, 4.62452855e+01, 1.30456704e+01,\n",
       "       1.45933294e+01, 2.67382218e+02, 9.72418738e+01, 8.16990111e+00,\n",
       "       3.44913576e+02, 1.08632381e+01, 1.19315239e+02, 1.42774681e+02,\n",
       "       1.01136555e+01, 5.73342580e+01, 9.12540485e+01, 2.67421555e+02,\n",
       "       1.76642692e+02, 3.34749640e+00, 5.93072023e+01, 1.48673680e+02,\n",
       "       7.26425323e+02, 6.19206138e+01, 1.47802409e+01, 2.04175551e+02,\n",
       "       2.51700010e+02, 2.18652235e+00, 4.69485960e+01, 4.18998510e+02,\n",
       "       5.26999942e+01, 6.75655731e+01, 6.90813517e+01, 9.28586073e+01,\n",
       "       3.43174619e+01, 3.37355588e+01, 2.19896870e+02, 2.35112596e+02,\n",
       "       4.54174009e+01, 6.28063571e+00, 5.94243829e+01, 1.14492740e+02,\n",
       "       8.64467032e+00, 2.37338018e+01, 2.81109857e+01, 4.07198584e+01,\n",
       "       5.63696421e+01, 1.52405098e+01, 1.16833855e+01, 2.81770858e+02,\n",
       "       1.05150640e+02, 9.51361841e+01, 1.69778511e+02, 2.67641858e+01,\n",
       "       1.47767722e+02, 1.06740135e+02, 1.44883434e+01, 6.74920849e+01,\n",
       "       7.68697802e+01, 3.86250170e+01, 8.72126306e+01, 6.54610133e+01,\n",
       "       8.13242948e+01, 6.42539002e+01, 2.60593305e+01, 8.34752939e+01,\n",
       "       6.50855245e+01, 7.67664626e+01, 1.57033793e+02, 2.75048379e+01,\n",
       "       1.32759021e+01, 3.61752289e+02, 3.30523974e+02, 2.16781050e+01,\n",
       "       1.82714043e+02, 7.76066580e+01, 6.59433479e+01, 2.27347803e+02,\n",
       "       1.56116019e+01, 9.42376975e-03, 6.96338443e+01, 4.93826522e+01,\n",
       "       1.93839264e+02, 2.12317150e+01, 7.00705021e+01, 1.33837373e+02,\n",
       "       1.55050708e+02, 1.94919980e+01, 6.60324257e+01, 2.66276482e+02,\n",
       "       1.79006165e+01, 6.59335243e+01, 2.41493450e+01, 9.79176005e+01,\n",
       "       5.93333158e+00, 2.88559288e+01, 5.34141530e+01, 3.15530706e+01,\n",
       "       2.55268557e+02, 5.52807475e+01, 3.45469745e+01, 1.48422929e+01,\n",
       "       1.57894588e+02, 5.69801385e+01, 3.71862141e+01, 7.26832322e+00,\n",
       "       1.82605291e+02, 1.01564525e+02, 7.21082242e+01, 3.11389703e+02,\n",
       "       6.59541173e+01, 4.85318949e+01, 7.25560362e+01, 3.18340097e+01,\n",
       "       2.93836197e+01, 1.73411211e+02, 9.71063391e+01, 8.11695379e+01,\n",
       "       2.30879323e+00, 3.29777463e+00, 1.51676675e+02, 8.60098776e+01,\n",
       "       4.98846316e+01, 3.47758317e+02, 1.27789849e+02, 3.07246254e+00,\n",
       "       1.03254792e+01, 1.35613540e+01, 5.92109666e+01, 1.33086302e+01,\n",
       "       7.36136460e+00, 6.00945510e+00, 6.90348030e+00, 2.48804433e+01,\n",
       "       2.13660722e+01, 2.02919814e+01, 9.75444984e+01, 4.33112983e+00,\n",
       "       6.53500222e+01, 1.47284517e+02, 2.67921133e+02, 2.98563789e+00,\n",
       "       1.05656750e+00, 9.82593555e+01, 9.67823210e+01, 4.96716185e+01,\n",
       "       7.28642304e+01, 6.08600229e+01, 1.21078332e+01, 7.52752978e+01,\n",
       "       1.26261115e+02, 1.00570216e+02, 1.88447407e+01, 2.04991696e+02,\n",
       "       6.46732292e-01, 8.24862517e+01, 5.06947722e+02, 1.74782751e+02,\n",
       "       2.02271101e+01, 1.92353624e+02, 9.30871941e-01, 7.96650461e+00,\n",
       "       6.31692228e+01, 2.19034959e+02, 4.37757674e+00, 1.03221230e+01,\n",
       "       1.11137296e+02, 1.59607076e+01, 1.83284755e+02, 8.93305194e+01,\n",
       "       4.61647689e+01, 1.40425682e+02, 1.06619517e+02, 3.60432582e+01,\n",
       "       5.77388529e+01, 2.22993517e+01, 8.98650630e+00, 2.58712891e+01,\n",
       "       1.37433120e+02, 1.90479413e+01, 2.40618548e+01, 3.17712878e+01,\n",
       "       1.15054397e+02, 1.15538221e+00, 4.60066740e+01, 2.18494551e+01,\n",
       "       1.29043947e+01, 2.22514880e+02, 4.08214683e+01, 2.11322666e+01,\n",
       "       8.97799402e+01, 4.98169384e+01, 3.48523787e+01, 5.83160825e+00,\n",
       "       2.80641677e+01, 1.38781431e+02, 1.06804440e+02, 1.68300862e+02])"
      ]
     },
     "execution_count": 59,
     "metadata": {},
     "output_type": "execute_result"
    }
   ],
   "source": [
    "# your code here\n",
    "def expon_array(loc,size):\n",
    "    array = np.random.exponential(loc,size)\n",
    "    return array\n",
    "loc =10\n",
    "size =10000\n",
    "x=expon_array(loc,size)\n",
    "x\n",
    "\n",
    "loc =1\n",
    "size =1000\n",
    "x1=expon_array(loc,size)\n",
    "x1\n",
    "\n",
    "loc =100\n",
    "size =1000\n",
    "x2=expon_array(loc,size)\n",
    "x2"
   ]
  },
  {
   "cell_type": "code",
   "execution_count": 60,
   "metadata": {},
   "outputs": [
    {
     "data": {
      "image/png": "[encoded data removed]",
      "text/plain": [
       "<Figure size 432x288 with 2 Axes>"
      ]
     },
     "metadata": {
      "needs_background": "light"
     },
     "output_type": "display_data"
    }
   ],
   "source": [
    "fig, axs = plt.subplots(1, 2, sharex=False ,sharey=True, tight_layout=False)\n",
    "axs[0].hist(x1, bins=100, color = \"orange\")\n",
    "axs[1].hist(x2, bins=100, color = \"blue\")\n",
    "plt.show()"
   ]
  },
  {
   "cell_type": "markdown",
   "metadata": {},
   "source": [
    "How are the two distributions different?"
   ]
  },
  {
   "cell_type": "code",
   "execution_count": 63,
   "metadata": {},
   "outputs": [
    {
     "data": {
      "text/plain": [
       "KstestResult(statistic=0.947, pvalue=0.0)"
      ]
     },
     "execution_count": 63,
     "metadata": {},
     "output_type": "execute_result"
    }
   ],
   "source": [
    "# your answer here:\n",
    "stats.ks_2samp(x1, x2)"
   ]
  },
  {
   "cell_type": "markdown",
   "metadata": {},
   "source": [
    "## Exponential Distribution of Real Data\n",
    "\n",
    "Suppose that the amount of time one spends in a bank is exponentially distributed with mean as 10 minutes (i.e. λ = 1/10). What is the probability that a customer will spend less than fifteen minutes in the bank? \n",
    "\n",
    "Write a code in python to solve this problem"
   ]
  },
  {
   "cell_type": "code",
   "execution_count": 65,
   "metadata": {},
   "outputs": [],
   "source": [
    "# your answer here\n",
    "from scipy.stats import poisson\n",
    "import numpy as np\n",
    "import matplotlib.pyplot as plt\n",
    "# Hint: This is same as saying P(x<15)\n",
    "\n",
    "mu = 10 # expectation per unit of time . get 10 uci patients per month\n",
    "poisson_dist = poisson(mu)"
   ]
  },
  {
   "cell_type": "markdown",
   "metadata": {},
   "source": [
    "What is the probability that the customer will spend more than 15 minutes"
   ]
  },
  {
   "cell_type": "code",
   "execution_count": 66,
   "metadata": {},
   "outputs": [
    {
     "name": "stdout",
     "output_type": "stream",
     "text": [
      "0.04874040330397866\n"
     ]
    }
   ],
   "source": [
    "# your answer here\n",
    "print(1-(poisson_dist.cdf(15))) "
   ]
  },
  {
   "cell_type": "code",
   "execution_count": null,
   "metadata": {},
   "outputs": [],
   "source": [
    "#the number above represents the peobability of a costumer spending more than 15 minutes"
   ]
  }
 ],
 "metadata": {
  "kernelspec": {
   "display_name": "Python 3 (ipykernel)",
   "language": "python",
   "name": "python3"
  },
  "language_info": {
   "codemirror_mode": {
    "name": "ipython",
    "version": 3
   },
   "file_extension": ".py",
   "mimetype": "text/x-python",
   "name": "python",
   "nbconvert_exporter": "python",
   "pygments_lexer": "ipython3",
   "version": "3.9.7"
  }
 },
 "nbformat": 4,
 "nbformat_minor": 2
}
