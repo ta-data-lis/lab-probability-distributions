{
 "cells": [
  {
   "cell_type": "markdown",
   "metadata": {},
   "source": [
    "# Before your start:\n",
    "\n",
    "    Read the README.md file\n",
    "    Comment as much as you can and use the resources (README.md file)\n",
    "    Happy learning!"
   ]
  },
  {
   "cell_type": "markdown",
   "metadata": {},
   "source": [
    "In this exercise, we  will generate random numbers from the continuous disributions we learned in the lesson. There are two ways to generate random numbers:\n",
    "\n",
    "1. Using the numpy library \n",
    "1. using the Scipy library \n",
    "\n",
    "Use either or both of the lbraries in this exercise."
   ]
  },
  {
   "cell_type": "markdown",
   "metadata": {},
   "source": [
    "## Uniform Distribution\n",
    "\n",
    "To generate uniform random numbers between any two given values using scipy, we can either use the following code or the code that we have\n",
    "discussed in class:"
   ]
  },
  {
   "cell_type": "code",
   "execution_count": 4,
   "metadata": {},
   "outputs": [
    {
     "name": "stdout",
     "output_type": "stream",
     "text": [
      "[2.03531271 2.93607314 2.24526246 2.64252602 2.56470982 2.58789584\n",
      " 2.4683818  2.36857867 2.51865163 2.47534351]\n"
     ]
    }
   ],
   "source": [
    "import matplotlib.pyplot as plt\n",
    "import pandas as pd\n",
    "import numpy as np\n",
    "import math\n",
    "from scipy import stats\n",
    "\n",
    "from scipy.stats import uniform\n",
    "x = uniform.rvs(size=10)\n",
    "a = 2\n",
    "b = 3\n",
    "randoms  = a + (b-a)*x\n",
    "print(randoms)"
   ]
  },
  {
   "cell_type": "markdown",
   "metadata": {},
   "source": [
    "**Your task:**\n",
    "\n",
    "1. Based on the code above, write a function that generates uniformly distributed random numbers. There are several requirements for your function:\n",
    "    * It should accept 3 parameters: \n",
    "        * `bottom` - the lower boundary of the generated numbers\n",
    "        * `ceiling` - the upper boundary of the generated numbers\n",
    "        * `count` - how many numbers to generate\n",
    "    * It should return an array of uniformly distributed random numbers\n",
    "\n",
    "1. Call your function with 2 sets of params below:\n",
    "    * bottom=10, ceiling=15, count=100\n",
    "    * bottom=10, ceiling=60, count=1,000\n",
    "\n",
    "1. Plot the uniform distributions generated above using histograms, where x axis is the value and y axis is the count. Let the histogram's number of bins be 10.\n",
    "\n",
    "Your output should look like below:\n",
    "\n",
    "![uniform distribution](ud.png)"
   ]
  },
  {
   "cell_type": "code",
   "execution_count": 2,
   "metadata": {},
   "outputs": [],
   "source": [
    "# your code here\n",
    "#1\n",
    "def generate_uniform(bottom, ceiling, count):\n",
    "    x = stats.uniform.rvs(size=count)\n",
    "    print(x)\n",
    "    a = bottom\n",
    "    b = ceiling\n",
    "    randoms = a + (b-a)*x\n",
    "    return randoms"
   ]
  },
  {
   "cell_type": "code",
   "execution_count": 5,
   "metadata": {},
   "outputs": [
    {
     "name": "stdout",
     "output_type": "stream",
     "text": [
      "[0.67220999 0.09557012 0.36590746 0.25888065 0.64848314 0.15956525\n",
      " 0.34241922 0.58740262 0.3615077  0.46963634 0.69518543 0.83490258\n",
      " 0.09306227 0.04645616 0.27286965 0.39299572 0.38673241 0.9987248\n",
      " 0.00287126 0.57226169 0.1486682  0.11169728 0.49916323 0.7739613\n",
      " 0.90930153 0.13908904 0.29667154 0.84397464 0.85067592 0.33983048\n",
      " 0.70875586 0.54270844 0.96472685 0.13420344 0.60866531 0.22119094\n",
      " 0.18676898 0.3563264  0.45194716 0.90447011 0.92999038 0.79392698\n",
      " 0.57846346 0.94048075 0.1278816  0.41260841 0.50890728 0.07081242\n",
      " 0.78797731 0.5854798  0.29370678 0.64097531 0.53299954 0.75675629\n",
      " 0.22073554 0.25042003 0.67501247 0.10028097 0.22496222 0.26401816\n",
      " 0.45440465 0.41571524 0.5017982  0.77092256 0.09516598 0.83695388\n",
      " 0.46838652 0.43108058 0.98500069 0.68705206 0.77373296 0.66374227\n",
      " 0.98697442 0.76943186 0.80729183 0.79389293 0.16554285 0.95435003\n",
      " 0.3774564  0.96877817 0.38141335 0.37648532 0.03466444 0.61678168\n",
      " 0.38362222 0.33746609 0.94712802 0.955086   0.02770348 0.2975218\n",
      " 0.82718326 0.0124838  0.50255663 0.29066109 0.3326707  0.15789134\n",
      " 0.55087451 0.80529986 0.11107601 0.75986095]\n",
      "[0.51475429 0.63745785 0.25445863 0.33957458 0.82977928 0.66408834\n",
      " 0.47213599 0.35434005 0.27778609 0.93025191 0.73045441 0.41314945\n",
      " 0.23582675 0.1407804  0.06520521 0.67721738 0.5337469  0.20462557\n",
      " 0.48522759 0.91976005 0.89561259 0.76105753 0.56325391 0.68695786\n",
      " 0.71458871 0.36709139 0.80949122 0.1071941  0.91456535 0.76550153\n",
      " 0.38688163 0.13957269 0.07488315 0.02244489 0.65751111 0.21077613\n",
      " 0.62150799 0.95712855 0.54079334 0.90111986 0.07768584 0.3283147\n",
      " 0.41637542 0.51531601 0.12994888 0.31974598 0.54738301 0.47465683\n",
      " 0.48830301 0.41478928 0.50368443 0.05758047 0.09604955 0.93125056\n",
      " 0.56628994 0.93867749 0.14871434 0.6221343  0.17898692 0.70396277\n",
      " 0.92099214 0.10607845 0.84215224 0.43400992 0.14038709 0.27470103\n",
      " 0.52311255 0.5063061  0.16640999 0.15890583 0.60904835 0.6259615\n",
      " 0.41062861 0.23006921 0.16962026 0.90290531 0.83835425 0.88472863\n",
      " 0.15454573 0.91793084 0.79060809 0.69616274 0.44740638 0.32202908\n",
      " 0.63029522 0.86373973 0.11362842 0.84004418 0.34722917 0.57284596\n",
      " 0.81884801 0.15371927 0.72488362 0.55305839 0.5168342  0.22050377\n",
      " 0.47218548 0.66748249 0.8001771  0.92685574 0.71153029 0.34955845\n",
      " 0.81765975 0.61812742 0.18603185 0.53345641 0.14221912 0.31686224\n",
      " 0.28857307 0.44678485 0.58243292 0.71147266 0.07195082 0.93087632\n",
      " 0.01893053 0.19289411 0.56262767 0.55924909 0.41895105 0.05671444\n",
      " 0.01448208 0.81552191 0.87308716 0.81629125 0.61331488 0.56167888\n",
      " 0.29212883 0.67687695 0.23121644 0.69582184 0.78047837 0.30667751\n",
      " 0.92860109 0.06791121 0.47225391 0.72876738 0.95961794 0.34331859\n",
      " 0.90525291 0.06157147 0.14283338 0.0960483  0.32907557 0.57539635\n",
      " 0.12586634 0.04811511 0.43205231 0.59590876 0.77115541 0.7734786\n",
      " 0.63662147 0.14841174 0.33601953 0.66675737 0.034698   0.36225344\n",
      " 0.89621997 0.22805921 0.47667924 0.31986252 0.28239193 0.20159628\n",
      " 0.09438341 0.43867861 0.02730171 0.16879958 0.31838842 0.35847175\n",
      " 0.11878105 0.23181325 0.23829197 0.10867011 0.46115447 0.08831598\n",
      " 0.9700458  0.90014021 0.76870843 0.61936905 0.44271007 0.90985052\n",
      " 0.15513867 0.43760014 0.11397126 0.99242632 0.1911209  0.08118077\n",
      " 0.36208632 0.80686392 0.81201258 0.17521672 0.19278566 0.56669898\n",
      " 0.20766502 0.00712209 0.6889909  0.89350417 0.45579808 0.00406748\n",
      " 0.01061505 0.6701626  0.37374061 0.60869094 0.97879764 0.07063023\n",
      " 0.70574239 0.08080117 0.10583119 0.10998979 0.41156849 0.09979427\n",
      " 0.85847558 0.60814524 0.61556829 0.98565256 0.89538881 0.13120317\n",
      " 0.33629158 0.68756464 0.45151954 0.1147454  0.09877343 0.40103805\n",
      " 0.06610185 0.77849786 0.02399571 0.1777064  0.79144173 0.52251109\n",
      " 0.59822962 0.10984362 0.6757192  0.896288   0.54943819 0.93226476\n",
      " 0.74298331 0.69403212 0.91223119 0.3221227  0.27967741 0.80732061\n",
      " 0.43315033 0.55471076 0.36418344 0.86520183 0.66757622 0.74468364\n",
      " 0.39657064 0.1708706  0.72065218 0.41354663 0.21055073 0.08712632\n",
      " 0.70001064 0.31950082 0.10483223 0.95248366 0.34653298 0.93101879\n",
      " 0.398596   0.67912023 0.20124988 0.57960953 0.03781714 0.92788201\n",
      " 0.28812672 0.74091721 0.04332553 0.08979722 0.46192312 0.84841931\n",
      " 0.50858535 0.85983914 0.55834586 0.32847864 0.33213293 0.20073508\n",
      " 0.39442403 0.89205679 0.34155476 0.11404662 0.38100354 0.94294203\n",
      " 0.53982444 0.59928026 0.87405578 0.88118153 0.27287278 0.24364876\n",
      " 0.79967423 0.01402693 0.39542013 0.45686736 0.54518359 0.53582678\n",
      " 0.93185434 0.50174962 0.18733294 0.10261117 0.22925149 0.14747851\n",
      " 0.16442597 0.51941355 0.5613219  0.9285612  0.84182592 0.22302428\n",
      " 0.75302214 0.46645772 0.54740452 0.71565252 0.25372199 0.61088301\n",
      " 0.43826345 0.92758495 0.2956662  0.76849373 0.50396626 0.05125055\n",
      " 0.32821588 0.33999819 0.66587813 0.7814612  0.26236055 0.09601286\n",
      " 0.25042979 0.50296662 0.86839155 0.32427195 0.5632421  0.86088743\n",
      " 0.91698314 0.35336231 0.72285252 0.88100078 0.69107093 0.18434328\n",
      " 0.51337351 0.70102584 0.78784943 0.74415804 0.16756221 0.20892745\n",
      " 0.6328703  0.15440873 0.87145141 0.46107122 0.114253   0.6390843\n",
      " 0.96723152 0.90840669 0.98527721 0.14974353 0.85115639 0.94614752\n",
      " 0.39942931 0.91002127 0.79484959 0.13583464 0.44320739 0.95615122\n",
      " 0.3463064  0.30177635 0.30667411 0.68128535 0.32946432 0.45067447\n",
      " 0.81601797 0.00125319 0.40867623 0.58618579 0.58182232 0.80664774\n",
      " 0.9790612  0.71035192 0.1906164  0.44462322 0.04607941 0.12473296\n",
      " 0.63213812 0.2186134  0.30031573 0.06083943 0.83331125 0.61587371\n",
      " 0.30905697 0.24012972 0.34216838 0.61180846 0.82117245 0.98912084\n",
      " 0.97283088 0.37132252 0.62235723 0.55088941 0.97173633 0.41307636\n",
      " 0.01539767 0.51720724 0.34393751 0.21743032 0.19385397 0.00718152\n",
      " 0.94234252 0.96563543 0.42649869 0.2212677  0.52817913 0.92161281\n",
      " 0.93524333 0.49828446 0.57404127 0.98213632 0.08056093 0.20663007\n",
      " 0.15861154 0.71791701 0.87501991 0.10063534 0.50234901 0.84099831\n",
      " 0.05105772 0.05359722 0.52164851 0.8035071  0.38377053 0.7339974\n",
      " 0.88584906 0.68418982 0.03229587 0.3264759  0.14787075 0.00673671\n",
      " 0.85274248 0.40272937 0.62604813 0.86640937 0.72418732 0.74814932\n",
      " 0.34145108 0.0468113  0.55987453 0.5272013  0.58197297 0.89532039\n",
      " 0.34390606 0.20164204 0.3728256  0.51147602 0.56205564 0.30051361\n",
      " 0.37627096 0.91863047 0.88314958 0.25996614 0.78992769 0.9648197\n",
      " 0.98979948 0.25102831 0.30690104 0.23587667 0.39423827 0.88927668\n",
      " 0.26746544 0.04132479 0.83969434 0.12346588 0.99659302 0.2134017\n",
      " 0.97423945 0.31654222 0.67812051 0.35268341 0.9286612  0.56309361\n",
      " 0.8863406  0.92478453 0.05421373 0.21973808 0.47778831 0.53379456\n",
      " 0.69739826 0.5936334  0.7364554  0.51511626 0.48605022 0.421863\n",
      " 0.59405031 0.06502803 0.82255766 0.57343426 0.17164691 0.07390182\n",
      " 0.09784075 0.59128181 0.14658931 0.4892835  0.07591163 0.64095851\n",
      " 0.71840643 0.89339486 0.36282612 0.28554385 0.03250281 0.7514809\n",
      " 0.02671454 0.32747524 0.0412234  0.60245287 0.8715198  0.88038912\n",
      " 0.30950254 0.78180984 0.74878051 0.80489808 0.14000849 0.40227844\n",
      " 0.84838913 0.5415857  0.53479738 0.70493398 0.66079261 0.99139498\n",
      " 0.61949514 0.72520503 0.51742706 0.28691713 0.09806334 0.83883309\n",
      " 0.65336398 0.44984967 0.45770802 0.02737672 0.51988907 0.59443222\n",
      " 0.41051674 0.47415878 0.36544191 0.49969558 0.21903579 0.38107214\n",
      " 0.88573048 0.86944816 0.3205606  0.38417855 0.72437119 0.39790542\n",
      " 0.84662867 0.26262859 0.44840517 0.99341284 0.30214584 0.11339229\n",
      " 0.02989003 0.42466093 0.84859343 0.90435389 0.66052416 0.31508044\n",
      " 0.07646221 0.57574499 0.03201227 0.57757002 0.12374603 0.2959935\n",
      " 0.99379743 0.47841208 0.96789439 0.42026048 0.67072011 0.11118778\n",
      " 0.93849749 0.32430883 0.431466   0.77013081 0.27805756 0.41569347\n",
      " 0.15462657 0.37769453 0.78633993 0.55365446 0.5295856  0.11578668\n",
      " 0.66836572 0.93072459 0.60124455 0.52974753 0.10439235 0.1227873\n",
      " 0.86236769 0.04038187 0.2380381  0.58210303 0.35392159 0.57582893\n",
      " 0.29329505 0.02429586 0.71178869 0.18846224 0.03136275 0.05508683\n",
      " 0.27006016 0.58521175 0.46553296 0.38964906 0.32393629 0.37529463\n",
      " 0.17878349 0.46792901 0.74847491 0.81746475 0.04295312 0.43757105\n",
      " 0.05898949 0.32116345 0.26226088 0.53112789 0.23618011 0.90922617\n",
      " 0.59810885 0.25740379 0.64093859 0.3619661  0.83164507 0.62588259\n",
      " 0.37031692 0.77489729 0.4851546  0.11169752 0.34810647 0.60969896\n",
      " 0.60954584 0.90315044 0.85735265 0.82963451 0.53952093 0.10675379\n",
      " 0.21485201 0.47372752 0.31409282 0.87918747 0.06438696 0.69028891\n",
      " 0.76750448 0.32058799 0.61133132 0.56571837 0.8972548  0.95505725\n",
      " 0.97654498 0.33363052 0.39508551 0.1068255  0.41376516 0.79027785\n",
      " 0.58747202 0.74087179 0.15773906 0.05219523 0.04229963 0.22705359\n",
      " 0.18486566 0.69678035 0.16442952 0.82793182 0.80393572 0.40375339\n",
      " 0.18044854 0.06813925 0.96758002 0.21331206 0.5797003  0.27990533\n",
      " 0.35429703 0.48334446 0.49322584 0.18712983 0.00490942 0.95149064\n",
      " 0.40956783 0.88431236 0.65795904 0.80919203 0.03397582 0.55019296\n",
      " 0.1858216  0.69064591 0.90347319 0.89821972 0.05499995 0.77629184\n",
      " 0.41587543 0.58646881 0.54454218 0.38120142 0.9524733  0.88436762\n",
      " 0.70019143 0.52026918 0.27213686 0.21290244 0.43846325 0.70741962\n",
      " 0.08673767 0.03474633 0.97597288 0.79590484 0.82007984 0.75562649\n",
      " 0.1762994  0.75864306 0.27528416 0.02327517 0.90764685 0.02012816\n",
      " 0.14636609 0.80991048 0.15903338 0.2409821  0.17433171 0.86607347\n",
      " 0.43866388 0.61411683 0.69941061 0.47479021 0.41520754 0.80348789\n",
      " 0.61685463 0.12962499 0.09996207 0.58583264 0.27654746 0.0711652\n",
      " 0.58699179 0.80775825 0.95783761 0.89611284 0.44283924 0.71310879\n",
      " 0.47292313 0.9690979  0.30373773 0.34812692 0.01306307 0.19197743\n",
      " 0.69555697 0.98049943 0.42888237 0.74574171 0.0978085  0.59277431\n",
      " 0.32533743 0.49898787 0.73452105 0.21702565 0.37272142 0.73118044\n",
      " 0.36809736 0.38267876 0.33281931 0.11124247 0.13668056 0.67352845\n",
      " 0.22461976 0.34602547 0.70691766 0.77705434 0.53492038 0.55738111\n",
      " 0.89526257 0.64226206 0.65780091 0.48717273 0.89647262 0.71038115\n",
      " 0.23581975 0.25545421 0.97777519 0.73273789 0.72222302 0.29934535\n",
      " 0.56568346 0.03232422 0.92431381 0.51384586 0.78137589 0.80386029\n",
      " 0.98291906 0.51269679 0.02542884 0.51684741 0.36140942 0.74081856\n",
      " 0.09643406 0.73051488 0.53446509 0.54356829 0.15534942 0.28186824\n",
      " 0.90136672 0.59855597 0.72979706 0.58442938 0.81983935 0.03653741\n",
      " 0.71458175 0.87738431 0.45111988 0.60442968 0.37364177 0.43602408\n",
      " 0.24827123 0.688757   0.3131892  0.91411011 0.82549676 0.14916899\n",
      " 0.21197926 0.26061231 0.26691759 0.68618647 0.33793357 0.92867235\n",
      " 0.17466268 0.39304199 0.79221954 0.47554715 0.24200112 0.90068801\n",
      " 0.48450592 0.27404487 0.76242295 0.36242766 0.41624131 0.29119241\n",
      " 0.42913283 0.41837809 0.9913091  0.73993444 0.97188548 0.35243982\n",
      " 0.62238169 0.10078264 0.18171598 0.23674848 0.3888875  0.33302833\n",
      " 0.24118507 0.25872989 0.74736656 0.64651882 0.65411525 0.88989656\n",
      " 0.02577862 0.96975115 0.57999838 0.37708166 0.83527111 0.45724555\n",
      " 0.59248473 0.51109743 0.33953669 0.74346788 0.95331797 0.06025606\n",
      " 0.92942757 0.45866249 0.86190056 0.83028934 0.64946269 0.50938439\n",
      " 0.70322331 0.22357929 0.13195895 0.37696399 0.74221605 0.593085\n",
      " 0.67853732 0.65489175 0.51649322 0.7431982  0.55020482 0.97282177\n",
      " 0.10728876 0.93302429 0.33408191 0.47493332 0.59506419 0.80887991\n",
      " 0.53583188 0.87008582 0.7921138  0.06708426 0.41359543 0.95822796\n",
      " 0.74963719 0.70776707 0.37534903 0.64023273 0.46175353 0.70205273\n",
      " 0.76357161 0.9845159  0.03286667 0.37789764 0.28364146 0.0020108\n",
      " 0.4633928  0.44636386 0.58741357 0.37143018 0.48543017 0.83165564\n",
      " 0.63301456 0.13125955 0.83984961 0.24591726 0.79991343 0.6197617\n",
      " 0.83511926 0.57045382 0.83138123 0.48192058 0.44073216 0.22348253\n",
      " 0.51944034 0.04336384 0.8402121  0.84310438 0.27508191 0.8158113\n",
      " 0.4644321  0.36598738 0.67119118 0.01107124 0.58147049 0.98185899\n",
      " 0.42424064 0.61293138 0.34825188 0.04668946 0.16873478 0.73552279\n",
      " 0.70319913 0.14389984 0.16675557 0.91313488 0.17426403 0.30799906\n",
      " 0.51278081 0.6599791  0.12425749 0.22235342 0.02656178 0.15598298\n",
      " 0.65533538 0.69477272 0.34521235 0.21562228 0.06350962 0.96648873\n",
      " 0.0299003  0.98196757 0.38602481 0.64404862 0.03279798 0.71075343\n",
      " 0.31823638 0.17600312 0.88813156 0.42191539 0.198223   0.10768384\n",
      " 0.63108968 0.55408107 0.24587087 0.76606073 0.23150309 0.30183369\n",
      " 0.33104189 0.26415488 0.25290564 0.41043057 0.7510484  0.22441513\n",
      " 0.59821488 0.58831197 0.82015436 0.26511564 0.14507569 0.76499812\n",
      " 0.47203337 0.07046439 0.86901475 0.96059198 0.37716191 0.27419856\n",
      " 0.30636007 0.86275791 0.78822012 0.14987035]\n"
     ]
    }
   ],
   "source": [
    "#2\n",
    "u1 = generate_uniform(bottom=10, ceiling=15, count=100)\n",
    "u2= generate_uniform(bottom=10, ceiling=60, count=1000)"
   ]
  },
  {
   "cell_type": "code",
   "execution_count": 7,
   "metadata": {},
   "outputs": [
    {
     "data": {
      "image/png": "[encoded data removed]",
      "text/plain": [
       "<Figure size 432x288 with 2 Axes>"
      ]
     },
     "metadata": {
      "needs_background": "light"
     },
     "output_type": "display_data"
    }
   ],
   "source": [
    "#3\n",
    "fig, (ax1, ax2) = plt.subplots(1, 2, sharey=True)\n",
    "ax1.hist(u1)\n",
    "ax2.hist(u2)\n",
    "plt.show()"
   ]
  },
  {
   "cell_type": "markdown",
   "metadata": {},
   "source": [
    "How are the two distributions different?"
   ]
  },
  {
   "cell_type": "code",
   "execution_count": 8,
   "metadata": {},
   "outputs": [
    {
     "name": "stdout",
     "output_type": "stream",
     "text": [
      "The range of values is differ between the two distributions\n"
     ]
    }
   ],
   "source": [
    "# your answer here:\n",
    "print('The range of values is differ between the two distributions')"
   ]
  },
  {
   "cell_type": "markdown",
   "metadata": {},
   "source": [
    "## Normal Distribution\n",
    "\n",
    "1. In the same way in the Uniform Distribution challenge, write a function that generates normally distributed random numbers.\n",
    "1. Generate 1,000 normally distributed numbers with the average of 10 and standard deviation of 1\n",
    "1. Generate 1,000 normally distributed numbers with the average of 10 and standard deviation of 50\n",
    "2. Plot the distributions of the data generated.\n",
    "\n",
    "Expected output:\n",
    "\n",
    "![normal distribution](nd.png)"
   ]
  },
  {
   "cell_type": "code",
   "execution_count": 9,
   "metadata": {},
   "outputs": [
    {
     "data": {
      "image/png": "[encoded data removed]",
      "text/plain": [
       "<Figure size 432x288 with 2 Axes>"
      ]
     },
     "metadata": {
      "needs_background": "light"
     },
     "output_type": "display_data"
    }
   ],
   "source": [
    "# your code here\n",
    "#1\n",
    "def generate_normal(mean, std):\n",
    "    normal = stats.norm(mean, std) \n",
    "    return normal.rvs(size=1000)\n",
    "\n",
    "#2\n",
    "n1 = generate_normal(10, 1)\n",
    "\n",
    "#3\n",
    "n2 = generate_normal(10, 50)\n",
    "\n",
    "#4\n",
    "fig, (ax1, ax2) = plt.subplots(1, 2, sharey = True)\n",
    "ax1.hist(n1, bins=50)\n",
    "ax2.hist(n2, bins=50)\n",
    "plt.show()"
   ]
  },
  {
   "cell_type": "markdown",
   "metadata": {},
   "source": [
    "How are the two distributions different?"
   ]
  },
  {
   "cell_type": "code",
   "execution_count": null,
   "metadata": {},
   "outputs": [],
   "source": [
    "# your answer here:\n",
    "print('The range of values is completely different. The fist one is more narrow and taller.')"
   ]
  },
  {
   "cell_type": "markdown",
   "metadata": {},
   "source": [
    "## Normal Distribution of Real Data\n",
    "\n",
    "In this challenge we are going to take a look the real data. We will use vehicles.csv file for this exercise"
   ]
  },
  {
   "cell_type": "markdown",
   "metadata": {},
   "source": [
    "First import vehicles.csv.\n",
    "Then plot the histograms for the following variables:\n",
    "\n",
    "1. Fuel Barrels/Year"
   ]
  },
  {
   "cell_type": "code",
   "execution_count": 10,
   "metadata": {},
   "outputs": [
    {
     "data": {
      "text/html": [
       "<div>\n",
       "<style scoped>\n",
       "    .dataframe tbody tr th:only-of-type {\n",
       "        vertical-align: middle;\n",
       "    }\n",
       "\n",
       "    .dataframe tbody tr th {\n",
       "        vertical-align: top;\n",
       "    }\n",
       "\n",
       "    .dataframe thead th {\n",
       "        text-align: right;\n",
       "    }\n",
       "</style>\n",
       "<table border=\"1\" class=\"dataframe\">\n",
       "  <thead>\n",
       "    <tr style=\"text-align: right;\">\n",
       "      <th></th>\n",
       "      <th>Make</th>\n",
       "      <th>Model</th>\n",
       "      <th>Year</th>\n",
       "      <th>Engine Displacement</th>\n",
       "      <th>Cylinders</th>\n",
       "      <th>Transmission</th>\n",
       "      <th>Drivetrain</th>\n",
       "      <th>Vehicle Class</th>\n",
       "      <th>Fuel Type</th>\n",
       "      <th>Fuel Barrels/Year</th>\n",
       "      <th>City MPG</th>\n",
       "      <th>Highway MPG</th>\n",
       "      <th>Combined MPG</th>\n",
       "      <th>CO2 Emission Grams/Mile</th>\n",
       "      <th>Fuel Cost/Year</th>\n",
       "    </tr>\n",
       "  </thead>\n",
       "  <tbody>\n",
       "    <tr>\n",
       "      <th>0</th>\n",
       "      <td>AM General</td>\n",
       "      <td>DJ Po Vehicle 2WD</td>\n",
       "      <td>1984</td>\n",
       "      <td>2.5</td>\n",
       "      <td>4.0</td>\n",
       "      <td>Automatic 3-spd</td>\n",
       "      <td>2-Wheel Drive</td>\n",
       "      <td>Special Purpose Vehicle 2WD</td>\n",
       "      <td>Regular</td>\n",
       "      <td>19.388824</td>\n",
       "      <td>18</td>\n",
       "      <td>17</td>\n",
       "      <td>17</td>\n",
       "      <td>522.764706</td>\n",
       "      <td>1950</td>\n",
       "    </tr>\n",
       "    <tr>\n",
       "      <th>1</th>\n",
       "      <td>AM General</td>\n",
       "      <td>FJ8c Post Office</td>\n",
       "      <td>1984</td>\n",
       "      <td>4.2</td>\n",
       "      <td>6.0</td>\n",
       "      <td>Automatic 3-spd</td>\n",
       "      <td>2-Wheel Drive</td>\n",
       "      <td>Special Purpose Vehicle 2WD</td>\n",
       "      <td>Regular</td>\n",
       "      <td>25.354615</td>\n",
       "      <td>13</td>\n",
       "      <td>13</td>\n",
       "      <td>13</td>\n",
       "      <td>683.615385</td>\n",
       "      <td>2550</td>\n",
       "    </tr>\n",
       "    <tr>\n",
       "      <th>2</th>\n",
       "      <td>AM General</td>\n",
       "      <td>Post Office DJ5 2WD</td>\n",
       "      <td>1985</td>\n",
       "      <td>2.5</td>\n",
       "      <td>4.0</td>\n",
       "      <td>Automatic 3-spd</td>\n",
       "      <td>Rear-Wheel Drive</td>\n",
       "      <td>Special Purpose Vehicle 2WD</td>\n",
       "      <td>Regular</td>\n",
       "      <td>20.600625</td>\n",
       "      <td>16</td>\n",
       "      <td>17</td>\n",
       "      <td>16</td>\n",
       "      <td>555.437500</td>\n",
       "      <td>2100</td>\n",
       "    </tr>\n",
       "    <tr>\n",
       "      <th>3</th>\n",
       "      <td>AM General</td>\n",
       "      <td>Post Office DJ8 2WD</td>\n",
       "      <td>1985</td>\n",
       "      <td>4.2</td>\n",
       "      <td>6.0</td>\n",
       "      <td>Automatic 3-spd</td>\n",
       "      <td>Rear-Wheel Drive</td>\n",
       "      <td>Special Purpose Vehicle 2WD</td>\n",
       "      <td>Regular</td>\n",
       "      <td>25.354615</td>\n",
       "      <td>13</td>\n",
       "      <td>13</td>\n",
       "      <td>13</td>\n",
       "      <td>683.615385</td>\n",
       "      <td>2550</td>\n",
       "    </tr>\n",
       "    <tr>\n",
       "      <th>4</th>\n",
       "      <td>ASC Incorporated</td>\n",
       "      <td>GNX</td>\n",
       "      <td>1987</td>\n",
       "      <td>3.8</td>\n",
       "      <td>6.0</td>\n",
       "      <td>Automatic 4-spd</td>\n",
       "      <td>Rear-Wheel Drive</td>\n",
       "      <td>Midsize Cars</td>\n",
       "      <td>Premium</td>\n",
       "      <td>20.600625</td>\n",
       "      <td>14</td>\n",
       "      <td>21</td>\n",
       "      <td>16</td>\n",
       "      <td>555.437500</td>\n",
       "      <td>2550</td>\n",
       "    </tr>\n",
       "  </tbody>\n",
       "</table>\n",
       "</div>"
      ],
      "text/plain": [
       "               Make                Model  Year  Engine Displacement  \\\n",
       "0        AM General    DJ Po Vehicle 2WD  1984                  2.5   \n",
       "1        AM General     FJ8c Post Office  1984                  4.2   \n",
       "2        AM General  Post Office DJ5 2WD  1985                  2.5   \n",
       "3        AM General  Post Office DJ8 2WD  1985                  4.2   \n",
       "4  ASC Incorporated                  GNX  1987                  3.8   \n",
       "\n",
       "   Cylinders     Transmission        Drivetrain                Vehicle Class  \\\n",
       "0        4.0  Automatic 3-spd     2-Wheel Drive  Special Purpose Vehicle 2WD   \n",
       "1        6.0  Automatic 3-spd     2-Wheel Drive  Special Purpose Vehicle 2WD   \n",
       "2        4.0  Automatic 3-spd  Rear-Wheel Drive  Special Purpose Vehicle 2WD   \n",
       "3        6.0  Automatic 3-spd  Rear-Wheel Drive  Special Purpose Vehicle 2WD   \n",
       "4        6.0  Automatic 4-spd  Rear-Wheel Drive                 Midsize Cars   \n",
       "\n",
       "  Fuel Type  Fuel Barrels/Year  City MPG  Highway MPG  Combined MPG  \\\n",
       "0   Regular          19.388824        18           17            17   \n",
       "1   Regular          25.354615        13           13            13   \n",
       "2   Regular          20.600625        16           17            16   \n",
       "3   Regular          25.354615        13           13            13   \n",
       "4   Premium          20.600625        14           21            16   \n",
       "\n",
       "   CO2 Emission Grams/Mile  Fuel Cost/Year  \n",
       "0               522.764706            1950  \n",
       "1               683.615385            2550  \n",
       "2               555.437500            2100  \n",
       "3               683.615385            2550  \n",
       "4               555.437500            2550  "
      ]
     },
     "execution_count": 10,
     "metadata": {},
     "output_type": "execute_result"
    }
   ],
   "source": [
    "# your code here\n",
    "import pandas as pd \n",
    "vehicles = pd.read_csv('vehicles.csv')\n",
    "vehicles.head()"
   ]
  },
  {
   "cell_type": "code",
   "execution_count": 13,
   "metadata": {},
   "outputs": [
    {
     "data": {
      "image/png": "[encoded data removed]",
      "text/plain": [
       "<Figure size 432x288 with 1 Axes>"
      ]
     },
     "metadata": {
      "needs_background": "light"
     },
     "output_type": "display_data"
    }
   ],
   "source": [
    "vehicles['Fuel Barrels/Year'].hist()\n",
    "plt.show()"
   ]
  },
  {
   "cell_type": "markdown",
   "metadata": {},
   "source": [
    "2. CO2 Emission Grams/Mile "
   ]
  },
  {
   "cell_type": "code",
   "execution_count": 14,
   "metadata": {},
   "outputs": [
    {
     "data": {
      "image/png": "[encoded data removed]",
      "text/plain": [
       "<Figure size 432x288 with 1 Axes>"
      ]
     },
     "metadata": {
      "needs_background": "light"
     },
     "output_type": "display_data"
    }
   ],
   "source": [
    "# your code here\n",
    "vehicles['CO2 Emission Grams/Mile'].hist()\n",
    "plt.show()"
   ]
  },
  {
   "cell_type": "markdown",
   "metadata": {},
   "source": [
    "3. Combined MPG"
   ]
  },
  {
   "cell_type": "code",
   "execution_count": 15,
   "metadata": {},
   "outputs": [
    {
     "data": {
      "image/png": "[encoded data removed]",
      "text/plain": [
       "<Figure size 432x288 with 1 Axes>"
      ]
     },
     "metadata": {
      "needs_background": "light"
     },
     "output_type": "display_data"
    }
   ],
   "source": [
    "# your code here\n",
    "vehicles['Combined MPG'].hist()\n",
    "plt.show()"
   ]
  },
  {
   "cell_type": "markdown",
   "metadata": {},
   "source": [
    "Which one(s) of the variables are nearly normally distributed? How do you know?"
   ]
  },
  {
   "cell_type": "code",
   "execution_count": 7,
   "metadata": {},
   "outputs": [
    {
     "name": "stdout",
     "output_type": "stream",
     "text": [
      "Fuel skewd:  0.6382445784906978\n",
      "CO2 skewd:  0.7416608937445334\n",
      "MPG skewd:  1.0677281511016457\n"
     ]
    }
   ],
   "source": [
    "# you answer here:\n",
    "\n",
    "import numpy as np\n",
    "import scipy.stats as st\n",
    "\n",
    "# skedness in a norm dist is 0\n",
    "print('Fuel skewd: ', st.skew(vehicles['Fuel Barrels/Year']))\n",
    "print('CO2 skewd: ', st.skew(vehicles['CO2 Emission Grams/Mile']))\n",
    "print('MPG skewd: ', st.skew(vehicles['Combined MPG']))"
   ]
  },
  {
   "cell_type": "code",
   "execution_count": 11,
   "metadata": {},
   "outputs": [
    {
     "name": "stdout",
     "output_type": "stream",
     "text": [
      "Fuel median/mean distance:  0.014831049027713492\n",
      "CO2 median/mean distance:  0.015946216289835207\n",
      "MPG median/mean distance:  0.04663090946393502\n"
     ]
    }
   ],
   "source": [
    "#if distance between mean and median = 0 than it is a nor mal distribution\n",
    "print('Fuel median/mean distance: ', (vehicles['Fuel Barrels/Year'].mean()-np.percentile(vehicles['Fuel Barrels/Year'],50))/vehicles['Fuel Barrels/Year'].mean())\n",
    "print('CO2 median/mean distance: ', (vehicles['CO2 Emission Grams/Mile'].mean()-np.percentile(vehicles['CO2 Emission Grams/Mile'],50))/vehicles['CO2 Emission Grams/Mile'].mean())\n",
    "print('MPG median/mean distance: ', (vehicles['Combined MPG'].mean()-np.percentile(vehicles['Combined MPG'],50))/vehicles['Combined MPG'].mean())"
   ]
  },
  {
   "cell_type": "code",
   "execution_count": null,
   "metadata": {},
   "outputs": [],
   "source": [
    "#68% of the data is within 1 std of the mean\n",
    "m = vehicles['Fuel Barrels/Year'].mean()\n",
    "s = vehicles['Fuel Barrels/Year'].std(ddof=1)\n",
    "n = [(vehicles['Fuel Barrels/Year']>m-s)&(vehicles['Fuel Barrels/Year']<m+s)]['Fuel Barrels/Year'].count()\n",
    "T = vehicles['Fuel Barrels/Year'].count()\n",
    "print('fuel 1-sigma: ',n/T)\n",
    "\n",
    "m = vehicles['CO2 Emission Grams/Mile'].mean()\n",
    "s = vehicles['CO2 Emission Grams/Mile'].std(ddof=1)\n",
    "n = [(vehicles['CO2 Emission Grams/Mile']>m-s)&(vehicles['CO2 Emission Grams/Mile']<m+s)]['CO2 Emission Grams/Mile'].count()\n",
    "T = vehicles['CO2 Emission Grams/Mile'].count()\n",
    "print('CO2 1-sigma: ',n/T)\n",
    "\n",
    "m = vehicles['Combined MPG'].mean()\n",
    "s = vehicles['Combined MPG'].std(ddof=1)\n",
    "n = [(vehicles['Combined MPG']>m-s)&(vehicles['Combined MPG']<m+s)]['Combined MPG'].count()\n",
    "T = vehicles['Combined MPG'].count()\n",
    "print('MPG 1-sigma: ',n/T)"
   ]
  },
  {
   "cell_type": "code",
   "execution_count": 15,
   "metadata": {},
   "outputs": [
    {
     "data": {
      "text/plain": [
       "<function matplotlib.pyplot.show(close=None, block=None)>"
      ]
     },
     "execution_count": 15,
     "metadata": {},
     "output_type": "execute_result"
    },
    {
     "data": {
      "image/png": "[encoded data removed]",
      "text/plain": [
       "<Figure size 432x288 with 1 Axes>"
      ]
     },
     "metadata": {
      "needs_background": "light"
     },
     "output_type": "display_data"
    }
   ],
   "source": [
    "import matplotlib.pyplot as plt\n",
    "from scipy.stats import norm\n",
    "\n",
    "plt.hist(vehicles['Fuel Barrels/Year'])\n",
    "m = vehicles['Fuel Barrels/Year'].mean()\n",
    "s = vehicles['Fuel Barrels/Year'].std()\n",
    "n = vehicles['Fuel Barrels/Year'].count()\n",
    "plt.hist(norm.rvs(m,s,n))\n",
    "plt.show\n",
    "\n",
    "plt.hist(vehicles['CO2 Emission Grams/Mile'])\n",
    "m = vehicles['CO2 Emission Grams/Mile'].mean()\n",
    "s = vehicles['CO2 Emission Grams/Mile'].std()\n",
    "n = vehicles['CO2 Emission Grams/Mile'].count()\n",
    "plt.hist(norm.rvs(m,s,n))\n",
    "plt.show\n",
    "\n",
    "plt.hist(vehicles['Combined MPG'])\n",
    "m = vehicles['Combined MPG'].mean()\n",
    "s = vehicles['Combined MPG'].std()\n",
    "n = vehicles['Combined MPG'].count()\n",
    "plt.hist(norm.rvs(m,s,n))\n",
    "plt.show"
   ]
  },
  {
   "cell_type": "markdown",
   "metadata": {},
   "source": [
    "## Exponential Distribution"
   ]
  },
  {
   "cell_type": "markdown",
   "metadata": {},
   "source": [
    "1. Using `numpy.random.exponential`, create a function that returns a list of numbers exponentially distributed with the mean of 10. \n",
    "\n",
    "1. Use the function to generate two number sequences with a mean of 1 and 100 and a size of 1000.\n",
    "\n",
    "1. Plot the distributions as histograms with the number of bins as 100.\n",
    "\n",
    "Your output should look like below:\n",
    "\n",
    "![exponential distribution](ed.png)"
   ]
  },
  {
   "cell_type": "code",
   "execution_count": 17,
   "metadata": {},
   "outputs": [
    {
     "data": {
      "image/png": "[encoded data removed]",
      "text/plain": [
       "<Figure size 432x288 with 2 Axes>"
      ]
     },
     "metadata": {
      "needs_background": "light"
     },
     "output_type": "display_data"
    }
   ],
   "source": [
    "# your code here\n",
    "#1\n",
    "def generate_exp(mean):\n",
    "    return np.random.exponential(mean, 1000)\n",
    "\n",
    "#2\n",
    "e1 = generate_exp(1)\n",
    "e2 = generate_exp(100)\n",
    "\n",
    "#3\n",
    "fig, (ax1, ax2) = plt.subplots(1, 2, sharey = True)\n",
    "ax1.hist(e1, bins=100)\n",
    "ax2.hist(e2, bins=100)\n",
    "plt.show()"
   ]
  },
  {
   "cell_type": "markdown",
   "metadata": {},
   "source": [
    "How are the two distributions different?"
   ]
  },
  {
   "cell_type": "code",
   "execution_count": 18,
   "metadata": {},
   "outputs": [
    {
     "name": "stdout",
     "output_type": "stream",
     "text": [
      "range of values and the slope of the curve\n"
     ]
    }
   ],
   "source": [
    "# your answer here:\n",
    "print('range of values and the slope of the curve')"
   ]
  },
  {
   "cell_type": "markdown",
   "metadata": {},
   "source": [
    "## Exponential Distribution of Real Data\n",
    "\n",
    "Suppose that the amount of time one spends in a bank is exponentially distributed with mean as 10 minutes (i.e. λ = 1/10). What is the probability that a customer will spend less than fifteen minutes in the bank? \n",
    "\n",
    "Write a code in python to solve this problem"
   ]
  },
  {
   "cell_type": "code",
   "execution_count": null,
   "metadata": {},
   "outputs": [],
   "source": [
    "# your answer here\n",
    "# Hint: This is same as saying P(x<15)\n"
   ]
  },
  {
   "cell_type": "markdown",
   "metadata": {},
   "source": [
    "What is the probability that the customer will spend more than 15 minutes"
   ]
  },
  {
   "cell_type": "code",
   "execution_count": null,
   "metadata": {},
   "outputs": [],
   "source": [
    "# your answer here\n"
   ]
  }
 ],
 "metadata": {
  "kernelspec": {
   "display_name": "Python 3",
   "language": "python",
   "name": "python3"
  },
  "language_info": {
   "codemirror_mode": {
    "name": "ipython",
    "version": 3
   },
   "file_extension": ".py",
   "mimetype": "text/x-python",
   "name": "python",
   "nbconvert_exporter": "python",
   "pygments_lexer": "ipython3",
   "version": "3.8.5"
  }
 },
 "nbformat": 4,
 "nbformat_minor": 2
}
