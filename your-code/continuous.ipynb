{
 "cells": [
  {
   "cell_type": "markdown",
   "metadata": {},
   "source": [
    "# Before your start:\n",
    "\n",
    "    Read the README.md file\n",
    "    Comment as much as you can and use the resources (README.md file)\n",
    "    Happy learning!"
   ]
  },
  {
   "cell_type": "markdown",
   "metadata": {},
   "source": [
    "In this exercise, we  will generate random numbers from the continuous disributions we learned in the lesson. There are two ways to generate random numbers:\n",
    "\n",
    "1. Using the numpy library \n",
    "1. using the Scipy library \n",
    "\n",
    "Use either or both of the lbraries in this exercise."
   ]
  },
  {
   "cell_type": "markdown",
   "metadata": {},
   "source": [
    "## Uniform Distribution\n",
    "\n",
    "To generate uniform random numbers between any two given values using scipy, we can either use the following code or the code that we have\n",
    "discussed in class:"
   ]
  },
  {
   "cell_type": "code",
   "execution_count": 3,
   "metadata": {},
   "outputs": [],
   "source": [
    "from scipy import stats\n",
    "import matplotlib.pyplot as plt\n",
    "import pandas as pd\n",
    "import numpy as np\n",
    "import math"
   ]
  },
  {
   "cell_type": "code",
   "execution_count": 1,
   "metadata": {},
   "outputs": [
    {
     "name": "stderr",
     "output_type": "stream",
     "text": [
      "C:\\Users\\giusa\\anaconda3\\lib\\site-packages\\scipy\\__init__.py:146: UserWarning: A NumPy version >=1.16.5 and <1.23.0 is required for this version of SciPy (detected version 1.23.4\n",
      "  warnings.warn(f\"A NumPy version >={np_minversion} and <{np_maxversion}\"\n"
     ]
    },
    {
     "name": "stdout",
     "output_type": "stream",
     "text": [
      "[2.17407396 2.25801867 2.39377737 2.61898364 2.5450577  2.98463268\n",
      " 2.34356123 2.22458386 2.09600796 2.16318676]\n"
     ]
    }
   ],
   "source": [
    "from scipy.stats import uniform\n",
    "x = uniform.rvs(size=10)\n",
    "a = 2\n",
    "b = 3\n",
    "randoms  = a + (b-a)*x\n",
    "print(randoms)"
   ]
  },
  {
   "cell_type": "markdown",
   "metadata": {},
   "source": [
    "**Your task:**\n",
    "\n",
    "1. Based on the code above, write a function that generates uniformly distributed random numbers. There are several requirements for your function:\n",
    "    * It should accept 3 parameters: \n",
    "        * `bottom` - the lower boundary of the generated numbers\n",
    "        * `ceiling` - the upper boundary of the generated numbers\n",
    "        * `count` - how many numbers to generate\n",
    "    * It should return an array of uniformly distributed random numbers\n",
    "\n",
    "1. Call your function with 2 sets of params below:\n",
    "    * bottom=10, ceiling=15, count=100\n",
    "    * bottom=10, ceiling=60, count=1,000\n",
    "\n",
    "1. Plot the uniform distributions generated above using histograms, where x axis is the value and y axis is the count. Let the histogram's number of bins be 10.\n",
    "\n",
    "Your output should look like below:\n",
    "\n",
    "![uniform distribution](ud.png)"
   ]
  },
  {
   "cell_type": "code",
   "execution_count": 4,
   "metadata": {
    "collapsed": true
   },
   "outputs": [
    {
     "name": "stdout",
     "output_type": "stream",
     "text": [
      "[0.16293565 0.83186239 0.65395963 0.93656891 0.7674758  0.29200711\n",
      " 0.36322784 0.3542909  0.88699125 0.59414055 0.2202382  0.73895693\n",
      " 0.29058557 0.88646063 0.30090351 0.8743725  0.96562156 0.20403798\n",
      " 0.56982316 0.8282049  0.1792564  0.29263979 0.82877798 0.09964468\n",
      " 0.02046231 0.92959577 0.80965844 0.52905206 0.84620572 0.22597532\n",
      " 0.59262604 0.43189597 0.66853068 0.94877726 0.05287492 0.8048162\n",
      " 0.84626313 0.82184219 0.10030658 0.58751901 0.90219976 0.96701818\n",
      " 0.01350022 0.58153333 0.95642814 0.16147182 0.26899741 0.48543013\n",
      " 0.41950887 0.32918466 0.86187591 0.63635473 0.88241584 0.69864807\n",
      " 0.81883924 0.06612363 0.43684703 0.8480596  0.44801561 0.81706669\n",
      " 0.74660289 0.16923062 0.50098179 0.27135917 0.29646111 0.55655296\n",
      " 0.74883454 0.18950697 0.49565023 0.52668668 0.84956715 0.09348764\n",
      " 0.85624958 0.566917   0.28530001 0.51159253 0.15737678 0.47795091\n",
      " 0.18277944 0.97640111 0.21884089 0.90201104 0.01490364 0.45793321\n",
      " 0.25795131 0.53285221 0.42942259 0.21195848 0.40826014 0.54336656\n",
      " 0.23000874 0.38079933 0.07927982 0.06105572 0.51307615 0.83801574\n",
      " 0.83396479 0.99596584 0.81536655 0.63809733]\n",
      "[8.82771584e-01 2.82512283e-01 2.98924105e-01 3.65131577e-01\n",
      " 7.66414232e-01 4.16949403e-01 6.02110600e-01 3.66705639e-01\n",
      " 6.18433333e-01 9.21520171e-01 1.96570253e-01 7.00593237e-01\n",
      " 9.60363391e-01 3.29117188e-01 2.63383899e-01 1.86588381e-01\n",
      " 8.89590541e-02 4.89556674e-01 2.40885230e-01 7.28494460e-01\n",
      " 3.22295022e-01 7.99596330e-01 2.00088211e-01 3.72341697e-01\n",
      " 9.30750709e-01 8.46293229e-01 1.51015933e-01 6.75387189e-01\n",
      " 4.07190111e-01 6.24110236e-01 8.62843770e-01 4.31696698e-02\n",
      " 3.09397086e-01 2.20899190e-02 4.43421511e-01 6.05435186e-01\n",
      " 9.43533200e-01 1.81142802e-01 3.09556112e-01 8.30603184e-01\n",
      " 6.50673285e-01 7.99147219e-01 1.01219778e-01 1.43348271e-01\n",
      " 5.00821304e-01 9.07927872e-01 7.92671499e-01 7.21810229e-01\n",
      " 1.52998448e-01 3.62834385e-01 5.33256299e-01 1.44160725e-02\n",
      " 6.78185710e-01 9.64863520e-01 9.22964049e-01 2.06845841e-01\n",
      " 7.23846072e-01 1.34325901e-01 4.03157666e-02 9.33407296e-01\n",
      " 3.74233320e-01 7.46053202e-01 5.17086404e-01 5.81062590e-01\n",
      " 5.73554913e-02 4.96625778e-01 8.74646532e-01 6.10404654e-01\n",
      " 2.72476374e-01 8.63534202e-01 6.18747900e-01 4.66339955e-01\n",
      " 1.25730484e-01 6.89083701e-01 6.06457409e-01 3.10240942e-01\n",
      " 3.06503731e-01 8.34740435e-01 6.32755229e-01 8.14377347e-02\n",
      " 4.29934248e-01 1.89051368e-01 7.45915489e-02 3.11131715e-01\n",
      " 6.52410812e-02 3.15294859e-01 7.78669448e-01 2.83537917e-01\n",
      " 8.69790724e-01 9.64951998e-01 3.79954210e-02 7.70545383e-01\n",
      " 8.66670254e-01 8.99652337e-01 7.79404614e-01 4.14711831e-01\n",
      " 4.58997087e-01 5.20498305e-01 4.96421792e-01 7.82870024e-01\n",
      " 7.72883003e-01 5.23760591e-01 7.74262955e-01 6.79467395e-01\n",
      " 9.14538061e-01 6.95522221e-01 3.96027147e-01 9.41621118e-01\n",
      " 7.72316538e-01 2.44741710e-01 2.77493188e-01 6.00778662e-01\n",
      " 6.91339132e-01 8.45085583e-01 4.74999746e-01 7.88772396e-01\n",
      " 9.35864578e-01 3.50476983e-02 4.11158245e-01 7.15912661e-01\n",
      " 8.58817381e-01 7.64292185e-02 1.30856749e-01 8.58202281e-01\n",
      " 1.53497409e-01 6.89840950e-01 4.52629384e-01 3.03226141e-02\n",
      " 9.78445176e-01 9.49999498e-01 3.51964514e-01 9.18580617e-01\n",
      " 5.46878967e-01 4.46660421e-01 6.05243992e-01 2.80341007e-01\n",
      " 5.86580419e-01 4.66389607e-01 4.54399622e-02 5.80969137e-01\n",
      " 6.55690120e-01 6.67778424e-01 4.46748334e-01 6.65617765e-01\n",
      " 9.77707566e-01 9.41972100e-01 5.18470887e-01 4.25021799e-01\n",
      " 7.84743842e-01 6.73992865e-01 3.68447801e-01 9.75523207e-01\n",
      " 3.82639605e-01 9.67168782e-01 6.85590329e-01 9.83410162e-01\n",
      " 6.21963554e-01 2.96528965e-01 3.07100911e-02 5.88947575e-01\n",
      " 5.70644164e-01 1.18830447e-01 7.82162613e-01 7.75517470e-01\n",
      " 6.16961451e-01 9.49158244e-01 2.38654238e-01 6.84874650e-01\n",
      " 6.16562899e-01 2.31521668e-01 4.09838710e-02 7.34115246e-03\n",
      " 8.63404116e-01 2.18140586e-01 9.31236305e-01 7.86138941e-01\n",
      " 4.66385702e-01 5.81218237e-01 2.01879107e-01 9.68105933e-01\n",
      " 1.10699213e-01 1.82946908e-01 8.32484806e-01 2.26008495e-01\n",
      " 6.39420046e-01 8.72722016e-01 8.61344018e-01 5.63606731e-01\n",
      " 2.71033515e-01 9.04422770e-02 8.18675475e-01 3.34219025e-01\n",
      " 4.26971230e-01 6.66232429e-01 5.09137897e-01 8.15406543e-01\n",
      " 3.11858105e-01 2.21601348e-01 7.01180230e-01 8.13785539e-01\n",
      " 9.96558938e-01 6.19658259e-01 4.14880415e-01 5.88119420e-01\n",
      " 3.84881306e-01 4.17037441e-01 2.34502211e-01 2.51168475e-01\n",
      " 9.73066483e-01 4.60931524e-01 2.64182959e-01 4.65861369e-01\n",
      " 2.28619968e-01 3.39073327e-01 3.28558757e-01 2.81042265e-02\n",
      " 7.55545751e-01 9.08775541e-01 3.04867517e-01 4.55475883e-01\n",
      " 4.37722038e-01 7.31067419e-01 4.69793831e-01 3.62616509e-01\n",
      " 6.86909958e-01 2.00149275e-01 4.13622225e-01 8.89438283e-01\n",
      " 9.63827310e-01 1.28777387e-03 1.26712054e-01 3.84389713e-01\n",
      " 4.07805135e-01 1.46181351e-01 8.80362230e-01 7.34471751e-01\n",
      " 6.80519750e-01 3.57296163e-01 4.22417867e-01 6.08170109e-01\n",
      " 9.28087217e-01 6.52773637e-01 2.41339214e-01 9.39355722e-01\n",
      " 4.14053755e-01 2.96700110e-04 5.41303859e-01 2.57518846e-01\n",
      " 9.76914184e-01 2.32295675e-01 1.26409088e-02 7.15677970e-01\n",
      " 1.22955967e-01 8.77651419e-01 3.05869608e-01 7.62723619e-01\n",
      " 8.85556896e-01 5.21168646e-01 8.22266243e-01 1.40184797e-01\n",
      " 1.78862587e-01 1.26864712e-01 5.86891466e-01 8.87982777e-01\n",
      " 7.49747326e-01 9.73129587e-01 3.74381829e-01 4.68420536e-01\n",
      " 3.45162233e-01 6.96175211e-01 4.29446436e-01 5.12268165e-01\n",
      " 4.21776035e-01 7.24070915e-01 1.80824397e-02 1.16573230e-01\n",
      " 9.07713366e-02 7.17588215e-01 6.84723350e-02 3.31873282e-01\n",
      " 8.31877223e-01 8.69118384e-01 2.42822174e-01 6.13729087e-01\n",
      " 6.54911380e-01 3.19792762e-01 1.27136696e-01 9.53535078e-01\n",
      " 2.43384997e-01 9.30923241e-01 6.75110824e-01 5.99171092e-01\n",
      " 7.68046764e-01 9.47249325e-01 8.51657802e-01 5.46408674e-01\n",
      " 1.87111732e-01 4.86114084e-01 5.54673881e-01 6.85083069e-02\n",
      " 4.25472757e-01 6.69970691e-01 1.00206862e-01 2.08699778e-01\n",
      " 3.39669567e-01 9.88035618e-01 9.05333054e-01 2.98341706e-01\n",
      " 4.85279199e-01 2.17358482e-01 9.02857767e-01 7.76344473e-01\n",
      " 5.59921668e-01 4.66163318e-02 8.96527660e-01 1.92280646e-01\n",
      " 5.59335506e-01 2.07574741e-01 7.40196525e-01 1.84498281e-01\n",
      " 7.94587423e-01 1.49902965e-02 2.29330375e-01 7.47307078e-01\n",
      " 1.62447973e-01 2.37720832e-01 8.10973844e-01 9.49601033e-01\n",
      " 8.19850337e-01 7.68271897e-01 3.07696723e-01 8.77947572e-01\n",
      " 7.41567400e-01 7.48641172e-01 2.13451402e-01 2.45468940e-01\n",
      " 1.48384746e-01 4.03631470e-01 3.70187434e-01 2.79613768e-01\n",
      " 9.80457241e-01 8.20185403e-01 2.85718212e-01 7.90069962e-02\n",
      " 2.04618291e-01 9.27007496e-01 8.32015937e-01 5.37456747e-01\n",
      " 4.95884591e-01 6.64925894e-01 8.07436979e-01 3.60942173e-01\n",
      " 9.04197624e-01 7.99093409e-01 6.16718922e-01 9.81583582e-01\n",
      " 8.27769226e-01 8.81094837e-01 3.35806556e-01 4.28847648e-01\n",
      " 4.08554607e-01 2.97435445e-01 3.12611770e-01 9.78015361e-01\n",
      " 9.41050109e-01 3.10180795e-01 8.59823076e-01 3.88088106e-01\n",
      " 2.26424800e-01 2.57312900e-01 3.55200423e-01 2.36180131e-01\n",
      " 6.62692520e-02 7.33759973e-01 9.97122544e-02 6.46638785e-01\n",
      " 2.79622318e-01 4.29965268e-01 8.22798830e-01 4.26741461e-01\n",
      " 2.22393272e-01 1.07959419e-01 7.00903540e-01 1.54318176e-02\n",
      " 3.63141845e-01 2.63946855e-01 2.77346145e-01 3.22504112e-01\n",
      " 7.43103401e-02 9.52029873e-01 1.90160966e-02 3.02696044e-01\n",
      " 5.24297136e-01 7.05898623e-01 5.20379070e-01 6.98949218e-01\n",
      " 9.59411718e-01 5.29930795e-01 6.94394087e-01 3.89446943e-01\n",
      " 2.43121935e-01 9.99742563e-01 2.49940717e-01 8.99703764e-01\n",
      " 5.14059348e-01 8.89065736e-01 1.27812166e-01 2.49459657e-01\n",
      " 2.75078217e-01 7.94455467e-01 2.39887712e-02 1.44823067e-02\n",
      " 8.60173713e-01 6.21900572e-01 1.54572312e-01 4.40583439e-01\n",
      " 2.03194189e-01 4.75966426e-02 7.85019987e-01 1.19957693e-01\n",
      " 1.13464912e-01 5.16892883e-01 9.36601789e-01 4.55650369e-01\n",
      " 2.95690370e-01 5.98021075e-01 8.27777440e-01 7.20682446e-01\n",
      " 1.25302684e-01 7.34776892e-01 7.80314681e-01 5.75314817e-01\n",
      " 3.83152318e-01 4.88570581e-01 6.11797315e-01 9.83730224e-01\n",
      " 8.66393478e-01 3.42851894e-01 8.80939018e-01 5.02282894e-01\n",
      " 1.44992455e-01 1.41578499e-01 7.94966702e-01 6.54682500e-01\n",
      " 5.53547118e-01 3.40938807e-02 5.18492322e-01 4.39225917e-01\n",
      " 5.17243822e-01 7.61547639e-02 6.41819606e-01 9.51136402e-01\n",
      " 8.68378054e-01 7.90087191e-01 8.85192254e-01 8.04338929e-01\n",
      " 2.87188796e-01 1.71903795e-01 1.73465408e-01 8.47416323e-01\n",
      " 5.99860995e-01 5.57615437e-01 2.86410613e-01 2.14133915e-02\n",
      " 9.87234866e-01 2.44066244e-01 4.45979355e-01 9.69651757e-01\n",
      " 8.31660187e-01 8.10784329e-01 1.17346821e-01 4.08548001e-01\n",
      " 2.33069983e-01 3.99454796e-01 4.07951670e-01 4.64961124e-01\n",
      " 5.22801009e-01 6.54820679e-01 9.20245418e-01 4.36456781e-01\n",
      " 9.35265397e-01 7.31368817e-01 3.94242841e-01 9.44804367e-01\n",
      " 8.52121813e-01 3.23494171e-01 5.56442616e-01 6.80289989e-01\n",
      " 3.37951050e-01 7.06398617e-01 7.16121857e-01 8.62085216e-01\n",
      " 3.89392798e-01 1.41767194e-01 1.67733585e-01 7.77814941e-01\n",
      " 1.22255470e-01 3.41497181e-01 6.89029501e-02 7.18158297e-02\n",
      " 2.27622879e-01 6.17438546e-01 1.78366805e-01 5.39502485e-02\n",
      " 5.51230634e-01 7.88240205e-01 3.15901293e-01 9.78017455e-03\n",
      " 6.90461533e-01 3.61167008e-01 6.22397030e-01 1.35318569e-01\n",
      " 3.46765606e-01 7.86863367e-01 3.13725153e-01 2.43608050e-01\n",
      " 9.17474454e-01 8.08082974e-02 1.93599762e-01 4.20554270e-01\n",
      " 6.85397465e-01 7.44325279e-01 5.84127386e-02 7.68225879e-01\n",
      " 4.83807985e-01 1.79034951e-02 2.87672660e-01 5.31463189e-01\n",
      " 7.61972386e-01 7.65461635e-01 8.57788120e-01 7.78147825e-02\n",
      " 1.96673372e-01 5.89328788e-01 2.99664028e-01 2.01372190e-01\n",
      " 3.32951567e-01 1.71174431e-01 1.39622648e-01 3.78350031e-01\n",
      " 8.20012520e-01 4.34465336e-01 3.07683764e-01 4.27345942e-01\n",
      " 6.20959747e-01 1.36731347e-01 9.71140200e-01 8.18634626e-01\n",
      " 7.17784510e-01 4.81308777e-02 1.63154771e-01 8.70527698e-01\n",
      " 2.10769574e-01 5.70067600e-01 8.27666737e-01 6.07921721e-01\n",
      " 1.20285425e-01 3.17205716e-01 6.42130232e-01 1.03440168e-01\n",
      " 8.26052821e-01 4.93022152e-01 2.89438946e-01 4.16311961e-01\n",
      " 7.04825608e-01 7.46373847e-02 1.62758100e-01 8.49638404e-01\n",
      " 7.16502298e-01 7.05905596e-01 6.78565503e-01 7.32256068e-02\n",
      " 2.01094636e-02 8.42717310e-01 5.25388079e-01 9.32719793e-01\n",
      " 5.12016113e-01 6.27498305e-01 8.53756336e-01 3.29896372e-02\n",
      " 2.16398088e-01 7.88963585e-01 7.05930013e-01 8.62932718e-01\n",
      " 7.01811755e-02 6.45966278e-01 6.14954493e-01 9.97437148e-01\n",
      " 2.02890972e-01 6.56476721e-01 8.45871938e-01 7.86321127e-01\n",
      " 6.13994710e-01 6.33503688e-01 4.61220467e-01 3.80930447e-01\n",
      " 2.88247046e-01 8.30464248e-01 2.33198672e-01 4.00092378e-01\n",
      " 9.31360127e-01 2.21996864e-01 6.02765237e-01 5.85049147e-01\n",
      " 5.54218507e-01 5.47169782e-01 2.37871935e-01 4.12328159e-01\n",
      " 3.64879351e-01 6.78334800e-01 1.96133790e-02 7.06390574e-01\n",
      " 9.38295968e-01 3.41691347e-01 3.26083051e-01 5.87582766e-01\n",
      " 5.89704540e-01 6.36594824e-01 8.78560052e-01 6.75932282e-01\n",
      " 6.54806468e-01 7.33417354e-01 9.54999660e-01 9.30111396e-01\n",
      " 9.13866357e-02 2.57910014e-01 1.17906211e-01 3.46669942e-01\n",
      " 6.06227158e-01 2.23960307e-01 8.67755602e-01 6.08924932e-01\n",
      " 1.88004980e-01 6.79155362e-01 6.85579884e-01 5.42571398e-01\n",
      " 7.36974873e-01 9.95865530e-01 9.58151934e-01 7.39653204e-02\n",
      " 4.40023380e-02 3.80378101e-01 7.57603270e-01 8.62660722e-01\n",
      " 1.14392062e-01 9.44105916e-01 3.75654912e-01 9.76811286e-01\n",
      " 1.61679039e-01 3.39961194e-01 7.49671195e-01 2.62606045e-01\n",
      " 8.09434642e-01 5.72894919e-01 8.69131947e-01 6.05674752e-01\n",
      " 4.72912573e-01 4.19960173e-01 2.31884325e-01 6.93450416e-02\n",
      " 5.31155342e-01 6.97828527e-01 3.93589201e-01 2.92932537e-01\n",
      " 9.58205511e-01 9.44062392e-01 1.48634580e-01 9.97447439e-02\n",
      " 4.85749027e-01 3.28519912e-01 1.27957791e-01 9.23453955e-01\n",
      " 4.18402328e-02 5.74073527e-01 4.68820802e-01 5.11977024e-01\n",
      " 6.66908911e-01 7.55791127e-02 9.39575304e-01 2.05139665e-01\n",
      " 6.10316026e-02 3.86083400e-01 1.14722673e-01 1.07090870e-01\n",
      " 2.25913549e-01 3.49671518e-01 7.88424690e-01 7.12409986e-01\n",
      " 3.70709335e-03 1.76267358e-01 4.48174640e-01 6.98450906e-01\n",
      " 9.10548291e-01 9.56212087e-01 6.83778556e-01 2.62171757e-01\n",
      " 7.65800126e-01 3.52700211e-01 6.75994049e-02 4.10834018e-02\n",
      " 1.62946218e-01 5.71213836e-02 7.39143754e-01 3.44526995e-01\n",
      " 3.29899889e-01 5.50738189e-01 7.02195284e-01 4.16028165e-01\n",
      " 5.00045730e-01 1.66831848e-01 7.11281588e-01 2.77313093e-01\n",
      " 5.91930065e-01 4.20171889e-01 7.65113324e-01 8.33619293e-01\n",
      " 3.33703726e-01 4.50991122e-01 6.00252624e-01 6.21275964e-01\n",
      " 4.27697501e-01 7.97477283e-01 7.45105477e-02 6.32639945e-01\n",
      " 1.09327195e-01 5.53504726e-01 4.10392340e-01 1.14095970e-01\n",
      " 1.55698951e-01 8.55278394e-01 7.80300262e-01 5.18067027e-01\n",
      " 1.53968775e-01 1.34549403e-01 8.64017055e-01 3.06259485e-01\n",
      " 5.06687603e-03 4.27856191e-01 7.87025833e-02 1.53988444e-01\n",
      " 1.78321445e-01 7.33324015e-01 1.73896915e-01 9.76026072e-01\n",
      " 5.11410277e-01 6.17345762e-01 3.02424501e-01 7.87670599e-01\n",
      " 9.63055502e-01 6.53631259e-01 4.53698375e-01 4.86070141e-01\n",
      " 1.04954244e-01 9.76258573e-01 1.68859226e-01 6.52336786e-01\n",
      " 2.62209760e-01 5.15693669e-01 6.07224318e-01 9.59462291e-01\n",
      " 5.62741933e-01 9.76426105e-01 1.54474478e-01 5.37416985e-01\n",
      " 7.08856064e-01 8.99023614e-02 4.59101667e-01 2.29242535e-01\n",
      " 2.62203601e-01 9.00822185e-01 4.08097641e-01 9.46973018e-01\n",
      " 8.55531386e-01 9.62952264e-01 7.03288861e-01 3.30443381e-01\n",
      " 5.30123971e-01 1.67869539e-01 1.77420096e-01 9.81080207e-01\n",
      " 9.09621458e-01 7.80862512e-01 7.16298298e-01 6.44803380e-01\n",
      " 5.47560460e-01 3.15161157e-01 2.23027351e-01 5.24719007e-01\n",
      " 3.59599565e-01 9.59908931e-01 6.24534227e-03 4.41407195e-01\n",
      " 5.76858633e-01 9.47528950e-01 1.02079299e-01 7.56452672e-01\n",
      " 7.78448518e-01 1.07622237e-01 8.81261587e-01 5.44510716e-01\n",
      " 3.86361437e-02 8.99102750e-01 2.57052875e-01 8.83286401e-01\n",
      " 5.04743031e-01 5.96770174e-01 5.97767579e-01 8.67805033e-01\n",
      " 5.25016256e-01 8.24493173e-02 5.09163056e-01 2.46683175e-01\n",
      " 2.30014284e-01 7.51812551e-01 4.88582146e-01 4.11018722e-01\n",
      " 1.68878933e-01 4.15586129e-01 4.12675867e-01 4.01200114e-02\n",
      " 7.36205630e-02 8.02169987e-01 5.30762859e-01 9.78510291e-01\n",
      " 3.17360508e-01 4.80163747e-01 4.46918764e-01 3.20343670e-01\n",
      " 7.14180979e-01 1.07828622e-01 3.95070685e-01 7.48866967e-02\n",
      " 6.63145782e-01 4.71858903e-01 1.00538418e-01 4.22330294e-01\n",
      " 3.23628784e-01 3.04114976e-01 4.74638533e-02 5.33935327e-01\n",
      " 6.84868913e-01 1.79310294e-01 7.81204773e-01 7.95277684e-01\n",
      " 6.54895041e-01 5.02201555e-01 5.03271602e-01 5.15490150e-01\n",
      " 4.39188986e-01 9.05975964e-01 7.17218319e-01 2.99882670e-01\n",
      " 2.75588081e-01 4.22822143e-01 5.61121916e-01 5.44624705e-01\n",
      " 5.51411757e-01 4.73066197e-01 6.40256866e-02 4.91836237e-01\n",
      " 5.22606359e-01 4.63950168e-01 6.52212960e-01 6.15539202e-01\n",
      " 8.24025142e-01 7.86364636e-01 9.48228838e-01 2.54127405e-01\n",
      " 3.98158887e-01 6.87133263e-01 8.15500390e-01 9.27896475e-02\n",
      " 6.04256963e-01 2.52486578e-01 6.17223873e-01 8.04519713e-02\n",
      " 6.21700201e-01 5.13044952e-01 8.31328362e-01 4.08436352e-01\n",
      " 4.90632074e-01 3.02544332e-01 9.42398335e-01 3.17198690e-01\n",
      " 9.79888893e-01 7.39171011e-01 8.39691649e-01 7.71615007e-01\n",
      " 8.96262150e-01 1.12603965e-01 1.30767092e-01 6.79466558e-01\n",
      " 7.46309776e-01 6.82560149e-02 5.23044147e-02 8.99301159e-01\n",
      " 6.31045932e-01 5.53041840e-01 6.21967502e-02 2.71692976e-01\n",
      " 8.80565815e-01 8.84689919e-01 6.70502050e-01 3.64534100e-01\n",
      " 9.38452114e-01 3.01491197e-01 8.20040617e-01 3.23841051e-02\n",
      " 5.09739940e-01 9.88992046e-01 5.24113008e-01 1.81819441e-01\n",
      " 7.67280822e-01 5.13586071e-02 4.20793647e-01 4.85841457e-01\n",
      " 7.92546098e-01 9.98115377e-01 7.30856727e-01 8.07317324e-01\n",
      " 4.45638641e-01 9.82995833e-01 5.78918214e-01 7.39492251e-01\n",
      " 4.81202083e-01 5.28972998e-01 5.79602530e-01 5.91993053e-01\n",
      " 7.51774266e-01 6.70638573e-01 3.45983891e-01 7.32729473e-01\n",
      " 5.25150875e-01 7.66107804e-01 3.52462741e-02 2.77539419e-01\n",
      " 6.48610166e-01 2.00475747e-02 9.41993898e-01 5.90470747e-01\n",
      " 5.24408692e-01 9.43581075e-01 4.02755384e-01 3.06092192e-01\n",
      " 4.53952570e-01 1.15150809e-01 4.44946033e-01 8.45836020e-01\n",
      " 6.65895813e-01 3.29920826e-01 8.30676516e-01 3.88805066e-01\n",
      " 8.70379723e-01 8.56529704e-01 6.35990202e-01 9.01551697e-01\n",
      " 7.53756800e-01 5.93092350e-01 7.59171778e-01 1.00807841e-01\n",
      " 1.72192317e-01 7.15469484e-01 3.23524024e-01 8.76898925e-01\n",
      " 5.55709742e-01 5.25891607e-02 6.69346691e-01 9.60693389e-02\n",
      " 8.38281503e-01 5.87697816e-01 3.92753909e-01 2.14701877e-01\n",
      " 2.55585692e-01 3.64867625e-01 5.18053546e-01 5.55306345e-01\n",
      " 1.24042540e-01 7.83629454e-01 6.45540422e-01 8.92324265e-01\n",
      " 1.71682458e-01 5.18248491e-01 3.49507783e-01 7.40308428e-01\n",
      " 6.43736653e-01 8.56812806e-01 7.48971454e-01 2.99839983e-01\n",
      " 1.82299669e-02 2.88077642e-01 2.76454679e-03 9.12412959e-01\n",
      " 6.35343553e-01 9.65573334e-01 1.77337617e-02 6.24693182e-01\n",
      " 4.50836706e-01 4.33363023e-01 7.86325243e-01 3.82650804e-01]\n"
     ]
    },
    {
     "data": {
      "image/png": "[encoded data removed]",
      "text/plain": [
       "<Figure size 432x288 with 2 Axes>"
      ]
     },
     "metadata": {
      "needs_background": "light"
     },
     "output_type": "display_data"
    }
   ],
   "source": [
    "# your code here\n",
    "def generate_uniform(bottom, ceiling, count):\n",
    "    x = stats.uniform.rvs(size=count)\n",
    "    print(x)\n",
    "    a = bottom\n",
    "    b = ceiling\n",
    "    randoms = a + (b-a)*x\n",
    "    return randoms\n",
    "\n",
    "u1 = generate_uniform(bottom=10, ceiling=15, count=100)\n",
    "u2= generate_uniform(bottom=10, ceiling=60, count=1000)\n",
    "\n",
    "fig, (ax1, ax2) = plt.subplots(1, 2, sharey=True)\n",
    "ax1.hist(u1)\n",
    "ax2.hist(u2)\n",
    "plt.show()"
   ]
  },
  {
   "cell_type": "markdown",
   "metadata": {},
   "source": [
    "How are the two distributions different?"
   ]
  },
  {
   "cell_type": "code",
   "execution_count": null,
   "metadata": {},
   "outputs": [],
   "source": [
    "# your answer here:\n",
    "#distributions seems uniform but with a different range"
   ]
  },
  {
   "cell_type": "markdown",
   "metadata": {},
   "source": [
    "## Normal Distribution\n",
    "\n",
    "1. In the same way in the Uniform Distribution challenge, write a function that generates normally distributed random numbers.\n",
    "1. Generate 1,000 normally distributed numbers with the average of 10 and standard deviation of 1\n",
    "1. Generate 1,000 normally distributed numbers with the average of 10 and standard deviation of 50\n",
    "2. Plot the distributions of the data generated.\n",
    "\n",
    "Expected output:\n",
    "\n",
    "![normal distribution](nd.png)"
   ]
  },
  {
   "cell_type": "code",
   "execution_count": 5,
   "metadata": {},
   "outputs": [
    {
     "data": {
      "text/plain": [
       "(array([ 1.,  0.,  1.,  1.,  3.,  1.,  6.,  4.,  5.,  5., 12., 13., 16.,\n",
       "        11., 25., 26., 32., 33., 41., 44., 41., 50., 42., 49., 45., 49.,\n",
       "        48., 45., 49., 36., 43., 36., 18., 33., 33., 22., 24., 16., 14.,\n",
       "         9.,  6.,  5.,  4.,  0.,  0.,  1.,  1.,  0.,  0.,  1.]),\n",
       " array([-1.49062075e+02, -1.42584569e+02, -1.36107063e+02, -1.29629557e+02,\n",
       "        -1.23152050e+02, -1.16674544e+02, -1.10197038e+02, -1.03719532e+02,\n",
       "        -9.72420253e+01, -9.07645190e+01, -8.42870128e+01, -7.78095065e+01,\n",
       "        -7.13320002e+01, -6.48544940e+01, -5.83769877e+01, -5.18994814e+01,\n",
       "        -4.54219752e+01, -3.89444689e+01, -3.24669626e+01, -2.59894564e+01,\n",
       "        -1.95119501e+01, -1.30344438e+01, -6.55693756e+00, -7.94312877e-02,\n",
       "         6.39807498e+00,  1.28755812e+01,  1.93530875e+01,  2.58305938e+01,\n",
       "         3.23081001e+01,  3.87856063e+01,  4.52631126e+01,  5.17406189e+01,\n",
       "         5.82181251e+01,  6.46956314e+01,  7.11731377e+01,  7.76506439e+01,\n",
       "         8.41281502e+01,  9.06056565e+01,  9.70831627e+01,  1.03560669e+02,\n",
       "         1.10038175e+02,  1.16515682e+02,  1.22993188e+02,  1.29470694e+02,\n",
       "         1.35948200e+02,  1.42425707e+02,  1.48903213e+02,  1.55380719e+02,\n",
       "         1.61858225e+02,  1.68335732e+02,  1.74813238e+02]),\n",
       " <BarContainer object of 50 artists>)"
      ]
     },
     "execution_count": 5,
     "metadata": {},
     "output_type": "execute_result"
    },
    {
     "data": {
      "image/png": "[encoded data removed]",
      "text/plain": [
       "<Figure size 432x288 with 2 Axes>"
      ]
     },
     "metadata": {
      "needs_background": "light"
     },
     "output_type": "display_data"
    }
   ],
   "source": [
    "# your code here\n",
    "def generate_normal(mean, std):\n",
    "    normal = stats.norm(mean, std) \n",
    "    return normal.rvs(size=1000)\n",
    "\n",
    "n1 = generate_normal(10, 1)\n",
    "n2 = generate_normal(10, 50)\n",
    "\n",
    "\n",
    "# plotting\n",
    "fig, (ax1, ax2) = plt.subplots(1, 2, sharey = True)\n",
    "ax1.hist(n1, bins=50)\n",
    "ax2.hist(n2, bins=50)"
   ]
  },
  {
   "cell_type": "markdown",
   "metadata": {},
   "source": [
    "How are the two distributions different?"
   ]
  },
  {
   "cell_type": "code",
   "execution_count": null,
   "metadata": {},
   "outputs": [],
   "source": [
    "# your answer here:\n",
    "# same as the previous one, different range of values"
   ]
  },
  {
   "cell_type": "markdown",
   "metadata": {},
   "source": [
    "## Normal Distribution of Real Data\n",
    "\n",
    "In this challenge we are going to take a look the real data. We will use vehicles.csv file for this exercise"
   ]
  },
  {
   "cell_type": "markdown",
   "metadata": {},
   "source": [
    "First import vehicles.csv.\n",
    "Then plot the histograms for the following variables:\n",
    "\n",
    "1. Fuel Barrels/Year"
   ]
  },
  {
   "cell_type": "code",
   "execution_count": 6,
   "metadata": {},
   "outputs": [
    {
     "data": {
      "text/html": [
       "<div>\n",
       "<style scoped>\n",
       "    .dataframe tbody tr th:only-of-type {\n",
       "        vertical-align: middle;\n",
       "    }\n",
       "\n",
       "    .dataframe tbody tr th {\n",
       "        vertical-align: top;\n",
       "    }\n",
       "\n",
       "    .dataframe thead th {\n",
       "        text-align: right;\n",
       "    }\n",
       "</style>\n",
       "<table border=\"1\" class=\"dataframe\">\n",
       "  <thead>\n",
       "    <tr style=\"text-align: right;\">\n",
       "      <th></th>\n",
       "      <th>Make</th>\n",
       "      <th>Model</th>\n",
       "      <th>Year</th>\n",
       "      <th>Engine Displacement</th>\n",
       "      <th>Cylinders</th>\n",
       "      <th>Transmission</th>\n",
       "      <th>Drivetrain</th>\n",
       "      <th>Vehicle Class</th>\n",
       "      <th>Fuel Type</th>\n",
       "      <th>Fuel Barrels/Year</th>\n",
       "      <th>City MPG</th>\n",
       "      <th>Highway MPG</th>\n",
       "      <th>Combined MPG</th>\n",
       "      <th>CO2 Emission Grams/Mile</th>\n",
       "      <th>Fuel Cost/Year</th>\n",
       "    </tr>\n",
       "  </thead>\n",
       "  <tbody>\n",
       "    <tr>\n",
       "      <th>0</th>\n",
       "      <td>AM General</td>\n",
       "      <td>DJ Po Vehicle 2WD</td>\n",
       "      <td>1984</td>\n",
       "      <td>2.5</td>\n",
       "      <td>4.0</td>\n",
       "      <td>Automatic 3-spd</td>\n",
       "      <td>2-Wheel Drive</td>\n",
       "      <td>Special Purpose Vehicle 2WD</td>\n",
       "      <td>Regular</td>\n",
       "      <td>19.388824</td>\n",
       "      <td>18</td>\n",
       "      <td>17</td>\n",
       "      <td>17</td>\n",
       "      <td>522.764706</td>\n",
       "      <td>1950</td>\n",
       "    </tr>\n",
       "    <tr>\n",
       "      <th>1</th>\n",
       "      <td>AM General</td>\n",
       "      <td>FJ8c Post Office</td>\n",
       "      <td>1984</td>\n",
       "      <td>4.2</td>\n",
       "      <td>6.0</td>\n",
       "      <td>Automatic 3-spd</td>\n",
       "      <td>2-Wheel Drive</td>\n",
       "      <td>Special Purpose Vehicle 2WD</td>\n",
       "      <td>Regular</td>\n",
       "      <td>25.354615</td>\n",
       "      <td>13</td>\n",
       "      <td>13</td>\n",
       "      <td>13</td>\n",
       "      <td>683.615385</td>\n",
       "      <td>2550</td>\n",
       "    </tr>\n",
       "    <tr>\n",
       "      <th>2</th>\n",
       "      <td>AM General</td>\n",
       "      <td>Post Office DJ5 2WD</td>\n",
       "      <td>1985</td>\n",
       "      <td>2.5</td>\n",
       "      <td>4.0</td>\n",
       "      <td>Automatic 3-spd</td>\n",
       "      <td>Rear-Wheel Drive</td>\n",
       "      <td>Special Purpose Vehicle 2WD</td>\n",
       "      <td>Regular</td>\n",
       "      <td>20.600625</td>\n",
       "      <td>16</td>\n",
       "      <td>17</td>\n",
       "      <td>16</td>\n",
       "      <td>555.437500</td>\n",
       "      <td>2100</td>\n",
       "    </tr>\n",
       "    <tr>\n",
       "      <th>3</th>\n",
       "      <td>AM General</td>\n",
       "      <td>Post Office DJ8 2WD</td>\n",
       "      <td>1985</td>\n",
       "      <td>4.2</td>\n",
       "      <td>6.0</td>\n",
       "      <td>Automatic 3-spd</td>\n",
       "      <td>Rear-Wheel Drive</td>\n",
       "      <td>Special Purpose Vehicle 2WD</td>\n",
       "      <td>Regular</td>\n",
       "      <td>25.354615</td>\n",
       "      <td>13</td>\n",
       "      <td>13</td>\n",
       "      <td>13</td>\n",
       "      <td>683.615385</td>\n",
       "      <td>2550</td>\n",
       "    </tr>\n",
       "    <tr>\n",
       "      <th>4</th>\n",
       "      <td>ASC Incorporated</td>\n",
       "      <td>GNX</td>\n",
       "      <td>1987</td>\n",
       "      <td>3.8</td>\n",
       "      <td>6.0</td>\n",
       "      <td>Automatic 4-spd</td>\n",
       "      <td>Rear-Wheel Drive</td>\n",
       "      <td>Midsize Cars</td>\n",
       "      <td>Premium</td>\n",
       "      <td>20.600625</td>\n",
       "      <td>14</td>\n",
       "      <td>21</td>\n",
       "      <td>16</td>\n",
       "      <td>555.437500</td>\n",
       "      <td>2550</td>\n",
       "    </tr>\n",
       "  </tbody>\n",
       "</table>\n",
       "</div>"
      ],
      "text/plain": [
       "               Make                Model  Year  Engine Displacement  \\\n",
       "0        AM General    DJ Po Vehicle 2WD  1984                  2.5   \n",
       "1        AM General     FJ8c Post Office  1984                  4.2   \n",
       "2        AM General  Post Office DJ5 2WD  1985                  2.5   \n",
       "3        AM General  Post Office DJ8 2WD  1985                  4.2   \n",
       "4  ASC Incorporated                  GNX  1987                  3.8   \n",
       "\n",
       "   Cylinders     Transmission        Drivetrain                Vehicle Class  \\\n",
       "0        4.0  Automatic 3-spd     2-Wheel Drive  Special Purpose Vehicle 2WD   \n",
       "1        6.0  Automatic 3-spd     2-Wheel Drive  Special Purpose Vehicle 2WD   \n",
       "2        4.0  Automatic 3-spd  Rear-Wheel Drive  Special Purpose Vehicle 2WD   \n",
       "3        6.0  Automatic 3-spd  Rear-Wheel Drive  Special Purpose Vehicle 2WD   \n",
       "4        6.0  Automatic 4-spd  Rear-Wheel Drive                 Midsize Cars   \n",
       "\n",
       "  Fuel Type  Fuel Barrels/Year  City MPG  Highway MPG  Combined MPG  \\\n",
       "0   Regular          19.388824        18           17            17   \n",
       "1   Regular          25.354615        13           13            13   \n",
       "2   Regular          20.600625        16           17            16   \n",
       "3   Regular          25.354615        13           13            13   \n",
       "4   Premium          20.600625        14           21            16   \n",
       "\n",
       "   CO2 Emission Grams/Mile  Fuel Cost/Year  \n",
       "0               522.764706            1950  \n",
       "1               683.615385            2550  \n",
       "2               555.437500            2100  \n",
       "3               683.615385            2550  \n",
       "4               555.437500            2550  "
      ]
     },
     "execution_count": 6,
     "metadata": {},
     "output_type": "execute_result"
    }
   ],
   "source": [
    "# your code here\n",
    "vehicles = pd.read_csv('vehicles.csv')\n",
    "vehicles.head()"
   ]
  },
  {
   "cell_type": "code",
   "execution_count": 7,
   "metadata": {},
   "outputs": [
    {
     "data": {
      "image/png": "[encoded data removed]",
      "text/plain": [
       "<Figure size 432x288 with 1 Axes>"
      ]
     },
     "metadata": {
      "needs_background": "light"
     },
     "output_type": "display_data"
    }
   ],
   "source": [
    "plt.hist(vehicles['Fuel Barrels/Year'], bins= 25)\n",
    "plt.show()"
   ]
  },
  {
   "cell_type": "markdown",
   "metadata": {},
   "source": [
    "2. CO2 Emission Grams/Mile "
   ]
  },
  {
   "cell_type": "code",
   "execution_count": 8,
   "metadata": {},
   "outputs": [
    {
     "data": {
      "image/png": "[encoded data removed]",
      "text/plain": [
       "<Figure size 432x288 with 1 Axes>"
      ]
     },
     "metadata": {
      "needs_background": "light"
     },
     "output_type": "display_data"
    }
   ],
   "source": [
    "# your code here\n",
    "plt.hist(vehicles['CO2 Emission Grams/Mile'], bins= 25)\n",
    "plt.show()"
   ]
  },
  {
   "cell_type": "markdown",
   "metadata": {},
   "source": [
    "3. Combined MPG"
   ]
  },
  {
   "cell_type": "code",
   "execution_count": 9,
   "metadata": {},
   "outputs": [
    {
     "data": {
      "image/png": "[encoded data removed]",
      "text/plain": [
       "<Figure size 432x288 with 1 Axes>"
      ]
     },
     "metadata": {
      "needs_background": "light"
     },
     "output_type": "display_data"
    }
   ],
   "source": [
    "# your code here\n",
    "plt.hist(vehicles['Combined MPG'], bins= 25)\n",
    "plt.show()"
   ]
  },
  {
   "cell_type": "markdown",
   "metadata": {},
   "source": [
    "Which one(s) of the variables are nearly normally distributed? How do you know?"
   ]
  },
  {
   "cell_type": "code",
   "execution_count": null,
   "metadata": {},
   "outputs": [],
   "source": [
    "# you answer here:\n",
    "#Combine MGP as it dont seem to have outliers in the distribution"
   ]
  },
  {
   "cell_type": "markdown",
   "metadata": {},
   "source": [
    "## Exponential Distribution"
   ]
  },
  {
   "cell_type": "markdown",
   "metadata": {},
   "source": [
    "1. Using `numpy.random.exponential`, create a function that returns a list of numbers exponentially distributed with the mean of 10. \n",
    "\n",
    "1. Use the function to generate two number sequences with a mean of 1 and 100 and a size of 1000.\n",
    "\n",
    "1. Plot the distributions as histograms with the number of bins as 100.\n",
    "\n",
    "Your output should look like below:\n",
    "\n",
    "![exponential distribution](ed.png)"
   ]
  },
  {
   "cell_type": "code",
   "execution_count": 10,
   "metadata": {},
   "outputs": [
    {
     "data": {
      "image/png": "[encoded data removed]",
      "text/plain": [
       "<Figure size 432x288 with 2 Axes>"
      ]
     },
     "metadata": {
      "needs_background": "light"
     },
     "output_type": "display_data"
    }
   ],
   "source": [
    "# your code here\n",
    "import numpy as np\n",
    "\n",
    "\n",
    "def generate_exp(mean):\n",
    "    return np.random.exponential(mean, 1000)\n",
    "\n",
    "e1 = generate_exp(1)\n",
    "e2 = generate_exp(100)\n",
    "fig, (ax1, ax2) = plt.subplots(1, 2, sharey = True)\n",
    "ax1.hist(e1, bins=100)\n",
    "ax2.hist(e2, bins=100)\n",
    "plt.show()"
   ]
  },
  {
   "cell_type": "markdown",
   "metadata": {},
   "source": [
    "How are the two distributions different?"
   ]
  },
  {
   "cell_type": "code",
   "execution_count": null,
   "metadata": {},
   "outputs": [],
   "source": [
    "# your answer here:\n",
    "# the range is different, the 2nd seems to be more normally distributed"
   ]
  },
  {
   "cell_type": "markdown",
   "metadata": {},
   "source": [
    "## Exponential Distribution of Real Data\n",
    "\n",
    "Suppose that the amount of time one spends in a bank is exponentially distributed with mean as 10 minutes (i.e. λ = 1/10). What is the probability that a customer will spend less than fifteen minutes in the bank? \n",
    "\n",
    "Write a code in python to solve this problem"
   ]
  },
  {
   "cell_type": "code",
   "execution_count": 11,
   "metadata": {},
   "outputs": [
    {
     "name": "stdout",
     "output_type": "stream",
     "text": [
      "0.7768698398515702\n"
     ]
    }
   ],
   "source": [
    "# your answer here\n",
    "# Hint: This is same as saying P(x<15)\n",
    "lamb = 1/10\n",
    "exp = stats.expon(scale=10)\n",
    "print(exp.cdf(15)) "
   ]
  },
  {
   "cell_type": "markdown",
   "metadata": {},
   "source": [
    "What is the probability that the customer will spend more than 15 minutes"
   ]
  },
  {
   "cell_type": "code",
   "execution_count": 12,
   "metadata": {},
   "outputs": [
    {
     "data": {
      "text/plain": [
       "0.2231301601484298"
      ]
     },
     "execution_count": 12,
     "metadata": {},
     "output_type": "execute_result"
    }
   ],
   "source": [
    "# your answer here\n",
    "1 - exp.cdf(15)"
   ]
  }
 ],
 "metadata": {
  "kernelspec": {
   "display_name": "Python 3 (ipykernel)",
   "language": "python",
   "name": "python3"
  },
  "language_info": {
   "codemirror_mode": {
    "name": "ipython",
    "version": 3
   },
   "file_extension": ".py",
   "mimetype": "text/x-python",
   "name": "python",
   "nbconvert_exporter": "python",
   "pygments_lexer": "ipython3",
   "version": "3.9.12"
  }
 },
 "nbformat": 4,
 "nbformat_minor": 2
}
