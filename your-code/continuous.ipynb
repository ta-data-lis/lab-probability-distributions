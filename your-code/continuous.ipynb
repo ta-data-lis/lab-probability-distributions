{
 "cells": [
  {
   "cell_type": "markdown",
   "metadata": {},
   "source": [
    "# Before your start:\n",
    "\n",
    "    Read the README.md file\n",
    "    Comment as much as you can and use the resources (README.md file)\n",
    "    Happy learning!"
   ]
  },
  {
   "cell_type": "markdown",
   "metadata": {},
   "source": [
    "In this exercise, we  will generate random numbers from the continuous disributions we learned in the lesson. There are two ways to generate random numbers:\n",
    "\n",
    "1. Using the numpy library \n",
    "1. using the Scipy library \n",
    "\n",
    "Use either or both of the libraries in this exercise."
   ]
  },
  {
   "cell_type": "markdown",
   "metadata": {},
   "source": [
    "## Uniform Distribution\n",
    "\n",
    "To generate uniform random numbers between any two given values using scipy, we can either use the following code or the code that we have\n",
    "discussed in class:"
   ]
  },
  {
   "cell_type": "code",
   "execution_count": 91,
   "metadata": {},
   "outputs": [
    {
     "name": "stdout",
     "output_type": "stream",
     "text": [
      "[2.2149781  2.33461141 2.40061576 2.99554019 2.5231439  2.45372136\n",
      " 2.30394534 2.90674468 2.16228142 2.72028571]\n"
     ]
    }
   ],
   "source": [
    "# Import of libraries that will be used\n",
    "from scipy.stats import uniform\n",
    "\n",
    "# Generate 10 random between 0 and 1 based on a uniform distribution\n",
    "x = uniform.rvs(size=10)\n",
    "\n",
    "# the minimum of uniform distribution\n",
    "a = 2\n",
    "\n",
    "# the maximum of uniform distribution\n",
    "b = 3\n",
    "\n",
    "# Define an array of 10 numbers that vary between a and b\n",
    "randoms  = a + (b-a)*x\n",
    "\n",
    "# Print them\n",
    "print(randoms)"
   ]
  },
  {
   "cell_type": "markdown",
   "metadata": {},
   "source": [
    "**Your task:**\n",
    "\n",
    "1. Based on the code above, write a function that generates uniformly distributed random numbers. There are several requirements for your function:\n",
    "    * It should accept 3 parameters: \n",
    "        * `bottom` - the lower boundary of the generated numbers\n",
    "        * `ceiling` - the upper boundary of the generated numbers\n",
    "        * `count` - how many numbers to generate\n",
    "    * It should return an array of uniformly distributed random numbers\n",
    "\n",
    "1. Call your function with 2 sets of params below:\n",
    "    * bottom=10, ceiling=15, count=100\n",
    "    * bottom=10, ceiling=60, count=1,000\n",
    "\n",
    "1. Plot the uniform distributions generated above using histograms, where x axis is the value and y axis is the count. Let the histogram's number of bins be 10.\n",
    "\n",
    "Your output should look like below:\n",
    "\n",
    "![uniform distribution](ud.png)"
   ]
  },
  {
   "cell_type": "code",
   "execution_count": 92,
   "metadata": {},
   "outputs": [
    {
     "data": {
      "image/png": "[encoded data removed]",
      "text/plain": [
       "<Figure size 432x288 with 2 Axes>"
      ]
     },
     "metadata": {
      "needs_background": "light"
     },
     "output_type": "display_data"
    }
   ],
   "source": [
    "# your code here\n",
    "# Import of libraries that will be used\n",
    "from numpy.random import uniform\n",
    "import matplotlib.pyplot as plt\n",
    "\n",
    "# Definition of a function that generates 'count' random numbers based on a uniform distribution that vary between a and b\n",
    "def uniform_generator(bottom, ceiling, count):\n",
    "    x = uniform(size=count)\n",
    "    a = bottom\n",
    "    b = ceiling\n",
    "    return a + (b-a)*x\n",
    "\n",
    "# Let's define two figures that share the y-axis to plot two histograms\n",
    "fig, (ax1, ax2) = plt.subplots(ncols= 2, sharey= True)\n",
    "\n",
    "# bottom=10, ceiling=15, count=100\n",
    "ax1.hist(uniform_generator(10,15,100))\n",
    "ax1.set_xlabel('value')\n",
    "ax1.set_ylabel('count')\n",
    "\n",
    "# bottom=10, ceiling=60, count=1000\n",
    "ax2.hist(uniform_generator(10,60,1000))\n",
    "ax2.set_xlabel('value');"
   ]
  },
  {
   "cell_type": "markdown",
   "metadata": {},
   "source": [
    "How are the two distributions different?"
   ]
  },
  {
   "cell_type": "code",
   "execution_count": 93,
   "metadata": {},
   "outputs": [],
   "source": [
    "# your answer here:\n",
    "# The more we increase the number of generated numbers, the more the histogram seems to a true uniform distribution. I.e. \n",
    "# each bin shall have the same height as long as the size of sample tends to infinity."
   ]
  },
  {
   "cell_type": "markdown",
   "metadata": {},
   "source": [
    "## Normal Distribution\n",
    "\n",
    "1. In the same way in the Uniform Distribution challenge, write a function that generates normally distributed random numbers.\n",
    "1. Generate 1,000 normally distributed numbers with the average of 10 and standard deviation of 1\n",
    "1. Generate 1,000 normally distributed numbers with the average of 10 and standard deviation of 50\n",
    "2. Plot the distributions of the data generated.\n",
    "\n",
    "Expected output:\n",
    "\n",
    "![normal distribution](nd.png)"
   ]
  },
  {
   "cell_type": "code",
   "execution_count": 94,
   "metadata": {},
   "outputs": [
    {
     "data": {
      "image/png": "[encoded data removed]",
      "text/plain": [
       "<Figure size 432x288 with 2 Axes>"
      ]
     },
     "metadata": {
      "needs_background": "light"
     },
     "output_type": "display_data"
    }
   ],
   "source": [
    "# your code here\n",
    "# Import of libraries that will be used\n",
    "from numpy.random import normal\n",
    "\n",
    "# Definition of a function that generates 'count' random numbers based on a normal distribution with 'average' mean and \n",
    "# 'standard_deviation' standard deviation\n",
    "def normal_generator(average, standard_deviation, count):\n",
    "    return normal(average, standard_deviation, count)\n",
    "\n",
    "# Let's define two figures that share the y-axis to plot two histograms\n",
    "fig, (ax1, ax2) = plt.subplots(ncols= 2, sharey= True)\n",
    "\n",
    "# 1000 normally distributed numbers with the average of 10 and standard deviation of 1\n",
    "ax1.hist(normal_generator(10,1,1000))\n",
    "ax1.set_xlabel('value')\n",
    "ax1.set_ylabel('count')\n",
    "\n",
    "# 1000 normally distributed numbers with the average of 10 and standard deviation of 50\n",
    "ax2.hist(normal_generator(10,50,1000))\n",
    "ax2.set_xlabel('value');"
   ]
  },
  {
   "cell_type": "markdown",
   "metadata": {},
   "source": [
    "How are the two distributions different?"
   ]
  },
  {
   "cell_type": "code",
   "execution_count": 95,
   "metadata": {},
   "outputs": [],
   "source": [
    "# your answer here:\n",
    "# The difference between the two distributions is due the differences in standard deviations (1 versus 50). It means that \n",
    "# the second histogram is highly dispersed than the first histogram. "
   ]
  },
  {
   "cell_type": "markdown",
   "metadata": {},
   "source": [
    "## Normal Distribution of Real Data\n",
    "\n",
    "In this challenge we are going to take a look the real data. We will use vehicles.csv file for this exercise"
   ]
  },
  {
   "cell_type": "markdown",
   "metadata": {},
   "source": [
    "First import vehicles.csv.\n",
    "Then plot the histograms for the following variables:\n",
    "\n",
    "1. Fuel Barrels/Year"
   ]
  },
  {
   "cell_type": "code",
   "execution_count": 96,
   "metadata": {},
   "outputs": [
    {
     "name": "stdout",
     "output_type": "stream",
     "text": [
      "22.07633818862587 19.388823529411766\n",
      "26.543620874922865 25.35461538461539\n"
     ]
    },
    {
     "data": {
      "image/png": "[encoded data removed]",
      "text/plain": [
       "<Figure size 432x288 with 1 Axes>"
      ]
     },
     "metadata": {
      "needs_background": "light"
     },
     "output_type": "display_data"
    }
   ],
   "source": [
    "# your code here\n",
    "# Import of libraries that will be used\n",
    "import pandas as pd\n",
    "import numpy as np\n",
    "\n",
    "# Let's store the information in 'vehicles.csv' in a dataframe called vehicles\n",
    "vehicles = pd.read_csv('vehicles.csv')\n",
    "\n",
    "# Let's plot an histogram with 10 bins for variable 'Fuel Barrels/Year'\n",
    "plt.hist(vehicles['Fuel Barrels/Year'])\n",
    "\n",
    "# Let's check the value at 1 and 2 standard deviations above mean and the value of function at the expected quantile for \n",
    "# each of values got before, assuming it is normally distributed\n",
    "print(vehicles['Fuel Barrels/Year'].mean()+vehicles['Fuel Barrels/Year'].std(), np.quantile(vehicles['Fuel Barrels/Year'], q=0.68))\n",
    "print(vehicles['Fuel Barrels/Year'].mean()+2*vehicles['Fuel Barrels/Year'].std(), np.quantile(vehicles['Fuel Barrels/Year'], q=0.95))"
   ]
  },
  {
   "cell_type": "markdown",
   "metadata": {},
   "source": [
    "2. CO2 Emission Grams/Mile "
   ]
  },
  {
   "cell_type": "code",
   "execution_count": 97,
   "metadata": {},
   "outputs": [
    {
     "name": "stdout",
     "output_type": "stream",
     "text": [
      "594.3771124930652 522.7647058823529\n",
      "713.43788572898 683.6153846153846\n"
     ]
    },
    {
     "data": {
      "image/png": "[encoded data removed]",
      "text/plain": [
       "<Figure size 432x288 with 1 Axes>"
      ]
     },
     "metadata": {
      "needs_background": "light"
     },
     "output_type": "display_data"
    }
   ],
   "source": [
    "# your code here\n",
    "# Let's plot an histogram with 10 bins for variable 'CO2 Emission Grams/Mile'\n",
    "plt.hist(vehicles['CO2 Emission Grams/Mile'])\n",
    "\n",
    "# Let's check the value at 1 and 2 standard deviations above mean and the value of function at the expected quantile for \n",
    "# each of values got before, assuming it is normally distributed\n",
    "print(vehicles['CO2 Emission Grams/Mile'].mean()+vehicles['CO2 Emission Grams/Mile'].std(), np.quantile(vehicles['CO2 Emission Grams/Mile'], q=0.68))\n",
    "print(vehicles['CO2 Emission Grams/Mile'].mean()+2*vehicles['CO2 Emission Grams/Mile'].std(), np.quantile(vehicles['CO2 Emission Grams/Mile'], q=0.95))"
   ]
  },
  {
   "cell_type": "markdown",
   "metadata": {},
   "source": [
    "3. Combined MPG"
   ]
  },
  {
   "cell_type": "code",
   "execution_count": 98,
   "metadata": {},
   "outputs": [
    {
     "name": "stdout",
     "output_type": "stream",
     "text": [
      "25.04173137457255 21.0\n",
      "30.154140319238554 29.0\n"
     ]
    },
    {
     "data": {
      "image/png": "[encoded data removed]",
      "text/plain": [
       "<Figure size 432x288 with 1 Axes>"
      ]
     },
     "metadata": {
      "needs_background": "light"
     },
     "output_type": "display_data"
    }
   ],
   "source": [
    "# your code here\n",
    "# Let's plot an histogram with 10 bins for variable 'Combined MPG'\n",
    "plt.hist(vehicles['Combined MPG'])\n",
    "\n",
    "# Let's check the value at 1 and 2 standard deviations above mean and the value of function at the expected quantile for \n",
    "# each of values got before, assuming it is normally distributed\n",
    "print(vehicles['Combined MPG'].mean()+vehicles['Combined MPG'].std(),np.quantile(vehicles['Combined MPG'], q=0.68))\n",
    "print(vehicles['Combined MPG'].mean()+2*vehicles['Combined MPG'].std(),np.quantile(vehicles['Combined MPG'], q=0.95))"
   ]
  },
  {
   "cell_type": "markdown",
   "metadata": {},
   "source": [
    "Which one(s) of the variables are nearly normally distributed? How do you know?"
   ]
  },
  {
   "cell_type": "code",
   "execution_count": 99,
   "metadata": {},
   "outputs": [],
   "source": [
    "# you answer here:\n",
    "# The variables which are nearly normally distributed are 'Fuel Barrels/Year' and 'Combined MPG', because the values that \n",
    "# shall be contained in mean + standard deviation are near to quantile 0.68. The same happens for the values that shall be \n",
    "# contained in mean + 2 * standard deviation and quantile 0.95."
   ]
  },
  {
   "cell_type": "markdown",
   "metadata": {},
   "source": [
    "## Exponential Distribution"
   ]
  },
  {
   "cell_type": "markdown",
   "metadata": {},
   "source": [
    "1. Using `numpy.random.exponential`, create a function that returns a list of numbers exponentially distributed with the mean of 10. \n",
    "\n",
    "1. Use the function to generate two number sequences with a mean of 1 and 100 and a size of 1000.\n",
    "\n",
    "1. Plot the distributions as histograms with the number of bins as 100.\n",
    "\n",
    "Your output should look like below:\n",
    "\n",
    "![exponential distribution](ed.png)"
   ]
  },
  {
   "cell_type": "code",
   "execution_count": 100,
   "metadata": {},
   "outputs": [
    {
     "data": {
      "image/png": "[encoded data removed]",
      "text/plain": [
       "<Figure size 432x288 with 2 Axes>"
      ]
     },
     "metadata": {
      "needs_background": "light"
     },
     "output_type": "display_data"
    }
   ],
   "source": [
    "# your code here\n",
    "# Import of libraries that will be used\n",
    "from numpy.random import exponential\n",
    "\n",
    "# Definition of a function that generates 'count' random numbers based on an exponential distribution with a mean of 10 \n",
    "# (default)\n",
    "def exponential_generator(count, average = 10):\n",
    "    return exponential(average, count)\n",
    "\n",
    "# Let's define two figures that share the y-axis to plot two histograms\n",
    "fig, (ax1, ax2) = plt.subplots(ncols= 2, sharey= True)\n",
    "\n",
    "# a mean of 1 and a size of 1000\n",
    "ax1.hist(exponential_generator(1000, 1), bins= 100)\n",
    "ax1.set_xlabel('value')\n",
    "ax1.set_ylabel('count')\n",
    "\n",
    "# a mean of 100 and a size of 1000\n",
    "ax2.hist(exponential_generator(1000, 100), bins= 100)\n",
    "ax2.set_xlabel('value');"
   ]
  },
  {
   "cell_type": "markdown",
   "metadata": {},
   "source": [
    "How are the two distributions different?"
   ]
  },
  {
   "cell_type": "code",
   "execution_count": 101,
   "metadata": {},
   "outputs": [],
   "source": [
    "# your answer here:\n",
    "# The distribution values are spreader as the parameter scale increases. As it can be seen, the second histogram with a scale\n",
    "# of 100 has an x scale that goes until around 600. On the other hand, the scale of x of first histogram goes until around 8.\n",
    "# The exponential of first histogram has a scale of 1."
   ]
  },
  {
   "cell_type": "markdown",
   "metadata": {},
   "source": [
    "## Exponential Distribution of Real Data\n",
    "\n",
    "Suppose that the amount of time one spends in a bank is exponentially distributed with mean as 10 minutes (i.e. λ = 1/10). What is the probability that a customer will spend less than fifteen minutes in the bank? \n",
    "\n",
    "Write a code in python to solve this problem"
   ]
  },
  {
   "cell_type": "code",
   "execution_count": 102,
   "metadata": {},
   "outputs": [
    {
     "name": "stdout",
     "output_type": "stream",
     "text": [
      "The probability that a customer will spend less than fifteen minutes in the bank is 0.78.\n"
     ]
    }
   ],
   "source": [
    "# your answer here\n",
    "# Hint: This is same as saying P(x<15)\n",
    "# Import of libraries that will be used\n",
    "from scipy.stats import expon\n",
    "\n",
    "# Using the CDF of exponential distriubution with a mean of 10\n",
    "print(f'The probability that a customer will spend less than fifteen minutes in the bank is {expon.cdf(15,scale= 10):.2f}.')"
   ]
  },
  {
   "cell_type": "markdown",
   "metadata": {},
   "source": [
    "What is the probability that the customer will spend more than 15 minutes"
   ]
  },
  {
   "cell_type": "code",
   "execution_count": 103,
   "metadata": {},
   "outputs": [
    {
     "name": "stdout",
     "output_type": "stream",
     "text": [
      "The probability that a customer will spend more than fifteen minutes in the bank is 0.22.\n"
     ]
    }
   ],
   "source": [
    "# your answer here\n",
    "# Using the CDF of exponential distriubution with a mean of 10\n",
    "print(f'The probability that a customer will spend more than fifteen minutes in the bank is {1-expon.cdf(15,scale= 10):.2f}.')"
   ]
  }
 ],
 "metadata": {
  "kernelspec": {
   "display_name": "Python 3 (ipykernel)",
   "language": "python",
   "name": "python3"
  },
  "language_info": {
   "codemirror_mode": {
    "name": "ipython",
    "version": 3
   },
   "file_extension": ".py",
   "mimetype": "text/x-python",
   "name": "python",
   "nbconvert_exporter": "python",
   "pygments_lexer": "ipython3",
   "version": "3.9.7"
  }
 },
 "nbformat": 4,
 "nbformat_minor": 2
}
