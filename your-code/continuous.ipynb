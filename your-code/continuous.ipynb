{
 "cells": [
  {
   "cell_type": "markdown",
   "metadata": {},
   "source": [
    "# Before your start:\n",
    "\n",
    "    Read the README.md file\n",
    "    Comment as much as you can and use the resources (README.md file)\n",
    "    Happy learning!"
   ]
  },
  {
   "cell_type": "markdown",
   "metadata": {},
   "source": [
    "In this exercise, we  will generate random numbers from the continuous disributions we learned in the lesson. There are two ways to generate random numbers:\n",
    "\n",
    "1. Using the numpy library \n",
    "1. using the Scipy library \n",
    "\n",
    "Use either or both of the lbraries in this exercise."
   ]
  },
  {
   "cell_type": "markdown",
   "metadata": {},
   "source": [
    "## Uniform Distribution\n",
    "\n",
    "To generate uniform random numbers between any two given values using scipy, we can either use the following code or the code that we have\n",
    "discussed in class:"
   ]
  },
  {
   "cell_type": "code",
   "execution_count": 184,
   "metadata": {},
   "outputs": [
    {
     "name": "stdout",
     "output_type": "stream",
     "text": [
      "[2.27473002 2.60533083 2.19381935 2.39948779 2.8711292  2.2088767\n",
      " 2.50836456 2.67889383 2.77445378 2.99830134]\n"
     ]
    }
   ],
   "source": [
    "from scipy.stats import uniform\n",
    "x = uniform.rvs(size=10)\n",
    "a = 2\n",
    "b = 3\n",
    "randoms  = a + (b-a)*x\n",
    "print(randoms)"
   ]
  },
  {
   "cell_type": "markdown",
   "metadata": {},
   "source": [
    "**Your task:**\n",
    "\n",
    "1. Based on the code above, write a function that generates uniformly distributed random numbers. There are several requirements for your function:\n",
    "    * It should accept 3 parameters: \n",
    "        * `bottom` - the lower boundary of the generated numbers\n",
    "        * `ceiling` - the upper boundary of the generated numbers\n",
    "        * `count` - how many numbers to generate\n",
    "    * It should return an array of uniformly distributed random numbers\n",
    "\n",
    "1. Call your function with 2 sets of params below:\n",
    "    * bottom=10, ceiling=15, count=100\n",
    "    * bottom=10, ceiling=60, count=1,000\n",
    "\n",
    "1. Plot the uniform distributions generated above using histograms, where x axis is the value and y axis is the count. Let the histogram's number of bins be 10.\n",
    "\n",
    "Your output should look like below:\n",
    "\n",
    "![uniform distribution](ud.png)"
   ]
  },
  {
   "cell_type": "code",
   "execution_count": 9,
   "metadata": {},
   "outputs": [],
   "source": [
    "# your code here\n",
    "\n",
    "def generation(bottom, ceiling, count):\n",
    "    R = uniform.rvs(bottom, ceiling-bottom, size = count)\n",
    "    return R\n",
    "    "
   ]
  },
  {
   "cell_type": "code",
   "execution_count": 10,
   "metadata": {},
   "outputs": [],
   "source": [
    "import matplotlib.pyplot as plt"
   ]
  },
  {
   "cell_type": "code",
   "execution_count": 45,
   "metadata": {},
   "outputs": [],
   "source": [
    "c = generation(10,15,100)\n",
    "b = generation(10,60,1000)\n"
   ]
  },
  {
   "cell_type": "code",
   "execution_count": 52,
   "metadata": {},
   "outputs": [
    {
     "data": {
      "image/png": "[encoded data removed]",
      "text/plain": [
       "<Figure size 720x360 with 2 Axes>"
      ]
     },
     "metadata": {
      "needs_background": "light"
     },
     "output_type": "display_data"
    }
   ],
   "source": [
    "\n",
    "fig,a =  plt.subplots(1,2,figsize=(10,5))\n",
    "a[0].hist(c,bins=10)\n",
    "a[1].hist(b,bins=10)\n",
    "a[0].set_ylim([0,120])\n",
    "a[1].set_ylim([0,120])\n",
    "plt.show()\n"
   ]
  },
  {
   "cell_type": "markdown",
   "metadata": {},
   "source": [
    "How are the two distributions different?"
   ]
  },
  {
   "cell_type": "code",
   "execution_count": null,
   "metadata": {},
   "outputs": [],
   "source": [
    "# your answer here:\n",
    "\n",
    "# the range and the values of the two distributions is different.\n",
    "# The total sum of the all the occurences of the first histogram is equal to 100 whereas for the second it is equal to 1000\n"
   ]
  },
  {
   "cell_type": "markdown",
   "metadata": {},
   "source": [
    "## Normal Distribution\n",
    "\n",
    "1. In the same way in the Uniform Distribution challenge, write a function that generates normally distributed random numbers.\n",
    "1. Generate 1,000 normally distributed numbers with the average of 10 and standard deviation of 1\n",
    "1. Generate 1,000 normally distributed numbers with the average of 10 and standard deviation of 50\n",
    "2. Plot the distributions of the data generated.\n",
    "\n",
    "Expected output:\n",
    "\n",
    "![normal distribution](nd.png)"
   ]
  },
  {
   "cell_type": "code",
   "execution_count": 65,
   "metadata": {},
   "outputs": [],
   "source": [
    "# your code here\n",
    "\n",
    "\n"
   ]
  },
  {
   "cell_type": "code",
   "execution_count": 66,
   "metadata": {},
   "outputs": [],
   "source": [
    "def generation_norm(mean_s, std_s, siz):\n",
    "    R = norm.rvs(mean_s, std_s, siz)\n",
    "    return R"
   ]
  },
  {
   "cell_type": "code",
   "execution_count": 70,
   "metadata": {},
   "outputs": [],
   "source": [
    "#Generate 1,000 normally distributed numbers with the average of 10 and standard deviation of 1\n",
    "c = generation_norm(10,1,1000)\n",
    "\n",
    "#Generate 1,000 normally distributed numbers with the average of 10 and standard deviation of 50\n",
    "b = generation_norm(10,50,1000)"
   ]
  },
  {
   "cell_type": "code",
   "execution_count": 79,
   "metadata": {},
   "outputs": [
    {
     "data": {
      "image/png": "[encoded data removed]",
      "text/plain": [
       "<Figure size 720x360 with 2 Axes>"
      ]
     },
     "metadata": {
      "needs_background": "light"
     },
     "output_type": "display_data"
    }
   ],
   "source": [
    "\n",
    "fig,a =  plt.subplots(1,2,figsize=(10,5))\n",
    "#a[0].hist(c)\n",
    "a[0].hist(c,bins=50)\n",
    "a[1].hist(b,bins=50)\n",
    "a[0].set_ylim([0,70])\n",
    "a[1].set_ylim([0,70])\n",
    "plt.show()"
   ]
  },
  {
   "cell_type": "code",
   "execution_count": null,
   "metadata": {},
   "outputs": [],
   "source": []
  },
  {
   "cell_type": "markdown",
   "metadata": {},
   "source": [
    "How are the two distributions different?"
   ]
  },
  {
   "cell_type": "code",
   "execution_count": null,
   "metadata": {},
   "outputs": [],
   "source": [
    "# your answer here:\n",
    "\n",
    "# Both distributions are bell shaped however, both are centered around 10 however one is less widespread (between 6 and 13) compared to the other one (between -150 and 150)\n"
   ]
  },
  {
   "cell_type": "markdown",
   "metadata": {},
   "source": [
    "## Normal Distribution of Real Data\n",
    "\n",
    "In this challenge we are going to take a look the real data. We will use vehicles.csv file for this exercise"
   ]
  },
  {
   "cell_type": "markdown",
   "metadata": {},
   "source": [
    "First import vehicles.csv.\n",
    "Then plot the histograms for the following variables:\n",
    "\n",
    "1. Fuel Barrels/Year"
   ]
  },
  {
   "cell_type": "code",
   "execution_count": 81,
   "metadata": {},
   "outputs": [],
   "source": [
    "import pandas as pd"
   ]
  },
  {
   "cell_type": "code",
   "execution_count": 82,
   "metadata": {},
   "outputs": [],
   "source": [
    "# your code here\n",
    "\n",
    "vehicles = pd.read_csv('/Users/pietervierstraete/Desktop/Ironhack/week5/lab-probability-distributions/your-code/vehicles.csv')"
   ]
  },
  {
   "cell_type": "code",
   "execution_count": 83,
   "metadata": {},
   "outputs": [
    {
     "data": {
      "text/html": [
       "<div>\n",
       "<style scoped>\n",
       "    .dataframe tbody tr th:only-of-type {\n",
       "        vertical-align: middle;\n",
       "    }\n",
       "\n",
       "    .dataframe tbody tr th {\n",
       "        vertical-align: top;\n",
       "    }\n",
       "\n",
       "    .dataframe thead th {\n",
       "        text-align: right;\n",
       "    }\n",
       "</style>\n",
       "<table border=\"1\" class=\"dataframe\">\n",
       "  <thead>\n",
       "    <tr style=\"text-align: right;\">\n",
       "      <th></th>\n",
       "      <th>Make</th>\n",
       "      <th>Model</th>\n",
       "      <th>Year</th>\n",
       "      <th>Engine Displacement</th>\n",
       "      <th>Cylinders</th>\n",
       "      <th>Transmission</th>\n",
       "      <th>Drivetrain</th>\n",
       "      <th>Vehicle Class</th>\n",
       "      <th>Fuel Type</th>\n",
       "      <th>Fuel Barrels/Year</th>\n",
       "      <th>City MPG</th>\n",
       "      <th>Highway MPG</th>\n",
       "      <th>Combined MPG</th>\n",
       "      <th>CO2 Emission Grams/Mile</th>\n",
       "      <th>Fuel Cost/Year</th>\n",
       "    </tr>\n",
       "  </thead>\n",
       "  <tbody>\n",
       "    <tr>\n",
       "      <th>0</th>\n",
       "      <td>AM General</td>\n",
       "      <td>DJ Po Vehicle 2WD</td>\n",
       "      <td>1984</td>\n",
       "      <td>2.5</td>\n",
       "      <td>4.0</td>\n",
       "      <td>Automatic 3-spd</td>\n",
       "      <td>2-Wheel Drive</td>\n",
       "      <td>Special Purpose Vehicle 2WD</td>\n",
       "      <td>Regular</td>\n",
       "      <td>19.388824</td>\n",
       "      <td>18</td>\n",
       "      <td>17</td>\n",
       "      <td>17</td>\n",
       "      <td>522.764706</td>\n",
       "      <td>1950</td>\n",
       "    </tr>\n",
       "    <tr>\n",
       "      <th>1</th>\n",
       "      <td>AM General</td>\n",
       "      <td>FJ8c Post Office</td>\n",
       "      <td>1984</td>\n",
       "      <td>4.2</td>\n",
       "      <td>6.0</td>\n",
       "      <td>Automatic 3-spd</td>\n",
       "      <td>2-Wheel Drive</td>\n",
       "      <td>Special Purpose Vehicle 2WD</td>\n",
       "      <td>Regular</td>\n",
       "      <td>25.354615</td>\n",
       "      <td>13</td>\n",
       "      <td>13</td>\n",
       "      <td>13</td>\n",
       "      <td>683.615385</td>\n",
       "      <td>2550</td>\n",
       "    </tr>\n",
       "    <tr>\n",
       "      <th>2</th>\n",
       "      <td>AM General</td>\n",
       "      <td>Post Office DJ5 2WD</td>\n",
       "      <td>1985</td>\n",
       "      <td>2.5</td>\n",
       "      <td>4.0</td>\n",
       "      <td>Automatic 3-spd</td>\n",
       "      <td>Rear-Wheel Drive</td>\n",
       "      <td>Special Purpose Vehicle 2WD</td>\n",
       "      <td>Regular</td>\n",
       "      <td>20.600625</td>\n",
       "      <td>16</td>\n",
       "      <td>17</td>\n",
       "      <td>16</td>\n",
       "      <td>555.437500</td>\n",
       "      <td>2100</td>\n",
       "    </tr>\n",
       "    <tr>\n",
       "      <th>3</th>\n",
       "      <td>AM General</td>\n",
       "      <td>Post Office DJ8 2WD</td>\n",
       "      <td>1985</td>\n",
       "      <td>4.2</td>\n",
       "      <td>6.0</td>\n",
       "      <td>Automatic 3-spd</td>\n",
       "      <td>Rear-Wheel Drive</td>\n",
       "      <td>Special Purpose Vehicle 2WD</td>\n",
       "      <td>Regular</td>\n",
       "      <td>25.354615</td>\n",
       "      <td>13</td>\n",
       "      <td>13</td>\n",
       "      <td>13</td>\n",
       "      <td>683.615385</td>\n",
       "      <td>2550</td>\n",
       "    </tr>\n",
       "    <tr>\n",
       "      <th>4</th>\n",
       "      <td>ASC Incorporated</td>\n",
       "      <td>GNX</td>\n",
       "      <td>1987</td>\n",
       "      <td>3.8</td>\n",
       "      <td>6.0</td>\n",
       "      <td>Automatic 4-spd</td>\n",
       "      <td>Rear-Wheel Drive</td>\n",
       "      <td>Midsize Cars</td>\n",
       "      <td>Premium</td>\n",
       "      <td>20.600625</td>\n",
       "      <td>14</td>\n",
       "      <td>21</td>\n",
       "      <td>16</td>\n",
       "      <td>555.437500</td>\n",
       "      <td>2550</td>\n",
       "    </tr>\n",
       "  </tbody>\n",
       "</table>\n",
       "</div>"
      ],
      "text/plain": [
       "               Make                Model  Year  Engine Displacement  \\\n",
       "0        AM General    DJ Po Vehicle 2WD  1984                  2.5   \n",
       "1        AM General     FJ8c Post Office  1984                  4.2   \n",
       "2        AM General  Post Office DJ5 2WD  1985                  2.5   \n",
       "3        AM General  Post Office DJ8 2WD  1985                  4.2   \n",
       "4  ASC Incorporated                  GNX  1987                  3.8   \n",
       "\n",
       "   Cylinders     Transmission        Drivetrain                Vehicle Class  \\\n",
       "0        4.0  Automatic 3-spd     2-Wheel Drive  Special Purpose Vehicle 2WD   \n",
       "1        6.0  Automatic 3-spd     2-Wheel Drive  Special Purpose Vehicle 2WD   \n",
       "2        4.0  Automatic 3-spd  Rear-Wheel Drive  Special Purpose Vehicle 2WD   \n",
       "3        6.0  Automatic 3-spd  Rear-Wheel Drive  Special Purpose Vehicle 2WD   \n",
       "4        6.0  Automatic 4-spd  Rear-Wheel Drive                 Midsize Cars   \n",
       "\n",
       "  Fuel Type  Fuel Barrels/Year  City MPG  Highway MPG  Combined MPG  \\\n",
       "0   Regular          19.388824        18           17            17   \n",
       "1   Regular          25.354615        13           13            13   \n",
       "2   Regular          20.600625        16           17            16   \n",
       "3   Regular          25.354615        13           13            13   \n",
       "4   Premium          20.600625        14           21            16   \n",
       "\n",
       "   CO2 Emission Grams/Mile  Fuel Cost/Year  \n",
       "0               522.764706            1950  \n",
       "1               683.615385            2550  \n",
       "2               555.437500            2100  \n",
       "3               683.615385            2550  \n",
       "4               555.437500            2550  "
      ]
     },
     "execution_count": 83,
     "metadata": {},
     "output_type": "execute_result"
    }
   ],
   "source": [
    "vehicles.head()"
   ]
  },
  {
   "cell_type": "code",
   "execution_count": 87,
   "metadata": {},
   "outputs": [
    {
     "data": {
      "text/plain": [
       "(35952, 15)"
      ]
     },
     "execution_count": 87,
     "metadata": {},
     "output_type": "execute_result"
    }
   ],
   "source": [
    "vehicles.shape"
   ]
  },
  {
   "cell_type": "code",
   "execution_count": 93,
   "metadata": {},
   "outputs": [
    {
     "data": {
      "image/png": "[encoded data removed]",
      "text/plain": [
       "<Figure size 432x288 with 1 Axes>"
      ]
     },
     "metadata": {
      "needs_background": "light"
     },
     "output_type": "display_data"
    }
   ],
   "source": [
    "# plot of fuel barrels/year\n",
    "\n",
    "vehicles['Fuel Barrels/Year'].hist(bins=80)\n",
    "plt.show()"
   ]
  },
  {
   "cell_type": "markdown",
   "metadata": {},
   "source": [
    "2. CO2 Emission Grams/Mile "
   ]
  },
  {
   "cell_type": "code",
   "execution_count": 94,
   "metadata": {},
   "outputs": [
    {
     "data": {
      "image/png": "[encoded data removed]",
      "text/plain": [
       "<Figure size 432x288 with 1 Axes>"
      ]
     },
     "metadata": {
      "needs_background": "light"
     },
     "output_type": "display_data"
    }
   ],
   "source": [
    "# your code here\n",
    "\n",
    "vehicles['CO2 Emission Grams/Mile'].hist(bins=80)\n",
    "plt.show()"
   ]
  },
  {
   "cell_type": "markdown",
   "metadata": {},
   "source": [
    "3. Combined MPG"
   ]
  },
  {
   "cell_type": "code",
   "execution_count": 95,
   "metadata": {},
   "outputs": [
    {
     "data": {
      "image/png": "[encoded data removed]",
      "text/plain": [
       "<Figure size 432x288 with 1 Axes>"
      ]
     },
     "metadata": {
      "needs_background": "light"
     },
     "output_type": "display_data"
    }
   ],
   "source": [
    "# your code here\n",
    "\n",
    "vehicles['Combined MPG'].hist(bins=80)\n",
    "plt.show()"
   ]
  },
  {
   "cell_type": "markdown",
   "metadata": {},
   "source": [
    "Which one(s) of the variables are nearly normally distributed? How do you know?"
   ]
  },
  {
   "cell_type": "code",
   "execution_count": null,
   "metadata": {},
   "outputs": [],
   "source": [
    "# you answer here:\n",
    "# Only the variable combined MPG is nearly normally distributed because of the shape of the distribution and the continuous repartition of the values on the x-axis.\n",
    "# The two other graphics do not present a continuous distribution along the X-axis\n"
   ]
  },
  {
   "cell_type": "markdown",
   "metadata": {},
   "source": [
    "## Exponential Distribution"
   ]
  },
  {
   "cell_type": "markdown",
   "metadata": {},
   "source": [
    "1. Using `numpy.random.exponential`, create a function that returns a list of numbers exponentially distributed with the mean of 10. \n",
    "\n",
    "1. Use the function to generate two number sequences with a mean of 1 and 100 and a size of 1000.\n",
    "\n",
    "1. Plot the distributions as histograms with the number of bins as 100.\n",
    "\n",
    "Your output should look like below:\n",
    "\n",
    "![exponential distribution](ed.png)"
   ]
  },
  {
   "cell_type": "code",
   "execution_count": 96,
   "metadata": {},
   "outputs": [],
   "source": [
    "# your code here\n",
    "import numpy as np\n"
   ]
  },
  {
   "cell_type": "code",
   "execution_count": 100,
   "metadata": {},
   "outputs": [],
   "source": [
    "# create a function for the exp generation\n",
    "\n",
    "def expo(mu,siz):\n",
    "    x = np.random.exponential(scale=mu, size=siz)\n",
    "    return x\n"
   ]
  },
  {
   "cell_type": "code",
   "execution_count": 102,
   "metadata": {},
   "outputs": [
    {
     "data": {
      "text/plain": [
       "array([1.77490645e+00, 7.42457154e+00, 7.03602247e+00, 4.15921331e+01,\n",
       "       2.18602276e+00, 3.65120399e+00, 8.97925073e+00, 8.06297146e+00,\n",
       "       2.05482813e+00, 1.57391868e+00, 1.74885987e+01, 3.74844227e+01,\n",
       "       6.41530942e+00, 3.85308585e+00, 8.26811343e+00, 1.17986362e+00,\n",
       "       2.90447967e+01, 1.10090810e+01, 6.57322999e+00, 5.88828393e+00,\n",
       "       2.86781210e+01, 1.24150123e+01, 3.64559330e+00, 1.21517155e+00,\n",
       "       1.75582482e+01, 1.88219119e+00, 7.81974271e+00, 7.12167038e+00,\n",
       "       2.58661347e+00, 7.70431782e+00, 1.53152912e+01, 3.28664281e+00,\n",
       "       7.37088892e+00, 1.66958931e+01, 2.38124403e+00, 1.48924746e+01,\n",
       "       2.23102149e-01, 1.26036740e+01, 6.96669732e+01, 2.12592718e+01,\n",
       "       1.46324801e+01, 2.08687011e+01, 1.91423819e+01, 7.29906319e+00,\n",
       "       7.40394852e+00, 4.72032828e+01, 1.13222580e+01, 1.60041578e+01,\n",
       "       1.67968975e+00, 1.89805369e+01, 5.38995800e+00, 2.26762518e+01,\n",
       "       1.02681763e+00, 5.99604206e+00, 3.91472892e-01, 3.04723565e+01,\n",
       "       1.59014741e+01, 1.13354310e+01, 9.83869524e-01, 4.64080093e+00,\n",
       "       4.91699343e+00, 7.06267881e+00, 1.12696075e+01, 8.25602467e+00,\n",
       "       3.42894452e+01, 1.98015773e+01, 3.72687925e+00, 7.43503500e+00,\n",
       "       1.97746001e+01, 1.32787949e+01, 1.90172943e+01, 6.93844526e-01,\n",
       "       4.52573993e+00, 3.98298205e+00, 7.79017448e+00, 1.82953086e+01,\n",
       "       1.80089646e+00, 6.05019079e+00, 3.81651782e+00, 1.49412161e-01,\n",
       "       9.55303147e-02, 9.67355587e+00, 3.37615883e+00, 3.61764590e+00,\n",
       "       1.05376367e+01, 2.69140115e-01, 5.82625632e-01, 1.40123495e+00,\n",
       "       2.13071069e+01, 6.28866399e+00, 1.46526007e+00, 1.01833161e+01,\n",
       "       4.24634340e+00, 6.47449870e+00, 2.64893442e+01, 2.16565083e+01,\n",
       "       6.00786514e+00, 8.24717496e+00, 1.31190743e+01, 5.54918785e+00,\n",
       "       3.11635826e+00, 1.04913101e+01, 3.85395850e+00, 8.57097979e+00,\n",
       "       1.26686887e+01, 2.27540601e+00, 2.36413756e+01, 4.94294148e+00,\n",
       "       1.87671110e+01, 7.28627085e+00, 2.03542613e+01, 8.36218484e+00,\n",
       "       4.58093765e+00, 5.52450829e+00, 3.16888543e+01, 2.35034596e+00,\n",
       "       1.20343375e+01, 7.00266942e-01, 2.02834819e+01, 1.70707774e+01,\n",
       "       1.25448818e+00, 4.72018190e+00, 6.80962148e-01, 1.56321020e+00,\n",
       "       2.41694185e+00, 4.54852012e+00, 4.94294411e-01, 9.37315898e+00,\n",
       "       2.89009927e-01, 8.03504059e+00, 2.45537760e+01, 1.98480587e+00,\n",
       "       3.39380774e+00, 1.32578358e+00, 4.39610434e+00, 5.62156096e-01,\n",
       "       1.55673963e-01, 4.42992635e+00, 6.17923294e-02, 3.97623170e+01,\n",
       "       7.45808944e+00, 2.23355100e+01, 2.37657412e+00, 2.01215278e+00,\n",
       "       1.67024403e+01, 9.40107246e+00, 7.83553857e+00, 1.08338412e+00,\n",
       "       2.46472836e+00, 2.90590488e+01, 6.60613654e+01, 2.85852003e+00,\n",
       "       5.08203600e+00, 1.56957582e+01, 3.23022965e+01, 7.58511234e+00,\n",
       "       1.53538621e+01, 1.66061815e+01, 1.19390976e+01, 6.59024500e-01,\n",
       "       1.02278782e+01, 3.66757168e+00, 1.06686515e+01, 1.19610395e-01,\n",
       "       4.71028209e+01, 1.66645229e+01, 9.50018790e-01, 1.36048682e+00,\n",
       "       9.24453193e+00, 1.92794725e-01, 1.28986243e+01, 2.09114161e-01,\n",
       "       5.42653835e+00, 1.02490243e+00, 8.19343124e+00, 1.24305351e+01,\n",
       "       5.23893828e+00, 7.18545573e+00, 4.36792703e+00, 1.56255187e+01,\n",
       "       7.76147930e+00, 1.92375836e+01, 1.39153991e+01, 3.29451960e+00,\n",
       "       2.11273405e+00, 1.97710641e+00, 2.59618312e+01, 9.40456029e+00,\n",
       "       6.38129223e+00, 3.52687267e+00, 1.08840142e+01, 8.08105545e+00,\n",
       "       2.89473384e+00, 2.35547157e+00, 2.28266235e-01, 1.04010157e+00,\n",
       "       4.92253858e+00, 1.32708406e+00, 1.78468790e-01, 6.03408866e+00,\n",
       "       2.30941292e+01, 1.68690124e+01, 1.37517509e+01, 7.31247282e+00,\n",
       "       1.60636555e+01, 8.31565743e+00, 1.44292832e+00, 6.81668318e-01,\n",
       "       1.95285546e+00, 1.59745806e+01, 2.10516779e+01, 3.60231269e+00,\n",
       "       3.17065094e+00, 4.83359661e+00, 3.70871680e+00, 9.80194686e+00,\n",
       "       5.66054749e+00, 2.32065837e-01, 4.42495369e+00, 1.23734444e+01,\n",
       "       2.26818640e+01, 3.92861880e+01, 3.43910158e+00, 2.92637893e+00,\n",
       "       5.98263597e+00, 5.36958969e+00, 2.46045124e+00, 1.08438888e+01,\n",
       "       1.33121320e+00, 3.44339739e+00, 3.07000199e+00, 3.10989119e+00,\n",
       "       7.90473254e+00, 2.28299127e+01, 1.53398729e+01, 4.52406457e+00,\n",
       "       1.23834477e+00, 1.16737836e+00, 8.45920075e-01, 2.87657119e+00,\n",
       "       8.98105344e+00, 1.38720512e+00, 7.61024834e-01, 2.08124728e+01,\n",
       "       7.28672347e+00, 2.68526748e+00, 1.50297551e+01, 1.31806422e+01,\n",
       "       6.53049197e+01, 2.63122142e+00, 1.12883524e+01, 3.95690912e-01,\n",
       "       3.50849551e+01, 1.38442104e+00, 8.70014118e+00, 2.84814746e+00,\n",
       "       2.90530726e+00, 2.40955119e+01, 1.21732092e+01, 1.01717746e+01,\n",
       "       2.53024466e+01, 9.84745352e+00, 2.95185099e+01, 2.25575815e+00,\n",
       "       3.65891655e+00, 3.78935334e+00, 2.00680397e-02, 6.27543717e+00,\n",
       "       2.90575124e+00, 5.75862627e+00, 1.20892246e+01, 1.12730389e+01,\n",
       "       5.20115401e+00, 1.27857989e-01, 2.00541006e+01, 1.82158190e+01,\n",
       "       1.23433367e+01, 1.60883243e+01, 1.28895746e+01, 4.23639037e+00,\n",
       "       1.49548567e-01, 4.18352242e+00, 1.86578430e+01, 1.01419118e+01,\n",
       "       9.21658684e-01, 4.18305309e+00, 1.72121321e+01, 5.50853420e+00,\n",
       "       5.52491732e+00, 8.49995798e+00, 2.22440385e+00, 5.52065674e+00,\n",
       "       3.76178873e+00, 3.99344275e+00, 8.93304578e+00, 9.94325170e+00,\n",
       "       7.74468050e-01, 2.12793342e+01, 5.41496009e+00, 1.56466667e+01,\n",
       "       1.03330707e+01, 5.15580245e+00, 4.25530442e+00, 3.93092548e+01,\n",
       "       1.16059655e+01, 6.65936582e-01, 3.89712866e+00, 3.19724420e+01,\n",
       "       9.15703318e+00, 2.68268073e+00, 5.26597932e+00, 4.46686286e+00,\n",
       "       3.11905870e+00, 8.95376227e+00, 2.54382915e-01, 1.05223706e+01,\n",
       "       2.20912397e+01, 1.31897474e+01, 2.43231285e-01, 2.82029017e+01,\n",
       "       7.80055789e+00, 7.25296350e+00, 9.85296533e-01, 1.38960070e+01,\n",
       "       8.51826263e+00, 4.42462636e+00, 5.22782581e+00, 6.11356462e+00,\n",
       "       8.34645584e-02, 4.81352342e+00, 7.72939772e+00, 3.05153990e+00,\n",
       "       1.48012376e+01, 2.05712030e+01, 5.04441276e+00, 2.25846852e+01,\n",
       "       7.22741045e+00, 2.41669334e+01, 1.72205507e+00, 2.25576396e+00,\n",
       "       1.96511004e+00, 9.99628532e+00, 2.76468285e+01, 3.15276440e+00,\n",
       "       8.21399694e+00, 3.05279667e+00, 5.51523280e+00, 6.59205108e+00,\n",
       "       2.12317437e+01, 1.31930292e+00, 1.88483143e+00, 3.23746938e+00,\n",
       "       9.33912387e+00, 4.58765201e+00, 4.00135306e+00, 9.53801455e+00,\n",
       "       6.90489959e+00, 1.63256478e+01, 7.09755937e+00, 2.79763610e+01,\n",
       "       1.01808108e+01, 2.89704942e+01, 4.30911040e+00, 9.80177921e-01,\n",
       "       2.75028005e+00, 7.28981913e+00, 1.82625039e+01, 1.15540104e+01,\n",
       "       1.37160272e+01, 6.41925395e+00, 1.76454064e+00, 3.17498370e+00,\n",
       "       6.81475031e+00, 1.44605689e+00, 9.46495957e+00, 5.18933593e+01,\n",
       "       3.18347785e+00, 8.28197241e+00, 9.98299001e+00, 2.78135950e+00,\n",
       "       1.83590516e+00, 3.43487110e+00, 1.62862601e+01, 5.09957177e+00,\n",
       "       5.41013725e+00, 1.57851438e+01, 3.37168418e+00, 8.73368447e+00,\n",
       "       1.14540803e+01, 8.14255566e+00, 4.83682285e+00, 1.07363455e+01,\n",
       "       3.08596257e+00, 2.55734544e+00, 1.21772160e+01, 9.04630236e+00,\n",
       "       2.71033231e+00, 5.10354760e+00, 4.05974093e+00, 2.21569862e+00,\n",
       "       6.00660685e-01, 1.85833433e+01, 1.05072409e+01, 1.13496714e+01,\n",
       "       2.97542210e+01, 1.13545631e+00, 9.66122041e+00, 3.90282192e+00,\n",
       "       1.44119578e+01, 2.09408750e-01, 6.27627564e-01, 4.95882268e+00,\n",
       "       7.34866108e+00, 3.21586093e+00, 2.11959563e+00, 6.03952647e+00,\n",
       "       6.19753925e+00, 1.41568724e+00, 6.43088179e+00, 8.95650132e+01,\n",
       "       4.56981753e+00, 1.51459981e+00, 1.93160461e+01, 1.02538900e+01,\n",
       "       1.20392586e+00, 1.87522110e+00, 8.96504748e+00, 4.03384938e+01,\n",
       "       9.89163596e-01, 4.12829260e+00, 3.31242375e+00, 2.23025515e+00,\n",
       "       2.22311269e+01, 1.45600013e+01, 1.42528486e+01, 7.14222175e+00,\n",
       "       6.15205414e+00, 6.87666361e-01, 3.65221281e+01, 4.61530706e+00,\n",
       "       6.41600097e+00, 2.67835502e+00, 1.06696667e+01, 7.01775803e-01,\n",
       "       1.81012258e+01, 4.49228377e+00, 3.26754409e+00, 3.22071236e+01,\n",
       "       1.89142419e+01, 4.60673500e+00, 1.47017137e+01, 1.65325876e+00,\n",
       "       1.39952141e+01, 1.21097144e+01, 2.36127068e-01, 8.34078885e-01,\n",
       "       2.06774855e+01, 4.31659117e+01, 9.66267589e+00, 1.29519624e+00,\n",
       "       4.80962556e+00, 4.97964054e+01, 8.01459426e+00, 3.21644427e+00,\n",
       "       4.20187230e+00, 1.58389914e+00, 3.38608604e+00, 1.98641457e+01,\n",
       "       8.10095554e+00, 9.76138382e-01, 3.54569873e+00, 1.07733011e+01,\n",
       "       4.76580122e+00, 1.56629667e+01, 3.71237627e+00, 3.95422043e-02,\n",
       "       8.63521418e+00, 2.30696617e+00, 3.61335468e+01, 4.50529282e+01,\n",
       "       4.66172581e+00, 2.56667394e+00, 5.15749907e+01, 3.54204131e+01,\n",
       "       2.64050743e+00, 5.13480187e+00, 2.59950212e+01, 2.73633619e+00,\n",
       "       2.24712318e+00, 1.07261154e+01, 3.62856050e+00, 8.48307480e+00,\n",
       "       2.27283124e+01, 6.97804831e-02, 2.68750220e+01, 6.96835345e+00,\n",
       "       6.15340391e-01, 9.07662665e+00, 6.90028144e+00, 7.07960913e+00,\n",
       "       1.71402872e+01, 1.22352030e+01, 4.29676891e+00, 4.53461864e+00,\n",
       "       7.12140845e-01, 5.96455505e+00, 7.96039776e+00, 3.88304267e+00,\n",
       "       2.24605609e-01, 3.65872625e+00, 4.80496826e+00, 8.43055881e+00,\n",
       "       7.41863400e+00, 3.45925469e-01, 3.72381155e-01, 1.12762722e+01,\n",
       "       6.59503683e+00, 4.08296254e+00, 5.55893233e+00, 2.40612409e+00,\n",
       "       1.63305849e+00, 1.07412176e+01, 8.45395106e+00, 1.32066772e+01,\n",
       "       5.41537286e+00, 2.48412137e+00, 1.44034567e+01, 6.19042716e+00,\n",
       "       4.37964276e-01, 1.86120992e+01, 2.20183012e+01, 1.15655607e+01,\n",
       "       5.39921438e+00, 2.51906791e+00, 1.95698586e-01, 1.62851203e+01,\n",
       "       2.15711295e+01, 4.30229224e+00, 4.33275039e+00, 1.04970063e+00,\n",
       "       5.54970954e+00, 4.59659306e+00, 1.28504508e+01, 2.08246744e+01,\n",
       "       1.40918371e+01, 1.14512691e+01, 5.99944868e+00, 8.44227461e+00,\n",
       "       7.39404406e+00, 1.88791155e+00, 2.53673357e+01, 1.17454826e+01,\n",
       "       2.57456772e+01, 1.07268305e+01, 4.72981639e-01, 7.86251496e+00,\n",
       "       1.52285675e+00, 4.06172960e+00, 5.40837878e+00, 3.72187703e+00,\n",
       "       6.78906095e+00, 2.29255025e+01, 4.07476134e-01, 5.10175415e-01,\n",
       "       5.04528271e+00, 4.36489764e+00, 2.28368911e+01, 7.38300902e+00,\n",
       "       2.65621619e+00, 2.32107619e+00, 1.50437180e+00, 1.01669280e+00,\n",
       "       3.43783000e-01, 1.67440106e+01, 6.92924279e+00, 1.36458686e+00,\n",
       "       4.19490216e+00, 7.88229344e+00, 5.22923204e+00, 2.58805187e+01,\n",
       "       9.76365602e+00, 1.39358317e+00, 3.61110451e+01, 1.84667766e+01,\n",
       "       1.00666449e+01, 4.45019394e+00, 1.15936080e+01, 1.11892141e+01,\n",
       "       2.63284188e+00, 2.58431166e+00, 1.16059757e+01, 2.17733519e+01,\n",
       "       2.06922024e+01, 2.39118543e+01, 3.26650466e-01, 1.12166389e+01,\n",
       "       5.98915160e+00, 4.86772827e+00, 6.92910768e+00, 1.82194234e+00,\n",
       "       2.19176204e+01, 2.08929634e+01, 1.22556055e+01, 1.44871880e+00,\n",
       "       1.20730567e+01, 1.18950311e+01, 9.75618412e+00, 8.66997669e+00,\n",
       "       6.57870933e-01, 1.58016406e+00, 1.37260165e+01, 3.56325404e+00,\n",
       "       4.68746947e+00, 8.09354691e+00, 2.92606916e+00, 2.39301347e+00,\n",
       "       1.09579121e+00, 1.87655652e+00, 1.66647857e+01, 6.68663698e+00,\n",
       "       1.99741986e+01, 2.22839026e+00, 2.43648358e+01, 1.35514807e+01,\n",
       "       3.10056504e+00, 2.56057280e+00, 8.13564450e+00, 7.33273332e+00,\n",
       "       2.91149202e+00, 1.13004594e+01, 1.81989194e+00, 1.38781399e+01,\n",
       "       3.94757022e+00, 1.84412281e+01, 3.82949045e+01, 2.80797986e+00,\n",
       "       1.60036366e+01, 1.46405755e+01, 2.36086578e+01, 1.11934914e+00,\n",
       "       3.88902309e+01, 2.61545295e+01, 1.39918041e+01, 7.40009720e+00,\n",
       "       1.25624371e+01, 3.12654289e+00, 2.71891609e+01, 1.22431678e+01,\n",
       "       5.81542700e+00, 4.96419011e-01, 1.29823261e+01, 1.38865413e+01,\n",
       "       2.61462830e+01, 2.49471391e+01, 1.61824658e+01, 2.37725196e+00,\n",
       "       2.20214125e+01, 1.86809416e+00, 7.00436989e+00, 2.77381625e-01,\n",
       "       6.22308841e+00, 1.13794751e+01, 5.81410300e+00, 1.84361744e+01,\n",
       "       2.66289638e+01, 1.67108829e+01, 4.16422144e+01, 1.22337885e+00,\n",
       "       2.61106158e+00, 6.14944231e+00, 7.74769349e+00, 5.65732716e+00,\n",
       "       7.08043554e-01, 1.60594863e+01, 1.77608324e+00, 2.76118464e+00,\n",
       "       1.19032664e+01, 2.76643691e+00, 2.24368002e+01, 1.92932046e+00,\n",
       "       4.38885456e+00, 1.25953775e+01, 3.04466276e+00, 1.08896836e+00,\n",
       "       1.34379626e+01, 8.87338878e+00, 5.95584499e+00, 6.77642712e+00,\n",
       "       1.04160693e+01, 3.23412214e+00, 5.67508454e+00, 5.23284858e+00,\n",
       "       1.12284051e+01, 1.31195654e+01, 6.58712530e+00, 1.87449856e+00,\n",
       "       1.16713601e+00, 1.97667276e+01, 6.42240170e+00, 9.68501318e+00,\n",
       "       2.93064765e+00, 8.46959151e+00, 4.10407849e+00, 3.71129203e+00,\n",
       "       1.50309715e+00, 1.33980077e+01, 4.46361449e+00, 1.02925744e+01,\n",
       "       1.15217532e+00, 2.06045867e+01, 8.31889936e+00, 1.83583059e+01,\n",
       "       3.08474978e+00, 7.92916763e+00, 2.10949006e+00, 1.30205052e+01,\n",
       "       4.61396362e+00, 3.43634315e+01, 3.04608387e+00, 1.28180480e+00,\n",
       "       1.11073668e+01, 1.12807136e+01, 4.69355767e-01, 2.44848600e+00,\n",
       "       2.88042755e+00, 7.61392349e+00, 9.98274102e+00, 7.79165413e+00,\n",
       "       3.29226628e+01, 1.15774404e+01, 2.07311874e+01, 4.42430383e+00,\n",
       "       7.42491118e+00, 1.86929328e+01, 7.84833048e+00, 1.90404500e+01,\n",
       "       6.47795821e+00, 4.80693169e+01, 6.63032295e+00, 2.17016580e+01,\n",
       "       1.80803617e+01, 1.57876259e+01, 6.91028785e+00, 4.05278103e+00,\n",
       "       3.84912220e+00, 4.18895621e+00, 2.41427629e+00, 9.43408517e+00,\n",
       "       1.66121053e+01, 1.14876428e+00, 1.33534819e+01, 5.38751999e+00,\n",
       "       8.61644525e+00, 9.70223691e+00, 3.82242445e+00, 3.79047469e+00,\n",
       "       1.24290726e+01, 1.64532295e+01, 3.47228694e+00, 9.07208960e-01,\n",
       "       1.14352952e+01, 5.68743700e+00, 3.22241141e+00, 1.14230496e+01,\n",
       "       1.88780688e+01, 1.79064166e-01, 5.47869648e+00, 7.83091270e+00,\n",
       "       1.54902777e+01, 9.18195083e+00, 3.07361640e+00, 2.72512834e+00,\n",
       "       3.98671247e+01, 1.45955509e+01, 5.62323923e-01, 1.23203071e+01,\n",
       "       3.71976321e+00, 1.42978852e+01, 1.08609966e+01, 2.10812598e+00,\n",
       "       5.87165910e+00, 8.74418817e+00, 7.82461171e+00, 9.86050907e+00,\n",
       "       3.27829120e+01, 1.82519506e+01, 5.03284481e+00, 1.59108341e+00,\n",
       "       3.16309460e+00, 1.41879245e+01, 1.89156052e+01, 1.14428432e+01,\n",
       "       8.49624569e-01, 2.48973963e+01, 2.70833153e+01, 2.29133800e+01,\n",
       "       5.82806859e-01, 1.17771048e+01, 8.37878672e-01, 2.07523192e+01,\n",
       "       1.16684920e+01, 1.68199571e+01, 2.65179628e+01, 9.42814495e+00,\n",
       "       1.50263018e+01, 4.37601870e+00, 1.57800517e+00, 4.34230640e+00,\n",
       "       7.08566817e+00, 1.74877885e+01, 2.58282176e+00, 2.45115379e+00,\n",
       "       2.51035539e+00, 4.07675423e+00, 1.31521645e+00, 2.43655173e+00,\n",
       "       1.46184685e+01, 1.60146989e+01, 4.53685514e+01, 1.97357436e-01,\n",
       "       3.18089085e+00, 2.80343135e+00, 3.20491972e+00, 1.27163944e+01,\n",
       "       3.17059353e+01, 4.61810088e-01, 7.31553681e+00, 8.58438022e+00,\n",
       "       4.67708163e-02, 5.77267017e+00, 1.31771387e+01, 2.17418499e+00,\n",
       "       2.03464114e+00, 9.95070150e+00, 5.66676914e+00, 3.38854005e+00,\n",
       "       1.44703835e+00, 1.27753473e+00, 3.34742586e+00, 1.34774564e+01,\n",
       "       1.54289310e+01, 5.72860163e-01, 2.50393090e+00, 7.11627401e-01,\n",
       "       1.21297595e+01, 1.05188248e+01, 1.50220274e+01, 4.53610633e+00,\n",
       "       6.76061846e+00, 2.85975974e+00, 4.53068654e+00, 7.89938052e+00,\n",
       "       1.71184266e+01, 2.59623327e+01, 2.67534777e+00, 2.14165363e+01,\n",
       "       2.53664535e+00, 5.20595952e+00, 6.72313821e+00, 1.61702819e-01,\n",
       "       1.66034778e+01, 2.09444691e+00, 3.04109667e+00, 2.69063890e-01,\n",
       "       1.92192398e+00, 2.82021115e+01, 1.06478451e+01, 4.67268201e+00,\n",
       "       5.28476706e+00, 2.30479145e+01, 8.92514477e-02, 1.16304883e+00,\n",
       "       1.21484154e+01, 9.02295420e+00, 5.54988066e+00, 2.64107680e+01,\n",
       "       9.93240706e+00, 6.81302840e+00, 2.66586638e+00, 4.14505424e+00,\n",
       "       2.74123901e+00, 2.15123611e+01, 8.87599401e+00, 7.71311827e+00,\n",
       "       2.99904393e+01, 2.53713631e+01, 3.94923336e-01, 3.34551303e+01,\n",
       "       1.03251276e+00, 2.59582978e+01, 9.57873458e-01, 4.73738815e+00,\n",
       "       2.84023320e+00, 6.13711057e+00, 1.25282301e+01, 2.00054168e-01,\n",
       "       6.31443218e+00, 2.18005672e+01, 4.19169227e+00, 1.32546660e+01,\n",
       "       3.68021747e+00, 1.65331952e+00, 2.63423472e+01, 2.41451534e+01,\n",
       "       2.71872702e+00, 5.74812916e-01, 2.59759605e+01, 4.44931506e+00,\n",
       "       2.08325621e+01, 1.29152001e+01, 1.30359779e+01, 6.31298763e+00,\n",
       "       3.29343274e+01, 3.58042388e+00, 2.64398645e+01, 9.99466592e+00,\n",
       "       1.03538512e+01, 1.07627205e+01, 4.34379564e+00, 1.46847789e+01,\n",
       "       5.65684062e+00, 2.25428842e+00, 2.19639186e+00, 2.32463169e+01,\n",
       "       1.62792884e+01, 1.02949114e+01, 6.11053203e+00, 8.61066097e-01,\n",
       "       3.37914320e-01, 3.12376540e+00, 3.53938037e+00, 8.15739764e+00,\n",
       "       8.95601872e+00, 8.78596108e+00, 1.35351360e+00, 2.27703394e+00,\n",
       "       5.33092859e+00, 1.64690796e+01, 1.27268031e-01, 1.60492398e+01,\n",
       "       3.66436380e+01, 6.79177394e+00, 9.94711531e+00, 6.61355673e-01,\n",
       "       2.88172916e+01, 4.25839215e+00, 3.94689331e+01, 6.24298980e-01,\n",
       "       1.45270371e+00, 2.76827489e+00, 1.48517450e+01, 6.55968825e+01,\n",
       "       9.03767378e+00, 8.21732376e+00, 9.13855092e-02, 1.20761763e-01,\n",
       "       9.91760975e+00, 1.20356511e+01, 2.83475780e+00, 3.50131649e+00,\n",
       "       5.84399534e-03, 6.06199333e-01, 1.61701724e+01, 1.08035032e-01,\n",
       "       7.51457836e+00, 1.58460835e+01, 4.21943921e+00, 2.24654372e+01,\n",
       "       2.31820977e+01, 5.26408575e+00, 9.20769660e+00, 2.68499710e+01,\n",
       "       4.07031522e+00, 3.09125258e+00, 4.17683200e+01, 1.03112367e+01,\n",
       "       3.67035267e+00, 1.80054360e+01, 1.78058101e+01, 8.87003780e+00,\n",
       "       1.12311441e+01, 1.90443405e+00, 6.66205847e+00, 6.81599641e+00,\n",
       "       8.43234263e+00, 1.13892244e-01, 2.71599935e+00, 2.07908392e+00,\n",
       "       3.17221160e+00, 1.69604244e+01, 4.77348713e-01, 1.67344513e+00,\n",
       "       7.04458452e+00, 2.64327595e+01, 2.23161805e+00, 1.56373336e+01,\n",
       "       1.22306583e+01, 4.83210533e+00, 2.38978945e+01, 2.04462830e+01])"
      ]
     },
     "execution_count": 102,
     "metadata": {},
     "output_type": "execute_result"
    }
   ],
   "source": [
    "# generate exponentially distributed numbers with mean of 10\n",
    "mu = 10\n",
    "siz = 1000\n",
    "expo(mu,siz)\n"
   ]
  },
  {
   "cell_type": "code",
   "execution_count": 108,
   "metadata": {},
   "outputs": [
    {
     "data": {
      "image/png": "[encoded data removed]",
      "text/plain": [
       "<Figure size 720x360 with 2 Axes>"
      ]
     },
     "metadata": {
      "needs_background": "light"
     },
     "output_type": "display_data"
    }
   ],
   "source": [
    "# generate exponentially distributed numbers with mean of 1\n",
    "mu = 1\n",
    "b = expo(mu,siz)\n",
    "\n",
    "# generate exponentially distributed numbers with mean of 100\n",
    "mu = 100\n",
    "c = expo(mu,siz)\n",
    "\n",
    "# plot the histograms\n",
    "fig,a =  plt.subplots(1,2,figsize=(10,5))\n",
    "\n",
    "a[0].hist(b,bins=100)\n",
    "a[1].hist(c,bins=100)\n",
    "a[0].set_ylim([0,100])\n",
    "a[1].set_ylim([0,100])\n",
    "a[0].set_title('mean = 1')\n",
    "a[1].set_title('mean = 100')\n",
    "\n",
    "plt.show()\n",
    "\n"
   ]
  },
  {
   "cell_type": "markdown",
   "metadata": {},
   "source": [
    "How are the two distributions different?"
   ]
  },
  {
   "cell_type": "code",
   "execution_count": null,
   "metadata": {},
   "outputs": [],
   "source": [
    "# your answer here:\n",
    "\n",
    "# the mean=1 exponential function is less widespread and more concentrated towards 1 while the mean = 100 is more widespread\n"
   ]
  },
  {
   "cell_type": "markdown",
   "metadata": {},
   "source": [
    "## Exponential Distribution of Real Data\n",
    "\n",
    "Suppose that the amount of time one spends in a bank is exponentially distributed with mean as 10 minutes (i.e. λ = 1/10). What is the probability that a customer will spend less than fifteen minutes in the bank? \n",
    "\n",
    "Write a code in python to solve this problem"
   ]
  },
  {
   "cell_type": "code",
   "execution_count": 200,
   "metadata": {},
   "outputs": [],
   "source": [
    "# your answer here\n",
    "# Hint: This is same as saying P(x<15)\n",
    "\n",
    "#--------method 1, generating an array with the exponential function-----------------#\n",
    "mu = 10\n",
    "siz = 100\n",
    "\n",
    "d = expo(mu,siz)\n",
    "\n"
   ]
  },
  {
   "cell_type": "code",
   "execution_count": 179,
   "metadata": {},
   "outputs": [
    {
     "data": {
      "text/plain": [
       "0    0.408933\n",
       "dtype: float64"
      ]
     },
     "execution_count": 179,
     "metadata": {},
     "output_type": "execute_result"
    }
   ],
   "source": [
    "# create a dataframe, then sort the values, filter the values inferior to 15 and sum them all\n",
    "data = pd.DataFrame(d)\n",
    "data[data<15].sort_values(by=0, ascending = True).sum()/(mu*siz)"
   ]
  },
  {
   "cell_type": "code",
   "execution_count": null,
   "metadata": {},
   "outputs": [],
   "source": [
    "# The probability that a customer will spend less than 15min in the bank is equal to 0.40"
   ]
  },
  {
   "cell_type": "code",
   "execution_count": 196,
   "metadata": {},
   "outputs": [],
   "source": [
    "#------------method 2, use the cdf function -------------------------------------------#\n",
    "import scipy\n",
    "\n",
    "e = scipy.stats.expon.cdf(15, loc=10, scale=10)"
   ]
  },
  {
   "cell_type": "code",
   "execution_count": 197,
   "metadata": {},
   "outputs": [
    {
     "data": {
      "text/plain": [
       "0.3934693402873666"
      ]
     },
     "execution_count": 197,
     "metadata": {},
     "output_type": "execute_result"
    }
   ],
   "source": [
    "e\n",
    "\n"
   ]
  },
  {
   "cell_type": "markdown",
   "metadata": {},
   "source": [
    "What is the probability that the customer will spend more than 15 minutes"
   ]
  },
  {
   "cell_type": "code",
   "execution_count": null,
   "metadata": {},
   "outputs": [],
   "source": [
    "# your answer here\n",
    "# the probability that a customer will spend more than 15min is equal to 1 - P(<15min) = 0.60\n"
   ]
  }
 ],
 "metadata": {
  "kernelspec": {
   "display_name": "Python 3",
   "language": "python",
   "name": "python3"
  },
  "language_info": {
   "codemirror_mode": {
    "name": "ipython",
    "version": 3
   },
   "file_extension": ".py",
   "mimetype": "text/x-python",
   "name": "python",
   "nbconvert_exporter": "python",
   "pygments_lexer": "ipython3",
   "version": "3.7.6"
  }
 },
 "nbformat": 4,
 "nbformat_minor": 2
}
