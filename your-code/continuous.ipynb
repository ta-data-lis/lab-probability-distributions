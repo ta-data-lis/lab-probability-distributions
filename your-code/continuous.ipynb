{
 "cells": [
  {
   "cell_type": "markdown",
   "metadata": {},
   "source": [
    "# Before your start:\n",
    "\n",
    "    Read the README.md file\n",
    "    Comment as much as you can and use the resources (README.md file)\n",
    "    Happy learning!"
   ]
  },
  {
   "cell_type": "markdown",
   "metadata": {},
   "source": [
    "In this exercise, we  will generate random numbers from the continuous disributions we learned in the lesson. There are two ways to generate random numbers:\n",
    "\n",
    "1. Using the numpy library \n",
    "1. using the Scipy library \n",
    "\n",
    "Use either or both of the lbraries in this exercise."
   ]
  },
  {
   "cell_type": "markdown",
   "metadata": {},
   "source": [
    "## Uniform Distribution\n",
    "\n",
    "To generate uniform random numbers between any two given values using scipy, we can either use the following code or the code that we have\n",
    "discussed in class:"
   ]
  },
  {
   "cell_type": "code",
   "execution_count": 1,
   "metadata": {},
   "outputs": [
    {
     "name": "stdout",
     "output_type": "stream",
     "text": [
      "[2.66258871 2.98911391 2.60949574 2.99938099 2.48159774 2.67490756\n",
      " 2.70330239 2.19385661 2.25875118 2.69632009]\n"
     ]
    }
   ],
   "source": [
    "from scipy.stats import uniform\n",
    "x = uniform.rvs(size=10)\n",
    "a = 2\n",
    "b = 3\n",
    "randoms  = a + (b-a)*x\n",
    "print(randoms)"
   ]
  },
  {
   "cell_type": "markdown",
   "metadata": {},
   "source": [
    "**Your task:**\n",
    "\n",
    "1. Based on the code above, write a function that generates uniformly distributed random numbers. There are several requirements for your function:\n",
    "    * It should accept 3 parameters: \n",
    "        * `bottom` - the lower boundary of the generated numbers\n",
    "        * `ceiling` - the upper boundary of the generated numbers\n",
    "        * `count` - how many numbers to generate\n",
    "    * It should return an array of uniformly distributed random numbers\n",
    "\n",
    "1. Call your function with 2 sets of params below:\n",
    "    * bottom=10, ceiling=15, count=100\n",
    "    * bottom=10, ceiling=60, count=1,000\n",
    "\n",
    "1. Plot the uniform distributions generated above using histograms, where x axis is the value and y axis is the count. Let the histogram's number of bins be 10.\n",
    "\n",
    "Your output should look like below:\n",
    "\n",
    "![uniform distribution](ud.png)"
   ]
  },
  {
   "cell_type": "code",
   "execution_count": 2,
   "metadata": {},
   "outputs": [],
   "source": [
    "# your code here\n",
    "import matplotlib.pyplot as plt\n",
    "bottom=10\n",
    "ceiling=15\n",
    "count=100\n",
    "x = uniform.rvs(size=count)\n",
    "randoms  = bottom + (ceiling-bottom)*x\n",
    "\n",
    "\n",
    "bottom2=10\n",
    "ceiling2=60\n",
    "count2=1000\n",
    "y = uniform.rvs(size=count2)\n",
    "randoms2  = bottom2 + (ceiling2-bottom2)*y"
   ]
  },
  {
   "cell_type": "code",
   "execution_count": 3,
   "metadata": {},
   "outputs": [
    {
     "data": {
      "text/plain": [
       "(array([ 91., 105., 117., 107.,  73.,  96., 102., 116.,  94.,  99.]),\n",
       " array([10.02933038, 15.02429464, 20.01925891, 25.01422317, 30.00918743,\n",
       "        35.00415169, 39.99911596, 44.99408022, 49.98904448, 54.98400875,\n",
       "        59.97897301]),\n",
       " <a list of 10 Patch objects>)"
      ]
     },
     "execution_count": 3,
     "metadata": {},
     "output_type": "execute_result"
    },
    {
     "data": {
      "image/png": "[encoded data removed]",
      "text/plain": [
       "<Figure size 432x288 with 2 Axes>"
      ]
     },
     "metadata": {},
     "output_type": "display_data"
    }
   ],
   "source": [
    "f, (ax1, ax2) = plt.subplots(1, 2, sharey=True)\n",
    "ax1.hist(x = randoms)\n",
    "ax2.hist(x = randoms2)"
   ]
  },
  {
   "cell_type": "markdown",
   "metadata": {},
   "source": [
    "How are the two distributions different?"
   ]
  },
  {
   "cell_type": "code",
   "execution_count": 4,
   "metadata": {},
   "outputs": [
    {
     "data": {
      "text/plain": [
       "'The first distribution only has 100 numbers. The second has 1000 numbers. \\nAlthough (due to the scale of the plot) it is not possible to see big differences in the distribution, it is \\nexpected the second distribution to be more uniform than the second, due to the increase of numbers'"
      ]
     },
     "execution_count": 4,
     "metadata": {},
     "output_type": "execute_result"
    }
   ],
   "source": [
    "# your answer here:\n",
    "\"\"\"The first distribution only has 100 numbers. The second has 1000 numbers. \n",
    "Although (due to the scale of the plot) it is not possible to see big differences in the distribution, it is \n",
    "expected the second distribution to be more uniform than the second, due to the increase of numbers\"\"\""
   ]
  },
  {
   "cell_type": "markdown",
   "metadata": {},
   "source": [
    "## Normal Distribution\n",
    "\n",
    "1. In the same way in the Uniform Distribution challenge, write a function that generates normally distributed random numbers.\n",
    "1. Generate 1,000 normally distributed numbers with the average of 10 and standard deviation of 1\n",
    "1. Generate 1,000 normally distributed numbers with the average of 10 and standard deviation of 50\n",
    "2. Plot the distributions of the data generated.\n",
    "\n",
    "Expected output:\n",
    "\n",
    "![normal distribution](nd.png)"
   ]
  },
  {
   "cell_type": "code",
   "execution_count": 5,
   "metadata": {},
   "outputs": [
    {
     "data": {
      "text/plain": [
       "(array([ 1.,  0.,  1.,  2.,  0.,  0.,  2.,  2.,  4.,  9., 15., 11., 14.,\n",
       "        22., 25., 23., 26., 30., 36., 35., 44., 35., 59., 49., 44., 51.,\n",
       "        57., 49., 52., 37., 40., 38., 28., 27., 19., 28., 23., 17.,  8.,\n",
       "         4., 11.,  6.,  8.,  3.,  0.,  2.,  1.,  0.,  1.,  1.]),\n",
       " array([-145.62748037, -139.26842061, -132.90936084, -126.55030108,\n",
       "        -120.19124132, -113.83218155, -107.47312179, -101.11406203,\n",
       "         -94.75500226,  -88.3959425 ,  -82.03688274,  -75.67782298,\n",
       "         -69.31876321,  -62.95970345,  -56.60064369,  -50.24158392,\n",
       "         -43.88252416,  -37.5234644 ,  -31.16440463,  -24.80534487,\n",
       "         -18.44628511,  -12.08722534,   -5.72816558,    0.63089418,\n",
       "           6.98995394,   13.34901371,   19.70807347,   26.06713323,\n",
       "          32.426193  ,   38.78525276,   45.14431252,   51.50337229,\n",
       "          57.86243205,   64.22149181,   70.58055158,   76.93961134,\n",
       "          83.2986711 ,   89.65773087,   96.01679063,  102.37585039,\n",
       "         108.73491015,  115.09396992,  121.45302968,  127.81208944,\n",
       "         134.17114921,  140.53020897,  146.88926873,  153.2483285 ,\n",
       "         159.60738826,  165.96644802,  172.32550779]),\n",
       " <a list of 50 Patch objects>)"
      ]
     },
     "execution_count": 5,
     "metadata": {},
     "output_type": "execute_result"
    },
    {
     "data": {
      "image/png": "[encoded data removed]",
      "text/plain": [
       "<Figure size 432x288 with 2 Axes>"
      ]
     },
     "metadata": {},
     "output_type": "display_data"
    }
   ],
   "source": [
    "# your code here\n",
    "#Generate 1,000 normally distributed numbers with the average of 10 and standard deviation of 1\n",
    "import numpy as np\n",
    "from scipy.stats import norm\n",
    "import math\n",
    "\n",
    "dist1 = np.random.normal(10,1,1000) \n",
    "dist2 = np.random.normal(10,50,1000) \n",
    "\n",
    "# plotting\n",
    "f, (ax1, ax2) = plt.subplots(1, 2, sharey=True)\n",
    "ax1.hist(dist1,50)\n",
    "ax2.hist(dist2,50)"
   ]
  },
  {
   "cell_type": "markdown",
   "metadata": {},
   "source": [
    "How are the two distributions different?"
   ]
  },
  {
   "cell_type": "code",
   "execution_count": 6,
   "metadata": {},
   "outputs": [
    {
     "data": {
      "text/plain": [
       "'When we create a normal distribution, this means that the distribution will be centered in the mean (10)\\n68% of the data values will be ±1 standard deviations of the mean, 95% of the values will be \\nwithin ±2 standard deviations of the mean and 99.7% of the values will be within ±3 standard deviations\\nof the mean. Since the STD increases from the first to the second plot, we can see that the histogram\\ngrows in width.'"
      ]
     },
     "execution_count": 6,
     "metadata": {},
     "output_type": "execute_result"
    }
   ],
   "source": [
    "# your answer here:\n",
    "\"\"\"When we create a normal distribution, this means that the distribution will be centered in the mean (10)\n",
    "68% of the data values will be ±1 standard deviations of the mean, 95% of the values will be \n",
    "within ±2 standard deviations of the mean and 99.7% of the values will be within ±3 standard deviations\n",
    "of the mean. Since the STD increases from the first to the second plot, we can see that the histogram\n",
    "grows in width.\"\"\""
   ]
  },
  {
   "cell_type": "markdown",
   "metadata": {},
   "source": [
    "## Normal Distribution of Real Data\n",
    "\n",
    "In this challenge we are going to take a look the real data. We will use vehicles.csv file for this exercise"
   ]
  },
  {
   "cell_type": "markdown",
   "metadata": {},
   "source": [
    "First import vehicles.csv.\n",
    "Then plot the histograms for the following variables:\n",
    "\n",
    "1. Fuel Barrels/Year"
   ]
  },
  {
   "cell_type": "code",
   "execution_count": 7,
   "metadata": {},
   "outputs": [
    {
     "data": {
      "text/plain": [
       "(array([8.1000e+01, 3.7400e+02, 6.7650e+03, 1.7039e+04, 8.9660e+03,\n",
       "        2.0960e+03, 5.6900e+02, 3.6000e+01, 2.1000e+01, 5.0000e+00]),\n",
       " array([ 0.06      ,  4.76271429,  9.46542857, 14.16814286, 18.87085714,\n",
       "        23.57357143, 28.27628571, 32.979     , 37.68171429, 42.38442857,\n",
       "        47.08714286]),\n",
       " <a list of 10 Patch objects>)"
      ]
     },
     "execution_count": 7,
     "metadata": {},
     "output_type": "execute_result"
    },
    {
     "data": {
      "image/png": "[encoded data removed]",
      "text/plain": [
       "<Figure size 432x288 with 1 Axes>"
      ]
     },
     "metadata": {},
     "output_type": "display_data"
    }
   ],
   "source": [
    "# your code here\n",
    "import pandas as pd\n",
    "data1 = pd.read_csv('/home/inrx/Ironhack/Classes/SQL to Python/vehicles/vehicles.csv')\n",
    "plt.hist(data1['Fuel Barrels/Year'])"
   ]
  },
  {
   "cell_type": "markdown",
   "metadata": {},
   "source": [
    "2. CO2 Emission Grams/Mile "
   ]
  },
  {
   "cell_type": "code",
   "execution_count": 8,
   "metadata": {},
   "outputs": [
    {
     "data": {
      "text/plain": [
       "(array([3.4000e+01, 8.3200e+02, 1.0205e+04, 1.5411e+04, 6.8250e+03,\n",
       "        2.0100e+03, 5.7300e+02, 3.6000e+01, 2.1000e+01, 5.0000e+00]),\n",
       " array([  37.        ,  160.25714286,  283.51428571,  406.77142857,\n",
       "         530.02857143,  653.28571429,  776.54285714,  899.8       ,\n",
       "        1023.05714286, 1146.31428571, 1269.57142857]),\n",
       " <a list of 10 Patch objects>)"
      ]
     },
     "execution_count": 8,
     "metadata": {},
     "output_type": "execute_result"
    },
    {
     "data": {
      "image/png": "[encoded data removed]",
      "text/plain": [
       "<Figure size 432x288 with 1 Axes>"
      ]
     },
     "metadata": {},
     "output_type": "display_data"
    }
   ],
   "source": [
    "# your code here\n",
    "plt.hist(data1['CO2 Emission Grams/Mile'])"
   ]
  },
  {
   "cell_type": "markdown",
   "metadata": {},
   "source": [
    "3. Combined MPG"
   ]
  },
  {
   "cell_type": "code",
   "execution_count": 9,
   "metadata": {},
   "outputs": [
    {
     "data": {
      "text/plain": [
       "(array([6.3800e+02, 8.4990e+03, 1.5512e+04, 7.9320e+03, 2.4160e+03,\n",
       "        6.3600e+02, 2.1000e+02, 6.5000e+01, 3.3000e+01, 1.1000e+01]),\n",
       " array([ 7. , 11.9, 16.8, 21.7, 26.6, 31.5, 36.4, 41.3, 46.2, 51.1, 56. ]),\n",
       " <a list of 10 Patch objects>)"
      ]
     },
     "execution_count": 9,
     "metadata": {},
     "output_type": "execute_result"
    },
    {
     "data": {
      "image/png": "[encoded data removed]",
      "text/plain": [
       "<Figure size 432x288 with 1 Axes>"
      ]
     },
     "metadata": {},
     "output_type": "display_data"
    }
   ],
   "source": [
    "# your code here\n",
    "plt.hist(data1['Combined MPG'])"
   ]
  },
  {
   "cell_type": "markdown",
   "metadata": {},
   "source": [
    "Which one(s) of the variables are nearly normally distributed? How do you know?"
   ]
  },
  {
   "cell_type": "code",
   "execution_count": 10,
   "metadata": {},
   "outputs": [
    {
     "data": {
      "text/plain": [
       "\"The one that seams to be closer to the normal distribution is the 'Combined MPG' variable \""
      ]
     },
     "execution_count": 10,
     "metadata": {},
     "output_type": "execute_result"
    }
   ],
   "source": [
    "# you answer here:\n",
    "\"\"\"The one that seams to be closer to the normal distribution is the 'Combined MPG' variable \"\"\""
   ]
  },
  {
   "cell_type": "markdown",
   "metadata": {},
   "source": [
    "## Exponential Distribution"
   ]
  },
  {
   "cell_type": "markdown",
   "metadata": {},
   "source": [
    "1. Using `numpy.random.exponential`, create a function that returns a list of numbers exponentially distributed with the mean of 10. \n",
    "\n",
    "1. Use the function to generate two number sequences with the size of 1 and 100.\n",
    "\n",
    "1. Plot the distributions as histograms with the number of bins as 100.\n",
    "\n",
    "Your output should look like below:\n",
    "\n",
    "![exponential distribution](ed.png)"
   ]
  },
  {
   "cell_type": "code",
   "execution_count": 11,
   "metadata": {},
   "outputs": [
    {
     "data": {
      "text/plain": [
       "(array([15., 13., 10., 11.,  9.,  9.,  3.,  2.,  3.,  2.,  1.,  5.,  1.,\n",
       "         2.,  2.,  1.,  0.,  1.,  3.,  0.,  2.,  0.,  1.,  0.,  0.,  1.,\n",
       "         0.,  1.,  0.,  0.,  1.,  0.,  0.,  0.,  0.,  0.,  0.,  0.,  0.,\n",
       "         0.,  0.,  0.,  0.,  0.,  0.,  0.,  0.,  0.,  0.,  1.]),\n",
       " array([1.50056361e-03, 1.35879963e+00, 2.71609870e+00, 4.07339777e+00,\n",
       "        5.43069684e+00, 6.78799591e+00, 8.14529498e+00, 9.50259405e+00,\n",
       "        1.08598931e+01, 1.22171922e+01, 1.35744913e+01, 1.49317903e+01,\n",
       "        1.62890894e+01, 1.76463885e+01, 1.90036875e+01, 2.03609866e+01,\n",
       "        2.17182857e+01, 2.30755847e+01, 2.44328838e+01, 2.57901829e+01,\n",
       "        2.71474820e+01, 2.85047810e+01, 2.98620801e+01, 3.12193792e+01,\n",
       "        3.25766782e+01, 3.39339773e+01, 3.52912764e+01, 3.66485754e+01,\n",
       "        3.80058745e+01, 3.93631736e+01, 4.07204727e+01, 4.20777717e+01,\n",
       "        4.34350708e+01, 4.47923699e+01, 4.61496689e+01, 4.75069680e+01,\n",
       "        4.88642671e+01, 5.02215661e+01, 5.15788652e+01, 5.29361643e+01,\n",
       "        5.42934633e+01, 5.56507624e+01, 5.70080615e+01, 5.83653606e+01,\n",
       "        5.97226596e+01, 6.10799587e+01, 6.24372578e+01, 6.37945568e+01,\n",
       "        6.51518559e+01, 6.65091550e+01, 6.78664540e+01]),\n",
       " <a list of 50 Patch objects>)"
      ]
     },
     "execution_count": 11,
     "metadata": {},
     "output_type": "execute_result"
    },
    {
     "data": {
      "image/png": "[encoded data removed]",
      "text/plain": [
       "<Figure size 432x288 with 2 Axes>"
      ]
     },
     "metadata": {},
     "output_type": "display_data"
    }
   ],
   "source": [
    "# your code here\n",
    "import numpy as np\n",
    "import matplotlib.pyplot as plt\n",
    "\n",
    "data1 = np.random.exponential(10, size=1)\n",
    "data2 = np.random.exponential(10, size=100)\n",
    "\n",
    "f, (ax1, ax2) = plt.subplots(1, 2, sharey=True)\n",
    "ax1.hist(data1,50)\n",
    "ax2.hist(data2,50)"
   ]
  },
  {
   "cell_type": "markdown",
   "metadata": {},
   "source": [
    "How are the two distributions different?"
   ]
  },
  {
   "cell_type": "code",
   "execution_count": 12,
   "metadata": {},
   "outputs": [
    {
     "data": {
      "text/plain": [
       "\"I don't think this is correct\""
      ]
     },
     "execution_count": 12,
     "metadata": {},
     "output_type": "execute_result"
    }
   ],
   "source": [
    "# your answer here:\n",
    "\"\"\"I don't think this is correct\"\"\""
   ]
  },
  {
   "cell_type": "markdown",
   "metadata": {},
   "source": [
    "## Exponential Distribution of Real Data\n",
    "\n",
    "Suppose that the amount of time one spends in a bank is exponentially distributed with mean as 10 minutes (i.e. λ = 1/10). What is the probability that a customer will spend less than fifteen minutes in the bank? \n",
    "\n",
    "Write a code in python to solve this problem"
   ]
  },
  {
   "cell_type": "code",
   "execution_count": 19,
   "metadata": {},
   "outputs": [
    {
     "data": {
      "text/plain": [
       "0.9999996940976795"
      ]
     },
     "execution_count": 19,
     "metadata": {},
     "output_type": "execute_result"
    }
   ],
   "source": [
    "# your answer here\n",
    "# Hint: This is same as saying P(x<15)\n",
    "\n",
    "from scipy.stats import expon\n",
    "expon(10) \n",
    "expon.cdf(15)"
   ]
  },
  {
   "cell_type": "markdown",
   "metadata": {},
   "source": [
    "What is the probability that the customer will spend more than 15 minutes"
   ]
  },
  {
   "cell_type": "code",
   "execution_count": 20,
   "metadata": {},
   "outputs": [
    {
     "name": "stdout",
     "output_type": "stream",
     "text": [
      "3.059023205018258e-07\n",
      "3.059023205018258e-07\n"
     ]
    }
   ],
   "source": [
    "##### your answer here\n",
    "print (expon.pdf(15))\n",
    "print (expon.sf(15))"
   ]
  }
 ],
 "metadata": {
  "kernelspec": {
   "display_name": "Python 3",
   "language": "python",
   "name": "python3"
  },
  "language_info": {
   "codemirror_mode": {
    "name": "ipython",
    "version": 3
   },
   "file_extension": ".py",
   "mimetype": "text/x-python",
   "name": "python",
   "nbconvert_exporter": "python",
   "pygments_lexer": "ipython3",
   "version": "3.6.8"
  }
 },
 "nbformat": 4,
 "nbformat_minor": 2
}
