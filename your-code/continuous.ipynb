{
 "cells": [
  {
   "cell_type": "markdown",
   "metadata": {},
   "source": [
    "# Before your start:\n",
    "\n",
    "    Read the README.md file\n",
    "    Comment as much as you can and use the resources (README.md file)\n",
    "    Happy learning!"
   ]
  },
  {
   "cell_type": "markdown",
   "metadata": {},
   "source": [
    "In this exercise, we  will generate random numbers from the continuous disributions we learned in the lesson. There are two ways to generate random numbers:\n",
    "\n",
    "1. Using the numpy library \n",
    "1. using the Scipy library \n",
    "\n",
    "Use either or both of the lbraries in this exercise."
   ]
  },
  {
   "cell_type": "markdown",
   "metadata": {},
   "source": [
    "## Uniform Distribution\n",
    "\n",
    "To generate uniform random numbers between any two given values using scipy, we can either use the following code or the code that we have\n",
    "discussed in class:"
   ]
  },
  {
   "cell_type": "code",
   "execution_count": 1,
   "metadata": {},
   "outputs": [
    {
     "name": "stdout",
     "output_type": "stream",
     "text": [
      "[2.46263727 2.41179672 2.46795259 2.93950627 2.57490972 2.58016614\n",
      " 2.6854768  2.27208261 2.2250775  2.30741852]\n"
     ]
    }
   ],
   "source": [
    "from scipy.stats import uniform\n",
    "\n",
    "x = uniform.rvs(size = 10)\n",
    "a = 2\n",
    "b = 3\n",
    "randoms  = a + (b - a) * x\n",
    "print(randoms)"
   ]
  },
  {
   "cell_type": "markdown",
   "metadata": {},
   "source": [
    "**Your task:**\n",
    "\n",
    "1. Based on the code above, write a function that generates uniformly distributed random numbers. There are several requirements for your function:\n",
    "    * It should accept 3 parameters: \n",
    "        * `bottom` - the lower boundary of the generated numbers\n",
    "        * `ceiling` - the upper boundary of the generated numbers\n",
    "        * `count` - how many numbers to generate\n",
    "    * It should return an array of uniformly distributed random numbers\n",
    "\n",
    "1. Call your function with 2 sets of params below:\n",
    "    * bottom=10, ceiling=15, count=100\n",
    "    * bottom=10, ceiling=60, count=1,000\n",
    "\n",
    "1. Plot the uniform distributions generated above using histograms, where x axis is the value and y axis is the count. Let the histogram's number of bins be 10.\n",
    "\n",
    "Your output should look like below:\n",
    "\n",
    "![uniform distribution](ud.png)"
   ]
  },
  {
   "cell_type": "code",
   "execution_count": 37,
   "metadata": {},
   "outputs": [],
   "source": [
    "# your code here\n",
    "\n",
    "def uniform_dist(bottom, ceiling, count):\n",
    "    x = uniform.rvs(size = count)\n",
    "    a = bottom\n",
    "    b = ceiling\n",
    "    randoms = a + (b - a) * x # randoms = bottom + (ceiling - bottom) * uniform.rvs(size = count)\n",
    "    return randoms"
   ]
  },
  {
   "cell_type": "code",
   "execution_count": 38,
   "metadata": {},
   "outputs": [],
   "source": [
    "call_1 = uniform_dist(10, 15, 100)\n",
    "call_2 = uniform_dist(10, 60, 1000)"
   ]
  },
  {
   "cell_type": "code",
   "execution_count": 39,
   "metadata": {},
   "outputs": [
    {
     "data": {
      "image/png": "[encoded data removed]",
      "text/plain": [
       "<Figure size 640x480 with 2 Axes>"
      ]
     },
     "metadata": {},
     "output_type": "display_data"
    }
   ],
   "source": [
    "import matplotlib.pyplot as plt\n",
    "import numpy as np\n",
    "\n",
    "fig, [plot_1, plot_2] = plt.subplots(1, 2, sharey = True)\n",
    "\n",
    "plot_1.hist(call_1, bins = 10)\n",
    "plot_2.hist(call_2, bins = 10)\n",
    "plt.show()"
   ]
  },
  {
   "cell_type": "markdown",
   "metadata": {},
   "source": [
    "How are the two distributions different?"
   ]
  },
  {
   "cell_type": "code",
   "execution_count": 27,
   "metadata": {},
   "outputs": [
    {
     "data": {
      "text/plain": [
       "'\\nBoth distributions are uniform and continuous with random numbers in defined ranges\\nThe second plot has a x4 higher ceiling (upper range) and x10 higher count (of values)\\n\\nA larger sample size (count) means smaller variation due to sampling\\nHowever this is not clear here\\n'"
      ]
     },
     "execution_count": 27,
     "metadata": {},
     "output_type": "execute_result"
    }
   ],
   "source": [
    "# your answer here:\n",
    "\n",
    "# Both distributions are uniform and continuous with random numbers in defined ranges\n",
    "# The second plot has a x4 higher ceiling (upper range) and x10 higher count (of values)\n",
    "\n",
    "# A larger sample size (count) means smaller variation due to sampling\n",
    "# However this is not clear here"
   ]
  },
  {
   "cell_type": "markdown",
   "metadata": {},
   "source": [
    "## Normal Distribution\n",
    "\n",
    "1. In the same way in the Uniform Distribution challenge, write a function that generates normally distributed random numbers.\n",
    "1. Generate 1,000 normally distributed numbers with the average of 10 and standard deviation of 1\n",
    "1. Generate 1,000 normally distributed numbers with the average of 10 and standard deviation of 50\n",
    "2. Plot the distributions of the data generated.\n",
    "\n",
    "Expected output:\n",
    "\n",
    "![normal distribution](nd.png)"
   ]
  },
  {
   "cell_type": "code",
   "execution_count": 88,
   "metadata": {},
   "outputs": [],
   "source": [
    "# your code here\n",
    "from scipy.stats import norm\n",
    "\n",
    "def normal_dist(mean, std, count):\n",
    "    x = np.random.randn(count)\n",
    "    a = mean\n",
    "    b = std\n",
    "    randoms = a + b * x\n",
    "    return randoms"
   ]
  },
  {
   "cell_type": "code",
   "execution_count": 89,
   "metadata": {},
   "outputs": [],
   "source": [
    "call_1 = normal_dist(10, 1, 1000)\n",
    "call_2 = normal_dist(10, 50, 1000)"
   ]
  },
  {
   "cell_type": "code",
   "execution_count": 90,
   "metadata": {},
   "outputs": [
    {
     "data": {
      "image/png": "[encoded data removed]",
      "text/plain": [
       "<Figure size 640x480 with 2 Axes>"
      ]
     },
     "metadata": {},
     "output_type": "display_data"
    }
   ],
   "source": [
    "fig, [plot_1, plot_2] = plt.subplots(1, 2, sharey = True)\n",
    "\n",
    "plot_1.hist(call_1, bins = 100)\n",
    "plot_2.hist(call_2, bins = 100)\n",
    "plt.show()"
   ]
  },
  {
   "cell_type": "markdown",
   "metadata": {},
   "source": [
    "How are the two distributions different?"
   ]
  },
  {
   "cell_type": "code",
   "execution_count": null,
   "metadata": {},
   "outputs": [],
   "source": [
    "# your answer here:\n",
    "\n",
    "# Both distributions are normal and continuous with random numbers in defined ranges\n",
    "# The second plot has a x50 higher standard deviation, that reflects clearly on the range of values\n",
    "\n",
    "# A larger sample size (count) means smaller variation due to sampling\n",
    "# However this is not clear here"
   ]
  },
  {
   "cell_type": "markdown",
   "metadata": {},
   "source": [
    "## Normal Distribution of Real Data\n",
    "\n",
    "In this challenge we are going to take a look the real data. We will use vehicles.csv file for this exercise"
   ]
  },
  {
   "cell_type": "markdown",
   "metadata": {},
   "source": [
    "First import vehicles.csv.\n",
    "Then plot the histograms for the following variables:\n",
    "\n",
    "1. Fuel Barrels/Year"
   ]
  },
  {
   "cell_type": "code",
   "execution_count": 70,
   "metadata": {
    "collapsed": true
   },
   "outputs": [
    {
     "data": {
      "text/plain": [
       "(array([6.000e+01, 0.000e+00, 0.000e+00, 3.000e+00, 2.000e+00, 0.000e+00,\n",
       "        3.000e+00, 5.000e+00, 4.000e+00, 4.000e+00, 1.000e+01, 0.000e+00,\n",
       "        4.000e+00, 2.100e+01, 1.900e+01, 2.300e+01, 8.100e+01, 7.900e+01,\n",
       "        4.600e+01, 9.100e+01, 1.060e+02, 3.150e+02, 2.620e+02, 4.430e+02,\n",
       "        1.078e+03, 6.760e+02, 1.048e+03, 1.257e+03, 2.700e+01, 1.553e+03,\n",
       "        1.762e+03, 2.258e+03, 2.800e+01, 3.139e+03, 3.061e+03, 3.100e+01,\n",
       "        3.231e+03, 0.000e+00, 3.529e+03, 0.000e+00, 3.100e+01, 2.277e+03,\n",
       "        7.900e+01, 2.226e+03, 0.000e+00, 6.500e+01, 2.210e+03, 1.380e+02,\n",
       "        0.000e+00, 1.940e+03, 8.600e+01, 0.000e+00, 0.000e+00, 1.245e+03,\n",
       "        3.000e+01, 0.000e+00, 0.000e+00, 5.000e+00, 7.300e+02, 0.000e+00,\n",
       "        0.000e+00, 0.000e+00, 0.000e+00, 4.390e+02, 0.000e+00, 0.000e+00,\n",
       "        0.000e+00, 0.000e+00, 0.000e+00, 1.300e+02, 0.000e+00, 0.000e+00,\n",
       "        0.000e+00, 0.000e+00, 0.000e+00, 0.000e+00, 0.000e+00, 3.600e+01,\n",
       "        0.000e+00, 0.000e+00, 0.000e+00, 0.000e+00, 0.000e+00, 0.000e+00,\n",
       "        0.000e+00, 0.000e+00, 0.000e+00, 2.100e+01, 0.000e+00, 0.000e+00,\n",
       "        0.000e+00, 0.000e+00, 0.000e+00, 0.000e+00, 0.000e+00, 0.000e+00,\n",
       "        0.000e+00, 0.000e+00, 0.000e+00, 5.000e+00]),\n",
       " array([ 0.06      ,  0.53027143,  1.00054286,  1.47081429,  1.94108571,\n",
       "         2.41135714,  2.88162857,  3.3519    ,  3.82217143,  4.29244286,\n",
       "         4.76271429,  5.23298571,  5.70325714,  6.17352857,  6.6438    ,\n",
       "         7.11407143,  7.58434286,  8.05461429,  8.52488571,  8.99515714,\n",
       "         9.46542857,  9.9357    , 10.40597143, 10.87624286, 11.34651429,\n",
       "        11.81678571, 12.28705714, 12.75732857, 13.2276    , 13.69787143,\n",
       "        14.16814286, 14.63841429, 15.10868571, 15.57895714, 16.04922857,\n",
       "        16.5195    , 16.98977143, 17.46004286, 17.93031429, 18.40058571,\n",
       "        18.87085714, 19.34112857, 19.8114    , 20.28167143, 20.75194286,\n",
       "        21.22221429, 21.69248571, 22.16275714, 22.63302857, 23.1033    ,\n",
       "        23.57357143, 24.04384286, 24.51411429, 24.98438571, 25.45465714,\n",
       "        25.92492857, 26.3952    , 26.86547143, 27.33574286, 27.80601429,\n",
       "        28.27628571, 28.74655714, 29.21682857, 29.6871    , 30.15737143,\n",
       "        30.62764286, 31.09791429, 31.56818571, 32.03845714, 32.50872857,\n",
       "        32.979     , 33.44927143, 33.91954286, 34.38981429, 34.86008571,\n",
       "        35.33035714, 35.80062857, 36.2709    , 36.74117143, 37.21144286,\n",
       "        37.68171429, 38.15198571, 38.62225714, 39.09252857, 39.5628    ,\n",
       "        40.03307143, 40.50334286, 40.97361429, 41.44388571, 41.91415714,\n",
       "        42.38442857, 42.8547    , 43.32497143, 43.79524286, 44.26551429,\n",
       "        44.73578571, 45.20605714, 45.67632857, 46.1466    , 46.61687143,\n",
       "        47.08714286]),\n",
       " <BarContainer object of 100 artists>)"
      ]
     },
     "execution_count": 70,
     "metadata": {},
     "output_type": "execute_result"
    },
    {
     "data": {
      "image/png": "[encoded data removed]",
      "text/plain": [
       "<Figure size 640x480 with 1 Axes>"
      ]
     },
     "metadata": {},
     "output_type": "display_data"
    }
   ],
   "source": [
    "# your code here\n",
    "import pandas as pd\n",
    "\n",
    "vehicles = pd.read_csv(\"vehicles.csv\")\n",
    "vehicles.head()\n",
    "\n",
    "plt.hist(vehicles[\"Fuel Barrels/Year\"], bins = 100)"
   ]
  },
  {
   "cell_type": "markdown",
   "metadata": {},
   "source": [
    "2. CO2 Emission Grams/Mile "
   ]
  },
  {
   "cell_type": "code",
   "execution_count": 71,
   "metadata": {
    "collapsed": true
   },
   "outputs": [
    {
     "data": {
      "text/plain": [
       "(array([3.000e+00, 2.000e+00, 0.000e+00, 4.000e+00, 4.000e+00, 3.000e+00,\n",
       "        1.000e+00, 1.300e+01, 1.000e+00, 3.000e+00, 1.000e+01, 1.400e+01,\n",
       "        3.000e+01, 2.400e+01, 7.100e+01, 8.800e+01, 4.500e+01, 1.030e+02,\n",
       "        2.490e+02, 1.980e+02, 3.320e+02, 7.290e+02, 6.700e+02, 6.790e+02,\n",
       "        1.012e+03, 1.207e+03, 2.500e+02, 1.547e+03, 1.684e+03, 2.095e+03,\n",
       "        3.310e+02, 2.933e+03, 2.300e+02, 2.915e+03, 3.012e+03, 2.200e+02,\n",
       "        2.330e+02, 3.266e+03, 1.140e+02, 2.157e+03, 1.560e+02, 8.900e+01,\n",
       "        2.157e+03, 5.700e+01, 7.100e+01, 2.205e+03, 7.700e+01, 6.900e+01,\n",
       "        1.925e+03, 1.900e+01, 6.000e+00, 3.000e+01, 1.210e+03, 1.500e+01,\n",
       "        1.500e+01, 2.200e+01, 2.000e+00, 7.070e+02, 3.000e+00, 0.000e+00,\n",
       "        4.000e+00, 2.000e+00, 4.370e+02, 0.000e+00, 0.000e+00, 3.000e+00,\n",
       "        0.000e+00, 0.000e+00, 0.000e+00, 1.270e+02, 0.000e+00, 0.000e+00,\n",
       "        0.000e+00, 0.000e+00, 0.000e+00, 0.000e+00, 0.000e+00, 3.600e+01,\n",
       "        0.000e+00, 0.000e+00, 0.000e+00, 0.000e+00, 0.000e+00, 0.000e+00,\n",
       "        0.000e+00, 0.000e+00, 0.000e+00, 2.100e+01, 0.000e+00, 0.000e+00,\n",
       "        0.000e+00, 0.000e+00, 0.000e+00, 0.000e+00, 0.000e+00, 0.000e+00,\n",
       "        0.000e+00, 0.000e+00, 0.000e+00, 5.000e+00]),\n",
       " array([  37.        ,   49.32571429,   61.65142857,   73.97714286,\n",
       "          86.30285714,   98.62857143,  110.95428571,  123.28      ,\n",
       "         135.60571429,  147.93142857,  160.25714286,  172.58285714,\n",
       "         184.90857143,  197.23428571,  209.56      ,  221.88571429,\n",
       "         234.21142857,  246.53714286,  258.86285714,  271.18857143,\n",
       "         283.51428571,  295.84      ,  308.16571429,  320.49142857,\n",
       "         332.81714286,  345.14285714,  357.46857143,  369.79428571,\n",
       "         382.12      ,  394.44571429,  406.77142857,  419.09714286,\n",
       "         431.42285714,  443.74857143,  456.07428571,  468.4       ,\n",
       "         480.72571429,  493.05142857,  505.37714286,  517.70285714,\n",
       "         530.02857143,  542.35428571,  554.68      ,  567.00571429,\n",
       "         579.33142857,  591.65714286,  603.98285714,  616.30857143,\n",
       "         628.63428571,  640.96      ,  653.28571429,  665.61142857,\n",
       "         677.93714286,  690.26285714,  702.58857143,  714.91428571,\n",
       "         727.24      ,  739.56571429,  751.89142857,  764.21714286,\n",
       "         776.54285714,  788.86857143,  801.19428571,  813.52      ,\n",
       "         825.84571429,  838.17142857,  850.49714286,  862.82285714,\n",
       "         875.14857143,  887.47428571,  899.8       ,  912.12571429,\n",
       "         924.45142857,  936.77714286,  949.10285714,  961.42857143,\n",
       "         973.75428571,  986.08      ,  998.40571429, 1010.73142857,\n",
       "        1023.05714286, 1035.38285714, 1047.70857143, 1060.03428571,\n",
       "        1072.36      , 1084.68571429, 1097.01142857, 1109.33714286,\n",
       "        1121.66285714, 1133.98857143, 1146.31428571, 1158.64      ,\n",
       "        1170.96571429, 1183.29142857, 1195.61714286, 1207.94285714,\n",
       "        1220.26857143, 1232.59428571, 1244.92      , 1257.24571429,\n",
       "        1269.57142857]),\n",
       " <BarContainer object of 100 artists>)"
      ]
     },
     "execution_count": 71,
     "metadata": {},
     "output_type": "execute_result"
    },
    {
     "data": {
      "image/png": "[encoded data removed]",
      "text/plain": [
       "<Figure size 640x480 with 1 Axes>"
      ]
     },
     "metadata": {},
     "output_type": "display_data"
    }
   ],
   "source": [
    "# your code here\n",
    "plt.hist(vehicles[\"CO2 Emission Grams/Mile\"], bins = 100)"
   ]
  },
  {
   "cell_type": "markdown",
   "metadata": {},
   "source": [
    "3. Combined MPG"
   ]
  },
  {
   "cell_type": "code",
   "execution_count": 72,
   "metadata": {
    "collapsed": true
   },
   "outputs": [
    {
     "data": {
      "text/plain": [
       "(array([5.000e+00, 0.000e+00, 2.100e+01, 0.000e+00, 4.000e+01, 0.000e+00,\n",
       "        1.310e+02, 0.000e+00, 4.410e+02, 0.000e+00, 7.410e+02, 0.000e+00,\n",
       "        1.255e+03, 0.000e+00, 1.947e+03, 0.000e+00, 2.241e+03, 0.000e+00,\n",
       "        2.315e+03, 0.000e+00, 2.420e+03, 0.000e+00, 3.559e+03, 0.000e+00,\n",
       "        3.282e+03, 0.000e+00, 3.093e+03, 0.000e+00, 3.158e+03, 0.000e+00,\n",
       "        2.247e+03, 0.000e+00, 1.794e+03, 0.000e+00, 1.546e+03, 0.000e+00,\n",
       "        1.278e+03, 0.000e+00, 1.067e+03, 0.000e+00, 6.920e+02, 0.000e+00,\n",
       "        6.390e+02, 0.000e+00, 4.530e+02, 0.000e+00, 3.710e+02, 0.000e+00,\n",
       "        2.610e+02, 0.000e+00, 0.000e+00, 1.690e+02, 0.000e+00, 1.760e+02,\n",
       "        0.000e+00, 1.620e+02, 0.000e+00, 7.100e+01, 0.000e+00, 5.800e+01,\n",
       "        0.000e+00, 4.100e+01, 0.000e+00, 4.300e+01, 0.000e+00, 2.300e+01,\n",
       "        0.000e+00, 6.500e+01, 0.000e+00, 3.800e+01, 0.000e+00, 3.700e+01,\n",
       "        0.000e+00, 7.000e+00, 0.000e+00, 5.000e+00, 0.000e+00, 5.000e+00,\n",
       "        0.000e+00, 1.100e+01, 0.000e+00, 1.600e+01, 0.000e+00, 2.000e+00,\n",
       "        0.000e+00, 0.000e+00, 0.000e+00, 1.500e+01, 0.000e+00, 0.000e+00,\n",
       "        0.000e+00, 5.000e+00, 0.000e+00, 4.000e+00, 0.000e+00, 0.000e+00,\n",
       "        0.000e+00, 0.000e+00, 0.000e+00, 2.000e+00]),\n",
       " array([ 7.  ,  7.49,  7.98,  8.47,  8.96,  9.45,  9.94, 10.43, 10.92,\n",
       "        11.41, 11.9 , 12.39, 12.88, 13.37, 13.86, 14.35, 14.84, 15.33,\n",
       "        15.82, 16.31, 16.8 , 17.29, 17.78, 18.27, 18.76, 19.25, 19.74,\n",
       "        20.23, 20.72, 21.21, 21.7 , 22.19, 22.68, 23.17, 23.66, 24.15,\n",
       "        24.64, 25.13, 25.62, 26.11, 26.6 , 27.09, 27.58, 28.07, 28.56,\n",
       "        29.05, 29.54, 30.03, 30.52, 31.01, 31.5 , 31.99, 32.48, 32.97,\n",
       "        33.46, 33.95, 34.44, 34.93, 35.42, 35.91, 36.4 , 36.89, 37.38,\n",
       "        37.87, 38.36, 38.85, 39.34, 39.83, 40.32, 40.81, 41.3 , 41.79,\n",
       "        42.28, 42.77, 43.26, 43.75, 44.24, 44.73, 45.22, 45.71, 46.2 ,\n",
       "        46.69, 47.18, 47.67, 48.16, 48.65, 49.14, 49.63, 50.12, 50.61,\n",
       "        51.1 , 51.59, 52.08, 52.57, 53.06, 53.55, 54.04, 54.53, 55.02,\n",
       "        55.51, 56.  ]),\n",
       " <BarContainer object of 100 artists>)"
      ]
     },
     "execution_count": 72,
     "metadata": {},
     "output_type": "execute_result"
    },
    {
     "data": {
      "image/png": "[encoded data removed]",
      "text/plain": [
       "<Figure size 640x480 with 1 Axes>"
      ]
     },
     "metadata": {},
     "output_type": "display_data"
    }
   ],
   "source": [
    "# your code here\n",
    "plt.hist(vehicles[\"Combined MPG\"], bins = 100)"
   ]
  },
  {
   "cell_type": "markdown",
   "metadata": {},
   "source": [
    "Which one(s) of the variables are nearly normally distributed? How do you know?"
   ]
  },
  {
   "cell_type": "code",
   "execution_count": null,
   "metadata": {},
   "outputs": [],
   "source": [
    "# you answer here:\n",
    "\n",
    "# The choice of bins is important for the (visual) assessment of the distribution.\n",
    "# All three charts appear to be bell-shaped, and rather symmetric.\n",
    "# The first seems to have some outliers on the left end\n",
    "# In addition, the symmetry (in terms of count density) is not well maintend in the first and second\n",
    "# The third is somehow skewed to the right\n",
    "\n",
    "# If i had to say that one is more normally distributed, I would say the third (due to symmetry)"
   ]
  },
  {
   "cell_type": "markdown",
   "metadata": {},
   "source": [
    "## Exponential Distribution"
   ]
  },
  {
   "cell_type": "markdown",
   "metadata": {},
   "source": [
    "1. Using `numpy.random.exponential`, create a function that returns a list of numbers exponentially distributed with the mean of 10. \n",
    "\n",
    "1. Use the function to generate two number sequences with a mean of 1 and 100 and a size of 1000.\n",
    "\n",
    "1. Plot the distributions as histograms with the number of bins as 100.\n",
    "\n",
    "Your output should look like below:\n",
    "\n",
    "![exponential distribution](ed.png)"
   ]
  },
  {
   "cell_type": "code",
   "execution_count": 83,
   "metadata": {},
   "outputs": [],
   "source": [
    "# your code here\n",
    "from scipy.stats import expon\n",
    "\n",
    "def exponential_dist(mean, size):\n",
    "    return np.random.exponential(scale = mean, size = size)"
   ]
  },
  {
   "cell_type": "code",
   "execution_count": 85,
   "metadata": {},
   "outputs": [],
   "source": [
    "call_1 = exponential_dist(1, 1000)\n",
    "call_2 = exponential_dist(100, 1000)"
   ]
  },
  {
   "cell_type": "code",
   "execution_count": 86,
   "metadata": {},
   "outputs": [
    {
     "data": {
      "image/png": "[encoded data removed]",
      "text/plain": [
       "<Figure size 640x480 with 2 Axes>"
      ]
     },
     "metadata": {},
     "output_type": "display_data"
    }
   ],
   "source": [
    "fig, [plot_1, plot_2] = plt.subplots(1, 2, sharey = True)\n",
    "\n",
    "plot_1.hist(call_1, bins = 100)\n",
    "plot_2.hist(call_2, bins = 100)\n",
    "plt.show()"
   ]
  },
  {
   "cell_type": "markdown",
   "metadata": {},
   "source": [
    "How are the two distributions different?"
   ]
  },
  {
   "cell_type": "code",
   "execution_count": null,
   "metadata": {},
   "outputs": [],
   "source": [
    "# your answer here:\n",
    "\n",
    "# The first exponential distribution has a mean of 1 while the 2nd has a mean of 100\n",
    "# The second distribution will span a much larger x range"
   ]
  },
  {
   "cell_type": "markdown",
   "metadata": {},
   "source": [
    "## Exponential Distribution of Real Data\n",
    "\n",
    "Suppose that the amount of time one spends in a bank is exponentially distributed with mean as 10 minutes (i.e. λ = 1/10). What is the probability that a customer will spend less than fifteen minutes in the bank? \n",
    "\n",
    "Write a code in python to solve this problem"
   ]
  },
  {
   "cell_type": "code",
   "execution_count": 94,
   "metadata": {},
   "outputs": [],
   "source": [
    "# your answer here\n",
    "# Hint: This is same as saying P(x<15)\n",
    "\n",
    "lambda_inv = 10 / 1 # minutes per visit\n",
    "exponential_dist = expon(scale = lambda_inv)\n",
    "\n",
    "p15 = exponential_dist.cdf(15)"
   ]
  },
  {
   "cell_type": "markdown",
   "metadata": {},
   "source": [
    "What is the probability that the customer will spend more than 15 minutes"
   ]
  },
  {
   "cell_type": "code",
   "execution_count": 96,
   "metadata": {},
   "outputs": [
    {
     "name": "stdout",
     "output_type": "stream",
     "text": [
      "the probability that the customer will spend more than 15 minutes is:  0.223\n"
     ]
    }
   ],
   "source": [
    "# your answer here\n",
    "\n",
    "print(\"the probability that the customer will spend more than 15 minutes is: \", round(1-p15, 3))"
   ]
  },
  {
   "cell_type": "code",
   "execution_count": null,
   "metadata": {},
   "outputs": [],
   "source": []
  },
  {
   "cell_type": "code",
   "execution_count": null,
   "metadata": {},
   "outputs": [],
   "source": []
  }
 ],
 "metadata": {
  "kernelspec": {
   "display_name": "Python 3 (ipykernel)",
   "language": "python",
   "name": "python3"
  },
  "language_info": {
   "codemirror_mode": {
    "name": "ipython",
    "version": 3
   },
   "file_extension": ".py",
   "mimetype": "text/x-python",
   "name": "python",
   "nbconvert_exporter": "python",
   "pygments_lexer": "ipython3",
   "version": "3.10.10"
  }
 },
 "nbformat": 4,
 "nbformat_minor": 2
}
