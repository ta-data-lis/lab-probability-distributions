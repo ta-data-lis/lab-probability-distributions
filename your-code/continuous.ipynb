{
 "cells": [
  {
   "cell_type": "markdown",
   "metadata": {},
   "source": [
    "# Before your start:\n",
    "\n",
    "    Read the README.md file\n",
    "    Comment as much as you can and use the resources (README.md file)\n",
    "    Happy learning!"
   ]
  },
  {
   "cell_type": "markdown",
   "metadata": {},
   "source": [
    "In this exercise, we  will generate random numbers from the continuous disributions we learned in the lesson. There are two ways to generate random numbers:\n",
    "\n",
    "1. Using the numpy library \n",
    "1. using the Scipy library \n",
    "\n",
    "Use either or both of the lbraries in this exercise."
   ]
  },
  {
   "cell_type": "markdown",
   "metadata": {},
   "source": [
    "## Uniform Distribution\n",
    "\n",
    "To generate uniform random numbers between any two given values using scipy, we can either use the following code or the code that we have\n",
    "discussed in class:"
   ]
  },
  {
   "cell_type": "code",
   "execution_count": 2,
   "metadata": {},
   "outputs": [
    {
     "name": "stdout",
     "output_type": "stream",
     "text": [
      "[2.35806484 2.79104739 2.69358747 2.24872155 2.54603982 2.62821927\n",
      " 2.2925979  2.05024689 2.68281469 2.60201521]\n"
     ]
    }
   ],
   "source": [
    "import numpy as np\n",
    "from scipy.stats import uniform\n",
    "x = uniform.rvs(size=10)\n",
    "a = 2\n",
    "b = 3\n",
    "randoms  = a + (b-a)*x\n",
    "print(randoms)"
   ]
  },
  {
   "cell_type": "markdown",
   "metadata": {},
   "source": [
    "**Your task:**\n",
    "\n",
    "1. Based on the code above, write a function that generates uniformly distributed random numbers. There are several requirements for your function:\n",
    "    * It should accept 3 parameters: \n",
    "        * `bottom` - the lower boundary of the generated numbers\n",
    "        * `ceiling` - the upper boundary of the generated numbers\n",
    "        * `count` - how many numbers to generate\n",
    "    * It should return an array of uniformly distributed random numbers\n",
    "\n",
    "1. Call your function with 2 sets of params below:\n",
    "    * bottom=10, ceiling=15, count=100\n",
    "    * bottom=10, ceiling=60, count=1,000\n",
    "\n",
    "1. Plot the uniform distributions generated above using histograms, where x axis is the value and y axis is the count. Let the histogram's number of bins be 10.\n",
    "\n",
    "Your output should look like below:\n",
    "\n",
    "![uniform distribution](ud.png)"
   ]
  },
  {
   "cell_type": "code",
   "execution_count": 8,
   "metadata": {},
   "outputs": [],
   "source": [
    "def rand_uni (bottom, ceiling, count):\n",
    "\n",
    "    rand = uniform(bottom, ceiling)\n",
    "\n",
    "    arr = rand.rvs(count)\n",
    "\n",
    "    return arr\n",
    "\n",
    "    "
   ]
  },
  {
   "cell_type": "code",
   "execution_count": 18,
   "metadata": {},
   "outputs": [],
   "source": [
    "trial_1 = rand_uni(10,15,100)\n",
    "trial_2 = rand_uni(10,60,1000)"
   ]
  },
  {
   "cell_type": "code",
   "execution_count": 22,
   "metadata": {},
   "outputs": [
    {
     "data": {
      "text/plain": [
       "(array([121., 100., 110., 105.,  85., 105.,  89.,  88., 105.,  92.]),\n",
       " array([10.03874593, 16.03294484, 22.02714375, 28.02134266, 34.01554157,\n",
       "        40.00974048, 46.00393939, 51.9981383 , 57.99233721, 63.98653612,\n",
       "        69.98073503]),\n",
       " <BarContainer object of 10 artists>)"
      ]
     },
     "execution_count": 22,
     "metadata": {},
     "output_type": "execute_result"
    },
    {
     "data": {
      "image/png": "[encoded data removed]",
      "text/plain": [
       "<Figure size 432x288 with 2 Axes>"
      ]
     },
     "metadata": {
      "needs_background": "light"
     },
     "output_type": "display_data"
    }
   ],
   "source": [
    "import matplotlib.pyplot as plt\n",
    "\n",
    "_, (dist_1, dist_2) =  plt.subplots(ncols=2, nrows=1, sharey=True)\n",
    "\n",
    "dist_1.hist(trial_1)\n",
    "dist_2.hist(trial_2)\n"
   ]
  },
  {
   "cell_type": "markdown",
   "metadata": {},
   "source": [
    "How are the two distributions different?"
   ]
  },
  {
   "cell_type": "code",
   "execution_count": null,
   "metadata": {},
   "outputs": [],
   "source": [
    "## both distributions are uniform, just have different min, max and frequency. Same likelihood of different numbers occuring "
   ]
  },
  {
   "cell_type": "markdown",
   "metadata": {},
   "source": [
    "## Normal Distribution\n",
    "\n",
    "1. In the same way in the Uniform Distribution challenge, write a function that generates normally distributed random numbers.\n",
    "1. Generate 1,000 normally distributed numbers with the average of 10 and standard deviation of 1\n",
    "1. Generate 1,000 normally distributed numbers with the average of 10 and standard deviation of 50\n",
    "2. Plot the distributions of the data generated.\n",
    "\n",
    "Expected output:\n",
    "\n",
    "![normal distribution](nd.png)"
   ]
  },
  {
   "cell_type": "code",
   "execution_count": 26,
   "metadata": {},
   "outputs": [
    {
     "data": {
      "text/plain": [
       "(array([ 15.,  36.,  84., 179., 220., 237., 132.,  68.,  22.,   7.]),\n",
       " array([-135.44926918, -105.32091149,  -75.19255379,  -45.06419609,\n",
       "         -14.9358384 ,   15.1925193 ,   45.32087699,   75.44923469,\n",
       "         105.57759239,  135.70595008,  165.83430778]),\n",
       " <BarContainer object of 10 artists>)"
      ]
     },
     "execution_count": 26,
     "metadata": {},
     "output_type": "execute_result"
    },
    {
     "data": {
      "image/png": "[encoded data removed]",
      "text/plain": [
       "<Figure size 432x288 with 2 Axes>"
      ]
     },
     "metadata": {
      "needs_background": "light"
     },
     "output_type": "display_data"
    }
   ],
   "source": [
    "def random_norm (avg, stdev, count):\n",
    "\n",
    "    arr = np.random.normal(loc=avg, scale=stdev, size=count)\n",
    "\n",
    "    return arr\n",
    "\n",
    "trial_1 = random_norm(10, 1, 1000)\n",
    "trial_2 = random_norm(10, 50, 1000)\n",
    "\n",
    "_, (dist_1, dist_2) =  plt.subplots(ncols=2, nrows=1, sharey=True)\n",
    "\n",
    "dist_1.hist(trial_1)\n",
    "dist_2.hist(trial_2)"
   ]
  },
  {
   "cell_type": "markdown",
   "metadata": {},
   "source": [
    "How are the two distributions different?"
   ]
  },
  {
   "cell_type": "code",
   "execution_count": null,
   "metadata": {},
   "outputs": [],
   "source": [
    "# first plot has a higher kurtosis than second plot "
   ]
  },
  {
   "cell_type": "markdown",
   "metadata": {},
   "source": [
    "## Normal Distribution of Real Data\n",
    "\n",
    "In this challenge we are going to take a look the real data. We will use vehicles.csv file for this exercise"
   ]
  },
  {
   "cell_type": "markdown",
   "metadata": {},
   "source": [
    "First import vehicles.csv.\n",
    "Then plot the histograms for the following variables:\n",
    "\n",
    "1. Fuel Barrels/Year"
   ]
  },
  {
   "cell_type": "code",
   "execution_count": 28,
   "metadata": {},
   "outputs": [],
   "source": [
    "import pandas as pd\n",
    "\n",
    "data = pd.read_csv('/Users/tiagoornelas/Documents/Ironhack/Labs/lab-probability-distributions/your-code/vehicles.csv')"
   ]
  },
  {
   "cell_type": "markdown",
   "metadata": {},
   "source": [
    "2. CO2 Emission Grams/Mile "
   ]
  },
  {
   "cell_type": "code",
   "execution_count": 30,
   "metadata": {},
   "outputs": [
    {
     "data": {
      "text/plain": [
       "(array([3.4000e+01, 8.3200e+02, 1.0205e+04, 1.5411e+04, 6.8250e+03,\n",
       "        2.0100e+03, 5.7300e+02, 3.6000e+01, 2.1000e+01, 5.0000e+00]),\n",
       " array([  37.        ,  160.25714286,  283.51428571,  406.77142857,\n",
       "         530.02857143,  653.28571429,  776.54285714,  899.8       ,\n",
       "        1023.05714286, 1146.31428571, 1269.57142857]),\n",
       " <BarContainer object of 10 artists>)"
      ]
     },
     "execution_count": 30,
     "metadata": {},
     "output_type": "execute_result"
    },
    {
     "data": {
      "image/png": "[encoded data removed]",
      "text/plain": [
       "<Figure size 432x288 with 1 Axes>"
      ]
     },
     "metadata": {
      "needs_background": "light"
     },
     "output_type": "display_data"
    }
   ],
   "source": [
    "plt.hist(data['CO2 Emission Grams/Mile'])"
   ]
  },
  {
   "cell_type": "markdown",
   "metadata": {},
   "source": [
    "3. Combined MPG"
   ]
  },
  {
   "cell_type": "code",
   "execution_count": 31,
   "metadata": {},
   "outputs": [
    {
     "data": {
      "text/plain": [
       "(array([6.3800e+02, 8.4990e+03, 1.5512e+04, 7.9320e+03, 2.4160e+03,\n",
       "        6.3600e+02, 2.1000e+02, 6.5000e+01, 3.3000e+01, 1.1000e+01]),\n",
       " array([ 7. , 11.9, 16.8, 21.7, 26.6, 31.5, 36.4, 41.3, 46.2, 51.1, 56. ]),\n",
       " <BarContainer object of 10 artists>)"
      ]
     },
     "execution_count": 31,
     "metadata": {},
     "output_type": "execute_result"
    },
    {
     "data": {
      "image/png": "[encoded data removed]",
      "text/plain": [
       "<Figure size 432x288 with 1 Axes>"
      ]
     },
     "metadata": {
      "needs_background": "light"
     },
     "output_type": "display_data"
    }
   ],
   "source": [
    "plt.hist(data['Combined MPG'])"
   ]
  },
  {
   "cell_type": "markdown",
   "metadata": {},
   "source": [
    "Which one(s) of the variables are nearly normally distributed? How do you know?"
   ]
  },
  {
   "cell_type": "code",
   "execution_count": null,
   "metadata": {},
   "outputs": [],
   "source": [
    "# combined MPG, more symmetric closer to the mean, though it has more outliers (fatter tails)\n"
   ]
  },
  {
   "cell_type": "markdown",
   "metadata": {},
   "source": [
    "## Exponential Distribution"
   ]
  },
  {
   "cell_type": "markdown",
   "metadata": {},
   "source": [
    "1. Using `numpy.random.exponential`, create a function that returns a list of numbers exponentially distributed with the mean of 10. \n",
    "\n",
    "1. Use the function to generate two number sequences with a mean of 1 and 100 and a size of 1000.\n",
    "\n",
    "1. Plot the distributions as histograms with the number of bins as 100.\n",
    "\n",
    "Your output should look like below:\n",
    "\n",
    "![exponential distribution](ed.png)"
   ]
  },
  {
   "cell_type": "code",
   "execution_count": 37,
   "metadata": {},
   "outputs": [
    {
     "data": {
      "text/plain": [
       "(array([84., 66., 77., 66., 51., 60., 56., 47., 40., 40., 39., 26., 38.,\n",
       "        18., 21., 20., 15., 16., 21.,  8., 16., 16., 12., 16., 16.,  8.,\n",
       "         7.,  6.,  9.,  7.,  5.,  7.,  7.,  9.,  5.,  3.,  4.,  0.,  5.,\n",
       "         3.,  1.,  1.,  2.,  1.,  0.,  4.,  1.,  2.,  0.,  1.,  1.,  0.,\n",
       "         2.,  1.,  0.,  1.,  1.,  0.,  0.,  0.,  0.,  2.,  1.,  1.,  0.,\n",
       "         1.,  0.,  0.,  0.,  1.,  0.,  0.,  2.,  0.,  1.,  0.,  0.,  0.,\n",
       "         0.,  0.,  0.,  1.,  0.,  0.,  0.,  0.,  0.,  0.,  0.,  0.,  0.,\n",
       "         0.,  0.,  0.,  0.,  0.,  0.,  0.,  0.,  1.]),\n",
       " array([4.15073879e-04, 8.99929119e-03, 1.75835085e-02, 2.61677258e-02,\n",
       "        3.47519431e-02, 4.33361604e-02, 5.19203777e-02, 6.05045951e-02,\n",
       "        6.90888124e-02, 7.76730297e-02, 8.62572470e-02, 9.48414643e-02,\n",
       "        1.03425682e-01, 1.12009899e-01, 1.20594116e-01, 1.29178334e-01,\n",
       "        1.37762551e-01, 1.46346768e-01, 1.54930985e-01, 1.63515203e-01,\n",
       "        1.72099420e-01, 1.80683637e-01, 1.89267855e-01, 1.97852072e-01,\n",
       "        2.06436289e-01, 2.15020507e-01, 2.23604724e-01, 2.32188941e-01,\n",
       "        2.40773159e-01, 2.49357376e-01, 2.57941593e-01, 2.66525811e-01,\n",
       "        2.75110028e-01, 2.83694245e-01, 2.92278462e-01, 3.00862680e-01,\n",
       "        3.09446897e-01, 3.18031114e-01, 3.26615332e-01, 3.35199549e-01,\n",
       "        3.43783766e-01, 3.52367984e-01, 3.60952201e-01, 3.69536418e-01,\n",
       "        3.78120636e-01, 3.86704853e-01, 3.95289070e-01, 4.03873287e-01,\n",
       "        4.12457505e-01, 4.21041722e-01, 4.29625939e-01, 4.38210157e-01,\n",
       "        4.46794374e-01, 4.55378591e-01, 4.63962809e-01, 4.72547026e-01,\n",
       "        4.81131243e-01, 4.89715461e-01, 4.98299678e-01, 5.06883895e-01,\n",
       "        5.15468113e-01, 5.24052330e-01, 5.32636547e-01, 5.41220764e-01,\n",
       "        5.49804982e-01, 5.58389199e-01, 5.66973416e-01, 5.75557634e-01,\n",
       "        5.84141851e-01, 5.92726068e-01, 6.01310286e-01, 6.09894503e-01,\n",
       "        6.18478720e-01, 6.27062938e-01, 6.35647155e-01, 6.44231372e-01,\n",
       "        6.52815590e-01, 6.61399807e-01, 6.69984024e-01, 6.78568241e-01,\n",
       "        6.87152459e-01, 6.95736676e-01, 7.04320893e-01, 7.12905111e-01,\n",
       "        7.21489328e-01, 7.30073545e-01, 7.38657763e-01, 7.47241980e-01,\n",
       "        7.55826197e-01, 7.64410415e-01, 7.72994632e-01, 7.81578849e-01,\n",
       "        7.90163066e-01, 7.98747284e-01, 8.07331501e-01, 8.15915718e-01,\n",
       "        8.24499936e-01, 8.33084153e-01, 8.41668370e-01, 8.50252588e-01,\n",
       "        8.58836805e-01]),\n",
       " <BarContainer object of 100 artists>)"
      ]
     },
     "execution_count": 37,
     "metadata": {},
     "output_type": "execute_result"
    },
    {
     "data": {
      "image/png": "[encoded data removed]",
      "text/plain": [
       "<Figure size 432x288 with 2 Axes>"
      ]
     },
     "metadata": {
      "needs_background": "light"
     },
     "output_type": "display_data"
    }
   ],
   "source": [
    "def random_exp (avg, size) :\n",
    "    return np.random.exponential(scale=1/avg, size=size)\n",
    "\n",
    "trial_1 = random_exp(1,1000)\n",
    "trial_2 = random_exp(10,1000)\n",
    "\n",
    "_, (dist_1, dist_2) =  plt.subplots(ncols=2, nrows=1, sharey=True)\n",
    "\n",
    "dist_1.hist(trial_1, bins=100)\n",
    "dist_2.hist(trial_2, bins= 100)"
   ]
  },
  {
   "cell_type": "markdown",
   "metadata": {},
   "source": [
    "How are the two distributions different?"
   ]
  },
  {
   "cell_type": "code",
   "execution_count": null,
   "metadata": {},
   "outputs": [],
   "source": [
    "# the scale is different\n"
   ]
  },
  {
   "cell_type": "markdown",
   "metadata": {},
   "source": [
    "## Exponential Distribution of Real Data\n",
    "\n",
    "Suppose that the amount of time one spends in a bank is exponentially distributed with mean as 10 minutes (i.e. λ = 1/10). What is the probability that a customer will spend less than fifteen minutes in the bank? \n",
    "\n",
    "Write a code in python to solve this problem"
   ]
  },
  {
   "cell_type": "code",
   "execution_count": 38,
   "metadata": {},
   "outputs": [
    {
     "data": {
      "text/plain": [
       "0.7768698398515702"
      ]
     },
     "execution_count": 38,
     "metadata": {},
     "output_type": "execute_result"
    }
   ],
   "source": [
    "from scipy.stats import expon\n",
    "\n",
    "lambda_inv = 10 \n",
    "\n",
    "exp_dist = expon(scale=lambda_inv)\n",
    "\n",
    "exp_dist.cdf(15)\n",
    "\n"
   ]
  },
  {
   "cell_type": "markdown",
   "metadata": {},
   "source": [
    "What is the probability that the customer will spend more than 15 minutes"
   ]
  },
  {
   "cell_type": "code",
   "execution_count": 39,
   "metadata": {},
   "outputs": [
    {
     "data": {
      "text/plain": [
       "0.2231301601484298"
      ]
     },
     "execution_count": 39,
     "metadata": {},
     "output_type": "execute_result"
    }
   ],
   "source": [
    "1-exp_dist.cdf(15)\n"
   ]
  },
  {
   "cell_type": "code",
   "execution_count": null,
   "metadata": {},
   "outputs": [],
   "source": []
  }
 ],
 "metadata": {
  "kernelspec": {
   "display_name": "Python 3.9.13 ('ironclasses')",
   "language": "python",
   "name": "python3"
  },
  "language_info": {
   "codemirror_mode": {
    "name": "ipython",
    "version": 3
   },
   "file_extension": ".py",
   "mimetype": "text/x-python",
   "name": "python",
   "nbconvert_exporter": "python",
   "pygments_lexer": "ipython3",
   "version": "3.9.13"
  },
  "vscode": {
   "interpreter": {
    "hash": "5bfe8cd4d37db90c8b9468f14ce817f9cd906576255a34a1d0cefacef45ef3b9"
   }
  }
 },
 "nbformat": 4,
 "nbformat_minor": 2
}
