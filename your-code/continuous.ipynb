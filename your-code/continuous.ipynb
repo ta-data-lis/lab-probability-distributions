{
 "cells": [
  {
   "cell_type": "markdown",
   "metadata": {},
   "source": [
    "# Before your start:\n",
    "\n",
    "    Read the README.md file\n",
    "    Comment as much as you can and use the resources (README.md file)\n",
    "    Happy learning!"
   ]
  },
  {
   "cell_type": "markdown",
   "metadata": {},
   "source": [
    "In this exercise, we  will generate random numbers from the continuous disributions we learned in the lesson. There are two ways to generate random numbers:\n",
    "\n",
    "1. Using the numpy library \n",
    "1. using the Scipy library \n",
    "\n",
    "Use either or both of the lbraries in this exercise."
   ]
  },
  {
   "cell_type": "code",
   "execution_count": 2,
   "metadata": {},
   "outputs": [],
   "source": [
    "import numpy as np\n",
    "import pandas as pd\n",
    "import random\n",
    "import matplotlib.pyplot as plt\n",
    "import seaborn as sns"
   ]
  },
  {
   "cell_type": "markdown",
   "metadata": {},
   "source": [
    "## Uniform Distribution\n",
    "\n",
    "To generate uniform random numbers between any two given values using scipy, we can either use the following code or the code that we have\n",
    "discussed in class:"
   ]
  },
  {
   "cell_type": "code",
   "execution_count": 3,
   "metadata": {},
   "outputs": [
    {
     "name": "stdout",
     "output_type": "stream",
     "text": [
      "[2.02243761 2.8734488  2.60804791 2.43907032 2.54363692 2.43282355\n",
      " 2.98829441 2.37667663 2.73726009 2.32215731]\n"
     ]
    }
   ],
   "source": [
    "from scipy.stats import uniform\n",
    "x = uniform.rvs(size=10)\n",
    "a = 2\n",
    "b = 3\n",
    "randoms  = a + (b-a)*x\n",
    "print(randoms)"
   ]
  },
  {
   "cell_type": "markdown",
   "metadata": {},
   "source": [
    "**Your task:**\n",
    "\n",
    "1. Based on the code above, write a function that generates uniformly distributed random numbers. There are several requirements for your function:\n",
    "    * It should accept 3 parameters: \n",
    "        * `bottom` - the lower boundary of the generated numbers\n",
    "        * `ceiling` - the upper boundary of the generated numbers\n",
    "        * `count` - how many numbers to generate\n",
    "    * It should return an array of uniformly distributed random numbers\n",
    "\n",
    "1. Call your function with 2 sets of params below:\n",
    "    * bottom=10, ceiling=15, count=100\n",
    "    * bottom=10, ceiling=60, count=1,000\n",
    "\n",
    "1. Plot the uniform distributions generated above using histograms, where x axis is the value and y axis is the count. Let the histogram's number of bins be 10.\n",
    "\n",
    "Your output should look like below:\n",
    "\n",
    "![uniform distribution](ud.png)"
   ]
  },
  {
   "cell_type": "code",
   "execution_count": 4,
   "metadata": {},
   "outputs": [],
   "source": [
    "def uniform_dist(a,b,x):\n",
    "    a = a\n",
    "    b = b\n",
    "    x = uniform.rvs(size=x)\n",
    "    randoms  = a + (b-a)*x\n",
    "    return randoms"
   ]
  },
  {
   "cell_type": "code",
   "execution_count": 5,
   "metadata": {},
   "outputs": [
    {
     "data": {
      "text/plain": [
       "array([14.34124253, 12.66600314, 10.56291716, 11.33716663, 11.4426455 ,\n",
       "       13.95140622, 11.86083981, 12.70385465, 14.08932097, 11.6454552 ,\n",
       "       14.23361184, 12.1452901 , 10.17928882, 10.73985514, 10.2338867 ,\n",
       "       14.15809127, 14.6804256 , 12.54903808, 14.10060616, 10.28820123,\n",
       "       12.84856003, 12.13212494, 13.72681626, 12.10524274, 11.82976581,\n",
       "       11.36546547, 10.40153069, 11.59118784, 11.91364744, 13.18579736,\n",
       "       11.19845374, 10.5143941 , 11.66157374, 10.29398677, 14.61761661,\n",
       "       13.16384446, 10.33754041, 13.2725368 , 10.82713869, 14.7210347 ,\n",
       "       12.38009123, 12.64806357, 11.4306384 , 12.55581871, 13.84769314,\n",
       "       11.01991028, 13.77567338, 13.7678943 , 10.21717081, 12.04289664,\n",
       "       14.23673889, 13.05070586, 14.0729571 , 11.31212806, 14.493977  ,\n",
       "       12.0267026 , 14.12575617, 14.02107647, 13.20458736, 14.21398261,\n",
       "       12.9338036 , 10.87854932, 14.31919553, 10.17891459, 11.39075851,\n",
       "       13.12130585, 12.78998653, 10.13562141, 13.02588686, 14.07919812,\n",
       "       11.53755212, 13.83835521, 14.59659166, 12.92008604, 14.72006493,\n",
       "       12.58153438, 12.18600781, 14.96029119, 10.57990022, 13.24516443,\n",
       "       13.29239384, 13.89150719, 10.97157762, 12.7518119 , 14.12908246,\n",
       "       13.75221455, 10.58572091, 14.49511277, 12.56333588, 13.99479438,\n",
       "       11.25311849, 12.81616902, 12.6312422 , 12.49244027, 10.402044  ,\n",
       "       13.15036909, 12.22669125, 10.50414572, 14.88070346, 14.93352671])"
      ]
     },
     "execution_count": 5,
     "metadata": {},
     "output_type": "execute_result"
    }
   ],
   "source": [
    "dist = uniform_dist (10,15,100)\n",
    "dist"
   ]
  },
  {
   "cell_type": "code",
   "execution_count": 6,
   "metadata": {},
   "outputs": [
    {
     "data": {
      "image/png": "[encoded data removed]",
      "text/plain": [
       "<Figure size 432x288 with 1 Axes>"
      ]
     },
     "metadata": {
      "needs_background": "light"
     },
     "output_type": "display_data"
    }
   ],
   "source": [
    "plt.hist(dist, bins=10)\n",
    "plt.show()"
   ]
  },
  {
   "cell_type": "code",
   "execution_count": 7,
   "metadata": {},
   "outputs": [
    {
     "data": {
      "image/png": "[encoded data removed]",
      "text/plain": [
       "<Figure size 432x288 with 1 Axes>"
      ]
     },
     "metadata": {
      "needs_background": "light"
     },
     "output_type": "display_data"
    }
   ],
   "source": [
    "# Repeating the same steps as above, but increasing the size to 1000:\n",
    "\n",
    "dist = uniform_dist (10,60,1000)\n",
    "plt.hist(dist, bins=10)\n",
    "plt.show()"
   ]
  },
  {
   "cell_type": "markdown",
   "metadata": {},
   "source": [
    "How are the two distributions different?"
   ]
  },
  {
   "cell_type": "code",
   "execution_count": null,
   "metadata": {},
   "outputs": [],
   "source": [
    "# When we increase the number of values, we can start to see more clearly that there is \n",
    "# a uniform distribution across all values.\n"
   ]
  },
  {
   "cell_type": "markdown",
   "metadata": {},
   "source": [
    "## Normal Distribution\n",
    "\n",
    "1. In the same way in the Uniform Distribution challenge, write a function that generates normally distributed random numbers.\n",
    "1. Generate 1,000 normally distributed numbers with the average of 10 and standard deviation of 1\n",
    "1. Generate 1,000 normally distributed numbers with the average of 10 and standard deviation of 50\n",
    "2. Plot the distributions of the data generated.\n",
    "\n",
    "Expected output:\n",
    "\n",
    "![normal distribution](nd.png)"
   ]
  },
  {
   "cell_type": "code",
   "execution_count": 8,
   "metadata": {},
   "outputs": [],
   "source": [
    "def normal_dist(a,b):\n",
    "    mu = a # this is the mean\n",
    "    sigma = b # this is the standard deviation\n",
    "    x = mu + sigma * np.random.randn(1000)\n",
    "    plt.hist(x)\n",
    "    plt.show()"
   ]
  },
  {
   "cell_type": "code",
   "execution_count": 9,
   "metadata": {},
   "outputs": [
    {
     "data": {
      "image/png": "[encoded data removed]",
      "text/plain": [
       "<Figure size 432x288 with 1 Axes>"
      ]
     },
     "metadata": {
      "needs_background": "light"
     },
     "output_type": "display_data"
    }
   ],
   "source": [
    "normal_dist(10,1)"
   ]
  },
  {
   "cell_type": "code",
   "execution_count": 10,
   "metadata": {},
   "outputs": [
    {
     "data": {
      "image/png": "[encoded data removed]",
      "text/plain": [
       "<Figure size 432x288 with 1 Axes>"
      ]
     },
     "metadata": {
      "needs_background": "light"
     },
     "output_type": "display_data"
    }
   ],
   "source": [
    "normal_dist(10,50)"
   ]
  },
  {
   "cell_type": "markdown",
   "metadata": {},
   "source": [
    "How are the two distributions different?"
   ]
  },
  {
   "cell_type": "code",
   "execution_count": null,
   "metadata": {},
   "outputs": [],
   "source": [
    "# The values in the second one are much more spread."
   ]
  },
  {
   "cell_type": "markdown",
   "metadata": {},
   "source": [
    "## Normal Distribution of Real Data\n",
    "\n",
    "In this challenge we are going to take a look the real data. We will use vehicles.csv file for this exercise"
   ]
  },
  {
   "cell_type": "markdown",
   "metadata": {},
   "source": [
    "First import vehicles.csv.\n",
    "Then plot the histograms for the following variables:\n",
    "\n",
    "1. Fuel Barrels/Year"
   ]
  },
  {
   "cell_type": "code",
   "execution_count": 11,
   "metadata": {},
   "outputs": [
    {
     "data": {
      "text/html": [
       "<div>\n",
       "<style scoped>\n",
       "    .dataframe tbody tr th:only-of-type {\n",
       "        vertical-align: middle;\n",
       "    }\n",
       "\n",
       "    .dataframe tbody tr th {\n",
       "        vertical-align: top;\n",
       "    }\n",
       "\n",
       "    .dataframe thead th {\n",
       "        text-align: right;\n",
       "    }\n",
       "</style>\n",
       "<table border=\"1\" class=\"dataframe\">\n",
       "  <thead>\n",
       "    <tr style=\"text-align: right;\">\n",
       "      <th></th>\n",
       "      <th>Make</th>\n",
       "      <th>Model</th>\n",
       "      <th>Year</th>\n",
       "      <th>Engine Displacement</th>\n",
       "      <th>Cylinders</th>\n",
       "      <th>Transmission</th>\n",
       "      <th>Drivetrain</th>\n",
       "      <th>Vehicle Class</th>\n",
       "      <th>Fuel Type</th>\n",
       "      <th>Fuel Barrels/Year</th>\n",
       "      <th>City MPG</th>\n",
       "      <th>Highway MPG</th>\n",
       "      <th>Combined MPG</th>\n",
       "      <th>CO2 Emission Grams/Mile</th>\n",
       "      <th>Fuel Cost/Year</th>\n",
       "    </tr>\n",
       "  </thead>\n",
       "  <tbody>\n",
       "    <tr>\n",
       "      <th>0</th>\n",
       "      <td>AM General</td>\n",
       "      <td>DJ Po Vehicle 2WD</td>\n",
       "      <td>1984</td>\n",
       "      <td>2.5</td>\n",
       "      <td>4.0</td>\n",
       "      <td>Automatic 3-spd</td>\n",
       "      <td>2-Wheel Drive</td>\n",
       "      <td>Special Purpose Vehicle 2WD</td>\n",
       "      <td>Regular</td>\n",
       "      <td>19.388824</td>\n",
       "      <td>18</td>\n",
       "      <td>17</td>\n",
       "      <td>17</td>\n",
       "      <td>522.764706</td>\n",
       "      <td>1950</td>\n",
       "    </tr>\n",
       "    <tr>\n",
       "      <th>1</th>\n",
       "      <td>AM General</td>\n",
       "      <td>FJ8c Post Office</td>\n",
       "      <td>1984</td>\n",
       "      <td>4.2</td>\n",
       "      <td>6.0</td>\n",
       "      <td>Automatic 3-spd</td>\n",
       "      <td>2-Wheel Drive</td>\n",
       "      <td>Special Purpose Vehicle 2WD</td>\n",
       "      <td>Regular</td>\n",
       "      <td>25.354615</td>\n",
       "      <td>13</td>\n",
       "      <td>13</td>\n",
       "      <td>13</td>\n",
       "      <td>683.615385</td>\n",
       "      <td>2550</td>\n",
       "    </tr>\n",
       "  </tbody>\n",
       "</table>\n",
       "</div>"
      ],
      "text/plain": [
       "         Make              Model  Year  Engine Displacement  Cylinders  \\\n",
       "0  AM General  DJ Po Vehicle 2WD  1984                  2.5        4.0   \n",
       "1  AM General   FJ8c Post Office  1984                  4.2        6.0   \n",
       "\n",
       "      Transmission     Drivetrain                Vehicle Class Fuel Type  \\\n",
       "0  Automatic 3-spd  2-Wheel Drive  Special Purpose Vehicle 2WD   Regular   \n",
       "1  Automatic 3-spd  2-Wheel Drive  Special Purpose Vehicle 2WD   Regular   \n",
       "\n",
       "   Fuel Barrels/Year  City MPG  Highway MPG  Combined MPG  \\\n",
       "0          19.388824        18           17            17   \n",
       "1          25.354615        13           13            13   \n",
       "\n",
       "   CO2 Emission Grams/Mile  Fuel Cost/Year  \n",
       "0               522.764706            1950  \n",
       "1               683.615385            2550  "
      ]
     },
     "execution_count": 11,
     "metadata": {},
     "output_type": "execute_result"
    }
   ],
   "source": [
    "vehicles = pd.read_csv('vehicles.csv')\n",
    "vehicles.head(2)"
   ]
  },
  {
   "cell_type": "code",
   "execution_count": 12,
   "metadata": {},
   "outputs": [
    {
     "data": {
      "image/png": "[encoded data removed]",
      "text/plain": [
       "<Figure size 432x288 with 1 Axes>"
      ]
     },
     "metadata": {
      "needs_background": "light"
     },
     "output_type": "display_data"
    }
   ],
   "source": [
    "vehicles['Fuel Barrels/Year'].hist()\n",
    "plt.show()\n"
   ]
  },
  {
   "cell_type": "code",
   "execution_count": 14,
   "metadata": {},
   "outputs": [
    {
     "name": "stdout",
     "output_type": "stream",
     "text": [
      "17.609055502328875\n",
      "17.347894736842107\n"
     ]
    }
   ],
   "source": [
    "print(vehicles['Fuel Barrels/Year'].mean())\n",
    "print(vehicles['Fuel Barrels/Year'].median())"
   ]
  },
  {
   "cell_type": "markdown",
   "metadata": {},
   "source": [
    "2. CO2 Emission Grams/Mile "
   ]
  },
  {
   "cell_type": "code",
   "execution_count": 22,
   "metadata": {},
   "outputs": [
    {
     "data": {
      "image/png": "[encoded data removed]",
      "text/plain": [
       "<Figure size 432x288 with 1 Axes>"
      ]
     },
     "metadata": {
      "needs_background": "light"
     },
     "output_type": "display_data"
    }
   ],
   "source": [
    "vehicles['CO2 Emission Grams/Mile'].hist()\n",
    "plt.show()\n"
   ]
  },
  {
   "cell_type": "code",
   "execution_count": 15,
   "metadata": {},
   "outputs": [
    {
     "name": "stdout",
     "output_type": "stream",
     "text": [
      "475.31633925715045\n",
      "467.7368421052632\n"
     ]
    }
   ],
   "source": [
    "print(vehicles['CO2 Emission Grams/Mile'].mean())\n",
    "print(vehicles['CO2 Emission Grams/Mile'].median())"
   ]
  },
  {
   "cell_type": "markdown",
   "metadata": {},
   "source": [
    "3. Combined MPG"
   ]
  },
  {
   "cell_type": "code",
   "execution_count": 23,
   "metadata": {},
   "outputs": [
    {
     "data": {
      "image/png": "[encoded data removed]",
      "text/plain": [
       "<Figure size 432x288 with 1 Axes>"
      ]
     },
     "metadata": {
      "needs_background": "light"
     },
     "output_type": "display_data"
    }
   ],
   "source": [
    "vehicles['Combined MPG'].hist()\n",
    "plt.show()\n"
   ]
  },
  {
   "cell_type": "code",
   "execution_count": 16,
   "metadata": {},
   "outputs": [
    {
     "name": "stdout",
     "output_type": "stream",
     "text": [
      "19.92932242990654\n",
      "19.0\n"
     ]
    }
   ],
   "source": [
    "print(vehicles['Combined MPG'].mean())\n",
    "print(vehicles['Combined MPG'].median())"
   ]
  },
  {
   "cell_type": "markdown",
   "metadata": {},
   "source": [
    "Which one(s) of the variables are nearly normally distributed? How do you know?"
   ]
  },
  {
   "cell_type": "code",
   "execution_count": null,
   "metadata": {},
   "outputs": [],
   "source": [
    "# Looking at the plots, there is not a big difference between the three variables.\n",
    "# They also seem to be close to a normal distribution.\n",
    "# To better check if they are nearly normally distributed, I have also calculated the mean and the\n",
    "# median. We can see that in all three cases the difference between median and mean is low, and so \n",
    "# they are all nearly normally distributed.\n"
   ]
  },
  {
   "cell_type": "markdown",
   "metadata": {},
   "source": [
    "## Exponential Distribution"
   ]
  },
  {
   "cell_type": "markdown",
   "metadata": {},
   "source": [
    "1. Using `numpy.random.exponential`, create a function that returns a list of numbers exponentially distributed with the mean of 10. \n",
    "\n",
    "1. Use the function to generate two number sequences with a mean of 1 and 100 and a size of 1000.\n",
    "\n",
    "1. Plot the distributions as histograms with the number of bins as 100.\n",
    "\n",
    "Your output should look like below:\n",
    "\n",
    "![exponential distribution](ed.png)"
   ]
  },
  {
   "cell_type": "code",
   "execution_count": 34,
   "metadata": {},
   "outputs": [
    {
     "name": "stdout",
     "output_type": "stream",
     "text": [
      "[1.36397985e+00 2.10877790e+00 7.60349101e-02 1.64409200e+00\n",
      " 2.78977465e-01 5.21781787e-01 2.04402307e-01 8.05054734e-01\n",
      " 3.01392188e-01 1.69704979e+00 6.14036033e-01 2.40974274e-01\n",
      " 9.30072032e-01 9.90832524e-01 2.67088265e+00 4.74105872e+00\n",
      " 4.38007691e-01 2.36178431e-01 2.92369610e+00 2.37538101e-01\n",
      " 2.21863558e+00 3.81655795e-01 2.14711009e-01 6.26632213e+00\n",
      " 1.35905986e+00 8.54692275e-01 1.46196724e+00 1.67709585e+00\n",
      " 6.98761007e-01 2.59074720e+00 3.84710012e-01 1.08643103e+00\n",
      " 7.03931912e-01 4.51154905e-01 5.31751254e-01 9.02124951e-01\n",
      " 9.69663189e-01 1.16463300e-01 2.24194838e+00 1.95384406e+00\n",
      " 9.74910395e-01 5.64007483e-01 3.03976024e-01 3.23854639e-02\n",
      " 3.36814975e+00 2.54667714e-01 2.66196358e+00 2.94799308e+00\n",
      " 4.48553101e-01 2.10228029e-01 3.34518710e-02 1.36002019e+00\n",
      " 2.27540063e+00 6.03182656e-01 4.66097517e-01 4.68050913e-01\n",
      " 1.50302667e+00 1.43649479e-01 5.34127755e-01 1.94705267e-01\n",
      " 8.03858471e-01 1.78346316e+00 1.79836107e+00 3.09338457e-01\n",
      " 3.61934094e+00 5.05354101e-01 2.67612625e-01 1.24193993e+00\n",
      " 5.09492305e-01 7.75222998e-01 3.47153285e+00 2.60490058e-01\n",
      " 1.53955879e+00 1.31050577e+00 1.90791139e+00 6.27180234e-01\n",
      " 6.81684936e-01 8.16255317e-01 1.97697071e-01 2.06895452e+00\n",
      " 6.03365269e-01 1.79424088e+00 1.03422239e-01 1.90985869e+00\n",
      " 1.95543083e+00 2.67228621e+00 2.02374227e-01 1.16307817e+00\n",
      " 2.02198375e+00 1.40682426e+00 1.10421404e+00 1.17965531e+00\n",
      " 3.16677272e-03 2.19749717e+00 8.82161196e-01 7.90339231e-01\n",
      " 3.58861163e+00 7.64906936e-02 2.39194674e-01 1.21245326e+00\n",
      " 1.73566005e+00 6.53243374e-01 1.70527427e-01 1.28392934e+00\n",
      " 1.83904892e+00 1.14607698e+00 1.62870354e+00 1.69427228e-01\n",
      " 1.79997985e+00 4.78898445e+00 3.23170870e-01 3.11521782e+00\n",
      " 4.89850896e-01 2.82726965e-01 1.07718931e+00 8.55401406e-01\n",
      " 6.49053894e-01 8.11304344e-01 5.45178949e-02 4.40773172e-02\n",
      " 2.45911654e+00 1.79966000e+00 3.16373871e-01 4.12620938e-01\n",
      " 3.39445748e-02 8.81006880e-02 4.36622728e+00 8.20003968e-02\n",
      " 7.75038173e-03 5.12244519e-02 8.56338261e-02 2.29129047e+00\n",
      " 4.67283411e-01 1.38204003e+00 2.40924406e-01 1.67270571e+00\n",
      " 1.17554400e+00 8.23215642e-01 6.17012444e-01 3.65859328e-01\n",
      " 7.08276778e-02 2.06575451e-01 1.81581745e+00 1.20300853e+00\n",
      " 4.87844782e-02 2.41831055e+00 4.67890586e-01 2.06708322e-01\n",
      " 7.37584097e-01 6.36839834e-01 3.10976668e-01 1.86128582e+00\n",
      " 1.82620939e-01 1.50681836e+00 5.79495648e-01 1.12482009e-01\n",
      " 4.27431675e-01 9.21927848e-01 3.01090123e-01 4.19891484e-01\n",
      " 2.80019297e-01 9.08211902e-01 2.82747230e+00 1.11256965e+00\n",
      " 2.55635590e+00 2.57970694e+00 5.09061634e-01 1.66830143e-01\n",
      " 2.39377099e+00 3.17246200e+00 1.63096438e+00 2.14448038e-01\n",
      " 7.41623781e-01 4.52799004e-01 2.84916509e-01 1.42864069e+00\n",
      " 1.10054634e+00 1.02780834e+00 5.58568137e-01 3.03737001e-01\n",
      " 1.96556525e+00 2.28619364e-01 4.54554579e-01 1.28711514e+00\n",
      " 1.14921922e+00 1.02024151e+00 2.60994207e+00 3.67413700e-01\n",
      " 3.48566044e-01 1.98759657e-01 2.24409207e+00 1.51473593e+00\n",
      " 6.08608263e-01 1.18611906e+00 6.91652632e-01 2.89383711e-02\n",
      " 1.69569071e+00 1.19333826e+00 1.05543461e+00 3.06561883e-01\n",
      " 4.53036367e-01 6.89098402e-01 1.16496625e+00 8.64994973e-01\n",
      " 2.45113017e-01 2.74367152e-01 5.67636916e+00 2.50411884e+00\n",
      " 9.22451768e-01 1.10095408e+00 1.77921156e+00 1.82583801e-01\n",
      " 8.62593615e-02 2.76722228e-02 1.52358818e+00 5.67218216e-01\n",
      " 3.67588495e-01 4.92153246e-02 1.06805755e-01 1.56227149e+00\n",
      " 6.31742535e-02 1.05145913e+00 1.87381570e-01 5.24965413e-01\n",
      " 3.92802645e-01 1.06073958e+00 6.65614195e-01 9.10579451e-01\n",
      " 7.37752686e-01 1.93489845e-02 1.80149727e-01 1.98172383e+00\n",
      " 7.71472678e-01 1.88267174e+00 9.11024924e-01 1.13600117e-01\n",
      " 5.22406160e-01 1.56931589e-01 4.96133455e-01 3.96769001e-01\n",
      " 4.92264902e-01 2.03639172e+00 2.05027995e+00 2.79182531e+00\n",
      " 2.36451920e-01 1.52558465e+00 1.51806188e+00 7.60395776e-01\n",
      " 1.06700904e-01 7.40615339e-01 6.22317705e-01 5.99734111e-02\n",
      " 6.20275307e-01 2.53025777e+00 1.68587750e-01 2.34172494e-01\n",
      " 7.42196142e-01 8.45409492e-01 2.66069082e-02 1.23368373e+00\n",
      " 1.02287933e+00 1.49537228e+00 2.98836403e+00 9.50681536e-01\n",
      " 4.74685873e-01 2.62995338e-01 3.32366741e+00 8.08993889e-02\n",
      " 9.91218677e-01 1.42589999e-02 9.89770292e-02 1.40727735e+00\n",
      " 8.68752843e-01 1.06485427e+00 1.05155562e+00 7.21463325e-01\n",
      " 8.92844117e-01 8.65825012e-01 1.53901186e-02 1.11204385e+00\n",
      " 7.48646686e-01 2.55962067e-01 3.24657762e-01 1.77460521e-01\n",
      " 1.05751097e+00 1.27754002e+00 1.75108828e+00 5.79314877e-01\n",
      " 4.90913905e-01 9.45693581e-01 1.83092631e+00 1.96048097e+00\n",
      " 3.09082240e+00 6.32380768e-01 1.49356696e-01 9.16822180e-01\n",
      " 3.32526801e-01 1.14404935e+00 7.82564992e-01 2.36175165e-01\n",
      " 7.61316622e-01 2.48074786e+00 1.02422470e+00 4.12156839e-01\n",
      " 2.85236514e-01 1.93614965e-01 1.33123868e+00 5.77009425e-01\n",
      " 2.09046409e+00 3.16165862e-01 1.34755064e-01 2.17053473e+00\n",
      " 7.44293327e-01 1.98969161e-01 2.07094625e+00 2.77434433e-01\n",
      " 6.47458244e-01 5.80157153e-01 4.51820954e-01 4.70019953e-01\n",
      " 2.11232478e+00 9.86530294e-01 1.43985261e+00 2.19203023e-01\n",
      " 2.58474315e+00 1.55736988e-01 3.22881159e-01 5.23665876e-01\n",
      " 3.23226661e+00 1.10491123e+00 3.42320140e-01 2.88686617e+00\n",
      " 5.24949824e-01 5.71596973e-01 2.00332758e+00 4.21396180e-01\n",
      " 2.04016105e-01 3.25089936e+00 2.62585808e+00 6.64585331e-03\n",
      " 4.64098004e-01 8.03022644e-02 1.01077076e+00 5.60028521e-01\n",
      " 3.20405043e+00 6.77999413e-01 1.10210238e+00 2.08599133e+00\n",
      " 2.01444084e-01 1.09232338e-01 5.96648989e+00 4.61129572e+00\n",
      " 1.10045381e+00 1.47653343e+00 5.68702828e+00 1.92789211e+00\n",
      " 6.67262837e-01 1.26043439e+00 7.79020986e-01 1.11938959e+00\n",
      " 1.78423773e+00 2.85522148e+00 2.60798067e+00 1.68280607e+00\n",
      " 2.62391802e-01 1.30476846e+00 7.23081212e-01 8.42839020e-01\n",
      " 3.84222403e-02 4.02900950e-01 2.21628370e+00 2.69873651e-02\n",
      " 4.73834077e-01 9.12062054e-03 1.72682383e+00 1.68526265e+00\n",
      " 2.01024822e+00 4.45392318e-01 1.20341008e+00 2.32465841e-01\n",
      " 1.66954044e+00 3.74958601e+00 1.73179113e-01 7.78748431e-03\n",
      " 2.20569790e-01 5.05760135e-01 2.74862074e+00 1.85377450e+00\n",
      " 2.19196173e+00 6.28756669e-01 4.42523696e-01 9.93784889e-01\n",
      " 1.99744616e-01 1.63438990e+00 4.48694565e+00 1.74751094e-02\n",
      " 2.29774989e+00 7.33813926e-01 9.58303296e-01 2.90278973e-01\n",
      " 1.18494474e+00 4.19578786e-01 5.69724234e-01 7.93117398e-01\n",
      " 2.04987793e-01 1.18348831e+00 6.51361562e-01 1.71628595e+00\n",
      " 4.27931949e-01 8.52758774e-01 1.42781617e-01 2.07886015e+00\n",
      " 2.63655018e-03 2.76874345e-01 3.04617710e+00 6.87508198e-01\n",
      " 5.02189733e-02 1.26007235e+00 2.97801829e-01 2.19477332e+00\n",
      " 1.96487249e+00 2.53160244e+00 1.24629308e+00 1.33340614e+00\n",
      " 4.56752220e-01 1.27049743e-01 2.03171739e+00 4.12157833e-01\n",
      " 1.11120932e+00 2.09035054e+00 7.30734197e-01 5.59952663e-01\n",
      " 6.93822207e-01 1.91314382e-01 3.66788450e-03 3.29234139e-01\n",
      " 2.71175502e-02 3.60972040e-01 1.76608788e-01 1.89342051e+00\n",
      " 2.27189348e+00 1.39332387e+00 3.59514710e-01 3.28528226e-01\n",
      " 2.91943438e-01 1.39935396e+00 3.08076405e+00 1.71597088e+00\n",
      " 7.15576059e-01 1.48156126e+00 1.73992431e-01 2.88627896e-02\n",
      " 1.04900416e+00 1.68865933e+00 2.85852564e+00 2.38838825e+00\n",
      " 1.33861096e+00 8.35619420e-01 2.83543169e+00 7.31506090e-01\n",
      " 2.50328565e-01 3.14279193e+00 3.97523002e-01 6.70178785e-01\n",
      " 1.88711505e+00 1.29544617e+00 7.84989638e-01 2.17665134e+00\n",
      " 3.70758288e-01 3.87261615e+00 2.53536784e-01 6.26831366e-01\n",
      " 1.68027344e-01 7.39090627e-02 1.25632444e+00 2.51510764e-01\n",
      " 2.66355464e-01 3.93842170e-01 7.14686014e-01 2.38794922e-01\n",
      " 9.32118761e-01 5.98761671e-01 4.46487841e-01 1.11067869e+00\n",
      " 3.20616912e-01 7.09971347e-02 8.71572262e-04 5.83442158e-01\n",
      " 2.66255008e-01 4.21905129e-01 8.33415712e-01 4.53972529e-01\n",
      " 8.95924696e-01 2.87750027e-01 1.68470925e+00 4.24481359e-03\n",
      " 2.76008915e-01 8.76740003e-01 1.28813346e+00 6.50140829e-01\n",
      " 7.80315193e+00 1.54680966e-01 9.60801431e-01 3.94462249e+00\n",
      " 6.36834737e-01 5.07548099e-01 1.22370812e-01 3.23435306e-01\n",
      " 1.02595428e-01 2.45473380e-02 1.32894683e+00 6.61160562e-01\n",
      " 5.90334212e-01 1.62829462e-01 5.21247086e-02 1.41962148e-01\n",
      " 1.14562077e-01 7.50148742e-02 5.67020896e-01 3.38858397e-02\n",
      " 2.65690042e+00 1.30284503e+00 1.39519331e+00 1.79325769e+00\n",
      " 2.82302932e-01 3.88562692e-02 7.00074655e-01 9.58117628e-01\n",
      " 2.63138391e+00 2.11066140e+00 4.85424431e-02 3.94363756e+00\n",
      " 2.66146771e-01 5.11921208e-01 1.14987468e+00 1.23486926e-01\n",
      " 6.84001417e-01 2.72201123e+00 1.70652428e+00 2.58399950e-01\n",
      " 9.95931505e-01 1.38797631e-01 3.95291193e+00 6.43953809e-01\n",
      " 8.12380897e-01 3.39535708e-01 1.98080766e+00 3.84665608e-01\n",
      " 7.33812567e-01 4.18005726e-01 1.24999955e+00 1.07473994e-01\n",
      " 1.35017487e+00 2.42328619e+00 3.58040959e-01 5.54854630e-01\n",
      " 2.16204388e+00 1.17679887e+00 2.02522197e-02 6.16857271e-01\n",
      " 6.45044000e-01 4.21310332e-01 5.66859778e-01 3.52937172e-01\n",
      " 6.78034546e-01 6.42106521e-01 7.85997028e-01 1.48065945e+00\n",
      " 4.25140118e-01 1.46897861e+00 1.93889093e-01 1.45535259e-01\n",
      " 2.61076624e+00 1.87060904e-02 7.65031735e-02 9.16839194e-01\n",
      " 8.63668917e-01 5.06599295e-01 1.43647548e-01 2.40911332e+00\n",
      " 1.39129386e+00 2.68475602e-01 2.64823971e-01 1.67881185e+00\n",
      " 1.13100754e-02 2.45109236e-01 4.18206541e-01 3.77235116e+00\n",
      " 4.52050356e-01 6.78477359e-01 4.38260009e-01 3.10059694e-01\n",
      " 4.62529165e-01 1.25561721e+00 2.65193095e-01 3.60046525e-01\n",
      " 5.60844009e-01 3.57570524e-01 1.89636345e+00 7.32518869e-01\n",
      " 1.21160785e+00 2.85831368e+00 3.33423417e-01 2.00498564e-01\n",
      " 1.06938736e-01 5.90032966e-01 1.40272913e+00 8.75562475e-01\n",
      " 7.64210086e-01 6.91349567e-01 1.11014839e+00 2.50115235e-01\n",
      " 1.05045119e+00 3.71532505e-01 4.66417670e-02 3.14943154e-02\n",
      " 5.95900511e-01 1.75256730e+00 5.29552849e-01 1.19554642e+00\n",
      " 1.08227157e-01 2.06839323e-01 1.95948746e+00 1.02974229e+00\n",
      " 4.74802265e-01 3.96179741e-02 1.12991264e+00 1.31078028e+00\n",
      " 8.54999836e-01 1.37236755e+00 2.63507492e+00 1.27882946e+00\n",
      " 1.52073350e-01 2.38188809e-01 8.35511640e-02 6.05446203e-01\n",
      " 9.78461130e-01 6.07662539e-01 5.35451607e-01 2.41944755e+00\n",
      " 1.15846419e+00 2.03854564e-01 5.89547792e-01 1.16156821e-01\n",
      " 5.01767690e-01 8.78842857e-01 3.36914438e-01 3.81520113e-01\n",
      " 6.94766715e-01 7.62071746e-02 8.78176175e-01 1.23663542e+00\n",
      " 2.90948537e-01 1.68601153e+00 6.46199632e-01 1.20666150e+00\n",
      " 8.51489285e-01 1.28949245e+00 1.03506547e+00 2.89380499e-01\n",
      " 1.01837438e+00 1.58464020e+00 2.05330307e-01 2.77598451e-01\n",
      " 7.26964091e-02 8.47477325e-01 1.13800308e-03 2.87417519e+00\n",
      " 6.44468058e-01 1.64353510e-01 2.22475771e+00 9.18815142e-02\n",
      " 7.13331979e-02 4.64746295e+00 7.10218481e-01 2.66362554e-01\n",
      " 5.45268981e-01 1.07938920e+00 5.60487350e-01 1.85851661e-01\n",
      " 8.87895082e-01 1.40479649e+00 4.10402142e-01 2.08425124e+00\n",
      " 6.72929449e-01 5.60610073e+00 1.76628204e+00 9.41808778e-01\n",
      " 2.41261310e+00 2.65251239e+00 1.56364673e-01 7.75096631e-02\n",
      " 9.05843969e-01 5.05575844e-01 1.45547325e+00 1.19958186e+00\n",
      " 9.95702676e-01 3.57493501e-02 1.27123013e+00 9.05137940e-01\n",
      " 2.03075296e-01 4.62348375e+00 1.34137572e+00 9.68112858e-01\n",
      " 1.54500078e+00 1.24694683e-01 1.87296321e-01 9.53630708e-02\n",
      " 1.14145660e+00 8.96856493e-01 9.57786069e-01 1.64401353e+00\n",
      " 1.11386619e+00 9.64489580e-02 3.21934454e-01 7.28352066e-01\n",
      " 3.25084914e+00 4.64445478e-01 2.00526653e+00 9.01833322e-01\n",
      " 1.07003793e-01 3.94550137e-01 2.05439198e+00 2.91561004e+00\n",
      " 6.39853641e-02 8.24168559e-02 4.30811633e-01 8.40996130e-01\n",
      " 1.22496844e+00 3.51471141e+00 2.11175529e+00 1.16545353e+00\n",
      " 3.18911762e-03 3.43858283e-01 1.16532793e-03 9.96138490e-02\n",
      " 3.27010449e-01 4.25055783e-01 2.03474915e-02 1.04331746e+00\n",
      " 1.24225502e+00 1.29643035e-01 6.93699014e-03 3.00682971e+00\n",
      " 6.92752809e-01 4.83929150e-01 1.29240524e-01 9.10739414e-01\n",
      " 1.36183847e+00 3.23796684e-01 5.29898916e+00 1.36509640e-01\n",
      " 3.41950817e-01 1.18570600e+00 1.72509193e+00 5.22825945e-01\n",
      " 2.62374418e-01 9.06377829e-02 1.09245700e+00 1.86592768e+00\n",
      " 1.05673899e-01 3.47032401e-02 3.07377129e+00 5.27476249e+00\n",
      " 8.95689449e-03 1.28439473e-01 3.54050504e+00 1.63576096e+00\n",
      " 1.62613813e+00 6.65093541e-01 9.89000753e-01 2.90926275e-01\n",
      " 6.13388988e-01 9.60298621e-01 4.29585182e+00 8.00910517e-01\n",
      " 1.37934295e+00 9.18155082e-01 1.91014891e+00 1.40361493e+00\n",
      " 4.89660032e-01 2.35371062e-01 5.55860734e-01 9.09079907e-02\n",
      " 4.59315254e+00 9.88523949e-01 3.82622171e-01 1.45197464e+00\n",
      " 4.33133360e-01 1.05301135e-01 1.09160439e-01 1.79070933e+00\n",
      " 8.87048146e-01 4.49117783e-01 1.56599726e+00 8.34404369e-02\n",
      " 1.32653064e+00 1.60633905e+00 2.04707480e+00 1.60401427e-01\n",
      " 4.46710531e-01 3.27803501e-01 2.16501273e+00 5.49045455e-01\n",
      " 1.24311118e+00 2.77862032e-01 6.66613144e-01 1.87291762e-01\n",
      " 9.48511511e-01 1.19516692e-01 5.64197270e-01 3.87734979e-01\n",
      " 3.83686120e-01 8.19559062e-01 1.28222247e+00 2.92154543e+00\n",
      " 2.85840261e-02 9.34240260e-01 5.56704832e-01 1.08226806e+00\n",
      " 3.95371277e+00 2.52881916e+00 3.50000889e+00 5.60784839e-01\n",
      " 1.18075430e-01 7.97008716e-02 2.03491249e+00 2.62719580e-01\n",
      " 6.01275198e-01 2.70038871e+00 9.99537571e-02 8.52908028e-01\n",
      " 1.22255420e-01 2.09130263e+00 2.67384953e-01 2.81510271e-01\n",
      " 9.62529365e-02 1.66964046e+00 8.38425570e-01 5.01608171e-01\n",
      " 3.06771045e-01 3.17757284e-01 2.06142072e-01 7.67551015e-02\n",
      " 3.53759426e-01 1.64510666e-01 2.72691478e+00 1.68961848e+00\n",
      " 1.92444930e+00 2.25902864e+00 5.17969448e-01 2.82969223e+00\n",
      " 1.13319053e+00 2.41962256e-01 1.14731228e+00 4.33607415e-01\n",
      " 8.50682223e-01 1.24056876e+00 7.71368753e-02 2.53569243e-02\n",
      " 1.57526777e+00 4.29726640e-01 1.17133714e+00 1.37645602e+00\n",
      " 1.50979389e-01 4.34893757e-01 9.56436650e-01 1.71336700e-01\n",
      " 4.65189072e-01 3.96398698e-03 3.12587982e+00 1.31995907e+00\n",
      " 1.23023425e+00 1.91187298e-01 1.15440419e+00 4.03135949e+00\n",
      " 1.00165907e+00 1.21470916e+00 6.51281578e-01 6.57850474e-02\n",
      " 1.01854713e-01 1.15281557e-01 1.19488948e+00 3.37886903e+00\n",
      " 3.41084575e+00 1.72771087e+00 5.70482316e-01 2.42685869e+00\n",
      " 5.29200729e+00 3.98521296e+00 1.85714790e+00 3.52848768e+00\n",
      " 5.85279953e-01 1.24184045e+00 5.66400489e-01 1.44512090e+00\n",
      " 2.62910909e-01 1.96012691e-01 4.76189032e-01 6.51028378e-02\n",
      " 4.86230540e-01 2.68700823e+00 2.78635307e+00 2.68801200e+00\n",
      " 2.03954308e-01 2.07755177e-01 4.01645559e-01 1.00012027e+00\n",
      " 6.70445391e-01 5.69804804e-01 1.82317097e-01 3.05138828e+00\n",
      " 1.38076730e+00 7.31861780e-01 1.20966857e-01 1.39916039e+00\n",
      " 8.00743094e-01 1.72448398e+00 2.08240791e+00 2.08044693e-01\n",
      " 2.27716543e-01 7.34487488e-02 3.75218248e+00 2.73283335e-02\n",
      " 9.13238526e-01 1.28484702e+00 6.14632514e+00 2.20615816e+00\n",
      " 8.43126262e-01 8.04099107e-01 4.16530813e-02 1.35876972e+00\n",
      " 1.07672620e-01 4.74053427e+00 6.33518793e-01 9.76035242e-02\n",
      " 4.53496561e-01 1.86887784e-02 1.70325768e+00 8.01868886e-01\n",
      " 1.64505626e-01 3.51869842e-01 6.75807015e-01 2.70136937e-01\n",
      " 6.14845458e-01 1.73218455e+00 1.12993225e+00 6.62457358e-01\n",
      " 1.09705574e-01 5.73557742e-01 1.22474447e-01 3.51998500e+00\n",
      " 9.83303628e-01 9.94225716e-01 1.81430367e-01 4.20142824e-01\n",
      " 4.32000359e-02 2.32179026e-01 2.48629488e+00 2.14530466e+00\n",
      " 8.13596176e-01 2.46867609e-01 2.59753186e-01 1.16373338e+00\n",
      " 7.56269280e-01 9.68108245e-02 1.05657280e+00 1.62072712e+00\n",
      " 1.77758800e-01 2.79177743e-03 4.46478451e-01 1.52284393e+00\n",
      " 7.49256627e-01 7.72115194e-01 6.28930668e-01 1.14083572e+00\n",
      " 1.60494088e+00 9.18135696e-01 8.10959576e-01 1.27514453e+00\n",
      " 3.09937118e-01 1.19047729e+00 2.55868876e-02 2.59105746e+00\n",
      " 4.51564142e-01 8.26260794e-01 1.56371992e+00 1.14860429e+00\n",
      " 1.33908108e+00 1.03380229e-02 4.98418940e+00 9.75041536e-01\n",
      " 5.85034206e-01 1.91567571e-01 1.10573987e-01 2.41297350e-01\n",
      " 1.21154761e+00 2.94361145e+00 5.49022879e-01 3.04670450e+00]\n"
     ]
    },
    {
     "name": "stderr",
     "output_type": "stream",
     "text": [
      "/Users/mariagarcia/opt/anaconda3/lib/python3.9/site-packages/seaborn/distributions.py:2619: FutureWarning: `distplot` is a deprecated function and will be removed in a future version. Please adapt your code to use either `displot` (a figure-level function with similar flexibility) or `histplot` (an axes-level function for histograms).\n",
      "  warnings.warn(msg, FutureWarning)\n"
     ]
    },
    {
     "data": {
      "text/plain": [
       "<AxesSubplot:ylabel='Density'>"
      ]
     },
     "execution_count": 34,
     "metadata": {},
     "output_type": "execute_result"
    },
    {
     "data": {
      "image/png": "[encoded data removed]",
      "text/plain": [
       "<Figure size 432x288 with 1 Axes>"
      ]
     },
     "metadata": {
      "needs_background": "light"
     },
     "output_type": "display_data"
    }
   ],
   "source": [
    "# Before creating the function, just to test:\n",
    "\n",
    "# This will create the numbers:\n",
    "x = np.random.exponential(scale=1, size=1000)\n",
    "print(x)\n",
    "# And this will plot it:\n",
    "sns.distplot(x)\n"
   ]
  },
  {
   "cell_type": "code",
   "execution_count": 36,
   "metadata": {},
   "outputs": [],
   "source": [
    "# Now let's create the function:\n",
    "def exp_dist(a):\n",
    "   x = np.random.exponential(scale=a/1, size=1000)\n",
    "   return x "
   ]
  },
  {
   "cell_type": "code",
   "execution_count": 43,
   "metadata": {},
   "outputs": [
    {
     "name": "stderr",
     "output_type": "stream",
     "text": [
      "/Users/mariagarcia/opt/anaconda3/lib/python3.9/site-packages/seaborn/distributions.py:2619: FutureWarning: `distplot` is a deprecated function and will be removed in a future version. Please adapt your code to use either `displot` (a figure-level function with similar flexibility) or `histplot` (an axes-level function for histograms).\n",
      "  warnings.warn(msg, FutureWarning)\n"
     ]
    },
    {
     "data": {
      "text/plain": [
       "<AxesSubplot:ylabel='Density'>"
      ]
     },
     "execution_count": 43,
     "metadata": {},
     "output_type": "execute_result"
    },
    {
     "data": {
      "image/png": "[encoded data removed]",
      "text/plain": [
       "<Figure size 432x288 with 1 Axes>"
      ]
     },
     "metadata": {
      "needs_background": "light"
     },
     "output_type": "display_data"
    }
   ],
   "source": [
    "# First case:\n",
    "solution1 = exp_dist(1)\n",
    "sns.distplot(solution1)"
   ]
  },
  {
   "cell_type": "code",
   "execution_count": 49,
   "metadata": {},
   "outputs": [
    {
     "name": "stderr",
     "output_type": "stream",
     "text": [
      "/Users/mariagarcia/opt/anaconda3/lib/python3.9/site-packages/seaborn/distributions.py:2619: FutureWarning: `distplot` is a deprecated function and will be removed in a future version. Please adapt your code to use either `displot` (a figure-level function with similar flexibility) or `histplot` (an axes-level function for histograms).\n",
      "  warnings.warn(msg, FutureWarning)\n"
     ]
    },
    {
     "data": {
      "text/plain": [
       "<AxesSubplot:ylabel='Density'>"
      ]
     },
     "execution_count": 49,
     "metadata": {},
     "output_type": "execute_result"
    },
    {
     "data": {
      "image/png": "[encoded data removed]",
      "text/plain": [
       "<Figure size 432x288 with 1 Axes>"
      ]
     },
     "metadata": {
      "needs_background": "light"
     },
     "output_type": "display_data"
    }
   ],
   "source": [
    "# Second case:\n",
    "solution2 = exp_dist(100)\n",
    "sns.distplot(solution2)"
   ]
  },
  {
   "cell_type": "markdown",
   "metadata": {},
   "source": [
    "How are the two distributions different?"
   ]
  },
  {
   "cell_type": "code",
   "execution_count": null,
   "metadata": {},
   "outputs": [],
   "source": [
    "# In the second case the mean is higher, and so the values are larger and much more spread."
   ]
  },
  {
   "cell_type": "markdown",
   "metadata": {},
   "source": [
    "## Exponential Distribution of Real Data\n",
    "\n",
    "Suppose that the amount of time one spends in a bank is exponentially distributed with mean as 10 minutes (i.e. λ = 1/10). What is the probability that a customer will spend less than fifteen minutes in the bank? \n",
    "\n",
    "Write a code in python to solve this problem"
   ]
  },
  {
   "cell_type": "code",
   "execution_count": 24,
   "metadata": {},
   "outputs": [],
   "source": [
    "from scipy.stats import expon"
   ]
  },
  {
   "cell_type": "code",
   "execution_count": 25,
   "metadata": {},
   "outputs": [
    {
     "name": "stdout",
     "output_type": "stream",
     "text": [
      "0.7534030360583935\n"
     ]
    }
   ],
   "source": [
    "# Our rate is the following:\n",
    "# 1/10 --> 1 customer every 10 minutes\n",
    "\n",
    "# So, the inversed lambda will be 10/1 = 10\n",
    "\n",
    "lambda_inv = 10\n",
    "\n",
    "exp_dist = expon(scale=lambda_inv)\n",
    "\n",
    "# The probability that the customer will spend less than 15 minutes is:\n",
    "\n",
    "print(exp_dist.cdf(14)) # We don't include 15, because it is less than 15 (15 not included)\n",
    "\n",
    "# Answer: the probability is 75.3%"
   ]
  },
  {
   "cell_type": "markdown",
   "metadata": {},
   "source": [
    "What is the probability that the customer will spend more than 15 minutes"
   ]
  },
  {
   "cell_type": "code",
   "execution_count": 26,
   "metadata": {},
   "outputs": [
    {
     "name": "stdout",
     "output_type": "stream",
     "text": [
      "0.22313016014842982\n"
     ]
    }
   ],
   "source": [
    "# The probability that the customer will spend more than 15 minutes is:\n",
    "\n",
    "print(exp_dist.sf(15))\n",
    "\n",
    "# Answer: the probability that the customer will spend more than 15 minutes is 22.3%\n"
   ]
  }
 ],
 "metadata": {
  "kernelspec": {
   "display_name": "Python 3",
   "language": "python",
   "name": "python3"
  },
  "language_info": {
   "codemirror_mode": {
    "name": "ipython",
    "version": 3
   },
   "file_extension": ".py",
   "mimetype": "text/x-python",
   "name": "python",
   "nbconvert_exporter": "python",
   "pygments_lexer": "ipython3",
   "version": "3.9.7"
  }
 },
 "nbformat": 4,
 "nbformat_minor": 2
}
