{
 "cells": [
  {
   "cell_type": "markdown",
   "metadata": {},
   "source": [
    "# Before your start:\n",
    "\n",
    "    Read the README.md file\n",
    "    Comment as much as you can and use the resources (README.md file)\n",
    "    Happy learning!\n",
    "\n",
    "*Notes:* \n",
    "\n",
    "- Solve the questions with python.\n",
    "\n",
    "- Round the final answer to three decimal places."
   ]
  },
  {
   "cell_type": "markdown",
   "metadata": {},
   "source": [
    "## Bernoulli's Distribution\n",
    "\n",
    "In a basket containing 100 fruits, there are 60 apples and 40 oranges. \n",
    "\n",
    "A fruit is picked randomly from the basket. \n",
    "\n",
    "1. **What is the probability that the fruit is apple?**\n",
    "1. **What is the probability that it is an orange?**"
   ]
  },
  {
   "cell_type": "code",
   "execution_count": 50,
   "metadata": {},
   "outputs": [],
   "source": [
    "import numpy as np\n",
    "import math\n",
    "import matplotlib.pyplot as plt\n",
    "\n",
    "from scipy.stats import bernoulli\n",
    "from scipy.stats import binom\n",
    "from scipy.stats import geom\n",
    "from scipy.stats import poisson\n",
    "\n",
    "from scipy.stats import uniform\n",
    "from scipy.stats import expon\n",
    "from scipy.stats import norm"
   ]
  },
  {
   "cell_type": "code",
   "execution_count": 51,
   "metadata": {},
   "outputs": [
    {
     "name": "stdout",
     "output_type": "stream",
     "text": [
      "0.6\n",
      "0.4\n"
     ]
    }
   ],
   "source": [
    "\"\"\"\n",
    "Calculate:\n",
    "p = probability that the fruit is an apple \n",
    "q = probability that the fruit is an orange\n",
    "\"\"\"\n",
    "\n",
    "# your code here\n",
    "\n",
    "#from scipy.stats import bernoulli\n",
    "\n",
    "\n",
    "p = 0.60\n",
    "bernoulli_dist = bernoulli(p)\n",
    "print(bernoulli_dist.pmf(1))\n",
    "\n",
    "q = 0.40\n",
    "bernoulli_dist = bernoulli(q)\n",
    "print(bernoulli_dist.pmf(1))"
   ]
  },
  {
   "cell_type": "markdown",
   "metadata": {},
   "source": [
    "Now we take a random sample of 20 fruits from the basket. After each fruit is taken, a new fruit of the same type is replaced in the basket. Therefore, every time we are taking 1 fruit from 100 fruits. \n",
    "\n",
    "1. **What is the probability that the first 5 fruits are all apples?**\n",
    "\n",
    "1. **What is the probability that the first 5 fruits are all apples and the next 15 fruits are all oranges?**\n",
    "\n",
    "You can include the `p` and `q` probabilities you previous calculated in your solution."
   ]
  },
  {
   "cell_type": "code",
   "execution_count": 21,
   "metadata": {},
   "outputs": [
    {
     "name": "stdout",
     "output_type": "stream",
     "text": [
      "5 apples in the first 5 fruits: 0.07775999999999998\n"
     ]
    }
   ],
   "source": [
    "# your code here\n",
    "n = 5  # trials\n",
    "p = 0.6  # getting an apple\n",
    "x = 5  # getting 5 apples\n",
    "\n",
    "prob = stats.binom.pmf(x, n, p)\n",
    "print(\"5 apples in the first 5 fruits:\", prob)\n"
   ]
  },
  {
   "cell_type": "code",
   "execution_count": 22,
   "metadata": {},
   "outputs": [
    {
     "name": "stdout",
     "output_type": "stream",
     "text": [
      "5 apples in the first 5 fruits and 15 oranges in the next 15 fruits: 8.349416423424006e-08\n"
     ]
    }
   ],
   "source": [
    "n = 5  # trials\n",
    "p = 0.6  # getting an apple\n",
    "x = 5  # getting 5 apples\n",
    "\n",
    "n2 = 15  # 15 fruits\n",
    "p2 = 0.4  # getting an orange\n",
    "x2 = 15  # getting 15 oranges\n",
    "\n",
    "prob = stats.binom.pmf(x, n1, p1) * stats.binom.pmf(x2, n2, p2)\n",
    "print(\"5 apples in the first 5 fruits and 15 oranges in the next 15 fruits:\", prob)\n"
   ]
  },
  {
   "cell_type": "markdown",
   "metadata": {},
   "source": [
    "## Binomial Distribution\n",
    "\n",
    "Similar to the above problem, this time again we randomly sample 20 fruits.\n",
    "\n",
    "**What is the probability that this time the sample contains 5 apples and 15 oranges?**\n",
    "\n",
    "Please note that this time the order of the fruits being picked does not matter."
   ]
  },
  {
   "cell_type": "code",
   "execution_count": 34,
   "metadata": {},
   "outputs": [],
   "source": [
    "# your code here\n",
    "n = 20  # trials\n",
    "p = 0.25  # getting an apple\n",
    "x = 5  # getting 5 apples\n",
    "\n",
    "prob_apple = stats.binom.pmf(x, n1, p1)\n",
    "\n",
    "n2 = 15  # trials\n",
    "p2 = 1-0.25  # getting an orange\n",
    "x2 = 15  # getting 15 oranges\n",
    "prob_orange = stats.binom.pmf(x2, n2, p2)\n",
    "\n",
    "res = prob_apple * prob_orange\n",
    "\n",
    "\n",
    "print(res)\n",
    "\n",
    "# nao percebo nada disto."
   ]
  },
  {
   "cell_type": "markdown",
   "metadata": {},
   "source": [
    "In the lesson we also discussed CDF (cumulative distribution function). In the context of the above problem, **what is the probability that less than 5 fruits picked are apples?**\n",
    "\n",
    "Write the formula and calculate the probability below."
   ]
  },
  {
   "cell_type": "code",
   "execution_count": 47,
   "metadata": {},
   "outputs": [
    {
     "data": {
      "text/plain": [
       "0.00031703112116863004"
      ]
     },
     "execution_count": 47,
     "metadata": {},
     "output_type": "execute_result"
    }
   ],
   "source": [
    "n = 20\n",
    "p = 0.6\n",
    "x = 4\n",
    "prob_less5 = stats.binom.cdf(x, n, p)\n",
    "prob_less5\n",
    "\n",
    "## nao sei se esta certo?"
   ]
  },
  {
   "cell_type": "markdown",
   "metadata": {},
   "source": [
    "**Plot the PDF (probability distributiom function) for the above binomial distribution.**\n",
    "\n",
    "*Hint: The range of x in a binomial distribution is from `0` to `n`.*"
   ]
  },
  {
   "cell_type": "code",
   "execution_count": 58,
   "metadata": {},
   "outputs": [
    {
     "data": {
      "image/png": "[encoded data removed]",
      "text/plain": [
       "<Figure size 640x480 with 1 Axes>"
      ]
     },
     "metadata": {},
     "output_type": "display_data"
    }
   ],
   "source": [
    "# your code here\n",
    "# Please label the axes and give a title to the plot\n",
    "binomial_dist = binom(n,p)\n",
    "x = np.arange(0,n)\n",
    "plt.plot(x, binomial_dist.cdf(x),\"o\")\n",
    "\n",
    "plt.xlabel('Number of tries')\n",
    "plt.ylabel('Probability of aple')\n",
    "plt.show()"
   ]
  },
  {
   "cell_type": "markdown",
   "metadata": {},
   "source": [
    "## Poisson Distribution\n",
    "\n",
    "In this challenge you are required to use the Math library in python to solve the problems.\n",
    "\n",
    "In the UEFA champions league tournament, the average number of goals scored in a match is 2.3. \n",
    "\n",
    "**What is the probability that the number of goals scored in a match is 5?**\n",
    "\n",
    "*Hint: Use the exp() in the math library*\n",
    "\n",
    "And to calculate the factorial, you can use the following code:\n",
    "\n",
    "```python\n",
    "import math\n",
    "math.factorial(n) # n is the number you want to find the factorial of\n",
    "```"
   ]
  },
  {
   "cell_type": "code",
   "execution_count": 61,
   "metadata": {},
   "outputs": [
    {
     "name": "stdout",
     "output_type": "stream",
     "text": [
      "0.053775025581946814\n"
     ]
    }
   ],
   "source": [
    "# your code here\n",
    "import math\n",
    "#math.factorial(n) # n is the number you want to find the factorial of\n",
    "\n",
    "avg_goals = 2.3  # average number of goals scored in a match\n",
    "goals = 5  # number of goals we want to find the probability for\n",
    "\n",
    "mu = avg_goals # expectation of goals\n",
    "poisson_dist = poisson(mu)\n",
    "print(poisson_dist.pmf(5))"
   ]
  },
  {
   "cell_type": "markdown",
   "metadata": {},
   "source": [
    "**Draw a poisson probability distribution plot for the number of goals to be between 0 to 10.**"
   ]
  },
  {
   "cell_type": "code",
   "execution_count": null,
   "metadata": {},
   "outputs": [],
   "source": [
    "# your code here\n",
    "# Please label the axes and give a title to the plot \n",
    "avg_goals = 2.3 \n",
    "goals = np.arange(0, 11)\n",
    "\n",
    "mu = goals # expectation of goals\n",
    "poisson_dist = poisson(mu)\n",
    "print(poisson_dist.pmf(5))"
   ]
  },
  {
   "cell_type": "code",
   "execution_count": 67,
   "metadata": {},
   "outputs": [
    {
     "data": {
      "image/png": "[encoded data removed]",
      "text/plain": [
       "<Figure size 640x480 with 1 Axes>"
      ]
     },
     "metadata": {},
     "output_type": "display_data"
    }
   ],
   "source": [
    "\n",
    "avg_goals = 2.3  # average goals\n",
    "goals = list(range(11))  # number of goals\n",
    "\n",
    "# calculate prob\n",
    "poisson_pmf = [poisson.pmf(i, avg_goals) for i in goals]\n",
    "\n",
    "plt.bar(goals, poisson_pmf)\n",
    "plt.xlabel(\"Goals\")\n",
    "plt.ylabel(\"Prob\")\n",
    "plt.show()\n"
   ]
  },
  {
   "cell_type": "code",
   "execution_count": null,
   "metadata": {},
   "outputs": [],
   "source": []
  }
 ],
 "metadata": {
  "kernelspec": {
   "display_name": "Python 3 (ipykernel)",
   "language": "python",
   "name": "python3"
  },
  "language_info": {
   "codemirror_mode": {
    "name": "ipython",
    "version": 3
   },
   "file_extension": ".py",
   "mimetype": "text/x-python",
   "name": "python",
   "nbconvert_exporter": "python",
   "pygments_lexer": "ipython3",
   "version": "3.9.13"
  }
 },
 "nbformat": 4,
 "nbformat_minor": 2
}
