{
 "cells": [
  {
   "cell_type": "markdown",
   "metadata": {},
   "source": [
    "# Before your start:\n",
    "\n",
    "    Read the README.md file\n",
    "    Comment as much as you can and use the resources (README.md file)\n",
    "    Happy learning!\n",
    "\n",
    "*Notes:* \n",
    "\n",
    "- Solve the questions with python.\n",
    "\n",
    "- Round the final answer to three decimal places."
   ]
  },
  {
   "cell_type": "markdown",
   "metadata": {},
   "source": [
    "## Bernoulli's Distribution\n",
    "\n",
    "In a basket containing 100 fruits, there are 60 apples and 40 oranges. \n",
    "\n",
    "A fruit is picked randomly from the basket. \n",
    "\n",
    "1. **What is the probability that the fruit is apple?**\n",
    "1. **What is the probability that it is an orange?**"
   ]
  },
  {
   "cell_type": "code",
   "execution_count": 1,
   "metadata": {},
   "outputs": [],
   "source": [
    "\"\"\"\n",
    "Calculate:\n",
    "p = probability that the fruit is an apple \n",
    "q = probability that the fruit is an orange\n",
    "\"\"\"\n",
    "\n",
    "# your code here\n",
    "# Let's define the probability that the fruit is an apple\n",
    "p = 60/100 # number of favorable cases / number of possible cases\n",
    "\n",
    "# Let's define the probability that the fruit is an orange\n",
    "q = 40/100 # number of favorable cases / number of possible cases"
   ]
  },
  {
   "cell_type": "markdown",
   "metadata": {},
   "source": [
    "Now we take a random sample of 20 fruits from the basket. After each fruit is taken, a new fruit of the same type is replaced in the basket. Therefore, every time we are taking 1 fruit from 100 fruits. \n",
    "\n",
    "1. **What is the probability that the first 5 fruits are all apples?**\n",
    "\n",
    "1. **What is the probability that the first 5 fruits are all apples and the next 15 fruits are all oranges?**\n",
    "\n",
    "You can include the `p` and `q` probabilities you previous calculated in your solution."
   ]
  },
  {
   "cell_type": "code",
   "execution_count": 2,
   "metadata": {},
   "outputs": [
    {
     "name": "stdout",
     "output_type": "stream",
     "text": [
      "The number of favorable cases is 1 (AAAAA) and the probability that the fruit is an apple is 0.6. So, the probability that the first 5 fruits are all apples is 0.07775999999999998.\n",
      "\n",
      "\n",
      "The number of favorable cases is 1 (AAAAAOOOOOOOOOOOOOOO), the probability that the fruit is an apple is 0.6 and the probability that the fruit is an orange is 0.4. So, the probability hat the first 5 fruits are all apples and the next 15  fruits are all oranges is 8.349416423424006e-08.\n"
     ]
    }
   ],
   "source": [
    "# your code here\n",
    "\n",
    "# What is the probability that the first 5 fruits are all apples?\n",
    "# The order matters and the events are with repetition. The independency of the events is assumed.\n",
    "print(f'The number of favorable cases is 1 (AAAAA) and the probability that the fruit is an apple is {p}. So, the \\\n",
    "probability that the first 5 fruits are all apples is {p**5}.')\n",
    "\n",
    "print('\\n')\n",
    "\n",
    "# What is the probability that the first 5 fruits are all apples and the next 15 fruits are all oranges?\n",
    "# The order matters and the events are with repetition. The independency of the events is assumed.\n",
    "print(f'The number of favorable cases is 1 (AAAAAOOOOOOOOOOOOOOO), the probability that the fruit is an apple is {p} and the\\\n",
    " probability that the fruit is an orange is {q}. So, the probability hat the first 5 fruits are all apples and the next 15 \\\n",
    " fruits are all oranges is {p**5*q**15}.')"
   ]
  },
  {
   "cell_type": "markdown",
   "metadata": {},
   "source": [
    "## Binomial Distribution\n",
    "\n",
    "Similar to the above problem, this time again we randomly sample 20 fruits.\n",
    "\n",
    "**What is the probability that this time the sample contains 5 apples and 15 oranges?**\n",
    "\n",
    "Please note that this time the order of the fruits being picked does not matter."
   ]
  },
  {
   "cell_type": "code",
   "execution_count": 3,
   "metadata": {},
   "outputs": [
    {
     "data": {
      "text/plain": [
       "0.0012944935222876583"
      ]
     },
     "execution_count": 3,
     "metadata": {},
     "output_type": "execute_result"
    }
   ],
   "source": [
    "# your code here\n",
    "# Import the object binom from scipy.stats\n",
    "from scipy.stats import binom\n",
    "\n",
    "# Random sample size\n",
    "n = 20\n",
    "\n",
    "# Number of successes, considering success the event with higher probability\n",
    "k = 5\n",
    "\n",
    "# Let's compute the the probability that this time the sample contains 5 apples and 15 oranges, without considering the \n",
    "# order\n",
    "binom.pmf(k, n, p)"
   ]
  },
  {
   "cell_type": "markdown",
   "metadata": {},
   "source": [
    "In the lesson we also discussed CDF (cumulative distribution function). In the context of the above problem, **what is the probability that less than 5 fruits picked are apples?**\n",
    "\n",
    "Write the formula and calculate the probability below."
   ]
  },
  {
   "cell_type": "code",
   "execution_count": 4,
   "metadata": {},
   "outputs": [
    {
     "data": {
      "text/plain": [
       "0.00031703112116863004"
      ]
     },
     "execution_count": 4,
     "metadata": {},
     "output_type": "execute_result"
    }
   ],
   "source": [
    "# your code here\n",
    "# Since CDF considers P(X <= k), here the value of k needs to be 4, because the value is inclusive\n",
    "binom.cdf(4, n, p)"
   ]
  },
  {
   "cell_type": "markdown",
   "metadata": {},
   "source": [
    "**Plot the PDF (probability distributiom function) for the above binomial distribution.**\n",
    "\n",
    "*Hint: The range of x in a binomial distribution is from `0` to `n`.*"
   ]
  },
  {
   "cell_type": "code",
   "execution_count": 5,
   "metadata": {},
   "outputs": [
    {
     "data": {
      "image/png": "[encoded data removed]",
      "text/plain": [
       "<Figure size 432x288 with 1 Axes>"
      ]
     },
     "metadata": {
      "needs_background": "light"
     },
     "output_type": "display_data"
    }
   ],
   "source": [
    "# your code here\n",
    "# Please label the axes and give a title to the plot\n",
    "# Let's import the libraries needed for plotting\n",
    "import matplotlib.pyplot as plt\n",
    "import numpy as np\n",
    "\n",
    "# Let's create a figure for the plot\n",
    "fig, ax = plt.subplots(1, 1)\n",
    "\n",
    "# Let's define the x from 0 to n\n",
    "x = np.arange(0,n)\n",
    "\n",
    "# Let's plot the distribution function of binomial distribution\n",
    "plt.plot(x, binom.pmf(x, n, p), 'o')\n",
    "plt.grid(visible= True)\n",
    "ax.set_title(f'Probability Mass Function of Binomial distribution with n= {n} and p= {p}')\n",
    "ax.set_ylabel('Probability')\n",
    "ax.set_xlabel('k');"
   ]
  },
  {
   "cell_type": "markdown",
   "metadata": {},
   "source": [
    "## Poisson Distribution\n",
    "\n",
    "In this challenge you are required to use the Math library in python to solve the problems.\n",
    "\n",
    "In the UEFA champions league tournament, the average number of goals scored in a match is 2.3. \n",
    "\n",
    "**What is the probability that the number of goals scored in a match is 5?**\n",
    "\n",
    "*Hint: Use the exp() in the math library*\n",
    "\n",
    "And to calculate the factorial, you can use the following code:\n",
    "\n",
    "```python\n",
    "import math\n",
    "math.factorial(n) # n is the number you want to find the factorial of\n",
    "```"
   ]
  },
  {
   "cell_type": "code",
   "execution_count": 9,
   "metadata": {},
   "outputs": [
    {
     "data": {
      "text/plain": [
       "0.0537750255819468"
      ]
     },
     "execution_count": 9,
     "metadata": {},
     "output_type": "execute_result"
    }
   ],
   "source": [
    "# your code here\n",
    "# Let's import the library needed\n",
    "import math\n",
    "\n",
    "# average number of goals scored in a match\n",
    "mu = 2.3\n",
    "\n",
    "# number of goals scored in a match\n",
    "k = 5\n",
    "\n",
    "# Using the expression of probability mass function for Poisson distribution\n",
    "math.exp(-mu)*mu**k/math.factorial(k)"
   ]
  },
  {
   "cell_type": "markdown",
   "metadata": {},
   "source": [
    "**Draw a poisson probability distribution plot for the number of goals to be between 0 to 10.**"
   ]
  },
  {
   "cell_type": "code",
   "execution_count": 11,
   "metadata": {},
   "outputs": [
    {
     "data": {
      "image/png": "[encoded data removed]",
      "text/plain": [
       "<Figure size 432x288 with 1 Axes>"
      ]
     },
     "metadata": {
      "needs_background": "light"
     },
     "output_type": "display_data"
    }
   ],
   "source": [
    "# your code here\n",
    "# Please label the axes and give a title to the plot \n",
    "# Let's import the library needed\n",
    "import matplotlib.pyplot as plt\n",
    "from scipy.stats import poisson\n",
    "\n",
    "\n",
    "# Let's create a figure for the plot\n",
    "fig, ax = plt.subplots(1, 1)\n",
    "\n",
    "# Let's define the x from 0 to 10\n",
    "x = np.arange(0,10)\n",
    "\n",
    "# Let's plot the distribution function of Poisson distribution\n",
    "plt.plot(x, poisson.pmf(x, mu), 'o')\n",
    "plt.grid(visible= True)\n",
    "ax.set_title(f'Probability Mass Function of Poisson distribution with mu= {mu}')\n",
    "ax.set_ylabel('Probability')\n",
    "ax.set_xlabel('x');"
   ]
  }
 ],
 "metadata": {
  "kernelspec": {
   "display_name": "Python 3 (ipykernel)",
   "language": "python",
   "name": "python3"
  },
  "language_info": {
   "codemirror_mode": {
    "name": "ipython",
    "version": 3
   },
   "file_extension": ".py",
   "mimetype": "text/x-python",
   "name": "python",
   "nbconvert_exporter": "python",
   "pygments_lexer": "ipython3",
   "version": "3.9.7"
  }
 },
 "nbformat": 4,
 "nbformat_minor": 2
}
