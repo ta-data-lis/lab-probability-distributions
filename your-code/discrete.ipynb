{
 "cells": [
  {
   "cell_type": "markdown",
   "metadata": {},
   "source": [
    "# Before your start:\n",
    "\n",
    "    Read the README.md file\n",
    "    Comment as much as you can and use the resources (README.md file)\n",
    "    Happy learning!\n",
    "\n",
    "*Notes:* \n",
    "\n",
    "- Solve the questions with python.\n",
    "\n",
    "- Round the final answer to three decimal places."
   ]
  },
  {
   "cell_type": "markdown",
   "metadata": {},
   "source": [
    "## Bernoulli's Distribution\n",
    "\n",
    "In a basket containing 100 fruits, there are 60 apples and 40 oranges. \n",
    "\n",
    "A fruit is picked randomly from the basket. \n",
    "\n",
    "1. **What is the probability that the fruit is apple?**\n",
    "1. **What is the probability that it is an orange?**"
   ]
  },
  {
   "cell_type": "code",
   "execution_count": 24,
   "metadata": {},
   "outputs": [],
   "source": [
    "import matplotlib.pyplot as plt\n",
    "import scipy.stats as ss\n",
    "from scipy.stats import bernoulli\n",
    "from scipy.stats import binom"
   ]
  },
  {
   "cell_type": "code",
   "execution_count": 15,
   "metadata": {},
   "outputs": [
    {
     "data": {
      "text/plain": [
       "(array([44.,  0.,  0.,  0.,  0.,  0.,  0.,  0.,  0., 56.]),\n",
       " array([0. , 0.1, 0.2, 0.3, 0.4, 0.5, 0.6, 0.7, 0.8, 0.9, 1. ]),\n",
       " <a list of 10 Patch objects>)"
      ]
     },
     "execution_count": 15,
     "metadata": {},
     "output_type": "execute_result"
    },
    {
     "data": {
      "image/png": "[encoded data removed]",
      "text/plain": [
       "<Figure size 432x288 with 1 Axes>"
      ]
     },
     "metadata": {
      "needs_background": "light"
     },
     "output_type": "display_data"
    }
   ],
   "source": [
    "\"\"\"\n",
    "Calculate:\n",
    "p = probability that the fruit is an apple \n",
    "q = probability that the fruit is an orange\n",
    "\"\"\"\n",
    "\n",
    "# your code here\n",
    "\n",
    "#bernoulli.pmf(k) = 1-p  if k = 0\n",
    "                # = p    if k = 1\n",
    "\n",
    "p = 0.6\n",
    "X = bernoulli.rvs(p, size=100)\n",
    "\n",
    "\n",
    "# plotting\n",
    "plt.hist(X, align='mid')\n"
   ]
  },
  {
   "cell_type": "code",
   "execution_count": 16,
   "metadata": {},
   "outputs": [
    {
     "name": "stdout",
     "output_type": "stream",
     "text": [
      "0.4\n"
     ]
    }
   ],
   "source": [
    "q = 1-p\n",
    "print(q)"
   ]
  },
  {
   "cell_type": "markdown",
   "metadata": {},
   "source": [
    "Now we take a random sample of 20 fruits from the basket. After each fruit is taken, a new fruit of the same type is replaced in the basket. Therefore, every time we are taking 1 fruit from 100 fruits. \n",
    "\n",
    "1. **What is the probability that the first 5 fruits are all apples?**\n",
    "\n",
    "1. **What is the probability that the first 5 fruits are all apples and the next 15 fruits are all oranges?**\n",
    "\n",
    "You can include the `p` and `q` probabilities you previous calculated in your solution."
   ]
  },
  {
   "cell_type": "code",
   "execution_count": 22,
   "metadata": {},
   "outputs": [
    {
     "name": "stdout",
     "output_type": "stream",
     "text": [
      "The probability that the 5 first fruits picked are apples is  7.775999999999998 %\n",
      "The probability that the 5 first fruits picked are apples & the next 15 fruits picked are oranges is  8.349416423424005e-06 %\n"
     ]
    }
   ],
   "source": [
    "# your code here\n",
    "\n",
    "# Permutations with replacement: p=n**r\n",
    "\n",
    "p = 0.6\n",
    "q = 0.4\n",
    "\n",
    "p_a = p**5\n",
    "print(\"The probability that the 5 first fruits picked are apples is \",p_a*100,\"%\")\n",
    "\n",
    "p_ao = (p**5) * (q**15)\n",
    "print(\"The probability that the 5 first fruits picked are apples & the next 15 fruits picked are oranges is \",p_ao*100,\"%\")"
   ]
  },
  {
   "cell_type": "markdown",
   "metadata": {},
   "source": [
    "## Binomial Distribution\n",
    "\n",
    "Similar to the above problem, this time again we randomly sample 20 fruits.\n",
    "\n",
    "**What is the probability that this time the sample contains 5 apples and 15 oranges?**\n",
    "\n",
    "Please note that this time the order of the fruits being picked does not matter."
   ]
  },
  {
   "cell_type": "code",
   "execution_count": 26,
   "metadata": {},
   "outputs": [
    {
     "name": "stdout",
     "output_type": "stream",
     "text": [
      "0.0025889870445753023\n"
     ]
    }
   ],
   "source": [
    "# your code here\n",
    "\n",
    "n = 20\n",
    "\n",
    "max_apples = 5\n",
    "max_oranges = 15\n",
    "binomial = binom.pmf(max_apples,n,p) + binom.pmf(max_oranges,n,q)\n",
    "print(binomial)"
   ]
  },
  {
   "cell_type": "markdown",
   "metadata": {},
   "source": [
    "In the lesson we also discussed CDF (cumulative distribution function). In the context of the above problem, **what is the probability that less than 5 fruits picked are apples?**\n",
    "\n",
    "Write the formula and calculate the probability below."
   ]
  },
  {
   "cell_type": "code",
   "execution_count": 27,
   "metadata": {},
   "outputs": [
    {
     "name": "stdout",
     "output_type": "stream",
     "text": [
      "0.001611524643456288\n"
     ]
    }
   ],
   "source": [
    "# your code here\n",
    "\n",
    "n = 20\n",
    "p = 0.6\n",
    "x = 5\n",
    "\n",
    "\n",
    "print(binom.cdf(x,n,p))"
   ]
  },
  {
   "cell_type": "markdown",
   "metadata": {},
   "source": [
    "**Plot the PDF (probability distributiom function) for the above binomial distribution.**\n",
    "\n",
    "*Hint: The range of x in a binomial distribution is from `0` to `n`.*"
   ]
  },
  {
   "cell_type": "code",
   "execution_count": 33,
   "metadata": {},
   "outputs": [
    {
     "data": {
      "text/plain": [
       "Text(0, 0.5, 'Probability')"
      ]
     },
     "execution_count": 33,
     "metadata": {},
     "output_type": "execute_result"
    },
    {
     "data": {
      "image/png": "[encoded data removed]",
      "text/plain": [
       "<Figure size 432x288 with 1 Axes>"
      ]
     },
     "metadata": {
      "needs_background": "light"
     },
     "output_type": "display_data"
    }
   ],
   "source": [
    "# your code here\n",
    "# Please label the axes and give a title to the plot\n",
    "\n",
    "x = range(0,20)\n",
    "fig, ax = plt.subplots(1, 1)\n",
    "ax.plot(x, binom.cdf(x, n, p), 'bo')\n",
    "ax.vlines(x, 0, binom.cdf(x, n, p), colors='r', lw=6, alpha=0.5)\n",
    "plt.title(\"PDF\")\n",
    "plt.xlabel('Apples picked')\n",
    "plt.ylabel('Probability')\n"
   ]
  },
  {
   "cell_type": "markdown",
   "metadata": {},
   "source": [
    "## Poisson Distribution\n",
    "\n",
    "In this challenge you are required to use the Math library in python to solve the problems.\n",
    "\n",
    "In the UEFA champions league tournament, the average number of goals scored in a match is 2.3. \n",
    "\n",
    "**What is the probability that the number of goals scored in a match is 5?**\n",
    "\n",
    "*Hint: Use the exp() in the math library*\n",
    "\n",
    "And to calculate the factorial, you can use the following code:\n",
    "\n",
    "```python\n",
    "import math\n",
    "math.factorial(n) # n is the number you want to find the factorial of\n",
    "```"
   ]
  },
  {
   "cell_type": "code",
   "execution_count": 35,
   "metadata": {},
   "outputs": [
    {
     "name": "stdout",
     "output_type": "stream",
     "text": [
      "0.053775025581946814\n"
     ]
    }
   ],
   "source": [
    "# your code here\n",
    "import math\n",
    "math.factorial(n)\n",
    "\n",
    "from scipy.stats import poisson\n",
    "\n",
    "mu = 2.3\n",
    "\n",
    "print(poisson.pmf(5,mu))"
   ]
  },
  {
   "cell_type": "markdown",
   "metadata": {},
   "source": [
    "**Draw a poisson probability distribution plot for the number of goals to be between 0 to 10.**"
   ]
  },
  {
   "cell_type": "code",
   "execution_count": 37,
   "metadata": {},
   "outputs": [],
   "source": [
    "from scipy.stats import poisson\n",
    "import numpy as np\n"
   ]
  },
  {
   "cell_type": "code",
   "execution_count": 42,
   "metadata": {},
   "outputs": [
    {
     "data": {
      "image/png": "[encoded data removed]",
      "text/plain": [
       "<Figure size 432x288 with 1 Axes>"
      ]
     },
     "metadata": {
      "needs_background": "light"
     },
     "output_type": "display_data"
    }
   ],
   "source": [
    "# your code here\n",
    "# Please label the axes and give a title to the plot \n",
    "\n",
    "mean, var, skew, kurt = poisson.stats(mu, moments='mvsk')\n",
    "\n",
    "x = np.arange(poisson.ppf(0.000001, mu), poisson.ppf(0.99999, mu))\n",
    "\n",
    "plt.plot(x, poisson.pmf(x, mu), 'bo', ms=8, label='poisson pmf')\n",
    "plt.title('Poisson Distribution')\n",
    "plt.xlabel('Number of Goals')\n",
    "plt.ylabel('Probability')\n",
    "plt.show()"
   ]
  },
  {
   "cell_type": "code",
   "execution_count": null,
   "metadata": {},
   "outputs": [],
   "source": []
  }
 ],
 "metadata": {
  "kernelspec": {
   "display_name": "Python 3",
   "language": "python",
   "name": "python3"
  },
  "language_info": {
   "codemirror_mode": {
    "name": "ipython",
    "version": 3
   },
   "file_extension": ".py",
   "mimetype": "text/x-python",
   "name": "python",
   "nbconvert_exporter": "python",
   "pygments_lexer": "ipython3",
   "version": "3.7.4"
  }
 },
 "nbformat": 4,
 "nbformat_minor": 2
}
