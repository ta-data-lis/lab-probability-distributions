{
 "cells": [
  {
   "cell_type": "markdown",
   "source": [
    "# Before your start:\n",
    "\n",
    "    Read the README.md file\n",
    "    Comment as much as you can and use the resources (README.md file)\n",
    "    Happy learning!\n",
    "\n",
    "*Notes:* \n",
    "\n",
    "- Solve the questions with python.\n",
    "\n",
    "- Round the final answer to three decimal places."
   ],
   "metadata": {}
  },
  {
   "cell_type": "code",
   "execution_count": 1,
   "source": [
    "## Libraries\r\n",
    "import numpy as np\r\n",
    "import math\r\n",
    "import pandas as pd\r\n",
    "import matplotlib.pyplot as plt\r\n",
    "\r\n",
    "from scipy.stats import binom\r\n",
    "from scipy.stats import poisson"
   ],
   "outputs": [],
   "metadata": {}
  },
  {
   "cell_type": "markdown",
   "source": [
    "## Bernoulli's Distribution\n",
    "\n",
    "In a basket containing 100 fruits, there are 60 apples and 40 oranges. \n",
    "\n",
    "A fruit is picked randomly from the basket. \n",
    "\n",
    "1. **What is the probability that the fruit is apple?**\n",
    "1. **What is the probability that it is an orange?**"
   ],
   "metadata": {}
  },
  {
   "cell_type": "code",
   "execution_count": 6,
   "source": [
    "\"\"\"\r\n",
    "Calculate:\r\n",
    "p = probability that the fruit is an apple \r\n",
    "q = probability that the fruit is an orange\r\n",
    "\"\"\"\r\n",
    "\r\n",
    "# your code here\r\n",
    "\r\n",
    "## apple probability\r\n",
    "p = 60 / 100  ## probability of pick an apple\r\n",
    "print('probability that the fruit is an apple is %.3f' %p)  ##round to 3 decimal \r\n",
    "\r\n",
    "## orange probability\r\n",
    "q = 40 / 100  ## probability of pick an orange\r\n",
    "print('probability that the fruit is an orange is %.3f' %q)  ##round to 3 decimal \r\n"
   ],
   "outputs": [
    {
     "output_type": "stream",
     "name": "stdout",
     "text": [
      "probability that the fruit is an apple is 0.600\n",
      "probability that the fruit is an orange is 0.400\n"
     ]
    }
   ],
   "metadata": {}
  },
  {
   "cell_type": "markdown",
   "source": [
    "Now we take a random sample of 20 fruits from the basket. After each fruit is taken, a new fruit of the same type is replaced in the basket. Therefore, every time we are taking 1 fruit from 100 fruits. \r\n",
    "\r\n",
    "1. **What is the probability that the first 5 fruits are all apples?**\r\n",
    "\r\n",
    "1. **What is the probability that the first 5 fruits are all apples and the next 15 fruits are all oranges?**\r\n",
    "\r\n",
    "You can include the `p` and `q` probabilities you previous calculated in your solution."
   ],
   "metadata": {}
  },
  {
   "cell_type": "code",
   "execution_count": 5,
   "source": [
    "# your code here\r\n",
    "## first 5 fruits are apples\r\n",
    "five_apples = p**5\r\n",
    "print('probability that the first 5 fruits are all apples is %.3f' %five_apples)  ##round to 3 decimal \r\n",
    "\r\n",
    "## first 5 fruits are apples and next 15 are oranges\r\n",
    "five_apples_fifteen_oranges = p**5 * q**15\r\n",
    "print('probability that the first 5 fruits are all apples and the next 15 fruits are all oranges is %.3f' %five_apples_fifteen_oranges) ##round to 3 decimal "
   ],
   "outputs": [
    {
     "output_type": "stream",
     "name": "stdout",
     "text": [
      "probability that the first 5 fruits are all apples is 0.078\n",
      "probability that the first 5 fruits are all apples and the next 15 fruits are all oranges is 0.000\n"
     ]
    }
   ],
   "metadata": {}
  },
  {
   "cell_type": "markdown",
   "source": [
    "## Binomial Distribution\n",
    "\n",
    "Similar to the above problem, this time again we randomly sample 20 fruits.\n",
    "\n",
    "**What is the probability that this time the sample contains 5 apples and 15 oranges?**\n",
    "\n",
    "Please note that this time the order of the fruits being picked does not matter."
   ],
   "metadata": {}
  },
  {
   "cell_type": "code",
   "execution_count": 19,
   "source": [
    "# your code here\r\n",
    "n = 20\r\n",
    "## p already calculated above (0.6)\r\n",
    "\r\n",
    "binomial_dist = binom(n,p)\r\n",
    "print('probability that from the 20 fruits only 5 being apples is %.3f' %binomial_dist.pmf(5))  ##round to 3 decimal "
   ],
   "outputs": [
    {
     "output_type": "stream",
     "name": "stdout",
     "text": [
      "probability that from the 20 fruits only 5 being apples is 0.001\n"
     ]
    }
   ],
   "metadata": {}
  },
  {
   "cell_type": "markdown",
   "source": [
    "In the lesson we also discussed CDF (cumulative distribution function). In the context of the above problem, **what is the probability that less than 5 fruits picked are apples?**\n",
    "\n",
    "Write the formula and calculate the probability below."
   ],
   "metadata": {}
  },
  {
   "cell_type": "code",
   "execution_count": 20,
   "source": [
    "# your code here\r\n",
    "print('probability that from the 20 fruits 4 or less being apples is %.3f' %binomial_dist.cdf(4))  ##round to 3 decimal "
   ],
   "outputs": [
    {
     "output_type": "stream",
     "name": "stdout",
     "text": [
      "probability that from the 20 fruits 4 or less being apples is 0.000\n"
     ]
    }
   ],
   "metadata": {}
  },
  {
   "cell_type": "markdown",
   "source": [
    "**Plot the PDF (probability distributiom function) for the above binomial distribution.**\n",
    "\n",
    "*Hint: The range of x in a binomial distribution is from `0` to `n`.*"
   ],
   "metadata": {}
  },
  {
   "cell_type": "code",
   "execution_count": 15,
   "source": [
    "# your code here\r\n",
    "# Please label the axes and give a title to the plot\r\n",
    "X = np.arange(0,21)\r\n",
    "plt.plot(X, binomial_dist.pmf(X), 'o')   ## plotting\r\n",
    "plt.title('Probability distribution')    ## give a title\r\n",
    "plt.xlabel('Number of apples')           ## give a label to x axis\r\n",
    "plt.ylabel('Probability')                ## give a label to y axis\r\n",
    "plt.show()"
   ],
   "outputs": [
    {
     "output_type": "display_data",
     "data": {
      "image/png": "[encoded data removed]",
      "text/plain": [
       "<Figure size 432x288 with 1 Axes>"
      ]
     },
     "metadata": {
      "needs_background": "light"
     }
    }
   ],
   "metadata": {}
  },
  {
   "cell_type": "markdown",
   "source": [
    "## Poisson Distribution\n",
    "\n",
    "In this challenge you are required to use the Math library in python to solve the problems.\n",
    "\n",
    "In the UEFA champions league tournament, the average number of goals scored in a match is 2.3. \n",
    "\n",
    "**What is the probability that the number of goals scored in a match is 5?**\n",
    "\n",
    "*Hint: Use the exp() in the math library*\n",
    "\n",
    "And to calculate the factorial, you can use the following code:\n",
    "\n",
    "```python\n",
    "import math\n",
    "math.factorial(n) # n is the number you want to find the factorial of\n",
    "```"
   ],
   "metadata": {}
  },
  {
   "cell_type": "code",
   "execution_count": 21,
   "source": [
    "# your code here\r\n",
    "import math\r\n",
    "\r\n",
    "## lets use poisson formula\r\n",
    "avg_goal = 2.3           ## average goal per match\r\n",
    "\r\n",
    "prob_five_goals = ((math.exp(-avg_goal)) * (avg_goal**5)) / (math.factorial(5))  ## probability of 5 goals\r\n",
    "\r\n",
    "print('probability that the number of goals scored in a match is 5 is %.3f' %prob_five_goals)  ##round to 3 decimal "
   ],
   "outputs": [
    {
     "output_type": "stream",
     "name": "stdout",
     "text": [
      "probability that the number of goals scored in a match is 5 is 0.054\n"
     ]
    }
   ],
   "metadata": {}
  },
  {
   "cell_type": "markdown",
   "source": [
    "**Draw a poisson probability distribution plot for the number of goals to be between 0 to 10.**"
   ],
   "metadata": {}
  },
  {
   "cell_type": "code",
   "execution_count": 16,
   "source": [
    "# your code here\r\n",
    "# Please label the axes and give a title to the plot \r\n",
    "\r\n",
    "mu = 2.3 ## expectation is having 2.3 goals per match\r\n",
    "poisson_dist = poisson(mu)   ## create our poisson distribution\r\n",
    "\r\n",
    "x = np.arange(0,11)\r\n",
    "plt.plot(x,poisson_dist.pmf(x),'o')          ## plot it\r\n",
    "plt.title('Probability distribution')        ## give a title\r\n",
    "plt.xlabel('Number of goals')                ## give a label to x axis\r\n",
    "plt.ylabel('Probability')                    ## give a label to y axis\r\n",
    "plt.show()"
   ],
   "outputs": [
    {
     "output_type": "display_data",
     "data": {
      "image/png": "[encoded data removed]",
      "text/plain": [
       "<Figure size 432x288 with 1 Axes>"
      ]
     },
     "metadata": {
      "needs_background": "light"
     }
    }
   ],
   "metadata": {}
  }
 ],
 "metadata": {
  "kernelspec": {
   "name": "python3",
   "display_name": "Python 3.8.8 64-bit ('Ironhack': conda)"
  },
  "language_info": {
   "codemirror_mode": {
    "name": "ipython",
    "version": 3
   },
   "file_extension": ".py",
   "mimetype": "text/x-python",
   "name": "python",
   "nbconvert_exporter": "python",
   "pygments_lexer": "ipython3",
   "version": "3.8.8"
  },
  "interpreter": {
   "hash": "f01b1a26c0677924dfb9bb3c0adc99f4a4ad3f1a3781fcda47cbcaac5b4f6244"
  }
 },
 "nbformat": 4,
 "nbformat_minor": 2
}