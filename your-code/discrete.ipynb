{
 "cells": [
  {
   "cell_type": "markdown",
   "metadata": {},
   "source": [
    "# Before your start:\n",
    "\n",
    "    Read the README.md file\n",
    "    Comment as much as you can and use the resources (README.md file)\n",
    "    Happy learning!\n",
    "\n",
    "*Notes:* \n",
    "\n",
    "- Solve the questions with python.\n",
    "\n",
    "- Round the final answer to three decimal places."
   ]
  },
  {
   "cell_type": "markdown",
   "metadata": {},
   "source": [
    "## Bernoulli's Distribution\n",
    "\n",
    "In a basket containing 100 fruits, there are 60 apples and 40 oranges. \n",
    "\n",
    "A fruit is picked randomly from the basket. \n",
    "\n",
    "1. **What is the probability that the fruit is apple?**\n",
    "1. **What is the probability that it is an orange?**"
   ]
  },
  {
   "cell_type": "code",
   "execution_count": 84,
   "metadata": {},
   "outputs": [],
   "source": [
    "import matplotlib.pyplot as plt\n",
    "\n",
    "%matplotlib inline\n",
    "from scipy import stats\n",
    "from scipy.stats import binom\n",
    "\n",
    "import numpy as np\n",
    "\n",
    "from scipy.stats import poisson\n",
    "\n",
    "\"\"\"\n",
    "Calculate:\n",
    "p = probability that the fruit is an apple \n",
    "\n",
    "q = probability that the fruit is an orange\n",
    "\n",
    "p= 0.6 #(? only this?)\n",
    "\n",
    "q= 0.4 #(? only this? )\n",
    "\n",
    "\"\"\"\n",
    "\n",
    "# your code here\n",
    "\n",
    "p= 0.6 #(? only this?)\n",
    "\n",
    "q= 0.4 #(? only this? )\n",
    "\n"
   ]
  },
  {
   "cell_type": "markdown",
   "metadata": {},
   "source": [
    "Now we take a random sample of 20 fruits from the basket. After each fruit is taken, a new fruit of the same type is replaced in the basket. Therefore, every time we are taking 1 fruit from 100 fruits. \n",
    "\n",
    "1. **What is the probability that the first 5 fruits are all apples?**\n",
    "\n",
    "1. **What is the probability that the first 5 fruits are all apples and the next 15 fruits are all oranges?**\n",
    "\n",
    "You can include the `p` and `q` probabilities you previous calculated in your solution."
   ]
  },
  {
   "cell_type": "code",
   "execution_count": 71,
   "metadata": {},
   "outputs": [
    {
     "name": "stdout",
     "output_type": "stream",
     "text": [
      "12.0\n",
      "8.0\n",
      "0.07776\n",
      "0.07775999999999998\n",
      "8.349416423424006e-08\n"
     ]
    }
   ],
   "source": [
    "# your code here\n",
    "\n",
    "basket= ((20)*p) + ((20 *q))\n",
    "basket\n",
    "\n",
    "oranges= ((20)*p)\n",
    "print(oranges)\n",
    "\n",
    "apples= ((20)*q)\n",
    "print(apples)\n",
    "\n",
    "#1\n",
    "prob_apple = (12/20) * (12/20) * (12/20) * (12/20) * (12/20)\n",
    "print(prob_apple)\n",
    "\n",
    "#other way?\n",
    "prob_apple = (12/20) **5\n",
    "print(prob_apple)\n",
    "\n",
    "#2\n",
    "prob_orange = ((12/20) **5) * ((8/20) **15) \n",
    "print(prob_orange)"
   ]
  },
  {
   "cell_type": "markdown",
   "metadata": {},
   "source": [
    "## Binomial Distribution\n",
    "\n",
    "Similar to the above problem, this time again we randomly sample 20 fruits.\n",
    "\n",
    "**What is the probability that this time the sample contains 5 apples and 15 oranges?**\n",
    "\n",
    "Please note that this time the order of the fruits being picked does not matter."
   ]
  },
  {
   "cell_type": "code",
   "execution_count": 72,
   "metadata": {},
   "outputs": [
    {
     "name": "stdout",
     "output_type": "stream",
     "text": [
      "1.6757134792446896e-06\n"
     ]
    }
   ],
   "source": [
    "# your code here\n",
    "\n",
    "#Filipe way of think:\n",
    "#prob_orange = ((12/20) **5) + ((8/20) **15) \n",
    "#print(prob_orange)\n",
    "\n",
    "#my way:\n",
    "#apple:\n",
    "n=20\n",
    "p=0.6\n",
    "#binomial_a = binom(n,p)\n",
    "#print(binomial_a)\n",
    "apple= binom.pmf(5, 20, 0.6)\n",
    "\n",
    "\n",
    "#orange:\n",
    "n=20\n",
    "q=0.4\n",
    "#binomial_o = binom(n,q)\n",
    "#print(binomial_o)\n",
    "orange= binom.pmf(15, 20, 0.4)\n",
    "\n",
    "#prob apple and orange:\n",
    "\n",
    "prob= apple*orange\n",
    "print(prob)\n",
    "\n",
    "\n",
    "#tryed both together and get an error, i didnt´t know why:\n",
    "#prob = binom(5,0.6) * binom(15,0.4) # error: unsupported operand type(s) for *: 'rv_frozen' and 'rv_frozen'\n",
    "#print(prob)\n",
    "\n",
    "\n"
   ]
  },
  {
   "cell_type": "markdown",
   "metadata": {},
   "source": [
    "In the lesson we also discussed CDF (cumulative distribution function). In the context of the above problem, **what is the probability that less than 5 fruits picked are apples?**\n",
    "\n",
    "Write the formula and calculate the probability below."
   ]
  },
  {
   "cell_type": "code",
   "execution_count": 73,
   "metadata": {},
   "outputs": [
    {
     "data": {
      "text/plain": [
       "0.0016115136483400025"
      ]
     },
     "execution_count": 73,
     "metadata": {},
     "output_type": "execute_result"
    }
   ],
   "source": [
    "# your code here\n",
    "\n",
    "import scipy.stats as ss\n",
    "\n",
    "n = 20      # Number of trials\n",
    "p = 0.6   # Probability of getting an apple\n",
    "\n",
    "max = 5  # Number max of apples\n",
    "hh = ss.binom(n, p) #google fórmula, looking for documentation to understand better.\n",
    "\n",
    "proba = 0\n",
    "\n",
    "for k in range(1, max + 1):\n",
    "    proba += hh.pmf(k)\n",
    "\n",
    "proba"
   ]
  },
  {
   "cell_type": "markdown",
   "metadata": {},
   "source": [
    "**Plot the PDF (probability distributiom function) for the above binomial distribution.**\n",
    "\n",
    "*Hint: The range of x in a binomial distribution is from `0` to `n`.*"
   ]
  },
  {
   "cell_type": "code",
   "execution_count": 83,
   "metadata": {},
   "outputs": [
    {
     "data": {
      "text/plain": [
       "<matplotlib.collections.LineCollection at 0x2197edad550>"
      ]
     },
     "execution_count": 83,
     "metadata": {},
     "output_type": "execute_result"
    },
    {
     "data": {
      "image/png": "[encoded data removed]",
      "text/plain": [
       "<Figure size 432x288 with 1 Axes>"
      ]
     },
     "metadata": {
      "needs_background": "light"
     },
     "output_type": "display_data"
    }
   ],
   "source": [
    "# your code here\n",
    "# Please label the axes and give a title to the plot\n",
    "\n",
    "\n",
    "#n=20\n",
    "#p=0.001611 #is to use this one, the result from above?\n",
    "#binomial = binom(n,p)\n",
    "\n",
    "n=20\n",
    "p=0.6\n",
    "binomial = binom(n,p)\n",
    "\n",
    "x = np.arange(0,20)\n",
    "fig, ax = plt.subplots(1, 1)\n",
    "ax.plot(x, binom.cdf(x, n, p), 'bo')\n",
    "ax.vlines(x, 0, binom.cdf(x, n, p), colors='b', lw=5, alpha=0.5) # you can change here the pmf for the cdf\n",
    "\n",
    "\n",
    "#Class example:\n",
    "#n=10\n",
    "#p=0.5\n",
    "#binomial = binom(n,p)\n",
    "#print(binomial.pmf(3)) # a probabilidade de ter 3 sucessos\n",
    "#print(binomial.cdf(3))\n",
    "#print(binomial.mean())\n",
    "#print(binomial.var())\n",
    "#print(binomial.std())\n",
    "#print(binomial.rvs(15))\n",
    "#x = np.arange(0,11)\n",
    "#fig, ax = plt.subplots(1, 1)\n",
    "#ax.plot(x, binom.pmf(x, n, p), 'bo')\n",
    "#ax.vlines(x, 0, binom.pmf(x, n, p), colors='b', lw=5, alpha=0.5) # you can change here the pmf for the cdf \n",
    "\n",
    "#trocar o pfd para cdf\n"
   ]
  },
  {
   "cell_type": "markdown",
   "metadata": {},
   "source": [
    "## Poisson Distribution\n",
    "\n",
    "In this challenge you are required to use the Math library in python to solve the problems.\n",
    "\n",
    "In the UEFA champions league tournament, the average number of goals scored in a match is 2.3. \n",
    "\n",
    "**What is the probability that the number of goals scored in a match is 5?**\n",
    "\n",
    "*Hint: Use the exp() in the math library*\n",
    "\n",
    "And to calculate the factorial, you can use the following code:\n",
    "\n",
    "```python\n",
    "import math\n",
    "math.factorial(n) # n is the number you want to find the factorial of\n",
    "```"
   ]
  },
  {
   "cell_type": "code",
   "execution_count": 91,
   "metadata": {},
   "outputs": [
    {
     "data": {
      "text/plain": [
       "0.053775025581946814"
      ]
     },
     "execution_count": 91,
     "metadata": {},
     "output_type": "execute_result"
    }
   ],
   "source": [
    "# your code here\n",
    "\n",
    "mu = 2.3 #média da função (median of goals in match)\n",
    "\n",
    "prob_part= poisson.pmf(5, mu)\n",
    "prob_part\n",
    "\n",
    "\n",
    "\n",
    "\n",
    "#class example:\n",
    "#mu = 1\n",
    "#mean, var, skew, kurt = poisson.stats(mu, moments='mvsk')\n",
    "\n",
    "#x = np.arange(poisson.ppf(0.00001, mu), poisson.ppf(0.9999, mu))\n",
    "#plt.plot(x, poisson.pmf(x, mu), 'bo', ms=8, label='poisson pmf')\n",
    "#plt.show()\n",
    "\n",
    "\n"
   ]
  },
  {
   "cell_type": "markdown",
   "metadata": {},
   "source": [
    "**Draw a poisson probability distribution plot for the number of goals to be between 0 to 10.**"
   ]
  },
  {
   "cell_type": "code",
   "execution_count": 92,
   "metadata": {},
   "outputs": [
    {
     "data": {
      "image/png": "[encoded data removed]",
      "text/plain": [
       "<Figure size 432x288 with 1 Axes>"
      ]
     },
     "metadata": {
      "needs_background": "light"
     },
     "output_type": "display_data"
    }
   ],
   "source": [
    "# your code here\n",
    "# Please label the axes and give a title to the plot \n",
    "\n",
    "mean, var, skew, kurt = poisson.stats(mu, moments='mvsk')\n",
    "x = np.arange(poisson.ppf(0, mu), poisson.ppf(0.9999, mu))\n",
    "plt.plot(x, poisson.pmf(x, mu), 'bo', ms=8, label='poisson pmf')\n",
    "plt.show()\n",
    "\n",
    "#class example:\n",
    "#mu = 1\n",
    "#mean, var, skew, kurt = poisson.stats(mu, moments='mvsk')\n",
    "\n",
    "#x = np.arange(poisson.ppf(0.00001, mu), poisson.ppf(0.9999, mu))\n",
    "#plt.plot(x, poisson.pmf(x, mu), 'bo', ms=8, label='poisson pmf')\n",
    "#plt.show()\n"
   ]
  },
  {
   "cell_type": "code",
   "execution_count": null,
   "metadata": {},
   "outputs": [],
   "source": [
    "\n",
    "\n",
    "\n",
    "#studyng time:\n",
    "#The binomial distribution formula is:\n",
    "#b(x; n, P) = nCx * Px * (1 – P)n – x\n",
    "#Where:\n",
    "#b = binomial probability\n",
    "#x = total number of “successes” (pass or fail, heads or tails etc.)\n",
    "#P = probability of a success on an individual trial\n",
    "#n = number of trials\n",
    "\n",
    "#Note: The binomial distribution formula can also be written in a slightly different way, \n",
    "#because nCx = n!/x!(n-x)! (this binomial distribution formula uses factorials (What is a factorial?). \n",
    "#“q” in this formula is just the probability of failure (subtract your probability of success from 1).binomialprobabilityformula\n"
   ]
  }
 ],
 "metadata": {
  "kernelspec": {
   "display_name": "Python 3",
   "language": "python",
   "name": "python3"
  },
  "language_info": {
   "codemirror_mode": {
    "name": "ipython",
    "version": 3
   },
   "file_extension": ".py",
   "mimetype": "text/x-python",
   "name": "python",
   "nbconvert_exporter": "python",
   "pygments_lexer": "ipython3",
   "version": "3.6.10"
  }
 },
 "nbformat": 4,
 "nbformat_minor": 2
}
