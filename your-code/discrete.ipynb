{
 "cells": [
  {
   "cell_type": "markdown",
   "metadata": {},
   "source": [
    "# Before your start:\n",
    "\n",
    "    Read the README.md file\n",
    "    Comment as much as you can and use the resources (README.md file)\n",
    "    Happy learning!\n",
    "\n",
    "*Notes:* \n",
    "\n",
    "- Solve the questions with python.\n",
    "\n",
    "- Round the final answer to three decimal places."
   ]
  },
  {
   "cell_type": "markdown",
   "metadata": {},
   "source": [
    "## Bernoulli's Distribution\n",
    "\n",
    "In a basket containing 100 fruits, there are 60 apples and 40 oranges. \n",
    "\n",
    "A fruit is picked randomly from the basket. \n",
    "\n",
    "1. **What is the probability that the fruit is apple?**\n",
    "1. **What is the probability that it is an orange?**"
   ]
  },
  {
   "cell_type": "code",
   "execution_count": 65,
   "metadata": {},
   "outputs": [
    {
     "name": "stdout",
     "output_type": "stream",
     "text": [
      "The probability that the fruit is an apple is: 0.6\n",
      "The probability that the fruit is an apple is: 0.4\n"
     ]
    }
   ],
   "source": [
    "\"\"\"\n",
    "Calculate:\n",
    "p = probability that the fruit is an apple \n",
    "q = probability that the fruit is an orange\n",
    "\"\"\"\n",
    "\n",
    "# your code here\n",
    "import numpy as np\n",
    "import pandas as pd\n",
    "import matplotlib.pyplot as plt\n",
    "\n",
    "from scipy.stats import bernoulli, binom, geom, poisson, uniform, expon, norm\n",
    "import random\n",
    "\n",
    "p = 0.6\n",
    "bernoulli_dist = bernoulli(p)\n",
    "print(f\"The probability that the fruit is an apple is: {bernoulli_dist.pmf(1)}\")\n",
    "\n",
    "q = 0.4\n",
    "bernoulli_dist = bernoulli(q)\n",
    "print(f\"The probability that the fruit is an apple is: {bernoulli_dist.pmf(1)}\")"
   ]
  },
  {
   "cell_type": "markdown",
   "metadata": {},
   "source": [
    "Now we take a random sample of 20 fruits from the basket. After each fruit is taken, a new fruit of the same type is replaced in the basket. Therefore, every time we are taking 1 fruit from 100 fruits. \n",
    "\n",
    "1. **What is the probability that the first 5 fruits are all apples?**\n",
    "\n",
    "1. **What is the probability that the first 5 fruits are all apples and the next 15 fruits are all oranges?**\n",
    "\n",
    "You can include the `p` and `q` probabilities you previous calculated in your solution."
   ]
  },
  {
   "cell_type": "code",
   "execution_count": 94,
   "metadata": {},
   "outputs": [
    {
     "name": "stdout",
     "output_type": "stream",
     "text": [
      "0.07775999999999998\n",
      "9.181209418945295e-10\n"
     ]
    }
   ],
   "source": [
    "# your code here\n",
    "# 1\n",
    "n = 20\n",
    "p = 0.6\n",
    "q = 0.4\n",
    "count_apples = p**5\n",
    "print(count_apples)\n",
    "\n",
    "# 2\n",
    "n = 20\n",
    "p = 0.6\n",
    "q = 0.4\n",
    "apples_oranges = (count_apples) * (q**(n - count_apples))\n",
    "print(apples_oranges)"
   ]
  },
  {
   "cell_type": "markdown",
   "metadata": {},
   "source": [
    "## Binomial Distribution\n",
    "\n",
    "Similar to the above problem, this time again we randomly sample 20 fruits.\n",
    "\n",
    "**What is the probability that this time the sample contains 5 apples and 15 oranges?**\n",
    "\n",
    "Please note that this time the order of the fruits being picked does not matter."
   ]
  },
  {
   "cell_type": "code",
   "execution_count": 120,
   "metadata": {},
   "outputs": [
    {
     "name": "stdout",
     "output_type": "stream",
     "text": [
      "Probability of the sample containing 5 apples and 15 oranges: 0.0012944935222876579\n"
     ]
    }
   ],
   "source": [
    "# your code here\n",
    "#n = 20\n",
    "#p = 0.6\n",
    "#q = 0.4\n",
    "#binomial_dist = binom(n,p)\n",
    "#binomial_dist.pmf(20)\n",
    "from math import comb\n",
    "\n",
    "p = 0.6\n",
    "q = 0.4\n",
    "n = 20\n",
    "sample = 5\n",
    "binomial_coefficient = comb(n, sample)\n",
    "\n",
    "# Probability of getting exactly 5 apples in a sample of 20 fruits\n",
    "apples = binomial_coefficient * (p**sample) * (q**(n - sample))\n",
    "\n",
    "print(f\"Probability of the sample containing 5 apples and 15 oranges: {apples}\")\n"
   ]
  },
  {
   "cell_type": "markdown",
   "metadata": {},
   "source": [
    "In the lesson we also discussed CDF (cumulative distribution function). In the context of the above problem, **what is the probability that less than 5 fruits picked are apples?**\n",
    "\n",
    "Write the formula and calculate the probability below."
   ]
  },
  {
   "cell_type": "code",
   "execution_count": 119,
   "metadata": {},
   "outputs": [
    {
     "name": "stdout",
     "output_type": "stream",
     "text": [
      "Probability that less than 5 fruits picked are apples: 0.00031703112116863\n"
     ]
    }
   ],
   "source": [
    "p = 0.6\n",
    "q = 0.4\n",
    "n = 20\n",
    "sample = 4\n",
    "less_than_five = sum(comb(n, i) * (p**i) * (q**(n - i)) for i in range(sample + 1))\n",
    "\n",
    "print(f\"Probability that less than 5 fruits picked are apples: {less_than_five}\")\n"
   ]
  },
  {
   "cell_type": "markdown",
   "metadata": {},
   "source": [
    "**Plot the PDF (probability distributiom function) for the above binomial distribution.**\n",
    "\n",
    "*Hint: The range of x in a binomial distribution is from `0` to `n`.*"
   ]
  },
  {
   "cell_type": "code",
   "execution_count": 126,
   "metadata": {},
   "outputs": [
    {
     "data": {
      "image/png": "[encoded data removed]",
      "text/plain": [
       "<Figure size 640x480 with 1 Axes>"
      ]
     },
     "metadata": {},
     "output_type": "display_data"
    }
   ],
   "source": [
    "# your code here\n",
    "# Please label the axes and give a title to the plot\n",
    "\n",
    "p = 0.6\n",
    "q = 0.4\n",
    "n = 20\n",
    "x = list(range(n+1))\n",
    "prob = [comb(n,x) * (p**x) * (q**(n - x)) for x in x]\n",
    "\n",
    "# Plot the probability distribution function\n",
    "plt.bar(x, prob)\n",
    "plt.xlabel(\"Number of Apples\")\n",
    "plt.ylabel(\"Probability\")\n",
    "plt.title(\"Number of Apples in a Sample of 20 Fruits\")\n",
    "plt.show()\n"
   ]
  },
  {
   "cell_type": "markdown",
   "metadata": {},
   "source": [
    "## Poisson Distribution\n",
    "\n",
    "In this challenge you are required to use the Math library in python to solve the problems.\n",
    "\n",
    "In the UEFA champions league tournament, the average number of goals scored in a match is 2.3. \n",
    "\n",
    "**What is the probability that the number of goals scored in a match is 5?**\n",
    "\n",
    "*Hint: Use the exp() in the math library*\n",
    "\n",
    "And to calculate the factorial, you can use the following code:\n",
    "\n",
    "```python\n",
    "import math\n",
    "math.factorial(n) # n is the number you want to find the factorial of\n",
    "```"
   ]
  },
  {
   "cell_type": "code",
   "execution_count": 128,
   "metadata": {},
   "outputs": [
    {
     "name": "stdout",
     "output_type": "stream",
     "text": [
      "The probability of scoring exactly 5 goals in a match is: 0.0537750255819468\n"
     ]
    }
   ],
   "source": [
    "# your code here\n",
    "import math\n",
    "\n",
    "mu = 2.3\n",
    "g = 5\n",
    "prob_g = (math.exp(-mu) * (mu**g)) / math.factorial(g)\n",
    "\n",
    "print(f\"The probability of scoring exactly 5 goals in a match is: {prob_g}\")\n"
   ]
  },
  {
   "cell_type": "markdown",
   "metadata": {},
   "source": [
    "**Draw a poisson probability distribution plot for the number of goals to be between 0 to 10.**"
   ]
  },
  {
   "cell_type": "code",
   "execution_count": 136,
   "metadata": {},
   "outputs": [
    {
     "data": {
      "image/png": "[encoded data removed]",
      "text/plain": [
       "<Figure size 640x480 with 1 Axes>"
      ]
     },
     "metadata": {},
     "output_type": "display_data"
    }
   ],
   "source": [
    "# your code here\n",
    "# Please label the axes and give a title to the plot \n",
    "\n",
    "mu = 2.3\n",
    "x = list(range(11))\n",
    "prob = [(math.exp(-mu) * (mu**x) / math.factorial(x)) for x in x]\n",
    "\n",
    "plt.bar(x, prob)\n",
    "plt.xlabel(\"Number of Goals\")\n",
    "plt.ylabel(\"Probability\")\n",
    "plt.title(\"Probability of Number of Goals in a Match\")\n",
    "plt.xticks(x)\n",
    "plt.show()\n"
   ]
  }
 ],
 "metadata": {
  "kernelspec": {
   "display_name": "Python 3",
   "language": "python",
   "name": "python3"
  },
  "language_info": {
   "codemirror_mode": {
    "name": "ipython",
    "version": 3
   },
   "file_extension": ".py",
   "mimetype": "text/x-python",
   "name": "python",
   "nbconvert_exporter": "python",
   "pygments_lexer": "ipython3",
   "version": "3.11.0"
  }
 },
 "nbformat": 4,
 "nbformat_minor": 2
}
