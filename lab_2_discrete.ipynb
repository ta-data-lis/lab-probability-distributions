{
  "cells": [
    {
      "cell_type": "markdown",
      "metadata": {
        "id": "1Zmnm6U6D-xp"
      },
      "source": [
        "# Before your start:\n",
        "\n",
        "    Read the README.md file\n",
        "    Comment as much as you can and use the resources (README.md file)\n",
        "    Happy learning!\n",
        "\n",
        "*Notes:*\n",
        "\n",
        "- Solve the questions with python.\n",
        "\n",
        "- Round the final answer to three decimal places."
      ]
    },
    {
      "cell_type": "markdown",
      "metadata": {
        "id": "3tXFgHBED-xs"
      },
      "source": [
        "## Bernoulli's Distribution\n",
        "\n",
        "In a basket containing 100 fruits, there are 60 apples and 40 oranges.\n",
        "\n",
        "A fruit is picked randomly from the basket.\n",
        "\n",
        "1. **What is the probability that the fruit is apple?**\n",
        "1. **What is the probability that it is an orange?**"
      ]
    },
    {
      "cell_type": "code",
      "source": [
        "import pandas as pd\n",
        "import numpy as np\n",
        "import matplotlib.pyplot as plt\n",
        "import math\n",
        "\n",
        "from scipy.stats import bernoulli, binom, geom, poisson, uniform, expon, norm\n",
        "import random"
      ],
      "metadata": {
        "id": "eHRVp10kFMyQ"
      },
      "execution_count": 1,
      "outputs": []
    },
    {
      "cell_type": "code",
      "execution_count": null,
      "metadata": {
        "id": "6Yni2UM7D-xt"
      },
      "outputs": [],
      "source": [
        "# 1.\n",
        "p = 60/100\n",
        "print(\"Probability that the fruit is an apple is\", p )\n",
        "\n",
        "# Or.\n",
        "p = 0.6\n",
        "bernoulli_dist = bernoulli(p)\n",
        "print(bernoulli_dist.pmf(1)) # winning -> getting apple\n",
        "\n",
        "# 2.\n",
        "q = 40/100\n",
        "print(\"Probability that the fruit is an orange is\", q )\n",
        "\n",
        "# Or.\n",
        "p = 40/100\n",
        "bernoulli_dist = bernoulli(p)\n",
        "print(bernoulli_dist.pmf(1)) # winning -> getting orange"
      ]
    },
    {
      "cell_type": "markdown",
      "metadata": {
        "id": "HEOQVZVBD-xu"
      },
      "source": [
        "Now we take a random sample of 20 fruits from the basket. After each fruit is taken, a new fruit of the same type is replaced in the basket. Therefore, every time we are taking 1 fruit from 100 fruits.\n",
        "\n",
        "1. **What is the probability that the first 5 fruits are all apples?**\n",
        "\n",
        "1. **What is the probability that the first 5 fruits are all apples and the next 15 fruits are all oranges?**\n",
        "\n",
        "You can include the `p` and `q` probabilities you previous calculated in your solution."
      ]
    },
    {
      "cell_type": "code",
      "source": [
        "# 1. Clarify if sample is 20 ou 100\n",
        "# So if the fruit is replaced (with the same kind) we will have to power the same probability times 5!\n",
        "\n",
        "p = 60/100\n",
        "p_five_apples = p**5\n",
        "rounded_p_five_apples = round(p**5, 3)*100\n",
        "print(\"Probability that the first 5 fruits are all apples\", (p_five_apples))\n",
        "print(\"Probability that the first 5 fruits are all apples\", rounded_p_five_apples,\"%\")\n"
      ],
      "metadata": {
        "colab": {
          "base_uri": "https://localhost:8080/"
        },
        "id": "OkcAO8TtF9Xu",
        "outputId": "10dc4f3d-6a5c-4bea-f78d-db9d2a138304"
      },
      "execution_count": 4,
      "outputs": [
        {
          "output_type": "stream",
          "name": "stdout",
          "text": [
            "Probability that the first 5 fruits are all apples 0.07775999999999998\n",
            "Probability that the first 5 fruits are all apples 7.8 %\n"
          ]
        }
      ]
    },
    {
      "cell_type": "code",
      "source": [
        "# 2.\n",
        "# Still the concept that the fruit is replaced!\n",
        "\n",
        "q = 40/100\n",
        "q_fifteen_oranges = q**15\n",
        "rounded_q_fifteen_oranges = round(q**15,3) * 100\n",
        "\n",
        "twenty_fruits = (p**5) * (q**15)\n",
        "rounded_twenty_fruits = round((p**5) * (q**15), 8)*100\n",
        "print(\"Probability that the first 5 fruits are all apples and the next 15 fruits are all oranges\",twenty_fruits)\n",
        "print(\"Probability that the first 5 fruits are all apples and the next 15 fruits are all oranges\",rounded_twenty_fruits,\"%\")\n",
        "# very unhappy with this very small value. But i think logic was fine :/"
      ],
      "metadata": {
        "id": "smmnO19IJlbR",
        "colab": {
          "base_uri": "https://localhost:8080/"
        },
        "outputId": "a7c5a51b-2ff8-4949-8d7a-673a12a5a625"
      },
      "execution_count": 3,
      "outputs": [
        {
          "output_type": "stream",
          "name": "stdout",
          "text": [
            "Probability that the first 5 fruits are all apples and the next 15 fruits are all oranges 1.0995116277760013e-08\n",
            "Probability that the first 5 fruits are all apples and the next 15 fruits are all oranges 1e-06 %\n"
          ]
        }
      ]
    },
    {
      "cell_type": "markdown",
      "metadata": {
        "id": "SVUHVFm2D-xv"
      },
      "source": [
        "## Binomial Distribution\n",
        "\n",
        "Similar to the above problem, this time again we randomly sample 20 fruits.\n",
        "\n",
        "**What is the probability that this time the sample contains 5 apples and 15 oranges?**\n",
        "\n",
        "Please note that this time the order of the fruits being picked does not matter."
      ]
    },
    {
      "cell_type": "code",
      "execution_count": 14,
      "metadata": {
        "colab": {
          "base_uri": "https://localhost:8080/"
        },
        "id": "k9kqWFjPD-xv",
        "outputId": "48b19cbb-82a2-4c1d-b1b1-1aed60723b62"
      },
      "outputs": [
        {
          "output_type": "stream",
          "name": "stdout",
          "text": [
            "the probability of 5 apples and 15 oranges is 0.1611524643456288 %\n"
          ]
        }
      ],
      "source": [
        "# So this is valid for the scenario of 5 apples and 15 oranges, because if this is for exactly 5 apples, the rest are oranges!!! :)\n",
        "p = 60/100\n",
        "n = 20\n",
        "\n",
        "binomial_dist = binom(n,p)\n",
        "p_5_apples = (binomial_dist.cdf(5))*100\n",
        "print(\"the probability of 5 apples and 15 oranges is\",p_5_apples,\"%\")"
      ]
    },
    {
      "cell_type": "code",
      "source": [
        "binomial_dist = binom(n,p)\n",
        "p_5_apples = (1 - binomial_dist.cdf(5))*100\n",
        "print(\"probability of this case scenario does not happen\",p_5_apples,\"%\")"
      ],
      "metadata": {
        "colab": {
          "base_uri": "https://localhost:8080/"
        },
        "id": "yOIK_NfwQA5u",
        "outputId": "5deb4f66-fade-44bf-c139-4ced63ad9997"
      },
      "execution_count": 16,
      "outputs": [
        {
          "output_type": "stream",
          "name": "stdout",
          "text": [
            "probability of this case scenario does not happen 99.83884753565437 %\n"
          ]
        }
      ]
    },
    {
      "cell_type": "markdown",
      "metadata": {
        "id": "cxz9SblZD-xw"
      },
      "source": [
        "In the lesson we also discussed CDF (cumulative distribution function). In the context of the above problem, **what is the probability that less than 5 fruits picked are apples?**\n",
        "\n",
        "Write the formula and calculate the probability below."
      ]
    },
    {
      "cell_type": "code",
      "execution_count": 20,
      "metadata": {
        "colab": {
          "base_uri": "https://localhost:8080/"
        },
        "id": "ySClOJh7D-xw",
        "outputId": "01a62477-43d1-4e90-926c-66cde728854f"
      },
      "outputs": [
        {
          "output_type": "stream",
          "name": "stdout",
          "text": [
            "The probability that less than 5 fruits picked are apples 0.00031703112116863004\n",
            "The probability that less than 5 fruits picked are apples 0.0 %\n"
          ]
        }
      ],
      "source": [
        "p = 60/100\n",
        "n = 20\n",
        "\n",
        "binomial_dist = binom(n,p)\n",
        "less_than_5_apples = binomial_dist.cdf(4) # <- Not sure about this, but if I would put five would be the cumulative until 5 apples, and I want less.\n",
        "                                          # like this? binomial_dist.pmf(0) + binomial_dist.pmf(1) + binomial_dist.pmf(2) + binomial_dist.pmf(3) + binomial_dist.pmf(4)\n",
        "\n",
        "rounded_less_than_5_apples = round(less_than_5_apples, 3)*100\n",
        "print(\"The probability that less than 5 fruits picked are apples\", less_than_5_apples)\n",
        "print(\"The probability that less than 5 fruits picked are apples\", rounded_less_than_5_apples,\"%\")"
      ]
    },
    {
      "cell_type": "markdown",
      "metadata": {
        "id": "jDFsBxRdD-xx"
      },
      "source": [
        "**Plot the PDF (probability distributiom function) for the above binomial distribution.**\n",
        "\n",
        "*Hint: The range of x in a binomial distribution is from `0` to `n`.*"
      ]
    },
    {
      "cell_type": "code",
      "execution_count": 21,
      "metadata": {
        "id": "bNLkTwJND-xx",
        "colab": {
          "base_uri": "https://localhost:8080/",
          "height": 472
        },
        "outputId": "f91e0d4e-030e-4242-cc55-e0ab5e4a4528"
      },
      "outputs": [
        {
          "output_type": "display_data",
          "data": {
            "text/plain": [
              "<Figure size 640x480 with 1 Axes>"
            ],
            "image/png": "[encoded data removed]"
          },
          "metadata": {}
        }
      ],
      "source": [
        "# Plot the PMF for the above binomial distribution.\n",
        "\n",
        "X = np.arange(0, 21)\n",
        "\n",
        "plt.plot(X, binomial_dist.pmf(X), \"o\")\n",
        "plt.title(\"Less than 5 apples issue\")\n",
        "plt.xlabel(\"Number of Apples\")\n",
        "plt.ylabel(\"Probability\")\n",
        "plt.show()\n"
      ]
    },
    {
      "cell_type": "markdown",
      "metadata": {
        "id": "BqvsBeN9D-xx"
      },
      "source": [
        "## Poisson Distribution\n",
        "\n",
        "In this challenge you are required to use the Math library in python to solve the problems.\n",
        "\n",
        "In the UEFA champions league tournament, the average number of goals scored in a match is 2.3.\n",
        "\n",
        "**What is the probability that the number of goals scored in a match is 5?**\n",
        "\n",
        "*Hint: Use the exp() in the math library*\n",
        "\n",
        "And to calculate the factorial, you can use the following code:\n",
        "\n",
        "```python\n",
        "import math\n",
        "math.factorial(n) # n is the number you want to find the factorial of\n",
        "```"
      ]
    },
    {
      "cell_type": "code",
      "execution_count": 23,
      "metadata": {
        "colab": {
          "base_uri": "https://localhost:8080/"
        },
        "id": "llph4R3qD-xy",
        "outputId": "0bb803ea-616d-4a8c-c94a-b3ca573b36f2"
      },
      "outputs": [
        {
          "output_type": "stream",
          "name": "stdout",
          "text": [
            "the probability of having exactly 5 goals is 5.4 %\n"
          ]
        }
      ],
      "source": [
        "mu = 2.3\n",
        "poisson_dist = poisson(mu)\n",
        "\n",
        "# what is the probability of having exactly 5 goals?\n",
        "five_goals_exactly = round(poisson_dist.pmf(5),3)*100\n",
        "print(\"the probability of having exactly 5 goals is\",five_goals_exactly,\"%\")\n"
      ]
    },
    {
      "cell_type": "markdown",
      "metadata": {
        "id": "Q3mgsOfzD-xy"
      },
      "source": [
        "**Draw a poisson probability distribution plot for the number of goals to be between 0 to 10.**"
      ]
    },
    {
      "cell_type": "code",
      "execution_count": 28,
      "metadata": {
        "colab": {
          "base_uri": "https://localhost:8080/",
          "height": 430
        },
        "id": "2k0TStI-D-xz",
        "outputId": "71164c63-117c-43a7-9a9d-a5292686bc3c"
      },
      "outputs": [
        {
          "output_type": "display_data",
          "data": {
            "text/plain": [
              "<Figure size 640x480 with 1 Axes>"
            ],
            "image/png": "[encoded data removed]"
          },
          "metadata": {}
        }
      ],
      "source": [
        "X = np.arange(0,11) # i think this is not inclusive, so range has to go until 11.\n",
        "\n",
        "plt.plot(X, poisson_dist.pmf(X), \"o\")\n",
        "plt.show()"
      ]
    },
    {
      "cell_type": "code",
      "source": [
        "#cdf\n",
        "plt.plot(X, poisson_dist.cdf(X), \"o\")\n",
        "plt.show()"
      ],
      "metadata": {
        "colab": {
          "base_uri": "https://localhost:8080/",
          "height": 430
        },
        "id": "SYVW4-FW4Zle",
        "outputId": "22f433a3-0a53-4697-b4ae-6a13c8a16d86"
      },
      "execution_count": 25,
      "outputs": [
        {
          "output_type": "display_data",
          "data": {
            "text/plain": [
              "<Figure size 640x480 with 1 Axes>"
            ],
            "image/png": "[encoded data removed]"
          },
          "metadata": {}
        }
      ]
    },
    {
      "cell_type": "code",
      "source": [],
      "metadata": {
        "id": "xLHemzQ04aGu"
      },
      "execution_count": null,
      "outputs": []
    }
  ],
  "metadata": {
    "kernelspec": {
      "display_name": "Python 3",
      "language": "python",
      "name": "python3"
    },
    "language_info": {
      "codemirror_mode": {
        "name": "ipython",
        "version": 3
      },
      "file_extension": ".py",
      "mimetype": "text/x-python",
      "name": "python",
      "nbconvert_exporter": "python",
      "pygments_lexer": "ipython3",
      "version": "3.7.3"
    },
    "colab": {
      "provenance": []
    }
  },
  "nbformat": 4,
  "nbformat_minor": 0
}